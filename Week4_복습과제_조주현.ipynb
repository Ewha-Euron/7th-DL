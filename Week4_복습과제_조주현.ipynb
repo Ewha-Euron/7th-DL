{
 "cells": [
  {
   "cell_type": "markdown",
   "metadata": {
    "id": "JmbrNadxsBr7"
   },
   "source": [
    "## Convolution Layer Example"
   ]
  },
  {
   "cell_type": "code",
   "execution_count": 1,
   "metadata": {
    "colab": {
     "base_uri": "https://localhost:8080/"
    },
    "id": "MAyG6GGTU_mC",
    "outputId": "118b0f42-fde5-4900-8cea-f4c8709818d5"
   },
   "outputs": [
    {
     "name": "stdout",
     "output_type": "stream",
     "text": [
      "연산 전 torch.Size([10, 1, 20, 20])\n",
      "conv1 연산 후 torch.Size([10, 3, 16, 16])\n",
      "conv2 연산 후 torch.Size([10, 10, 12, 12])\n",
      "차원 감소 후 torch.Size([10, 1440])\n",
      "fc1 연산 후 torch.Size([10, 50])\n",
      "fc2 연산 후 torch.Size([10, 10])\n"
     ]
    }
   ],
   "source": [
    "import torch\n",
    "import torch.nn as nn\n",
    "import torch.nn.functional as F\n",
    "\n",
    "class CNN(nn.Module):\n",
    "  def __init__(self):\n",
    "    super(CNN, self).__init__()\n",
    "\n",
    "    ## 조건1: conv layer 2개 & fc layer 2개\n",
    "    ## 조건2: kernel size=5, stride=1로 통일\n",
    "    ## output을 참고하여 차원을 계산해주세요!\n",
    "    ## 답안 ##\n",
    "\n",
    "\n",
    "    self.conv1 = nn.Conv2d(1, 3, kernel_size=5, stride=1)\n",
    "    self.conv2 = nn.Conv2d(3, 10, kernel_size=5, stride=1)\n",
    "        \n",
    "    self.fc1 = nn.Linear(10 * 12 * 12, 50)  # 12x12는 conv2의 output size에 따라 계산됨\n",
    "    self.fc2 = nn.Linear(50, 10)\n",
    "\n",
    "\n",
    "  def forward(self, x):\n",
    "    print(\"연산 전\", x.size())\n",
    "    x = F.relu(self.conv1(x))\n",
    "    print(\"conv1 연산 후\", x.size())\n",
    "    x = F.relu(self.conv2(x))\n",
    "    print(\"conv2 연산 후\",x.size())\n",
    "    x = x.view(-1, 10 * 12 * 12)\n",
    "    print(\"차원 감소 후\", x.size())\n",
    "    x = F.relu(self.fc1(x))\n",
    "    print(\"fc1 연산 후\", x.size())\n",
    "    x = self.fc2(x)\n",
    "    print(\"fc2 연산 후\", x.size())\n",
    "    return x\n",
    "\n",
    "cnn = CNN()\n",
    "output = cnn(torch.randn(10, 1, 20, 20))  # Input Size: (10, 1, 20, 20)"
   ]
  },
  {
   "cell_type": "markdown",
   "metadata": {
    "id": "0It8H-mysBr-"
   },
   "source": [
    "## Max Pooling Layer Example"
   ]
  },
  {
   "cell_type": "code",
   "execution_count": 8,
   "metadata": {
    "colab": {
     "base_uri": "https://localhost:8080/"
    },
    "id": "LkOwXPFNchie",
    "outputId": "a3f022de-8d54-4cf8-9456-f9bbc15ed9cc"
   },
   "outputs": [
    {
     "name": "stdout",
     "output_type": "stream",
     "text": [
      "연산 전 torch.Size([10, 1, 20, 20])\n",
      "max_pool1 연산 후 torch.Size([10, 1, 10, 10])\n",
      "max_pool2 연산 후 torch.Size([10, 1, 5, 5])\n",
      "차원 감소 후 torch.Size([10, 25])\n",
      "fc1 연산 후 torch.Size([10, 50])\n",
      "fc2 연산 후 torch.Size([10, 10])\n"
     ]
    }
   ],
   "source": [
    "import torch\n",
    "import torch.nn as nn\n",
    "import torch.nn.functional as F\n",
    "\n",
    "class CNN(nn.Module):\n",
    "    def __init__(self):\n",
    "        super(CNN, self).__init__()\n",
    "        \n",
    "        # Max Pooling layers만 적용\n",
    "        self.max_pool1 = nn.MaxPool2d(kernel_size=2)\n",
    "        self.max_pool2 = nn.MaxPool2d(kernel_size=2)\n",
    "        \n",
    "        # Fully connected layers\n",
    "        self.fc1 = nn.Linear(1 * 5 * 5, 50)  # 5x5는 두 번의 max pooling 결과 크기\n",
    "        self.fc2 = nn.Linear(50, 10)\n",
    "    \n",
    "    def forward(self, x):\n",
    "        print(\"연산 전\", x.size())\n",
    "        x = F.relu(self.max_pool1(x))\n",
    "        print(\"max_pool1 연산 후\", x.size())\n",
    "        x = F.relu(self.max_pool2(x))\n",
    "        print(\"max_pool2 연산 후\", x.size())\n",
    "        x = x.view(-1, 1 * 5 * 5)  # Flattening for fully connected layer\n",
    "        print(\"차원 감소 후\", x.size())\n",
    "        x = F.relu(self.fc1(x))\n",
    "        print(\"fc1 연산 후\", x.size())\n",
    "        x = self.fc2(x)\n",
    "        print(\"fc2 연산 후\", x.size())\n",
    "        return x\n",
    "\n",
    "# 모델과 임의의 입력 생성\n",
    "cnn = CNN()\n",
    "output = cnn(torch.randn(10, 1, 20, 20))  # Input Size: (10, 1, 20, 20)\n"
   ]
  },
  {
   "cell_type": "markdown",
   "metadata": {
    "id": "uDMn2y5_sBr-"
   },
   "source": [
    "## MNIST 데이터셋 train"
   ]
  },
  {
   "cell_type": "code",
   "execution_count": 9,
   "metadata": {
    "id": "YhfopkrQcp1P"
   },
   "outputs": [
    {
     "name": "stdout",
     "output_type": "stream",
     "text": [
      "Defaulting to user installation because normal site-packages is not writeable\n",
      "Requirement already satisfied: torchvision in c:\\users\\juhyun\\appdata\\roaming\\python\\python311\\site-packages (0.18.1)\n",
      "Requirement already satisfied: numpy in c:\\programdata\\anaconda3\\lib\\site-packages (from torchvision) (1.26.4)\n",
      "Requirement already satisfied: torch==2.3.1 in c:\\users\\juhyun\\appdata\\roaming\\python\\python311\\site-packages (from torchvision) (2.3.1+cu118)\n",
      "Requirement already satisfied: pillow!=8.3.*,>=5.3.0 in c:\\programdata\\anaconda3\\lib\\site-packages (from torchvision) (10.2.0)\n",
      "Requirement already satisfied: filelock in c:\\programdata\\anaconda3\\lib\\site-packages (from torch==2.3.1->torchvision) (3.13.1)\n",
      "Requirement already satisfied: typing-extensions>=4.8.0 in c:\\programdata\\anaconda3\\lib\\site-packages (from torch==2.3.1->torchvision) (4.9.0)\n",
      "Requirement already satisfied: sympy in c:\\programdata\\anaconda3\\lib\\site-packages (from torch==2.3.1->torchvision) (1.12)\n",
      "Requirement already satisfied: networkx in c:\\programdata\\anaconda3\\lib\\site-packages (from torch==2.3.1->torchvision) (3.1)\n",
      "Requirement already satisfied: jinja2 in c:\\programdata\\anaconda3\\lib\\site-packages (from torch==2.3.1->torchvision) (3.1.3)\n",
      "Requirement already satisfied: fsspec in c:\\programdata\\anaconda3\\lib\\site-packages (from torch==2.3.1->torchvision) (2023.10.0)\n",
      "Requirement already satisfied: mkl<=2021.4.0,>=2021.1.1 in c:\\users\\juhyun\\appdata\\roaming\\python\\python311\\site-packages (from torch==2.3.1->torchvision) (2021.4.0)\n",
      "Requirement already satisfied: intel-openmp==2021.* in c:\\users\\juhyun\\appdata\\roaming\\python\\python311\\site-packages (from mkl<=2021.4.0,>=2021.1.1->torch==2.3.1->torchvision) (2021.4.0)\n",
      "Requirement already satisfied: tbb==2021.* in c:\\users\\juhyun\\appdata\\roaming\\python\\python311\\site-packages (from mkl<=2021.4.0,>=2021.1.1->torch==2.3.1->torchvision) (2021.13.0)\n",
      "Requirement already satisfied: MarkupSafe>=2.0 in c:\\programdata\\anaconda3\\lib\\site-packages (from jinja2->torch==2.3.1->torchvision) (2.1.3)\n",
      "Requirement already satisfied: mpmath>=0.19 in c:\\programdata\\anaconda3\\lib\\site-packages (from sympy->torch==2.3.1->torchvision) (1.3.0)\n"
     ]
    }
   ],
   "source": [
    "!pip install torchvision"
   ]
  },
  {
   "cell_type": "code",
   "execution_count": 10,
   "metadata": {
    "id": "CqFN5YM5cqKe"
   },
   "outputs": [],
   "source": [
    "import torch.optim as optim\n",
    "from torchvision import datasets, transforms"
   ]
  },
  {
   "cell_type": "code",
   "execution_count": 11,
   "metadata": {
    "id": "IJb_C4ptcu6G"
   },
   "outputs": [
    {
     "name": "stdout",
     "output_type": "stream",
     "text": [
      "Downloading http://yann.lecun.com/exdb/mnist/train-images-idx3-ubyte.gz\n",
      "Failed to download (trying next):\n",
      "<urlopen error [SSL: CERTIFICATE_VERIFY_FAILED] certificate verify failed: certificate has expired (_ssl.c:1006)>\n",
      "\n",
      "Downloading https://ossci-datasets.s3.amazonaws.com/mnist/train-images-idx3-ubyte.gz\n",
      "Downloading https://ossci-datasets.s3.amazonaws.com/mnist/train-images-idx3-ubyte.gz to ./data/MNIST\\raw\\train-images-idx3-ubyte.gz\n"
     ]
    },
    {
     "name": "stderr",
     "output_type": "stream",
     "text": [
      "100%|███████████████████████████████████████████████████████████████████| 9912422/9912422 [00:08<00:00, 1126835.80it/s]\n"
     ]
    },
    {
     "name": "stdout",
     "output_type": "stream",
     "text": [
      "Extracting ./data/MNIST\\raw\\train-images-idx3-ubyte.gz to ./data/MNIST\\raw\n",
      "\n",
      "Downloading http://yann.lecun.com/exdb/mnist/train-labels-idx1-ubyte.gz\n",
      "Failed to download (trying next):\n",
      "<urlopen error [SSL: CERTIFICATE_VERIFY_FAILED] certificate verify failed: certificate has expired (_ssl.c:1006)>\n",
      "\n",
      "Downloading https://ossci-datasets.s3.amazonaws.com/mnist/train-labels-idx1-ubyte.gz\n",
      "Downloading https://ossci-datasets.s3.amazonaws.com/mnist/train-labels-idx1-ubyte.gz to ./data/MNIST\\raw\\train-labels-idx1-ubyte.gz\n"
     ]
    },
    {
     "name": "stderr",
     "output_type": "stream",
     "text": [
      "100%|████████████████████████████████████████████████████████████████████████| 28881/28881 [00:00<00:00, 143560.57it/s]\n"
     ]
    },
    {
     "name": "stdout",
     "output_type": "stream",
     "text": [
      "Extracting ./data/MNIST\\raw\\train-labels-idx1-ubyte.gz to ./data/MNIST\\raw\n",
      "\n",
      "Downloading http://yann.lecun.com/exdb/mnist/t10k-images-idx3-ubyte.gz\n",
      "Failed to download (trying next):\n",
      "<urlopen error [SSL: CERTIFICATE_VERIFY_FAILED] certificate verify failed: certificate has expired (_ssl.c:1006)>\n",
      "\n",
      "Downloading https://ossci-datasets.s3.amazonaws.com/mnist/t10k-images-idx3-ubyte.gz\n",
      "Downloading https://ossci-datasets.s3.amazonaws.com/mnist/t10k-images-idx3-ubyte.gz to ./data/MNIST\\raw\\t10k-images-idx3-ubyte.gz\n"
     ]
    },
    {
     "name": "stderr",
     "output_type": "stream",
     "text": [
      "100%|███████████████████████████████████████████████████████████████████| 1648877/1648877 [00:01<00:00, 1172213.79it/s]\n"
     ]
    },
    {
     "name": "stdout",
     "output_type": "stream",
     "text": [
      "Extracting ./data/MNIST\\raw\\t10k-images-idx3-ubyte.gz to ./data/MNIST\\raw\n",
      "\n",
      "Downloading http://yann.lecun.com/exdb/mnist/t10k-labels-idx1-ubyte.gz\n",
      "Failed to download (trying next):\n",
      "<urlopen error [SSL: CERTIFICATE_VERIFY_FAILED] certificate verify failed: certificate has expired (_ssl.c:1006)>\n",
      "\n",
      "Downloading https://ossci-datasets.s3.amazonaws.com/mnist/t10k-labels-idx1-ubyte.gz\n",
      "Downloading https://ossci-datasets.s3.amazonaws.com/mnist/t10k-labels-idx1-ubyte.gz to ./data/MNIST\\raw\\t10k-labels-idx1-ubyte.gz\n"
     ]
    },
    {
     "name": "stderr",
     "output_type": "stream",
     "text": [
      "100%|█████████████████████████████████████████████████████████████████████████| 4542/4542 [00:00<00:00, 2324936.39it/s]"
     ]
    },
    {
     "name": "stdout",
     "output_type": "stream",
     "text": [
      "Extracting ./data/MNIST\\raw\\t10k-labels-idx1-ubyte.gz to ./data/MNIST\\raw\n",
      "\n"
     ]
    },
    {
     "name": "stderr",
     "output_type": "stream",
     "text": [
      "\n"
     ]
    }
   ],
   "source": [
    "train_data = datasets.MNIST('./data/', train=True, download=True, transform=transforms.Compose([\n",
    "        transforms.ToTensor(),\n",
    "        transforms.Normalize((0.1307,), (0.3081,))\n",
    "    ])) # 학습 데이터\n",
    "train_loader = torch.utils.data.DataLoader(dataset=train_data, batch_size=50, shuffle=True)\n",
    "\n",
    "test_data = datasets.MNIST('./data/', train=False, transform=transforms.Compose([\n",
    "        transforms.ToTensor(),\n",
    "        transforms.Normalize((0.1307,), (0.3081,))\n",
    "    ])) # 테스트 데이터\n",
    "test_loader = torch.utils.data.DataLoader(dataset=test_data, batch_size=50, shuffle=True)"
   ]
  },
  {
   "cell_type": "code",
   "execution_count": 12,
   "metadata": {
    "id": "YP3tEuo6ct8A"
   },
   "outputs": [],
   "source": [
    "import torch\n",
    "import torch.nn as nn\n",
    "import torch.nn.functional as F\n",
    "\n",
    "class CNN(nn.Module):\n",
    "    def __init__(self):\n",
    "        super(CNN, self).__init__()\n",
    "        \n",
    "        self.conv1 = nn.Conv2d(1, 20, kernel_size=5, stride=1)\n",
    "        self.conv2 = nn.Conv2d(20, 50, kernel_size=5, stride=1)\n",
    "        \n",
    "        self.fc1 = nn.Linear(4 * 4 * 50, 100)  \n",
    "        self.fc2 = nn.Linear(100, 10)\n",
    "    \n",
    "    def forward(self, x):\n",
    "        x = F.relu(self.conv1(x))\n",
    "        x = F.max_pool2d(x, kernel_size=2, stride=2)\n",
    "        \n",
    "        x = F.relu(self.conv2(x))\n",
    "        x = F.max_pool2d(x, kernel_size=2, stride=2)\n",
    "        \n",
    "        x = x.view(-1, 4 * 4 * 50)\n",
    "        x = F.relu(self.fc1(x))\n",
    "        x = self.fc2(x)\n",
    "\n",
    "        return x\n",
    "\n",
    "cnn = CNN()\n",
    "output = cnn(torch.randn(10, 1, 28, 28))"
   ]
  },
  {
   "cell_type": "code",
   "execution_count": 13,
   "metadata": {
    "id": "EO2ULx3Sc2GM"
   },
   "outputs": [],
   "source": [
    "cnn = CNN()\n",
    "criterion = torch.nn.CrossEntropyLoss()\n",
    "optimizer = optim.SGD(cnn.parameters(), lr=0.01)"
   ]
  },
  {
   "cell_type": "code",
   "execution_count": 15,
   "metadata": {
    "id": "gAwckNWhc4Nr"
   },
   "outputs": [
    {
     "name": "stdout",
     "output_type": "stream",
     "text": [
      "loss of 0 epoch, 0 index : 2.302528142929077\n",
      "loss of 0 epoch, 100 index : 1.517848253250122\n",
      "loss of 0 epoch, 200 index : 0.5157880783081055\n",
      "loss of 0 epoch, 300 index : 0.29714053869247437\n",
      "loss of 0 epoch, 400 index : 0.4114956557750702\n",
      "loss of 0 epoch, 500 index : 0.22142904996871948\n",
      "loss of 0 epoch, 600 index : 0.2037554532289505\n",
      "loss of 0 epoch, 700 index : 0.19729673862457275\n",
      "loss of 0 epoch, 800 index : 0.10578235983848572\n",
      "loss of 0 epoch, 900 index : 0.1512739062309265\n",
      "loss of 0 epoch, 1000 index : 0.08486981689929962\n",
      "loss of 0 epoch, 1100 index : 0.3363960385322571\n",
      "loss of 1 epoch, 0 index : 0.17421042919158936\n",
      "loss of 1 epoch, 100 index : 0.05076446011662483\n",
      "loss of 1 epoch, 200 index : 0.2066337615251541\n",
      "loss of 1 epoch, 300 index : 0.3136849105358124\n",
      "loss of 1 epoch, 400 index : 0.17617963254451752\n",
      "loss of 1 epoch, 500 index : 0.21334148943424225\n",
      "loss of 1 epoch, 600 index : 0.2018619328737259\n",
      "loss of 1 epoch, 700 index : 0.2584671676158905\n",
      "loss of 1 epoch, 800 index : 0.06265536695718765\n",
      "loss of 1 epoch, 900 index : 0.16236700117588043\n",
      "loss of 1 epoch, 1000 index : 0.09449496120214462\n",
      "loss of 1 epoch, 1100 index : 0.10651703178882599\n",
      "loss of 2 epoch, 0 index : 0.13020622730255127\n",
      "loss of 2 epoch, 100 index : 0.09794524312019348\n",
      "loss of 2 epoch, 200 index : 0.04669812694191933\n",
      "loss of 2 epoch, 300 index : 0.1718645691871643\n",
      "loss of 2 epoch, 400 index : 0.0847465768456459\n",
      "loss of 2 epoch, 500 index : 0.03640332818031311\n",
      "loss of 2 epoch, 600 index : 0.14215099811553955\n",
      "loss of 2 epoch, 700 index : 0.0514204315841198\n",
      "loss of 2 epoch, 800 index : 0.16014337539672852\n",
      "loss of 2 epoch, 900 index : 0.13876433670520782\n",
      "loss of 2 epoch, 1000 index : 0.37764763832092285\n",
      "loss of 2 epoch, 1100 index : 0.05986317992210388\n",
      "loss of 3 epoch, 0 index : 0.05490211024880409\n",
      "loss of 3 epoch, 100 index : 0.14202570915222168\n",
      "loss of 3 epoch, 200 index : 0.05925990641117096\n",
      "loss of 3 epoch, 300 index : 0.11344840377569199\n",
      "loss of 3 epoch, 400 index : 0.06022286415100098\n",
      "loss of 3 epoch, 500 index : 0.03209473937749863\n",
      "loss of 3 epoch, 600 index : 0.021817613393068314\n",
      "loss of 3 epoch, 700 index : 0.08219538629055023\n",
      "loss of 3 epoch, 800 index : 0.12980997562408447\n",
      "loss of 3 epoch, 900 index : 0.04937948286533356\n",
      "loss of 3 epoch, 1000 index : 0.03274794667959213\n",
      "loss of 3 epoch, 1100 index : 0.07834582030773163\n",
      "loss of 4 epoch, 0 index : 0.06215661019086838\n",
      "loss of 4 epoch, 100 index : 0.05163984373211861\n",
      "loss of 4 epoch, 200 index : 0.20190362632274628\n",
      "loss of 4 epoch, 300 index : 0.049345411360263824\n",
      "loss of 4 epoch, 400 index : 0.10146597772836685\n",
      "loss of 4 epoch, 500 index : 0.037997033447027206\n",
      "loss of 4 epoch, 600 index : 0.07525976002216339\n",
      "loss of 4 epoch, 700 index : 0.039524052292108536\n",
      "loss of 4 epoch, 800 index : 0.08179593086242676\n",
      "loss of 4 epoch, 900 index : 0.16352877020835876\n",
      "loss of 4 epoch, 1000 index : 0.01499112043529749\n",
      "loss of 4 epoch, 1100 index : 0.054432425647974014\n",
      "loss of 5 epoch, 0 index : 0.028062734752893448\n",
      "loss of 5 epoch, 100 index : 0.008287614211440086\n",
      "loss of 5 epoch, 200 index : 0.059784770011901855\n",
      "loss of 5 epoch, 300 index : 0.032878268510103226\n",
      "loss of 5 epoch, 400 index : 0.03345908969640732\n",
      "loss of 5 epoch, 500 index : 0.014889335259795189\n",
      "loss of 5 epoch, 600 index : 0.14983581006526947\n",
      "loss of 5 epoch, 700 index : 0.04208832606673241\n",
      "loss of 5 epoch, 800 index : 0.03636450320482254\n",
      "loss of 5 epoch, 900 index : 0.03128249570727348\n",
      "loss of 5 epoch, 1000 index : 0.07078338414430618\n",
      "loss of 5 epoch, 1100 index : 0.03016679361462593\n",
      "loss of 6 epoch, 0 index : 0.11882086098194122\n",
      "loss of 6 epoch, 100 index : 0.1349315494298935\n",
      "loss of 6 epoch, 200 index : 0.041753023862838745\n",
      "loss of 6 epoch, 300 index : 0.013535194098949432\n",
      "loss of 6 epoch, 400 index : 0.021951887756586075\n",
      "loss of 6 epoch, 500 index : 0.12143564224243164\n",
      "loss of 6 epoch, 600 index : 0.021375948563218117\n",
      "loss of 6 epoch, 700 index : 0.06833075731992722\n",
      "loss of 6 epoch, 800 index : 0.005423014983534813\n",
      "loss of 6 epoch, 900 index : 0.12981095910072327\n",
      "loss of 6 epoch, 1000 index : 0.052367668598890305\n",
      "loss of 6 epoch, 1100 index : 0.09719360619783401\n",
      "loss of 7 epoch, 0 index : 0.04706920310854912\n",
      "loss of 7 epoch, 100 index : 0.02694830670952797\n",
      "loss of 7 epoch, 200 index : 0.09094122052192688\n",
      "loss of 7 epoch, 300 index : 0.022187912836670876\n",
      "loss of 7 epoch, 400 index : 0.017753098160028458\n",
      "loss of 7 epoch, 500 index : 0.09575243294239044\n",
      "loss of 7 epoch, 600 index : 0.06577026098966599\n",
      "loss of 7 epoch, 700 index : 0.06726645678281784\n",
      "loss of 7 epoch, 800 index : 0.02545640990138054\n",
      "loss of 7 epoch, 900 index : 0.11696992069482803\n",
      "loss of 7 epoch, 1000 index : 0.03827133774757385\n",
      "loss of 7 epoch, 1100 index : 0.00393885001540184\n",
      "loss of 8 epoch, 0 index : 0.007549494970589876\n",
      "loss of 8 epoch, 100 index : 0.060059547424316406\n",
      "loss of 8 epoch, 200 index : 0.05086951330304146\n",
      "loss of 8 epoch, 300 index : 0.025190241634845734\n",
      "loss of 8 epoch, 400 index : 0.07635423541069031\n",
      "loss of 8 epoch, 500 index : 0.035227157175540924\n",
      "loss of 8 epoch, 600 index : 0.02798268385231495\n",
      "loss of 8 epoch, 700 index : 0.0026938309893012047\n",
      "loss of 8 epoch, 800 index : 0.01997237466275692\n",
      "loss of 8 epoch, 900 index : 0.01295784953981638\n",
      "loss of 8 epoch, 1000 index : 0.009554706513881683\n",
      "loss of 8 epoch, 1100 index : 0.03209841623902321\n",
      "loss of 9 epoch, 0 index : 0.008482706733047962\n",
      "loss of 9 epoch, 100 index : 0.1095266118645668\n",
      "loss of 9 epoch, 200 index : 0.05776919797062874\n",
      "loss of 9 epoch, 300 index : 0.0020821995567530394\n",
      "loss of 9 epoch, 400 index : 0.037333663552999496\n",
      "loss of 9 epoch, 500 index : 0.017024822533130646\n",
      "loss of 9 epoch, 600 index : 0.02356582134962082\n",
      "loss of 9 epoch, 700 index : 0.009149033576250076\n",
      "loss of 9 epoch, 800 index : 0.03328125178813934\n",
      "loss of 9 epoch, 900 index : 0.004130878020077944\n",
      "loss of 9 epoch, 1000 index : 0.015480896458029747\n",
      "loss of 9 epoch, 1100 index : 0.013595659285783768\n"
     ]
    }
   ],
   "source": [
    "cnn.train()  # 학습을 위함\n",
    "for epoch in range(10):\n",
    "  for index, (data, target) in enumerate(train_loader):\n",
    "    optimizer.zero_grad()  # 기울기 초기화\n",
    "    output = cnn(data)\n",
    "    loss = criterion(output, target)\n",
    "    loss.backward()  # 역전파\n",
    "    optimizer.step()\n",
    "\n",
    "    if index % 100 == 0:\n",
    "      print(\"loss of {} epoch, {} index : {}\".format(epoch, index, loss.item()))"
   ]
  },
  {
   "cell_type": "code",
   "execution_count": 16,
   "metadata": {
    "id": "l2PnlaXIc6dm"
   },
   "outputs": [
    {
     "name": "stdout",
     "output_type": "stream",
     "text": [
      "\n",
      "Test set: Average loss: 6.6569, Accuracy: 9892/10000 (99%)\n",
      "\n"
     ]
    }
   ],
   "source": [
    "cnn.eval()  # test case 학습 방지를 위함\n",
    "test_loss = 0\n",
    "correct = 0\n",
    "with torch.no_grad():\n",
    "  for data, target in test_loader:\n",
    "    output = cnn(data)\n",
    "    test_loss += criterion(output, target).item() # sum up batch loss\n",
    "    pred = output.argmax(dim=1, keepdim=True) # get the index of the max log-probability\n",
    "    correct += pred.eq(target.view_as(pred)).sum().item()\n",
    "print('\\nTest set: Average loss: {:.4f}, Accuracy: {}/{} ({:.0f}%)\\n'.format(\n",
    "        test_loss, correct, len(test_loader.dataset),\n",
    "        100. * correct / len(test_loader.dataset)))"
   ]
  },
  {
   "cell_type": "code",
   "execution_count": null,
   "metadata": {},
   "outputs": [],
   "source": []
  }
 ],
 "metadata": {
  "colab": {
   "provenance": []
  },
  "kernelspec": {
   "display_name": "Python 3 (ipykernel)",
   "language": "python",
   "name": "python3"
  },
  "language_info": {
   "codemirror_mode": {
    "name": "ipython",
    "version": 3
   },
   "file_extension": ".py",
   "mimetype": "text/x-python",
   "name": "python",
   "nbconvert_exporter": "python",
   "pygments_lexer": "ipython3",
   "version": "3.11.5"
  }
 },
 "nbformat": 4,
 "nbformat_minor": 4
}

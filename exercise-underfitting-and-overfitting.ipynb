{
 "cells": [
  {
   "cell_type": "markdown",
   "id": "15c47bd2",
   "metadata": {
    "papermill": {
     "duration": 0.004176,
     "end_time": "2024-09-16T09:52:55.939621",
     "exception": false,
     "start_time": "2024-09-16T09:52:55.935445",
     "status": "completed"
    },
    "tags": []
   },
   "source": [
    "**This notebook is an exercise in the [Introduction to Machine Learning](https://www.kaggle.com/learn/intro-to-machine-learning) course.  You can reference the tutorial at [this link](https://www.kaggle.com/dansbecker/underfitting-and-overfitting).**\n",
    "\n",
    "---\n"
   ]
  },
  {
   "cell_type": "markdown",
   "id": "c705765e",
   "metadata": {
    "papermill": {
     "duration": 0.003301,
     "end_time": "2024-09-16T09:52:55.946653",
     "exception": false,
     "start_time": "2024-09-16T09:52:55.943352",
     "status": "completed"
    },
    "tags": []
   },
   "source": [
    "## Recap\n",
    "You've built your first model, and now it's time to optimize the size of the tree to make better predictions. Run this cell to set up your coding environment where the previous step left off."
   ]
  },
  {
   "cell_type": "code",
   "execution_count": 1,
   "id": "07c885e9",
   "metadata": {
    "execution": {
     "iopub.execute_input": "2024-09-16T09:52:55.956128Z",
     "iopub.status.busy": "2024-09-16T09:52:55.954954Z",
     "iopub.status.idle": "2024-09-16T09:52:58.122807Z",
     "shell.execute_reply": "2024-09-16T09:52:58.121528Z"
    },
    "papermill": {
     "duration": 2.175235,
     "end_time": "2024-09-16T09:52:58.125393",
     "exception": false,
     "start_time": "2024-09-16T09:52:55.950158",
     "status": "completed"
    },
    "tags": []
   },
   "outputs": [
    {
     "name": "stdout",
     "output_type": "stream",
     "text": [
      "Validation MAE: 29,653\n",
      "\n",
      "Setup complete\n"
     ]
    }
   ],
   "source": [
    "# Code you have previously used to load data\n",
    "import pandas as pd\n",
    "from sklearn.metrics import mean_absolute_error\n",
    "from sklearn.model_selection import train_test_split\n",
    "from sklearn.tree import DecisionTreeRegressor\n",
    "\n",
    "\n",
    "# Path of the file to read\n",
    "iowa_file_path = '../input/home-data-for-ml-course/train.csv'\n",
    "\n",
    "home_data = pd.read_csv(iowa_file_path)\n",
    "# Create target object and call it y\n",
    "y = home_data.SalePrice\n",
    "# Create X\n",
    "features = ['LotArea', 'YearBuilt', '1stFlrSF', '2ndFlrSF', 'FullBath', 'BedroomAbvGr', 'TotRmsAbvGrd']\n",
    "X = home_data[features]\n",
    "\n",
    "# Split into validation and training data\n",
    "train_X, val_X, train_y, val_y = train_test_split(X, y, random_state=1)\n",
    "\n",
    "# Specify Model\n",
    "iowa_model = DecisionTreeRegressor(random_state=1)\n",
    "# Fit Model\n",
    "iowa_model.fit(train_X, train_y)\n",
    "\n",
    "# Make validation predictions and calculate mean absolute error\n",
    "val_predictions = iowa_model.predict(val_X)\n",
    "val_mae = mean_absolute_error(val_predictions, val_y)\n",
    "print(\"Validation MAE: {:,.0f}\".format(val_mae))\n",
    "\n",
    "# Set up code checking\n",
    "from learntools.core import binder\n",
    "binder.bind(globals())\n",
    "from learntools.machine_learning.ex5 import *\n",
    "print(\"\\nSetup complete\")"
   ]
  },
  {
   "cell_type": "markdown",
   "id": "c995cf61",
   "metadata": {
    "papermill": {
     "duration": 0.003366,
     "end_time": "2024-09-16T09:52:58.132443",
     "exception": false,
     "start_time": "2024-09-16T09:52:58.129077",
     "status": "completed"
    },
    "tags": []
   },
   "source": [
    "# Exercises\n",
    "You could write the function `get_mae` yourself. For now, we'll supply it. This is the same function you read about in the previous lesson. Just run the cell below."
   ]
  },
  {
   "cell_type": "code",
   "execution_count": 2,
   "id": "71699c67",
   "metadata": {
    "execution": {
     "iopub.execute_input": "2024-09-16T09:52:58.141279Z",
     "iopub.status.busy": "2024-09-16T09:52:58.140854Z",
     "iopub.status.idle": "2024-09-16T09:52:58.146770Z",
     "shell.execute_reply": "2024-09-16T09:52:58.145672Z"
    },
    "papermill": {
     "duration": 0.013092,
     "end_time": "2024-09-16T09:52:58.149075",
     "exception": false,
     "start_time": "2024-09-16T09:52:58.135983",
     "status": "completed"
    },
    "tags": []
   },
   "outputs": [],
   "source": [
    "def get_mae(max_leaf_nodes, train_X, val_X, train_y, val_y):\n",
    "    model = DecisionTreeRegressor(max_leaf_nodes=max_leaf_nodes, random_state=0)\n",
    "    model.fit(train_X, train_y)\n",
    "    preds_val = model.predict(val_X)\n",
    "    mae = mean_absolute_error(val_y, preds_val)\n",
    "    return(mae)"
   ]
  },
  {
   "cell_type": "markdown",
   "id": "9217a7f7",
   "metadata": {
    "papermill": {
     "duration": 0.00331,
     "end_time": "2024-09-16T09:52:58.156101",
     "exception": false,
     "start_time": "2024-09-16T09:52:58.152791",
     "status": "completed"
    },
    "tags": []
   },
   "source": [
    "## Step 1: Compare Different Tree Sizes\n",
    "Write a loop that tries the following values for *max_leaf_nodes* from a set of possible values.\n",
    "\n",
    "Call the *get_mae* function on each value of max_leaf_nodes. Store the output in some way that allows you to select the value of `max_leaf_nodes` that gives the most accurate model on your data."
   ]
  },
  {
   "cell_type": "code",
   "execution_count": 3,
   "id": "c0b63738",
   "metadata": {
    "execution": {
     "iopub.execute_input": "2024-09-16T09:52:58.164863Z",
     "iopub.status.busy": "2024-09-16T09:52:58.164483Z",
     "iopub.status.idle": "2024-09-16T09:52:58.214735Z",
     "shell.execute_reply": "2024-09-16T09:52:58.213585Z"
    },
    "papermill": {
     "duration": 0.057168,
     "end_time": "2024-09-16T09:52:58.216856",
     "exception": false,
     "start_time": "2024-09-16T09:52:58.159688",
     "status": "completed"
    },
    "tags": []
   },
   "outputs": [
    {
     "data": {
      "application/javascript": [
       "parent.postMessage({\"jupyterEvent\": \"custom.exercise_interaction\", \"data\": {\"outcomeType\": 1, \"valueTowardsCompletion\": 0.5, \"interactionType\": 1, \"questionType\": 1, \"questionId\": \"1_BestTreeSize\", \"learnToolsVersion\": \"0.3.4\", \"failureMessage\": \"\", \"exceptionClass\": \"\", \"trace\": \"\"}}, \"*\")"
      ],
      "text/plain": [
       "<IPython.core.display.Javascript object>"
      ]
     },
     "metadata": {},
     "output_type": "display_data"
    },
    {
     "data": {
      "text/markdown": [
       "<span style=\"color:#33cc33\">Correct</span>"
      ],
      "text/plain": [
       "Correct"
      ]
     },
     "metadata": {},
     "output_type": "display_data"
    }
   ],
   "source": [
    "candidate_max_leaf_nodes = [5, 25, 50, 100, 250, 500]\n",
    "# Write loop to find the ideal tree size from candidate_max_leaf_nodes\n",
    "mae_dic={}\n",
    "for ideal in candidate_max_leaf_nodes:\n",
    "    my_mae=get_mae(ideal, train_X, val_X, train_y, val_y)\n",
    "    mae_dic[ideal]=my_mae\n",
    "\n",
    "# Store the best value of max_leaf_nodes (it will be either 5, 25, 50, 100, 250 or 500)\n",
    "best_tree_size = min(mae_dic,key=mae_dic.get)\n",
    "\n",
    "# Check your answer\n",
    "step_1.check()"
   ]
  },
  {
   "cell_type": "code",
   "execution_count": 4,
   "id": "fe4e1410",
   "metadata": {
    "execution": {
     "iopub.execute_input": "2024-09-16T09:52:58.226909Z",
     "iopub.status.busy": "2024-09-16T09:52:58.225925Z",
     "iopub.status.idle": "2024-09-16T09:52:58.230736Z",
     "shell.execute_reply": "2024-09-16T09:52:58.229628Z"
    },
    "papermill": {
     "duration": 0.012291,
     "end_time": "2024-09-16T09:52:58.233070",
     "exception": false,
     "start_time": "2024-09-16T09:52:58.220779",
     "status": "completed"
    },
    "tags": []
   },
   "outputs": [],
   "source": [
    "# The lines below will show you a hint or the solution.\n",
    "# step_1.hint() \n",
    "# step_1.solution()"
   ]
  },
  {
   "cell_type": "markdown",
   "id": "81330472",
   "metadata": {
    "papermill": {
     "duration": 0.003601,
     "end_time": "2024-09-16T09:52:58.240698",
     "exception": false,
     "start_time": "2024-09-16T09:52:58.237097",
     "status": "completed"
    },
    "tags": []
   },
   "source": [
    "## Step 2: Fit Model Using All Data\n",
    "You know the best tree size. If you were going to deploy this model in practice, you would make it even more accurate by using all of the data and keeping that tree size.  That is, you don't need to hold out the validation data now that you've made all your modeling decisions."
   ]
  },
  {
   "cell_type": "code",
   "execution_count": 5,
   "id": "0864a110",
   "metadata": {
    "execution": {
     "iopub.execute_input": "2024-09-16T09:52:58.250053Z",
     "iopub.status.busy": "2024-09-16T09:52:58.249638Z",
     "iopub.status.idle": "2024-09-16T09:52:58.267047Z",
     "shell.execute_reply": "2024-09-16T09:52:58.265959Z"
    },
    "papermill": {
     "duration": 0.025021,
     "end_time": "2024-09-16T09:52:58.269493",
     "exception": false,
     "start_time": "2024-09-16T09:52:58.244472",
     "status": "completed"
    },
    "tags": []
   },
   "outputs": [
    {
     "data": {
      "application/javascript": [
       "parent.postMessage({\"jupyterEvent\": \"custom.exercise_interaction\", \"data\": {\"outcomeType\": 1, \"valueTowardsCompletion\": 0.5, \"interactionType\": 1, \"questionType\": 2, \"questionId\": \"2_FitModelWithAllData\", \"learnToolsVersion\": \"0.3.4\", \"failureMessage\": \"\", \"exceptionClass\": \"\", \"trace\": \"\"}}, \"*\")"
      ],
      "text/plain": [
       "<IPython.core.display.Javascript object>"
      ]
     },
     "metadata": {},
     "output_type": "display_data"
    },
    {
     "data": {
      "text/markdown": [
       "<span style=\"color:#33cc33\">Correct</span>"
      ],
      "text/plain": [
       "Correct"
      ]
     },
     "metadata": {},
     "output_type": "display_data"
    }
   ],
   "source": [
    "# Fill in argument to make optimal size and uncomment\n",
    "final_model = DecisionTreeRegressor(random_state=0,max_leaf_nodes=best_tree_size)\n",
    "\n",
    "# fit the final model and uncomment the next two lines\n",
    "final_model.fit(X, y)\n",
    "\n",
    "# Check your answer\n",
    "step_2.check()"
   ]
  },
  {
   "cell_type": "code",
   "execution_count": 6,
   "id": "dcb0aa6c",
   "metadata": {
    "execution": {
     "iopub.execute_input": "2024-09-16T09:52:58.279339Z",
     "iopub.status.busy": "2024-09-16T09:52:58.278898Z",
     "iopub.status.idle": "2024-09-16T09:52:58.283200Z",
     "shell.execute_reply": "2024-09-16T09:52:58.282198Z"
    },
    "papermill": {
     "duration": 0.011769,
     "end_time": "2024-09-16T09:52:58.285384",
     "exception": false,
     "start_time": "2024-09-16T09:52:58.273615",
     "status": "completed"
    },
    "tags": []
   },
   "outputs": [],
   "source": [
    "# step_2.hint()\n",
    "# step_2.solution()"
   ]
  },
  {
   "cell_type": "markdown",
   "id": "9ec151ef",
   "metadata": {
    "papermill": {
     "duration": 0.003858,
     "end_time": "2024-09-16T09:52:58.293428",
     "exception": false,
     "start_time": "2024-09-16T09:52:58.289570",
     "status": "completed"
    },
    "tags": []
   },
   "source": [
    "You've tuned this model and improved your results. But we are still using Decision Tree models, which are not very sophisticated by modern machine learning standards. In the next step you will learn to use Random Forests to improve your models even more.\n",
    "\n",
    "# Keep Going\n",
    "\n",
    "You are ready for **[Random Forests](https://www.kaggle.com/dansbecker/random-forests).**\n"
   ]
  },
  {
   "cell_type": "markdown",
   "id": "825b2903",
   "metadata": {
    "papermill": {
     "duration": 0.003759,
     "end_time": "2024-09-16T09:52:58.301313",
     "exception": false,
     "start_time": "2024-09-16T09:52:58.297554",
     "status": "completed"
    },
    "tags": []
   },
   "source": [
    "---\n",
    "\n",
    "\n",
    "\n",
    "\n",
    "*Have questions or comments? Visit the [course discussion forum](https://www.kaggle.com/learn/intro-to-machine-learning/discussion) to chat with other learners.*"
   ]
  }
 ],
 "metadata": {
  "kaggle": {
   "accelerator": "none",
   "dataSources": [
    {
     "databundleVersionId": 111096,
     "sourceId": 10211,
     "sourceType": "competition"
    },
    {
     "datasetId": 11167,
     "sourceId": 15520,
     "sourceType": "datasetVersion"
    },
    {
     "datasetId": 2709,
     "sourceId": 38454,
     "sourceType": "datasetVersion"
    }
   ],
   "isGpuEnabled": false,
   "isInternetEnabled": false,
   "language": "python",
   "sourceType": "notebook"
  },
  "kernelspec": {
   "display_name": "Python 3",
   "language": "python",
   "name": "python3"
  },
  "language_info": {
   "codemirror_mode": {
    "name": "ipython",
    "version": 3
   },
   "file_extension": ".py",
   "mimetype": "text/x-python",
   "name": "python",
   "nbconvert_exporter": "python",
   "pygments_lexer": "ipython3",
   "version": "3.10.14"
  },
  "papermill": {
   "default_parameters": {},
   "duration": 5.679574,
   "end_time": "2024-09-16T09:52:58.927181",
   "environment_variables": {},
   "exception": null,
   "input_path": "__notebook__.ipynb",
   "output_path": "__notebook__.ipynb",
   "parameters": {},
   "start_time": "2024-09-16T09:52:53.247607",
   "version": "2.6.0"
  }
 },
 "nbformat": 4,
 "nbformat_minor": 5
}

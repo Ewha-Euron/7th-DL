{
  "nbformat": 4,
  "nbformat_minor": 0,
  "metadata": {
    "colab": {
      "provenance": []
    },
    "kernelspec": {
      "name": "python3",
      "display_name": "Python 3"
    },
    "language_info": {
      "name": "python"
    }
  },
  "cells": [
    {
      "cell_type": "markdown",
      "source": [
        "##ReLu함수, softmax 함수"
      ],
      "metadata": {
        "id": "4aZOoK3aNEZy"
      }
    },
    {
      "cell_type": "code",
      "execution_count": null,
      "metadata": {
        "id": "pkYhfJag-rPj"
      },
      "outputs": [],
      "source": [
        "import torch\n",
        "\n",
        "class Net(torch.nn.Module):\n",
        "    def __init__(self, n_feature, n_hidden, n_output):\n",
        "        super(Net, self).__init__()\n",
        "        self.hidden = torch.nn.Linear(n_feature, n_hidden)  # 은닉층\n",
        "        self.relu = torch.nn.ReLU(inplace=True)\n",
        "        self.out = torch.nn.Linear(n_hidden, n_output)  # 출력층\n",
        "        self.softmax = torch.nn.Softmax(dim=1)\n",
        "\n",
        "    def forward(self, x):\n",
        "        x = self.hidden(x)\n",
        "        x = self.relu(x)  # 렐루 활성화 함수\n",
        "        x = self.out(x)\n",
        "        x = self.softmax(x)  # 소프트맥스 출력층\n",
        "        return x"
      ]
    },
    {
      "cell_type": "markdown",
      "source": [
        "##평균 제곱 오차"
      ],
      "metadata": {
        "id": "Ksx0PFxBAo0v"
      }
    },
    {
      "cell_type": "code",
      "source": [
        "import torch\n",
        "\n",
        "loss_fn = torch.nn.MSELoss(reduction = 'sum')\n",
        "y_pred = model(x)\n",
        "loss = loss_fn(y_pred, y)"
      ],
      "metadata": {
        "id": "8PvIH5_FCVcK"
      },
      "execution_count": null,
      "outputs": []
    },
    {
      "cell_type": "markdown",
      "source": [
        "##CrossEntropy"
      ],
      "metadata": {
        "id": "WIrsINiUNKkg"
      }
    },
    {
      "cell_type": "code",
      "source": [
        "loss = nn.CrossEntropyLoss()\n",
        "input = torch.randn(5,6, requires_grad_True)\n",
        "target = torch.empty(3, dtype = torch.long).random_(5)\n",
        "output = loss(input, target)\n",
        "ouput.backward"
      ],
      "metadata": {
        "id": "-eYthU9iNKAQ"
      },
      "execution_count": null,
      "outputs": []
    },
    {
      "cell_type": "markdown",
      "source": [
        "## Dropout"
      ],
      "metadata": {
        "id": "-7AxPcz7dVhI"
      }
    },
    {
      "cell_type": "code",
      "source": [
        "class DropoutModel(torch.nn.Module):\n",
        "  def __init__(self):\n",
        "    super(DropoutModel, self).__init__()\n",
        "    self.layer1 = torch.nn.Linear(784, 1200)\n",
        "    self.dropout1 = torch.nn.Dropout(0.5)\n",
        "    self.layer2 = torch.nn.Linear(1200,1200)\n",
        "    self.dropout2 = torch.nn.Dropout(0.5)\n",
        "    self.layer3 = torch.nn.Linear(1200,10)\n",
        "\n",
        "  def forward(self, x):\n",
        "    x = F.relu(self.layer1(x))\n",
        "    x = self.dropout1(x)\n",
        "    x = F.relu(self.layer2(x))\n",
        "    x = self.dropout2(x)\n",
        "    return self.layer3(x)"
      ],
      "metadata": {
        "id": "HH5BGsX3eDfH"
      },
      "execution_count": null,
      "outputs": []
    }
  ]
}
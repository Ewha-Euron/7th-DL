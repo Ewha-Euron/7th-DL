{
  "cells": [
    {
      "cell_type": "markdown",
      "metadata": {
        "id": "JmbrNadxsBr7"
      },
      "source": [
        "## Convolution Layer Example"
      ]
    },
    {
      "cell_type": "code",
      "execution_count": 3,
      "metadata": {
        "colab": {
          "base_uri": "https://localhost:8080/"
        },
        "id": "MAyG6GGTU_mC",
        "outputId": "7c1d5905-58bd-48c2-9fe0-bfa71e8dbf2d"
      },
      "outputs": [
        {
          "output_type": "stream",
          "name": "stdout",
          "text": [
            "연산 전 torch.Size([10, 1, 20, 20])\n",
            "conv1 연산 후 torch.Size([10, 3, 16, 16])\n",
            "conv2 연산 후 torch.Size([10, 10, 12, 12])\n",
            "차원 감소 후 torch.Size([10, 1440])\n",
            "fc1 연산 후 torch.Size([10, 50])\n",
            "fc2 연산 후 torch.Size([10, 10])\n"
          ]
        }
      ],
      "source": [
        "import torch\n",
        "import torch.nn as nn\n",
        "import torch.nn.functional as F\n",
        "\n",
        "class CNN(nn.Module):\n",
        "  def __init__(self):\n",
        "    super(CNN, self).__init__()\n",
        "\n",
        "    self.conv1 = nn.Conv2d(in_channels=1, out_channels=3, kernel_size=5, stride=1)\n",
        "    self.conv2 = nn.Conv2d(in_channels=3, out_channels=10, kernel_size=5, stride=1)\n",
        "    self.fc1 = nn.Linear(10 * 12 * 12, 50)\n",
        "    self.fc2 = nn.Linear(50, 10)\n",
        "\n",
        "\n",
        "  def forward(self, x):\n",
        "    print(\"연산 전\", x.size())\n",
        "    x = F.relu(self.conv1(x))\n",
        "    print(\"conv1 연산 후\", x.size())\n",
        "    x = F.relu(self.conv2(x))\n",
        "    print(\"conv2 연산 후\",x.size())\n",
        "    x = x.view(-1, 10 * 12 * 12)\n",
        "    print(\"차원 감소 후\", x.size())\n",
        "    x = F.relu(self.fc1(x))\n",
        "    print(\"fc1 연산 후\", x.size())\n",
        "    x = self.fc2(x)\n",
        "    print(\"fc2 연산 후\", x.size())\n",
        "    return x\n",
        "\n",
        "cnn = CNN()\n",
        "output = cnn(torch.randn(10, 1, 20, 20))"
      ]
    },
    {
      "cell_type": "markdown",
      "metadata": {
        "id": "0It8H-mysBr-"
      },
      "source": [
        "## Max Pooling Layer Example"
      ]
    },
    {
      "cell_type": "code",
      "execution_count": 9,
      "metadata": {
        "colab": {
          "base_uri": "https://localhost:8080/"
        },
        "id": "LkOwXPFNchie",
        "outputId": "085c3b9d-a5d2-4547-d591-2524ea7adf3f"
      },
      "outputs": [
        {
          "output_type": "stream",
          "name": "stdout",
          "text": [
            "연산 전 torch.Size([10, 1, 20, 20])\n",
            "max_pool1 연산 후 torch.Size([10, 1, 10, 10])\n",
            "max_pool2 연산 후 torch.Size([10, 1, 5, 5])\n",
            "차원 감소 후 torch.Size([10, 25])\n",
            "fc1 연산 후 torch.Size([10, 50])\n",
            "fc2 연산 후 torch.Size([10, 10])\n"
          ]
        }
      ],
      "source": [
        "class CNN(nn.Module):\n",
        "  def __init__(self):\n",
        "    super(CNN, self).__init__()\n",
        "\n",
        "\n",
        "    self.max_pool1 = nn.MaxPool2d(kernel_size=2)\n",
        "    self.max_pool2 = nn.MaxPool2d(kernel_size=2)\n",
        "    self.fc1 = nn.Linear(1 * 5 * 5, 50)\n",
        "    self.fc2 = nn.Linear(50, 10)\n",
        "\n",
        "  def forward(self, x):\n",
        "    print(\"연산 전\", x.size())\n",
        "    x = F.relu(self.max_pool1(x))\n",
        "    print(\"max_pool1 연산 후\", x.size())\n",
        "    x = F.relu(self.max_pool2(x))\n",
        "    print(\"max_pool2 연산 후\",x.size())\n",
        "    x = x.view(x.size(0), -1)\n",
        "    print(\"차원 감소 후\", x.size())\n",
        "    x = F.relu(self.fc1(x))\n",
        "    print(\"fc1 연산 후\", x.size())\n",
        "    x = self.fc2(x)\n",
        "    print(\"fc2 연산 후\", x.size())\n",
        "    return x\n",
        "\n",
        "cnn = CNN()\n",
        "output = cnn(torch.randn(10, 1, 20, 20))"
      ]
    },
    {
      "cell_type": "markdown",
      "metadata": {
        "id": "uDMn2y5_sBr-"
      },
      "source": [
        "## MNIST 데이터셋 train"
      ]
    },
    {
      "cell_type": "code",
      "execution_count": 10,
      "metadata": {
        "id": "YhfopkrQcp1P",
        "colab": {
          "base_uri": "https://localhost:8080/"
        },
        "outputId": "2be5ef58-6453-4667-b371-9153bcf7065e"
      },
      "outputs": [
        {
          "output_type": "stream",
          "name": "stdout",
          "text": [
            "Requirement already satisfied: torchvision in /usr/local/lib/python3.10/dist-packages (0.20.0+cu121)\n",
            "Requirement already satisfied: numpy in /usr/local/lib/python3.10/dist-packages (from torchvision) (1.26.4)\n",
            "Requirement already satisfied: torch==2.5.0 in /usr/local/lib/python3.10/dist-packages (from torchvision) (2.5.0+cu121)\n",
            "Requirement already satisfied: pillow!=8.3.*,>=5.3.0 in /usr/local/lib/python3.10/dist-packages (from torchvision) (10.4.0)\n",
            "Requirement already satisfied: filelock in /usr/local/lib/python3.10/dist-packages (from torch==2.5.0->torchvision) (3.16.1)\n",
            "Requirement already satisfied: typing-extensions>=4.8.0 in /usr/local/lib/python3.10/dist-packages (from torch==2.5.0->torchvision) (4.12.2)\n",
            "Requirement already satisfied: networkx in /usr/local/lib/python3.10/dist-packages (from torch==2.5.0->torchvision) (3.4.2)\n",
            "Requirement already satisfied: jinja2 in /usr/local/lib/python3.10/dist-packages (from torch==2.5.0->torchvision) (3.1.4)\n",
            "Requirement already satisfied: fsspec in /usr/local/lib/python3.10/dist-packages (from torch==2.5.0->torchvision) (2024.10.0)\n",
            "Requirement already satisfied: sympy==1.13.1 in /usr/local/lib/python3.10/dist-packages (from torch==2.5.0->torchvision) (1.13.1)\n",
            "Requirement already satisfied: mpmath<1.4,>=1.1.0 in /usr/local/lib/python3.10/dist-packages (from sympy==1.13.1->torch==2.5.0->torchvision) (1.3.0)\n",
            "Requirement already satisfied: MarkupSafe>=2.0 in /usr/local/lib/python3.10/dist-packages (from jinja2->torch==2.5.0->torchvision) (3.0.2)\n"
          ]
        }
      ],
      "source": [
        "!pip install torchvision"
      ]
    },
    {
      "cell_type": "code",
      "execution_count": 11,
      "metadata": {
        "id": "CqFN5YM5cqKe"
      },
      "outputs": [],
      "source": [
        "import torch.optim as optim\n",
        "from torchvision import datasets, transforms"
      ]
    },
    {
      "cell_type": "code",
      "execution_count": 12,
      "metadata": {
        "id": "IJb_C4ptcu6G",
        "colab": {
          "base_uri": "https://localhost:8080/"
        },
        "outputId": "603313fd-8de9-4a39-cddc-7bd44c457591"
      },
      "outputs": [
        {
          "output_type": "stream",
          "name": "stdout",
          "text": [
            "Downloading http://yann.lecun.com/exdb/mnist/train-images-idx3-ubyte.gz\n",
            "Failed to download (trying next):\n",
            "<urlopen error [SSL: CERTIFICATE_VERIFY_FAILED] certificate verify failed: certificate has expired (_ssl.c:1007)>\n",
            "\n",
            "Downloading https://ossci-datasets.s3.amazonaws.com/mnist/train-images-idx3-ubyte.gz\n",
            "Downloading https://ossci-datasets.s3.amazonaws.com/mnist/train-images-idx3-ubyte.gz to ./data/MNIST/raw/train-images-idx3-ubyte.gz\n"
          ]
        },
        {
          "output_type": "stream",
          "name": "stderr",
          "text": [
            "100%|██████████| 9.91M/9.91M [00:00<00:00, 34.9MB/s]\n"
          ]
        },
        {
          "output_type": "stream",
          "name": "stdout",
          "text": [
            "Extracting ./data/MNIST/raw/train-images-idx3-ubyte.gz to ./data/MNIST/raw\n",
            "\n",
            "Downloading http://yann.lecun.com/exdb/mnist/train-labels-idx1-ubyte.gz\n",
            "Failed to download (trying next):\n",
            "<urlopen error [SSL: CERTIFICATE_VERIFY_FAILED] certificate verify failed: certificate has expired (_ssl.c:1007)>\n",
            "\n",
            "Downloading https://ossci-datasets.s3.amazonaws.com/mnist/train-labels-idx1-ubyte.gz\n",
            "Downloading https://ossci-datasets.s3.amazonaws.com/mnist/train-labels-idx1-ubyte.gz to ./data/MNIST/raw/train-labels-idx1-ubyte.gz\n"
          ]
        },
        {
          "output_type": "stream",
          "name": "stderr",
          "text": [
            "100%|██████████| 28.9k/28.9k [00:00<00:00, 1.34MB/s]"
          ]
        },
        {
          "output_type": "stream",
          "name": "stdout",
          "text": [
            "Extracting ./data/MNIST/raw/train-labels-idx1-ubyte.gz to ./data/MNIST/raw\n",
            "\n",
            "Downloading http://yann.lecun.com/exdb/mnist/t10k-images-idx3-ubyte.gz\n"
          ]
        },
        {
          "output_type": "stream",
          "name": "stderr",
          "text": [
            "\n"
          ]
        },
        {
          "output_type": "stream",
          "name": "stdout",
          "text": [
            "Failed to download (trying next):\n",
            "<urlopen error [SSL: CERTIFICATE_VERIFY_FAILED] certificate verify failed: certificate has expired (_ssl.c:1007)>\n",
            "\n",
            "Downloading https://ossci-datasets.s3.amazonaws.com/mnist/t10k-images-idx3-ubyte.gz\n",
            "Downloading https://ossci-datasets.s3.amazonaws.com/mnist/t10k-images-idx3-ubyte.gz to ./data/MNIST/raw/t10k-images-idx3-ubyte.gz\n"
          ]
        },
        {
          "output_type": "stream",
          "name": "stderr",
          "text": [
            "100%|██████████| 1.65M/1.65M [00:00<00:00, 9.38MB/s]\n"
          ]
        },
        {
          "output_type": "stream",
          "name": "stdout",
          "text": [
            "Extracting ./data/MNIST/raw/t10k-images-idx3-ubyte.gz to ./data/MNIST/raw\n",
            "\n",
            "Downloading http://yann.lecun.com/exdb/mnist/t10k-labels-idx1-ubyte.gz\n",
            "Failed to download (trying next):\n",
            "<urlopen error [SSL: CERTIFICATE_VERIFY_FAILED] certificate verify failed: certificate has expired (_ssl.c:1007)>\n",
            "\n",
            "Downloading https://ossci-datasets.s3.amazonaws.com/mnist/t10k-labels-idx1-ubyte.gz\n",
            "Downloading https://ossci-datasets.s3.amazonaws.com/mnist/t10k-labels-idx1-ubyte.gz to ./data/MNIST/raw/t10k-labels-idx1-ubyte.gz\n"
          ]
        },
        {
          "output_type": "stream",
          "name": "stderr",
          "text": [
            "100%|██████████| 4.54k/4.54k [00:00<00:00, 8.09MB/s]"
          ]
        },
        {
          "output_type": "stream",
          "name": "stdout",
          "text": [
            "Extracting ./data/MNIST/raw/t10k-labels-idx1-ubyte.gz to ./data/MNIST/raw\n",
            "\n"
          ]
        },
        {
          "output_type": "stream",
          "name": "stderr",
          "text": [
            "\n"
          ]
        }
      ],
      "source": [
        "train_data = datasets.MNIST('./data/', train=True, download=True, transform=transforms.Compose([\n",
        "        transforms.ToTensor(),\n",
        "        transforms.Normalize((0.1307,), (0.3081,))\n",
        "    ])) # 학습 데이터\n",
        "train_loader = torch.utils.data.DataLoader(dataset=train_data, batch_size=50, shuffle=True)\n",
        "\n",
        "test_data = datasets.MNIST('./data/', train=False, transform=transforms.Compose([\n",
        "        transforms.ToTensor(),\n",
        "        transforms.Normalize((0.1307,), (0.3081,))\n",
        "    ])) # 테스트 데이터\n",
        "test_loader = torch.utils.data.DataLoader(dataset=test_data, batch_size=50, shuffle=True)"
      ]
    },
    {
      "cell_type": "code",
      "execution_count": 14,
      "metadata": {
        "id": "YP3tEuo6ct8A"
      },
      "outputs": [],
      "source": [
        "class CNN(nn.Module):\n",
        "    def __init__(self):\n",
        "        super(CNN, self).__init__()\n",
        "\n",
        "        self.conv1 = nn.Conv2d(in_channels=1, out_channels=20, kernel_size=5, stride=1)\n",
        "        self.conv2 = nn.Conv2d(in_channels=20, out_channels=50, kernel_size=5, stride=1)\n",
        "        self.fc1 = nn.Linear(4 * 4 * 50, 50)\n",
        "        self.fc2 = nn.Linear(50, 10)\n",
        "\n",
        "    def forward(self, x):\n",
        "\n",
        "        x = F.relu(self.conv1(x))\n",
        "        x = F.max_pool2d(x, kernel_size=2, stride=2)\n",
        "        x = F.relu(self.conv2(x))\n",
        "        x = F.max_pool2d(x, kernel_size=2, stride=2)\n",
        "\n",
        "        x = x.view(-1, 4 * 4 * 50) # [batch_size, 50, 4, 4]\n",
        "        x = F.relu(self.fc1(x))\n",
        "        x = self.fc2(x)\n",
        "\n",
        "        return x\n"
      ]
    },
    {
      "cell_type": "code",
      "execution_count": 15,
      "metadata": {
        "id": "EO2ULx3Sc2GM"
      },
      "outputs": [],
      "source": [
        "cnn = CNN()\n",
        "criterion = torch.nn.CrossEntropyLoss()\n",
        "optimizer = optim.SGD(cnn.parameters(), lr=0.01)"
      ]
    },
    {
      "cell_type": "code",
      "execution_count": 16,
      "metadata": {
        "id": "gAwckNWhc4Nr",
        "colab": {
          "base_uri": "https://localhost:8080/"
        },
        "outputId": "be26e08b-c415-4b9b-feea-eb0ee46e7763"
      },
      "outputs": [
        {
          "output_type": "stream",
          "name": "stdout",
          "text": [
            "loss of 0 epoch, 0 index : 2.292962074279785\n",
            "loss of 0 epoch, 100 index : 1.4110575914382935\n",
            "loss of 0 epoch, 200 index : 0.46607130765914917\n",
            "loss of 0 epoch, 300 index : 0.38822653889656067\n",
            "loss of 0 epoch, 400 index : 0.24185562133789062\n",
            "loss of 0 epoch, 500 index : 0.25294676423072815\n",
            "loss of 0 epoch, 600 index : 0.12396886199712753\n",
            "loss of 0 epoch, 700 index : 0.14664125442504883\n",
            "loss of 0 epoch, 800 index : 0.2289312779903412\n",
            "loss of 0 epoch, 900 index : 0.23176541924476624\n",
            "loss of 0 epoch, 1000 index : 0.09880120307207108\n",
            "loss of 0 epoch, 1100 index : 0.08505184948444366\n",
            "loss of 1 epoch, 0 index : 0.14091068506240845\n",
            "loss of 1 epoch, 100 index : 0.09906455129384995\n",
            "loss of 1 epoch, 200 index : 0.138461172580719\n",
            "loss of 1 epoch, 300 index : 0.06163038685917854\n",
            "loss of 1 epoch, 400 index : 0.22004434466362\n",
            "loss of 1 epoch, 500 index : 0.03129243850708008\n",
            "loss of 1 epoch, 600 index : 0.16984742879867554\n",
            "loss of 1 epoch, 700 index : 0.1791871190071106\n",
            "loss of 1 epoch, 800 index : 0.29151245951652527\n",
            "loss of 1 epoch, 900 index : 0.0840005949139595\n",
            "loss of 1 epoch, 1000 index : 0.043762270361185074\n",
            "loss of 1 epoch, 1100 index : 0.3069676458835602\n",
            "loss of 2 epoch, 0 index : 0.018281985074281693\n",
            "loss of 2 epoch, 100 index : 0.05412505939602852\n",
            "loss of 2 epoch, 200 index : 0.1263253092765808\n",
            "loss of 2 epoch, 300 index : 0.2737693190574646\n",
            "loss of 2 epoch, 400 index : 0.031248584389686584\n",
            "loss of 2 epoch, 500 index : 0.06282481551170349\n",
            "loss of 2 epoch, 600 index : 0.03493579477071762\n",
            "loss of 2 epoch, 700 index : 0.10374724119901657\n",
            "loss of 2 epoch, 800 index : 0.05489435791969299\n",
            "loss of 2 epoch, 900 index : 0.03409940376877785\n",
            "loss of 2 epoch, 1000 index : 0.09809138625860214\n",
            "loss of 2 epoch, 1100 index : 0.022866476327180862\n",
            "loss of 3 epoch, 0 index : 0.14113213121891022\n",
            "loss of 3 epoch, 100 index : 0.06313592195510864\n",
            "loss of 3 epoch, 200 index : 0.12821264564990997\n",
            "loss of 3 epoch, 300 index : 0.06427319347858429\n",
            "loss of 3 epoch, 400 index : 0.01806499809026718\n",
            "loss of 3 epoch, 500 index : 0.22450630366802216\n",
            "loss of 3 epoch, 600 index : 0.040374837815761566\n",
            "loss of 3 epoch, 700 index : 0.027068430557847023\n",
            "loss of 3 epoch, 800 index : 0.046662263572216034\n",
            "loss of 3 epoch, 900 index : 0.04142315313220024\n",
            "loss of 3 epoch, 1000 index : 0.014976376667618752\n",
            "loss of 3 epoch, 1100 index : 0.051634564995765686\n",
            "loss of 4 epoch, 0 index : 0.04366486892104149\n",
            "loss of 4 epoch, 100 index : 0.017646605148911476\n",
            "loss of 4 epoch, 200 index : 0.07363059371709824\n",
            "loss of 4 epoch, 300 index : 0.018291959539055824\n",
            "loss of 4 epoch, 400 index : 0.01404822152107954\n",
            "loss of 4 epoch, 500 index : 0.08261898159980774\n",
            "loss of 4 epoch, 600 index : 0.0585484504699707\n",
            "loss of 4 epoch, 700 index : 0.0037538823671638966\n",
            "loss of 4 epoch, 800 index : 0.061600908637046814\n",
            "loss of 4 epoch, 900 index : 0.00910839531570673\n",
            "loss of 4 epoch, 1000 index : 0.021317539736628532\n",
            "loss of 4 epoch, 1100 index : 0.045889873057603836\n",
            "loss of 5 epoch, 0 index : 0.016428550705313683\n",
            "loss of 5 epoch, 100 index : 0.044928811490535736\n",
            "loss of 5 epoch, 200 index : 0.051569610834121704\n",
            "loss of 5 epoch, 300 index : 0.1073167622089386\n",
            "loss of 5 epoch, 400 index : 0.022262172773480415\n",
            "loss of 5 epoch, 500 index : 0.006949011702090502\n",
            "loss of 5 epoch, 600 index : 0.004767032340168953\n",
            "loss of 5 epoch, 700 index : 0.06004219874739647\n",
            "loss of 5 epoch, 800 index : 0.01242155209183693\n",
            "loss of 5 epoch, 900 index : 0.05263505131006241\n",
            "loss of 5 epoch, 1000 index : 0.0075393784791231155\n",
            "loss of 5 epoch, 1100 index : 0.104129359126091\n",
            "loss of 6 epoch, 0 index : 0.0407598651945591\n",
            "loss of 6 epoch, 100 index : 0.009547460824251175\n",
            "loss of 6 epoch, 200 index : 0.011789086274802685\n",
            "loss of 6 epoch, 300 index : 0.03700830787420273\n",
            "loss of 6 epoch, 400 index : 0.021040013059973717\n",
            "loss of 6 epoch, 500 index : 0.08699703216552734\n",
            "loss of 6 epoch, 600 index : 0.01003589853644371\n",
            "loss of 6 epoch, 700 index : 0.003135618520900607\n",
            "loss of 6 epoch, 800 index : 0.05370508134365082\n",
            "loss of 6 epoch, 900 index : 0.07876412570476532\n",
            "loss of 6 epoch, 1000 index : 0.009127276949584484\n",
            "loss of 6 epoch, 1100 index : 0.08253639191389084\n",
            "loss of 7 epoch, 0 index : 0.09091316163539886\n",
            "loss of 7 epoch, 100 index : 0.004241786431521177\n",
            "loss of 7 epoch, 200 index : 0.007585772313177586\n",
            "loss of 7 epoch, 300 index : 0.061404891312122345\n",
            "loss of 7 epoch, 400 index : 0.021429825574159622\n",
            "loss of 7 epoch, 500 index : 0.04879528656601906\n",
            "loss of 7 epoch, 600 index : 0.027052689343690872\n",
            "loss of 7 epoch, 700 index : 0.07780736684799194\n",
            "loss of 7 epoch, 800 index : 0.018094632774591446\n",
            "loss of 7 epoch, 900 index : 0.07305410504341125\n",
            "loss of 7 epoch, 1000 index : 0.00602021673694253\n",
            "loss of 7 epoch, 1100 index : 0.011630921624600887\n",
            "loss of 8 epoch, 0 index : 0.10952576994895935\n",
            "loss of 8 epoch, 100 index : 0.011123746633529663\n",
            "loss of 8 epoch, 200 index : 0.014272531494498253\n",
            "loss of 8 epoch, 300 index : 0.014533906243741512\n",
            "loss of 8 epoch, 400 index : 0.06856601685285568\n",
            "loss of 8 epoch, 500 index : 0.029710426926612854\n",
            "loss of 8 epoch, 600 index : 0.01938454806804657\n",
            "loss of 8 epoch, 700 index : 0.006324854679405689\n",
            "loss of 8 epoch, 800 index : 0.03896568715572357\n",
            "loss of 8 epoch, 900 index : 0.005038851406425238\n",
            "loss of 8 epoch, 1000 index : 0.010560233145952225\n",
            "loss of 8 epoch, 1100 index : 0.004694338887929916\n",
            "loss of 9 epoch, 0 index : 0.03434806317090988\n",
            "loss of 9 epoch, 100 index : 0.004018929786980152\n",
            "loss of 9 epoch, 200 index : 0.0021776058711111546\n",
            "loss of 9 epoch, 300 index : 0.006584055256098509\n",
            "loss of 9 epoch, 400 index : 0.04123575612902641\n",
            "loss of 9 epoch, 500 index : 0.0076601095497608185\n",
            "loss of 9 epoch, 600 index : 0.0036416577640920877\n",
            "loss of 9 epoch, 700 index : 0.06183183565735817\n",
            "loss of 9 epoch, 800 index : 0.08244500309228897\n",
            "loss of 9 epoch, 900 index : 0.02267730049788952\n",
            "loss of 9 epoch, 1000 index : 0.047214657068252563\n",
            "loss of 9 epoch, 1100 index : 0.04078897833824158\n"
          ]
        }
      ],
      "source": [
        "cnn.train()  # 학습을 위함\n",
        "for epoch in range(10):\n",
        "  for index, (data, target) in enumerate(train_loader):\n",
        "    optimizer.zero_grad()  # 기울기 초기화\n",
        "    output = cnn(data)\n",
        "    loss = criterion(output, target)\n",
        "    loss.backward()  # 역전파\n",
        "    optimizer.step()\n",
        "\n",
        "    if index % 100 == 0:\n",
        "      print(\"loss of {} epoch, {} index : {}\".format(epoch, index, loss.item()))"
      ]
    },
    {
      "cell_type": "code",
      "execution_count": 17,
      "metadata": {
        "id": "l2PnlaXIc6dm",
        "colab": {
          "base_uri": "https://localhost:8080/"
        },
        "outputId": "e2bcb213-5b53-44a1-f8f9-e51f4a998f73"
      },
      "outputs": [
        {
          "output_type": "stream",
          "name": "stdout",
          "text": [
            "\n",
            "Test set: Average loss: 6.8631, Accuracy: 9877/10000 (99%)\n",
            "\n"
          ]
        }
      ],
      "source": [
        "cnn.eval()  # test case 학습 방지를 위함\n",
        "test_loss = 0\n",
        "correct = 0\n",
        "with torch.no_grad():\n",
        "  for data, target in test_loader:\n",
        "    output = cnn(data)\n",
        "    test_loss += criterion(output, target).item() # sum up batch loss\n",
        "    pred = output.argmax(dim=1, keepdim=True) # get the index of the max log-probability\n",
        "    correct += pred.eq(target.view_as(pred)).sum().item()\n",
        "print('\\nTest set: Average loss: {:.4f}, Accuracy: {}/{} ({:.0f}%)\\n'.format(\n",
        "        test_loss, correct, len(test_loader.dataset),\n",
        "        100. * correct / len(test_loader.dataset)))"
      ]
    },
    {
      "cell_type": "code",
      "source": [],
      "metadata": {
        "id": "wwssKbgy6NSB"
      },
      "execution_count": null,
      "outputs": []
    }
  ],
  "metadata": {
    "colab": {
      "provenance": [],
      "toc_visible": true
    },
    "kernelspec": {
      "display_name": "Python 3",
      "name": "python3"
    },
    "language_info": {
      "name": "python"
    }
  },
  "nbformat": 4,
  "nbformat_minor": 0
}
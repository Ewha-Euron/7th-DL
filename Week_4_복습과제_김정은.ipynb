{
  "cells": [
    {
      "cell_type": "markdown",
      "metadata": {
        "id": "JmbrNadxsBr7"
      },
      "source": [
        "## Convolution Layer Example"
      ]
    },
    {
      "cell_type": "code",
      "execution_count": null,
      "metadata": {
        "colab": {
          "base_uri": "https://localhost:8080/"
        },
        "id": "MAyG6GGTU_mC",
        "outputId": "60c5b0a9-57cb-4db4-82a4-9e8b47192340"
      },
      "outputs": [
        {
          "output_type": "stream",
          "name": "stdout",
          "text": [
            "연산 전 torch.Size([10, 1, 20, 20])\n",
            "conv1 연산 후 torch.Size([10, 3, 16, 16])\n",
            "conv2 연산 후 torch.Size([10, 10, 12, 12])\n",
            "차원 감소 후 torch.Size([10, 1440])\n",
            "fc1 연산 후 torch.Size([10, 50])\n",
            "fc2 연산 후 torch.Size([10, 10])\n"
          ]
        }
      ],
      "source": [
        "import torch\n",
        "import torch.nn as nn\n",
        "import torch.nn.functional as F\n",
        "\n",
        "class CNN(nn.Module):\n",
        "  def __init__(self):\n",
        "    super(CNN, self).__init__()\n",
        "\n",
        "    ## 조건1: conv layer 2개 & fc layer 2개\n",
        "    ## 조건2: kernel size=5, stride=1로 통일\n",
        "    ## output을 참고하여 차원을 계산해주세요!\n",
        "    self.conv1 = nn.Conv2d(in_channels=1, out_channels=3, kernel_size=5, stride=1)\n",
        "    self.conv2 = nn.Conv2d(in_channels=3, out_channels=10, kernel_size=5, stride=1)\n",
        "    self.fc1 = nn.Linear(10*12*12, 50)\n",
        "    self.fc2 = nn.Linear(50, 10)\n",
        "\n",
        "\n",
        "  def forward(self, x):\n",
        "    print(\"연산 전\", x.size())\n",
        "    x = F.relu(self.conv1(x))\n",
        "    print(\"conv1 연산 후\", x.size())\n",
        "    x = F.relu(self.conv2(x))\n",
        "    print(\"conv2 연산 후\",x.size())\n",
        "    x = x.view(-1, 10 * 12 * 12)\n",
        "    print(\"차원 감소 후\", x.size())\n",
        "    x = F.relu(self.fc1(x))\n",
        "    print(\"fc1 연산 후\", x.size())\n",
        "    x = self.fc2(x)\n",
        "    print(\"fc2 연산 후\", x.size())\n",
        "    return x\n",
        "\n",
        "cnn = CNN()\n",
        "output = cnn(torch.randn(10, 1, 20, 20))  # Input Size: (10, 1, 20, 20)"
      ]
    },
    {
      "cell_type": "markdown",
      "metadata": {
        "id": "0It8H-mysBr-"
      },
      "source": [
        "## Max Pooling Layer Example"
      ]
    },
    {
      "cell_type": "code",
      "execution_count": null,
      "metadata": {
        "colab": {
          "base_uri": "https://localhost:8080/"
        },
        "id": "LkOwXPFNchie",
        "outputId": "412fac08-d575-405c-9f58-aaf0d4a0b806"
      },
      "outputs": [
        {
          "output_type": "stream",
          "name": "stdout",
          "text": [
            "연산 전 torch.Size([10, 1, 20, 20])\n",
            "max_pool1 연산 후 torch.Size([10, 1, 10, 10])\n",
            "max_pool2 연산 후 torch.Size([10, 1, 5, 5])\n",
            "차원 감소 후 torch.Size([1, 250])\n",
            "fc1 연산 후 torch.Size([1, 50])\n",
            "fc2 연산 후 torch.Size([1, 10])\n"
          ]
        }
      ],
      "source": [
        "class CNN(nn.Module):\n",
        "  def __init__(self):\n",
        "    super(CNN, self).__init__()\n",
        "\n",
        "    ## 조건1: 최대풀링 layer 2개 & fc layer 2개\n",
        "    ## 조건2: kernel size=2로 통일, stride는 따로 지정할 필요 없음\n",
        "    ## output을 참고하여 차원을 계산해주세요!\n",
        "    self.max_pool1 = nn.MaxPool2d(kernel_size=2)\n",
        "    self.max_pool2 = nn.MaxPool2d(kernel_size=2)\n",
        "    self.fc1 = nn.Linear(10*5*5, 50)\n",
        "    self.fc2 = nn.Linear(50, 10)\n",
        "\n",
        "  def forward(self, x):\n",
        "    print(\"연산 전\", x.size())\n",
        "    x = F.relu(self.max_pool1(x))\n",
        "    print(\"max_pool1 연산 후\", x.size())\n",
        "    x = F.relu(self.max_pool2(x))\n",
        "    print(\"max_pool2 연산 후\",x.size())\n",
        "    x = x.view(-1, 10 * 5 * 5)\n",
        "    print(\"차원 감소 후\", x.size())\n",
        "    x = F.relu(self.fc1(x))\n",
        "    print(\"fc1 연산 후\", x.size())\n",
        "    x = self.fc2(x)\n",
        "    print(\"fc2 연산 후\", x.size())\n",
        "    return x\n",
        "\n",
        "cnn = CNN()\n",
        "output = cnn(torch.randn(10, 1, 20, 20))"
      ]
    },
    {
      "cell_type": "markdown",
      "metadata": {
        "id": "uDMn2y5_sBr-"
      },
      "source": [
        "## MNIST 데이터셋 train"
      ]
    },
    {
      "cell_type": "code",
      "execution_count": null,
      "metadata": {
        "id": "YhfopkrQcp1P",
        "colab": {
          "base_uri": "https://localhost:8080/"
        },
        "outputId": "cbcded77-4a23-4c49-d1ed-c2f2d83b0d36"
      },
      "outputs": [
        {
          "output_type": "stream",
          "name": "stdout",
          "text": [
            "Requirement already satisfied: torchvision in /usr/local/lib/python3.10/dist-packages (0.20.0+cu121)\n",
            "Requirement already satisfied: numpy in /usr/local/lib/python3.10/dist-packages (from torchvision) (1.26.4)\n",
            "Requirement already satisfied: torch==2.5.0 in /usr/local/lib/python3.10/dist-packages (from torchvision) (2.5.0+cu121)\n",
            "Requirement already satisfied: pillow!=8.3.*,>=5.3.0 in /usr/local/lib/python3.10/dist-packages (from torchvision) (10.4.0)\n",
            "Requirement already satisfied: filelock in /usr/local/lib/python3.10/dist-packages (from torch==2.5.0->torchvision) (3.16.1)\n",
            "Requirement already satisfied: typing-extensions>=4.8.0 in /usr/local/lib/python3.10/dist-packages (from torch==2.5.0->torchvision) (4.12.2)\n",
            "Requirement already satisfied: networkx in /usr/local/lib/python3.10/dist-packages (from torch==2.5.0->torchvision) (3.4.2)\n",
            "Requirement already satisfied: jinja2 in /usr/local/lib/python3.10/dist-packages (from torch==2.5.0->torchvision) (3.1.4)\n",
            "Requirement already satisfied: fsspec in /usr/local/lib/python3.10/dist-packages (from torch==2.5.0->torchvision) (2024.10.0)\n",
            "Requirement already satisfied: sympy==1.13.1 in /usr/local/lib/python3.10/dist-packages (from torch==2.5.0->torchvision) (1.13.1)\n",
            "Requirement already satisfied: mpmath<1.4,>=1.1.0 in /usr/local/lib/python3.10/dist-packages (from sympy==1.13.1->torch==2.5.0->torchvision) (1.3.0)\n",
            "Requirement already satisfied: MarkupSafe>=2.0 in /usr/local/lib/python3.10/dist-packages (from jinja2->torch==2.5.0->torchvision) (3.0.2)\n"
          ]
        }
      ],
      "source": [
        "!pip install torchvision"
      ]
    },
    {
      "cell_type": "code",
      "execution_count": null,
      "metadata": {
        "id": "CqFN5YM5cqKe"
      },
      "outputs": [],
      "source": [
        "import torch.optim as optim\n",
        "from torchvision import datasets, transforms"
      ]
    },
    {
      "cell_type": "code",
      "execution_count": null,
      "metadata": {
        "id": "IJb_C4ptcu6G",
        "colab": {
          "base_uri": "https://localhost:8080/"
        },
        "outputId": "42f98da1-a3f6-4efc-839e-6378c47c0760"
      },
      "outputs": [
        {
          "output_type": "stream",
          "name": "stdout",
          "text": [
            "Downloading http://yann.lecun.com/exdb/mnist/train-images-idx3-ubyte.gz\n",
            "Failed to download (trying next):\n",
            "<urlopen error [SSL: CERTIFICATE_VERIFY_FAILED] certificate verify failed: certificate has expired (_ssl.c:1007)>\n",
            "\n",
            "Downloading https://ossci-datasets.s3.amazonaws.com/mnist/train-images-idx3-ubyte.gz\n",
            "Downloading https://ossci-datasets.s3.amazonaws.com/mnist/train-images-idx3-ubyte.gz to ./data/MNIST/raw/train-images-idx3-ubyte.gz\n"
          ]
        },
        {
          "output_type": "stream",
          "name": "stderr",
          "text": [
            "100%|██████████| 9.91M/9.91M [00:00<00:00, 115MB/s]\n"
          ]
        },
        {
          "output_type": "stream",
          "name": "stdout",
          "text": [
            "Extracting ./data/MNIST/raw/train-images-idx3-ubyte.gz to ./data/MNIST/raw\n",
            "\n",
            "Downloading http://yann.lecun.com/exdb/mnist/train-labels-idx1-ubyte.gz\n",
            "Failed to download (trying next):\n",
            "<urlopen error [SSL: CERTIFICATE_VERIFY_FAILED] certificate verify failed: certificate has expired (_ssl.c:1007)>\n",
            "\n",
            "Downloading https://ossci-datasets.s3.amazonaws.com/mnist/train-labels-idx1-ubyte.gz\n",
            "Downloading https://ossci-datasets.s3.amazonaws.com/mnist/train-labels-idx1-ubyte.gz to ./data/MNIST/raw/train-labels-idx1-ubyte.gz\n"
          ]
        },
        {
          "output_type": "stream",
          "name": "stderr",
          "text": [
            "100%|██████████| 28.9k/28.9k [00:00<00:00, 28.8MB/s]"
          ]
        },
        {
          "output_type": "stream",
          "name": "stdout",
          "text": [
            "Extracting ./data/MNIST/raw/train-labels-idx1-ubyte.gz to ./data/MNIST/raw\n",
            "\n",
            "Downloading http://yann.lecun.com/exdb/mnist/t10k-images-idx3-ubyte.gz\n"
          ]
        },
        {
          "output_type": "stream",
          "name": "stderr",
          "text": [
            "\n"
          ]
        },
        {
          "output_type": "stream",
          "name": "stdout",
          "text": [
            "Failed to download (trying next):\n",
            "<urlopen error [SSL: CERTIFICATE_VERIFY_FAILED] certificate verify failed: certificate has expired (_ssl.c:1007)>\n",
            "\n",
            "Downloading https://ossci-datasets.s3.amazonaws.com/mnist/t10k-images-idx3-ubyte.gz\n",
            "Downloading https://ossci-datasets.s3.amazonaws.com/mnist/t10k-images-idx3-ubyte.gz to ./data/MNIST/raw/t10k-images-idx3-ubyte.gz\n"
          ]
        },
        {
          "output_type": "stream",
          "name": "stderr",
          "text": [
            "100%|██████████| 1.65M/1.65M [00:00<00:00, 42.2MB/s]\n"
          ]
        },
        {
          "output_type": "stream",
          "name": "stdout",
          "text": [
            "Extracting ./data/MNIST/raw/t10k-images-idx3-ubyte.gz to ./data/MNIST/raw\n",
            "\n",
            "Downloading http://yann.lecun.com/exdb/mnist/t10k-labels-idx1-ubyte.gz\n",
            "Failed to download (trying next):\n",
            "<urlopen error [SSL: CERTIFICATE_VERIFY_FAILED] certificate verify failed: certificate has expired (_ssl.c:1007)>\n",
            "\n",
            "Downloading https://ossci-datasets.s3.amazonaws.com/mnist/t10k-labels-idx1-ubyte.gz\n",
            "Downloading https://ossci-datasets.s3.amazonaws.com/mnist/t10k-labels-idx1-ubyte.gz to ./data/MNIST/raw/t10k-labels-idx1-ubyte.gz\n"
          ]
        },
        {
          "output_type": "stream",
          "name": "stderr",
          "text": [
            "100%|██████████| 4.54k/4.54k [00:00<00:00, 4.47MB/s]"
          ]
        },
        {
          "output_type": "stream",
          "name": "stdout",
          "text": [
            "Extracting ./data/MNIST/raw/t10k-labels-idx1-ubyte.gz to ./data/MNIST/raw\n",
            "\n"
          ]
        },
        {
          "output_type": "stream",
          "name": "stderr",
          "text": [
            "\n"
          ]
        }
      ],
      "source": [
        "train_data = datasets.MNIST('./data/', train=True, download=True, transform=transforms.Compose([\n",
        "        transforms.ToTensor(),\n",
        "        transforms.Normalize((0.1307,), (0.3081,))\n",
        "    ])) # 학습 데이터\n",
        "train_loader = torch.utils.data.DataLoader(dataset=train_data, batch_size=50, shuffle=True)\n",
        "\n",
        "test_data = datasets.MNIST('./data/', train=False, transform=transforms.Compose([\n",
        "        transforms.ToTensor(),\n",
        "        transforms.Normalize((0.1307,), (0.3081,))\n",
        "    ])) # 테스트 데이터\n",
        "test_loader = torch.utils.data.DataLoader(dataset=test_data, batch_size=50, shuffle=True)"
      ]
    },
    {
      "cell_type": "code",
      "execution_count": null,
      "metadata": {
        "id": "YP3tEuo6ct8A"
      },
      "outputs": [],
      "source": [
        "class CNN(nn.Module):\n",
        "    def __init__(self):\n",
        "        super(CNN, self).__init__()\n",
        "\n",
        "        ## 조건1: conv layer 2개 & fc layer 2개\n",
        "            ## 첫 번째 conv layer: 입력 채널 1, 출력 채널 20\n",
        "            ## 두 번째 fc layer: 출력 채널 10\n",
        "        ## 조건2: kernel_size=5, stride=1\n",
        "        self.conv1 = nn.Conv2d(in_channels=1, out_channels=20, kernel_size=5, stride=1)\n",
        "        self.conv2 = nn.Conv2d(in_channels=20, out_channels=50, kernel_size=5, stride=1)\n",
        "        self.fc1 = nn.Linear(4*4*50, 50)\n",
        "        self.fc2 = nn.Linear(50, 10)\n",
        "\n",
        "    def forward(self, x):\n",
        "\n",
        "        ## 조건1: relu -> max_pool2d -> relu -> max_pool2d 순서로 이루어짐\n",
        "        ## 조건2: kernel_size=2, stride=2\n",
        "        x = F.relu(self.conv1(x))\n",
        "        x = F.max_pool2d(x, kernel_size=2, stride=2)\n",
        "\n",
        "        x = F.relu(self.conv2(x))\n",
        "        x = F.max_pool2d(x, kernel_size=2, stride=2)\n",
        "\n",
        "        x = x.view(-1, 4 * 4 * 50) # [batch_size, 50, 4, 4]\n",
        "        x = F.relu(self.fc1(x))\n",
        "        x = self.fc2(x)\n",
        "\n",
        "        return x\n"
      ]
    },
    {
      "cell_type": "code",
      "execution_count": null,
      "metadata": {
        "id": "EO2ULx3Sc2GM"
      },
      "outputs": [],
      "source": [
        "cnn = CNN()\n",
        "criterion = torch.nn.CrossEntropyLoss()\n",
        "optimizer = optim.SGD(cnn.parameters(), lr=0.01)"
      ]
    },
    {
      "cell_type": "code",
      "execution_count": null,
      "metadata": {
        "id": "gAwckNWhc4Nr",
        "colab": {
          "base_uri": "https://localhost:8080/"
        },
        "outputId": "b62520d0-95e5-477e-de42-7f5e3136cb6e"
      },
      "outputs": [
        {
          "output_type": "stream",
          "name": "stdout",
          "text": [
            "loss of 0 epoch, 0 index : 2.336639642715454\n",
            "loss of 0 epoch, 100 index : 2.003636360168457\n",
            "loss of 0 epoch, 200 index : 0.6179459095001221\n",
            "loss of 0 epoch, 300 index : 0.6220736503601074\n",
            "loss of 0 epoch, 400 index : 0.2887442409992218\n",
            "loss of 0 epoch, 500 index : 0.30151718854904175\n",
            "loss of 0 epoch, 600 index : 0.14579015970230103\n",
            "loss of 0 epoch, 700 index : 0.28615880012512207\n",
            "loss of 0 epoch, 800 index : 0.2665538191795349\n",
            "loss of 0 epoch, 900 index : 0.3526262938976288\n",
            "loss of 0 epoch, 1000 index : 0.1449432373046875\n",
            "loss of 0 epoch, 1100 index : 0.20922590792179108\n",
            "loss of 1 epoch, 0 index : 0.04514234513044357\n",
            "loss of 1 epoch, 100 index : 0.21397829055786133\n",
            "loss of 1 epoch, 200 index : 0.1598927080631256\n",
            "loss of 1 epoch, 300 index : 0.10157765448093414\n",
            "loss of 1 epoch, 400 index : 0.16501234471797943\n",
            "loss of 1 epoch, 500 index : 0.08795540034770966\n",
            "loss of 1 epoch, 600 index : 0.058690644800662994\n",
            "loss of 1 epoch, 700 index : 0.0442270003259182\n",
            "loss of 1 epoch, 800 index : 0.0968933030962944\n",
            "loss of 1 epoch, 900 index : 0.2446974813938141\n",
            "loss of 1 epoch, 1000 index : 0.34319716691970825\n",
            "loss of 1 epoch, 1100 index : 0.03402663767337799\n",
            "loss of 2 epoch, 0 index : 0.028850294649600983\n",
            "loss of 2 epoch, 100 index : 0.19201606512069702\n",
            "loss of 2 epoch, 200 index : 0.09706708788871765\n",
            "loss of 2 epoch, 300 index : 0.056467220187187195\n",
            "loss of 2 epoch, 400 index : 0.10391805320978165\n",
            "loss of 2 epoch, 500 index : 0.06299450248479843\n",
            "loss of 2 epoch, 600 index : 0.10827910155057907\n",
            "loss of 2 epoch, 700 index : 0.07454261928796768\n",
            "loss of 2 epoch, 800 index : 0.02229207009077072\n",
            "loss of 2 epoch, 900 index : 0.04965812340378761\n",
            "loss of 2 epoch, 1000 index : 0.011880516074597836\n",
            "loss of 2 epoch, 1100 index : 0.10888207703828812\n",
            "loss of 3 epoch, 0 index : 0.2616623640060425\n",
            "loss of 3 epoch, 100 index : 0.026850666850805283\n",
            "loss of 3 epoch, 200 index : 0.23645511269569397\n",
            "loss of 3 epoch, 300 index : 0.0357365719974041\n",
            "loss of 3 epoch, 400 index : 0.10421694070100784\n",
            "loss of 3 epoch, 500 index : 0.06478513032197952\n",
            "loss of 3 epoch, 600 index : 0.073443204164505\n",
            "loss of 3 epoch, 700 index : 0.008138525299727917\n",
            "loss of 3 epoch, 800 index : 0.023262999951839447\n",
            "loss of 3 epoch, 900 index : 0.048143040388822556\n",
            "loss of 3 epoch, 1000 index : 0.088144451379776\n",
            "loss of 3 epoch, 1100 index : 0.02364514023065567\n",
            "loss of 4 epoch, 0 index : 0.018207740038633347\n",
            "loss of 4 epoch, 100 index : 0.22103098034858704\n",
            "loss of 4 epoch, 200 index : 0.019876772537827492\n",
            "loss of 4 epoch, 300 index : 0.005862902849912643\n",
            "loss of 4 epoch, 400 index : 0.029119718819856644\n",
            "loss of 4 epoch, 500 index : 0.047310296446084976\n",
            "loss of 4 epoch, 600 index : 0.03449314087629318\n",
            "loss of 4 epoch, 700 index : 0.04855133965611458\n",
            "loss of 4 epoch, 800 index : 0.01335250586271286\n",
            "loss of 4 epoch, 900 index : 0.16959621012210846\n",
            "loss of 4 epoch, 1000 index : 0.03784938156604767\n",
            "loss of 4 epoch, 1100 index : 0.21890614926815033\n",
            "loss of 5 epoch, 0 index : 0.11929555982351303\n",
            "loss of 5 epoch, 100 index : 0.026428639888763428\n",
            "loss of 5 epoch, 200 index : 0.009252850897610188\n",
            "loss of 5 epoch, 300 index : 0.06395500153303146\n",
            "loss of 5 epoch, 400 index : 0.01365710236132145\n",
            "loss of 5 epoch, 500 index : 0.02942688763141632\n",
            "loss of 5 epoch, 600 index : 0.08806543052196503\n",
            "loss of 5 epoch, 700 index : 0.08043836802244186\n",
            "loss of 5 epoch, 800 index : 0.015313828364014626\n",
            "loss of 5 epoch, 900 index : 0.06096981465816498\n",
            "loss of 5 epoch, 1000 index : 0.13336455821990967\n",
            "loss of 5 epoch, 1100 index : 0.002795589854940772\n",
            "loss of 6 epoch, 0 index : 0.058848462998867035\n",
            "loss of 6 epoch, 100 index : 0.015045535750687122\n",
            "loss of 6 epoch, 200 index : 0.012891191057860851\n",
            "loss of 6 epoch, 300 index : 0.010892841964960098\n",
            "loss of 6 epoch, 400 index : 0.005714707542210817\n",
            "loss of 6 epoch, 500 index : 0.031603191047906876\n",
            "loss of 6 epoch, 600 index : 0.0060153077356517315\n",
            "loss of 6 epoch, 700 index : 0.08155083656311035\n",
            "loss of 6 epoch, 800 index : 0.014505166560411453\n",
            "loss of 6 epoch, 900 index : 0.02037796750664711\n",
            "loss of 6 epoch, 1000 index : 0.007117818109691143\n",
            "loss of 6 epoch, 1100 index : 0.019108707085251808\n",
            "loss of 7 epoch, 0 index : 0.12202654033899307\n",
            "loss of 7 epoch, 100 index : 0.005016971845179796\n",
            "loss of 7 epoch, 200 index : 0.02523219585418701\n",
            "loss of 7 epoch, 300 index : 0.006038272753357887\n",
            "loss of 7 epoch, 400 index : 0.038222137838602066\n",
            "loss of 7 epoch, 500 index : 0.008409801870584488\n",
            "loss of 7 epoch, 600 index : 0.021365948021411896\n",
            "loss of 7 epoch, 700 index : 0.016168182715773582\n",
            "loss of 7 epoch, 800 index : 0.011185906827449799\n",
            "loss of 7 epoch, 900 index : 0.07802804559469223\n",
            "loss of 7 epoch, 1000 index : 0.020260512828826904\n",
            "loss of 7 epoch, 1100 index : 0.0605020672082901\n",
            "loss of 8 epoch, 0 index : 0.07894706726074219\n",
            "loss of 8 epoch, 100 index : 0.09574869275093079\n",
            "loss of 8 epoch, 200 index : 0.009393646381795406\n",
            "loss of 8 epoch, 300 index : 0.06485192477703094\n",
            "loss of 8 epoch, 400 index : 0.011693226173520088\n",
            "loss of 8 epoch, 500 index : 0.010775250382721424\n",
            "loss of 8 epoch, 600 index : 0.19590958952903748\n",
            "loss of 8 epoch, 700 index : 0.002886057598516345\n",
            "loss of 8 epoch, 800 index : 0.02977142482995987\n",
            "loss of 8 epoch, 900 index : 0.13252416253089905\n",
            "loss of 8 epoch, 1000 index : 0.0013104043900966644\n",
            "loss of 8 epoch, 1100 index : 0.005736576858907938\n",
            "loss of 9 epoch, 0 index : 0.12097960710525513\n",
            "loss of 9 epoch, 100 index : 0.013359654694795609\n",
            "loss of 9 epoch, 200 index : 0.08241721242666245\n",
            "loss of 9 epoch, 300 index : 0.02359095774590969\n",
            "loss of 9 epoch, 400 index : 0.10411009192466736\n",
            "loss of 9 epoch, 500 index : 0.06089292839169502\n",
            "loss of 9 epoch, 600 index : 0.00238253315910697\n",
            "loss of 9 epoch, 700 index : 0.02405339479446411\n",
            "loss of 9 epoch, 800 index : 0.15724848210811615\n",
            "loss of 9 epoch, 900 index : 0.22000502049922943\n",
            "loss of 9 epoch, 1000 index : 0.0647132620215416\n",
            "loss of 9 epoch, 1100 index : 0.014755639247596264\n"
          ]
        }
      ],
      "source": [
        "cnn.train()  # 학습을 위함\n",
        "for epoch in range(10):\n",
        "  for index, (data, target) in enumerate(train_loader):\n",
        "    optimizer.zero_grad()  # 기울기 초기화\n",
        "    output = cnn(data)\n",
        "    loss = criterion(output, target)\n",
        "    loss.backward()  # 역전파\n",
        "    optimizer.step()\n",
        "\n",
        "    if index % 100 == 0:\n",
        "      print(\"loss of {} epoch, {} index : {}\".format(epoch, index, loss.item()))"
      ]
    },
    {
      "cell_type": "code",
      "execution_count": null,
      "metadata": {
        "id": "l2PnlaXIc6dm",
        "colab": {
          "base_uri": "https://localhost:8080/"
        },
        "outputId": "003993b6-6848-4dbc-dc5b-c42d49a388b5"
      },
      "outputs": [
        {
          "output_type": "stream",
          "name": "stdout",
          "text": [
            "\n",
            "Test set: Average loss: 6.8762, Accuracy: 9892/10000 (99%)\n",
            "\n"
          ]
        }
      ],
      "source": [
        "cnn.eval()  # test case 학습 방지를 위함\n",
        "test_loss = 0\n",
        "correct = 0\n",
        "with torch.no_grad():\n",
        "  for data, target in test_loader:\n",
        "    output = cnn(data)\n",
        "    test_loss += criterion(output, target).item() # sum up batch loss\n",
        "    pred = output.argmax(dim=1, keepdim=True) # get the index of the max log-probability\n",
        "    correct += pred.eq(target.view_as(pred)).sum().item()\n",
        "print('\\nTest set: Average loss: {:.4f}, Accuracy: {}/{} ({:.0f}%)\\n'.format(\n",
        "        test_loss, correct, len(test_loader.dataset),\n",
        "        100. * correct / len(test_loader.dataset)))"
      ]
    }
  ],
  "metadata": {
    "colab": {
      "provenance": []
    },
    "kernelspec": {
      "display_name": "Python 3",
      "name": "python3"
    },
    "language_info": {
      "name": "python"
    }
  },
  "nbformat": 4,
  "nbformat_minor": 0
}
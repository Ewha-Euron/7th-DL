{
 "cells": [
  {
   "cell_type": "markdown",
   "id": "5e8b1bda-faf8-41a8-a757-042f9de62bf3",
   "metadata": {},
   "source": [
    "# A Single Neuron"
   ]
  },
  {
   "cell_type": "markdown",
   "id": "6c09b007-dd3c-42a7-b8c0-ecba49b82066",
   "metadata": {},
   "source": [
    "**딥러닝이란?**\n",
    "\n",
    "an approach to machine learning characterized by deep stacks of computations"
   ]
  },
  {
   "cell_type": "markdown",
   "id": "b44990c0-7cf7-4136-b158-b4114efeecd1",
   "metadata": {},
   "source": [
    "**The Linear Unit**\n",
    "\n",
    "y = wx + b"
   ]
  },
  {
   "cell_type": "markdown",
   "id": "c4921a6f-8642-4eec-8e3e-264561c2e519",
   "metadata": {},
   "source": [
    "**example**"
   ]
  },
  {
   "cell_type": "markdown",
   "id": "c3e19866-45cf-4991-8210-05dc7e547719",
   "metadata": {},
   "source": [
    "from tensorflow import keras  \r\n",
    "from tensorflow.keras import layer  s\r",
    "i  t\r\n",
    "model = keras.Sequential  ([\r\n",
    "    layers.Dense(units=1, input_shape=[  3])\r\n",
    "])"
   ]
  },
  {
   "cell_type": "markdown",
   "id": "c78c4679-4881-4144-8256-3f91192e528f",
   "metadata": {},
   "source": [
    "# Deep Neural Networks"
   ]
  },
  {
   "cell_type": "markdown",
   "id": "5c9c3d3f-22f4-4956-ae4b-30081a3d6235",
   "metadata": {},
   "source": [
    "**Layers**\n",
    "\n",
    "a common set of inputs 갖는 linear units 모으면 dense layer get\n",
    "\n",
    "* layer 종류: convolutional and recurrent layers 등등"
   ]
  },
  {
   "cell_type": "markdown",
   "id": "d4f87048-1874-4e78-bcbe-061d6a0a695a",
   "metadata": {},
   "source": [
    "**The Activation Function**\n",
    "\n",
    "* 사이에 아무것도 없는 두개의 조밀한 층은 그 자체로 하나의 조밀한 층보다 나을 것이 없음\n",
    "* 비선형적인 것에 대한 것이 필요 --> 활성화 함수\n",
    "* The most common is the rectifier function \n",
    "\r",
    "x(0,x)\r\n",
    ")\r\n",
    " .\r\n",
    "\r\n"
   ]
  },
  {
   "cell_type": "markdown",
   "id": "84fdf33f-8914-4677-9ab6-4016d0c7044e",
   "metadata": {},
   "source": [
    "**rectifier function**\n",
    "\n",
    "* rectifier function has a graqh that's a line wirh the negative part \"rectified\" to zero\n",
    "* 선형 단위에 연결하면 정류된 선형단위나 ReLU가 나옴"
   ]
  },
  {
   "cell_type": "markdown",
   "id": "d84a4969-852f-4c1c-82aa-61349298e5a7",
   "metadata": {},
   "source": [
    "**Stacking Dense Layers**\n",
    "\n",
    "* 출력 레이어 앞의 레이어는 출력을 직접 볼 수 없으므로 숨겨진 레이어라고도 불림\n",
    "* 최종 출력된 레이어가 선형 단위라는 것이 중요\n",
    "* 회귀 작업에 적합"
   ]
  },
  {
   "cell_type": "markdown",
   "id": "40e9627f-8144-4f32-8569-e78c6aef8c2a",
   "metadata": {},
   "source": [
    "**Building Sequential Model**\n",
    "\n",
    "첫 번째 레이어부터 마지막 레이어까지 순서대로 레이어 목록 연결"
   ]
  },
  {
   "cell_type": "markdown",
   "id": "96e28bb3-883c-44d0-97b4-44d1e93f89a3",
   "metadata": {},
   "source": [
    "from tensorflow import keras\n",
    "\r\n",
    "from tensorflow.keras import layers\r\n",
    "\r\n",
    "model = keras.Sequentia\n",
    "\n",
    "    \n",
    "    layers.Dense(units=4, activation='relu', input_shape=\n",
    "    [2]),\r\n",
    "    layers.Dense(units=3, activation='re\n",
    "    r \r\n",
    "    layers.Dense(u\n",
    "    nits=1),\r\n",
    "])\r\n"
   ]
  },
  {
   "cell_type": "markdown",
   "id": "d32acec7-773c-466e-bf33-e2d40810b771",
   "metadata": {},
   "source": [
    "# Stochastic Gradient Descent"
   ]
  },
  {
   "cell_type": "markdown",
   "id": "99e3c052-2c41-44e3-a7e6-54a760612dcc",
   "metadata": {},
   "source": [
    "네트워크의 가중치는 훈련 데이터에 표현된 것처럼 해당 기능과 목표 간의 관계를 나타내야 함\n",
    "\n",
    "* loss function: 예측이 얼마나 잘 이루어지는 측정하는 것\n",
    "* optimizer: 가중치를 변경하는 방법"
   ]
  },
  {
   "cell_type": "markdown",
   "id": "64d192f1-1863-43f3-9bd1-d6ac9e730856",
   "metadata": {},
   "source": [
    "**The Loss Function**\n",
    "\n",
    "손실 함수는 대상의 실제 값과 모델이 예측하는 값 사이의 차이 측정\n",
    "* MAE(평군 절대 오차): 회귀 문제에 대한 일반적인 손실 함수\n",
    "* abs(y_true - y_pred)로 측정\n",
    "* 가중치의 정확한 값을 찾기 위한 가이드로 사용"
   ]
  },
  {
   "cell_type": "markdown",
   "id": "e57c253b-3cd1-4974-aa22-293adab62963",
   "metadata": {},
   "source": [
    "**Optimizer**\n",
    "\n",
    "손실을 최소화하기 위해 가중치를 조정하는 알고리즘\n",
    "\n",
    "* 확률적 경사 하강\n",
    "* 손실이 작아질 때까지 반복해서 조정\n",
    "* 각 반복의 훈련 데이터 샘플을 미니배치라고 부름\n",
    "* 훈련 데이터의 전체 라운드를 에포크라고 부름 (네트워크가 각 훈련 데이터를 몇번이나 볼 수 있는지_\n",
    "* 이동 크기는 학습 속도에 의해 결정됨\n",
    "* SGD 훈련 진행 방식에 가장 큰 영향을 미치는 두 요소는 학습률과 미니배치 --> Adam 사"
   ]
  },
  {
   "cell_type": "markdown",
   "id": "a9af61d9-ebef-4bec-ab6a-fb5bf056fd92",
   "metadata": {},
   "source": [
    "model.compile(\r\n",
    "    optimizer=\"adam\",\r\n",
    "    loss=\"mae\",\r\n",
    ")"
   ]
  },
  {
   "cell_type": "markdown",
   "id": "d97f6a5a-d182-4f24-b211-2200ec376602",
   "metadata": {},
   "source": [
    "import pandas as pd\r\n",
    "from IPython.display import display\r\n",
    "\r\n",
    "red_wine = pd.read_csv('../input/dl-course-data/red-wine.csv'lits\r\n",
    "df_train = red_wine.sample(frac=0.7, random_state=0)\r\n",
    "df_valid = red_wine.drop(df_train.index)\r\n",
    "display(df_train.heto [0, 1]\r\n",
    "max_ = df_train.max(axis=0)\r\n",
    "min_ = df_train.min(axis=0)\r\n",
    "df_train = (df_train - min_) / (max_ - min_)\r\n",
    "df_valid = (df_valid - min_) / \n",
    "X_train = df_train.drop('quality', axis=1)\r\n",
    "X_valid = df_valid.drop('quality', axis=1)\r\n",
    "y_train = df_train['quality']\r\n",
    "y_valid = df_valid['quality'](max_ - min_)\r\n"
   ]
  },
  {
   "cell_type": "markdown",
   "id": "59a7101b-b34f-447e-a27a-0f1ad322a78d",
   "metadata": {},
   "source": [
    "print(X_train.shape)\n"
   ]
  },
  {
   "cell_type": "markdown",
   "id": "c2036ec9-b733-4085-adb2-b05f907685dc",
   "metadata": {},
   "source": [
    "from tensorflow import keras\r\n",
    "from tensorflow.keras import layers\r\n",
    "\r\n",
    "model = keras.Sequential([\r\n",
    "    layers.Dense(512, activation='relu', input_shape=[11]),\r\n",
    "    layers.Dense(512, activation='relu'),\r\n",
    "    layers.Dense(512, activation='relu'),\r\n",
    "    layers.Dense(1),\r\n",
    "])"
   ]
  },
  {
   "cell_type": "markdown",
   "id": "f2826c1f-0ece-4803-846f-b62cfe660eaa",
   "metadata": {},
   "source": [
    "model.compile(\r\n",
    "    optimizer='adam',\r\n",
    "    loss='mae',\r\n",
    ")"
   ]
  },
  {
   "cell_type": "markdown",
   "id": "fc414373-92c7-454c-b38f-d50eb35967d0",
   "metadata": {},
   "source": [
    "history = model.fit(\r\n",
    "    X_train, y_train,\r\n",
    "    validation_data=(X_valid, y_valid),\r\n",
    "    batch_size=256,\r\n",
    "    epochs=10,\r\n",
    ")"
   ]
  },
  {
   "cell_type": "markdown",
   "id": "8750d1b2-b442-473e-b8b7-65f145366be1",
   "metadata": {},
   "source": [
    "import pandas as pd\r\n",
    "e\r\n",
    "history_df = pd.DataFrame(history.historhod\r\n",
    "history_df['loss'].plot();"
   ]
  },
  {
   "cell_type": "markdown",
   "id": "a7abd2cf-bcee-4324-833f-2b62f4b0aab7",
   "metadata": {},
   "source": [
    "# Overfitting and Underfitting"
   ]
  },
  {
   "cell_type": "markdown",
   "id": "aa9695a8-3224-470d-8415-2059a4ca8876",
   "metadata": {},
   "source": [
    "**Learning curves**\n",
    "\n",
    "* 훈련 데이터의 정보는 신호와 노이즈 두 가지 종류로 나눔\n",
    "* 신호 --> 일반화하는 부분\n",
    "* 학습 곡선\n",
    "* 모델이 신호를 학습할 때 또는 노이즈를 학습할 때 훈련 손실 감소\n",
    "* 갭의 크기로 얼마나 많은 노이즈가 학습되었는지 알 수 있다\n",
    "* 특정 시점이 지나면 유효성 검사 손실이 증가\n",
    "* 노이즈를 줄이면서 더 많은 신호를 얻도록 조정해야함"
   ]
  },
  {
   "cell_type": "markdown",
   "id": "b1be3738-d708-4bc4-8be5-410ea775bf37",
   "metadata": {},
   "source": [
    "**Capacity**\n",
    "\n",
    "* 모델의 용량은 학습 가능한 패턴의 크기와 복잡도를 의미\n",
    "* 데이터에 적합하지 않을 경우 용량을 늘려야 "
   ]
  },
  {
   "cell_type": "markdown",
   "id": "ef525e5a-e53d-4fe0-929b-9be9fc45372d",
   "metadata": {},
   "source": [
    "model = keras.Sequential([\r\n",
    "    layers.Dense(16, activation='relu'),\r\n",
    "    layers.Dense(1),\r\n",
    "])\r\n",
    "\r\n",
    "wider = keras.Sequential([\r\n",
    "    layers.Dense(32, activation='relu'),\r\n",
    "    layers.Dense(1),\r\n",
    "])\r\n",
    "\r\n",
    "deeper = keras.Sequential([\r\n",
    "    layers.Dense(16, activation='relu'),\r\n",
    "    layers.Dense(16, activation='relu'),\r\n",
    "    layers.Dense(1),\r\n",
    "])"
   ]
  },
  {
   "cell_type": "markdown",
   "id": "64049f5f-af13-473d-b278-b9d4a4e66046",
   "metadata": {},
   "source": [
    "**Early Stopping**\n",
    "\n",
    "* 검증 손실이 더이상 감소하지 않는 것처럼 보일 때마다 중단하여 손실 낮추기\n",
    "* 콜백을 통한 조기 중지 기능을 훈련에 포"
   ]
  },
  {
   "cell_type": "markdown",
   "id": "098fd47a-e0a8-4077-ad9b-020a5ff7fb5f",
   "metadata": {},
   "source": [
    "from tensorflow import keras\r\n",
    "from tensorflow.keras import layers, callbacks\r\n",
    "\r\n",
    "early_stopping = callbacks.EarlyStopping(\r\n",
    "    min_delta=0.001, # minimium amount of change to count as an improvement\r\n",
    "    patience=20, # how many epochs to wait before stopping\r\n",
    "    restore_best_weights=True,\r\n",
    ")\r\n",
    "\r\n",
    "model = keras.Sequential([\r\n",
    "    layers.Dense(512, activation='relu', input_shape=[11]),\r\n",
    "    layers.Dense(512, activation='relu'),\r\n",
    "    layers.Dense(512, activation='relu'),\r\n",
    "    layers\n",
    "\n",
    "model.compile(\r\n",
    "    optimizer='adam',\r\n",
    "    loss='mae',\r\n",
    ").Dense(1),\r\n",
    "])"
   ]
  },
  {
   "cell_type": "markdown",
   "id": "daa0e9cd-2785-40a1-95eb-276beda25915",
   "metadata": {},
   "source": [
    "history = model.fit(\r\n",
    "    X_train, y_train,\r\n",
    "    validation_data=(X_valid, y_valid),\r\n",
    "    batch_size=256,\r\n",
    "    epochs=500,\r\n",
    "    callbacks=[early_stopping], # put your callbacks in a list\r\n",
    "    verbose=0,  # turn off training log\r\n",
    ")\r\n",
    "\r\n",
    "history_df = pd.DataFrame(history.history)\r\n",
    "history_df.loc[:, ['loss', 'val_loss']].plot();\r\n",
    "print(\"Minimum validation loss: {}\".format(history_df['val_loss'].min()))"
   ]
  },
  {
   "cell_type": "markdown",
   "id": "4cb5952f-de68-4874-b0b8-64645d9f06e7",
   "metadata": {},
   "source": [
    "# Dropout and Batch Normalization"
   ]
  },
  {
   "cell_type": "markdown",
   "id": "1b262a5c-57f8-490f-bfc2-a6371a25ca29",
   "metadata": {},
   "source": [
    "**Dropout**\n",
    "\n",
    "* 과적합을 수정하는데 도움을 줌\n",
    "* 훈련 단계마다 레이어의 일부를 무작위로 드"
   ]
  },
  {
   "cell_type": "markdown",
   "id": "9f26684a-9954-48de-a4a8-20154d31452b",
   "metadata": {},
   "source": [
    "keras.Sequential([\r\n",
    "    # ...\r\n",
    "    layers.Dropout(rate=0.3), # apply 30% dropout to the next layer\r\n",
    "    layers.Dense(16),\r\n",
    "    # ...\r\n",
    "])"
   ]
  },
  {
   "cell_type": "markdown",
   "id": "3aa4f87f-2805-4f16-ad65-4ecf2181e4b7",
   "metadata": {},
   "source": [
    "**Batch Normalization**\n",
    "\n",
    "* 느리거나 불안정한 훈련을 수정하는 데 도움이 되는 배치 정규화\n",
    "* 신경망의 경우 일반적으로 모든 데이터를 공통 척도로 설정하는 것이 좋음\n",
    "* 네트워크 내부에서 정규화하는 것도 좋음\n",
    "* 배치 정규화 레이어는 두 개의 훈련 가능한 리스케일링 매개변수 사용하여 데이터를 새로운 스케일에 배"
   ]
  },
  {
   "cell_type": "markdown",
   "id": "bc3964eb-d08e-44a4-b2e8-76fc5cf0ce79",
   "metadata": {},
   "source": [
    "layers.Dense(16, activation='relu'),\r\n",
    "layers.BatchNormalization(),"
   ]
  },
  {
   "cell_type": "markdown",
   "id": "8a116234-406c-4ddc-93a0-ee48183c5d59",
   "metadata": {},
   "source": [
    "layers.Dense(16),\r\n",
    "layers.BatchNormalization(),\r\n",
    "layers.Activation('relu,')"
   ]
  },
  {
   "cell_type": "markdown",
   "id": "dbc95288-9760-4ae2-a26f-c2682401bf61",
   "metadata": {},
   "source": [
    "from tensorflow import keras\r\n",
    "from tensorflow.keras import layers\r\n",
    "\r\n",
    "model = keras.Sequential([\r\n",
    "    layers.Dense(1024, activation='relu', input_shape=[11]),\r\n",
    "    layers.Dropout(0.3),\r\n",
    "    layers.BatchNormalization(),\r\n",
    "    layers.Dense(1024, activation='relu'),\r\n",
    "    layers.Dropout(0.3),\r\n",
    "    layers.BatchNormalization(),\r\n",
    "    layers.Dense(1024, activation='relu'),\r\n",
    "    layers.Dropout(0.3),\r\n",
    "    layers.BatchNormalization(),\r\n",
    "    layers. change this ti"
   ]
  },
  {
   "cell_type": "markdown",
   "id": "51832b6e-1d13-4cdd-ad01-2a9f6c8ed7fa",
   "metadata": {},
   "source": [
    "model.compile(\r\n",
    "    optimizer='adam',\r\n",
    "    loss='mae',\r\n",
    ")\r\n",
    "\r\n",
    "history = model.fit(\r\n",
    "    X_train, y_train,\r\n",
    "    validation_data=(X_valid, y_valid),\r\n",
    "    batch_size=256,\r\n",
    "    epochs=100,\r\n",
    "    ve\n",
    "history_df = pd.DataFrame(history.history)\r\n",
    "history_df.loc[:, ['loss', 'val_loss']].plot();rbose=0,\r\n",
    ")"
   ]
  },
  {
   "cell_type": "markdown",
   "id": "dcfb16dc-6041-49db-a306-1ef0110d1e29",
   "metadata": {},
   "source": [
    "# Binary Classification"
   ]
  },
  {
   "cell_type": "markdown",
   "id": "1ccf76ef-fb7d-4853-a350-eab15e24e760",
   "metadata": {},
   "source": [
    "**Accuracy and Cross-Entropy**\n",
    "\n",
    "* 정확도는 정확한 예측과 총 예측의 비율\n",
    "* 문제점: 손실 함수로 사용 불가\n",
    "* 대체물 --> 교차 엔트로피 함"
   ]
  },
  {
   "cell_type": "markdown",
   "id": "3fb15a11-921e-4236-8995-03da71230948",
   "metadata": {},
   "source": [
    "**Making Probabilities with the SIgmoid Function**\n",
    "\n",
    "* 최종 클래스 예측을 얻기 위한 임계값 확률\n",
    "* 일반적으로 0.5"
   ]
  },
  {
   "cell_type": "markdown",
   "id": "9be23e29-ce01-4f40-b607-ebc389f4e59c",
   "metadata": {},
   "source": [
    "from tensorflow import keras\r\n",
    "from tensorflow.keras import layers\r\n",
    "\r\n",
    "model = keras.Sequential([\r\n",
    "    layers.Dense(4, activation='relu', input_shape=[33]),\r\n",
    "    layers.Dense(4, activation='relu'),    \r\n",
    "    layers.Dense(1, activation='sigmoid'),\r\n",
    "])"
   ]
  },
  {
   "cell_type": "markdown",
   "id": "42459f6e-8580-407e-9725-8cfd44e67386",
   "metadata": {},
   "source": [
    "model.compile(\r\n",
    "    optimizer='adam',\r\n",
    "    loss='binary_crossentropy',\r\n",
    "    metrics=['binary_accuracy'],\r\n",
    ")"
   ]
  },
  {
   "cell_type": "markdown",
   "id": "ca625822-26d7-46e0-bf47-78401669e816",
   "metadata": {},
   "source": [
    "early_stopping = keras.callbacks.EarlyStopping(\r\n",
    "    patience=10,\r\n",
    "    min_delta=0.001,\r\n",
    "    restore_best_weights=True,\r\n",
    ")\r\n",
    "\r\n",
    "history = model.fit(\r\n",
    "    X_train, y_train,\r\n",
    "    validation_data=(X_valid, y_valid),\r\n",
    "    batch_size=512,\r\n",
    "    epochs=1000,\r\n",
    "    callbacks=[early_stopping],\r\n",
    "  many epochs\r\n",
    ")"
   ]
  },
  {
   "cell_type": "markdown",
   "id": "a185acb3-1179-4067-8fef-6f0a40451aa6",
   "metadata": {},
   "source": [
    "history_df = pd.DataFrame(history.history)\n",
    "history_df.loc[5:, ['loss', 'val_loss']].plot()\n",
    "history_df.loc[5:, ['binary_accuracy', 'val_binary_accuracy']].plot()\n",
    "\n",
    "print((\"Best Validation Loss: {:0.4f}\" +\\\n",
    "      \"\\nBest Validation Accuracy: {:0.4f}\")\\\n",
    "      .format(history_df['val_loss'].min(), \n",
    "              history_df['val_binary_accuracy'].max()))"
   ]
  },
  {
   "cell_type": "code",
   "execution_count": null,
   "id": "27cd4f46-9a0d-42fa-bf35-be160847f7e2",
   "metadata": {},
   "outputs": [],
   "source": []
  }
 ],
 "metadata": {
  "kernelspec": {
   "display_name": "Python 3 (ipykernel)",
   "language": "python",
   "name": "python3"
  },
  "language_info": {
   "codemirror_mode": {
    "name": "ipython",
    "version": 3
   },
   "file_extension": ".py",
   "mimetype": "text/x-python",
   "name": "python",
   "nbconvert_exporter": "python",
   "pygments_lexer": "ipython3",
   "version": "3.11.5"
  }
 },
 "nbformat": 4,
 "nbformat_minor": 5
}

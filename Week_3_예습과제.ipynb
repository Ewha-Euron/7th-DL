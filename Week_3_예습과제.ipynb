{
  "nbformat": 4,
  "nbformat_minor": 0,
  "metadata": {
    "colab": {
      "provenance": []
    },
    "kernelspec": {
      "name": "python3",
      "display_name": "Python 3"
    },
    "language_info": {
      "name": "python"
    }
  },
  "cells": [
    {
      "cell_type": "code",
      "execution_count": null,
      "metadata": {
        "id": "VwcCzJlObwrg"
      },
      "outputs": [],
      "source": [
        "# 딥러닝 파이토치 교과서 5.1, 5.2장 정리\n",
        "https://www.notion.so/3-118e4b05256f80c28526fcc2e56dccbd?pvs=4"
      ]
    },
    {
      "cell_type": "code",
      "source": [
        "# 라이브러리 호출\n",
        "import numpy as np\n",
        "import matplotlib.pyplot as plt\n",
        "\n",
        "import torch\n",
        "import torch.nn as nn\n",
        "from torch.autograd import Variable\n",
        "import torch.nn.functional as F\n",
        "\n",
        "import torchvision\n",
        "import torchvision.transforms as transforms\n",
        "from torch.utils.data import Dataset, DataLoader"
      ],
      "metadata": {
        "id": "VcA6Wa0LcKAW"
      },
      "execution_count": null,
      "outputs": []
    },
    {
      "cell_type": "code",
      "source": [
        "# CPU 혹은 GPU 장치 확인\n",
        "device = torch.device('cuda:0' if torch.cuda.is_available() else 'cpu')"
      ],
      "metadata": {
        "id": "85jbKRtwchpO"
      },
      "execution_count": null,
      "outputs": []
    },
    {
      "cell_type": "code",
      "source": [
        "# fashion_mnist 데이터셋 내려받기\n",
        "train_dataset = torchvision.datasets.FasionMNIST(\"../chap05/data\", download=True,\n",
        "                                                 transform=transforms.Compose([transforms.ToTensor()]))\n",
        "test_dataset = torchvision.datasets.FasionMNIST(\"../chap05/data\", download=True,\n",
        "                                                 train=False, transform=transforms.Compose([transforms.ToTensor()]))"
      ],
      "metadata": {
        "id": "a3cKqYv1cvsa"
      },
      "execution_count": null,
      "outputs": []
    },
    {
      "cell_type": "code",
      "source": [
        "# fasion_mnist 데이터를 데이터로더에 전달\n",
        "train_loader = torch.utils.data.DataLoader(train_dataset, batch_size=100)\n",
        "test_loader = torch.utils.data.DataLoader(test_dataset, batch_size=100)"
      ],
      "metadata": {
        "id": "AtSphsBtdP6o"
      },
      "execution_count": null,
      "outputs": []
    },
    {
      "cell_type": "code",
      "source": [
        "# 분류에 사용될 클래스 정의\n",
        "labels_map={0:'T-shirt', 1:'Trouser', 2:'Pullover', 3:'Dress', 4:'Coat', 5:'Sandal', 6:'Shirt', 7:'Sneaker', 8:'Bag', 9:'Ankle_Boot'}\n",
        "fig = plt.figure(figsize=(8,8));\n",
        "columns=4;\n",
        "rows=5;\n",
        "for i in range(1, columns*rows + 1):\n",
        "  img_xy = np.random.randint(len(train_dataset));\n",
        "  img = train_dataset[img_xy][0][0,:,:]\n",
        "  fig.add_subplot(rows, columns, i)\n",
        "  plt.title(labels_map[train_datset[img_xy][1]])\n",
        "  plt.axis('off')\n",
        "  plt.imshow(img, cmap='gray')\n",
        "plt.show()"
      ],
      "metadata": {
        "id": "6-cRRMl5delN"
      },
      "execution_count": null,
      "outputs": []
    },
    {
      "cell_type": "code",
      "source": [
        "# 심층 신경망 모델 생성\n",
        "class FashionDNN(nn.Module):\n",
        "    def __init__(self):\n",
        "        super(FashionDNN, self).__init__()\n",
        "        self.fc1 = nn.Linear(in_features=784, out_features=256)\n",
        "        self.drop = nn.Dropout(0.25)\n",
        "        self.fc2 = nn.Linear(in_features=256, out_features=128)\n",
        "        self.fc3 = nn.Linear(in_features=128, out_features=10)\n",
        "\n",
        "    def forward(self, input_data):\n",
        "        out = input_data.view(-1, 784)\n",
        "        out = F.relu(self.fc1(out))\n",
        "        out = self.drop(out)\n",
        "        out = F.relu(self.fc2(out))\n",
        "        out = self.fc3(out)\n",
        "        return out"
      ],
      "metadata": {
        "id": "mTXLMcnReUkn"
      },
      "execution_count": null,
      "outputs": []
    },
    {
      "cell_type": "code",
      "source": [
        "# 심층 신경망에서 필요한 파라미터 정의\n",
        "learning_rate = 0.001\n",
        "model = FashionDNN()\n",
        "model.to(device)\n",
        "\n",
        "criterion = nn.CrossEntropyLoss()  # 분류 문제에서 사용하는 손실 함수\n",
        "optimizer = torch.optim.Adam(model.parameters(), lr=learning_rate)\n",
        "\n",
        "print(model)"
      ],
      "metadata": {
        "id": "XNVpYwiBexoJ"
      },
      "execution_count": null,
      "outputs": []
    },
    {
      "cell_type": "code",
      "source": [
        "# 심층 신경망을 이용한 모델 학습\n",
        "num_epochs = 5\n",
        "count = 0\n",
        "loss_list = []  # ①\n",
        "iteration_list = []\n",
        "accuracy_list = []\n",
        "\n",
        "predictions_list = []\n",
        "labels_list = []\n",
        "\n",
        "for epoch in range(num_epochs):\n",
        "    for images, labels in train_loader:  # ②\n",
        "        images, labels = images.to(device), labels.to(device)  # ③\n",
        "\n",
        "        train = Variable(images.view(100, 1, 28, 28))  # ④\n",
        "        labels = Variable(labels)\n",
        "\n",
        "        outputs = model(train)  # 학습 데이터를 모델에 적용\n",
        "        loss = criterion(outputs, labels)\n",
        "        optimizer.zero_grad()\n",
        "        loss.backward()\n",
        "        optimizer.step()\n",
        "        count += 1\n",
        "\n",
        "        if not (count % 50):  # count를 50으로 나누었을 때 나머지가 0이 아니면 실행\n",
        "            total = 0\n",
        "            correct = 0\n",
        "            for images, labels in test_loader:\n",
        "                images, labels = images.to(device), labels.to(device)\n",
        "                labels_list.append(labels)\n",
        "\n",
        "                test = Variable(images.view(100, 1, 28, 28))\n",
        "                outputs = model(test)\n",
        "                predictions = torch.max(outputs, 1)[1].to(device)\n",
        "                predictions_list.append(predictions)\n",
        "\n",
        "                correct += (predictions == labels).sum()\n",
        "                total += len(labels)\n",
        "\n",
        "            accuracy = correct * 100 / total  # ⑤\n",
        "            loss_list.append(loss.data)  # ⑥\n",
        "            iteration_list.append(count)\n",
        "            accuracy_list.append(accuracy)\n",
        "\n",
        "        if not (count % 500):\n",
        "            print(\"Iteration: {}, Loss: {}, Accuracy: {}%\".format(count, loss.data, accuracy))\n"
      ],
      "metadata": {
        "id": "r48L1ECyfAUS"
      },
      "execution_count": null,
      "outputs": []
    },
    {
      "cell_type": "code",
      "source": [
        "# 합성곱 네트워크 생성\n",
        "class FashionCNN(nn.Module):\n",
        "    def __init__(self):\n",
        "        super(FashionCNN, self).__init__()\n",
        "        self.layer1 = nn.Sequential(  # ①\n",
        "            nn.Conv2d(in_channels=1, out_channels=32, kernel_size=3, padding=1),\n",
        "            nn.BatchNorm2d(32),  # ③\n",
        "            nn.ReLU(),\n",
        "            nn.MaxPool2d(kernel_size=2, stride=2)  # ④\n",
        "        )\n",
        "\n",
        "        self.layer2 = nn.Sequential(\n",
        "            nn.Conv2d(in_channels=32, out_channels=64, kernel_size=3),\n",
        "            nn.BatchNorm2d(64),\n",
        "            nn.ReLU(),\n",
        "            nn.MaxPool2d(2)\n",
        "        )\n",
        "\n",
        "        self.fc1 = nn.Linear(in_features=64*6*6, out_features=600)  # ⑤\n",
        "        self.drop = nn.Dropout2d(0.25)\n",
        "        self.fc2 = nn.Linear(in_features=600, out_features=120)\n",
        "        self.fc3 = nn.Linear(in_features=120, out_features=10)  # 마지막 계층의 out_features는 클래스 개수를 의미\n",
        "\n",
        "    def forward(self, x):\n",
        "       out = self.layer1(x)\n",
        "       out = self.layer2(out)\n",
        "       out = out.view(out.size(0), -1)  # ⑥\n",
        "       out = self.fc1(out)\n",
        "       out = self.drop(out)\n",
        "       out = self.fc2(out)\n",
        "       out = self.fc3(out)\n",
        "       return out\n"
      ],
      "metadata": {
        "id": "O5lpkgBrfT5P"
      },
      "execution_count": null,
      "outputs": []
    },
    {
      "cell_type": "code",
      "source": [
        "# 합성곱 네트워크를 위한 파라미터 정의\n",
        "learning_rate=0.001\n",
        "model = FashionCNN()\n",
        "model.to(device)\n",
        "\n",
        "criterion=nn.CrossEntropyLoss()\n",
        "optimizer=torch.optim.Adam(model.parameters(), lr=learning_rate)\n",
        "print(model)"
      ],
      "metadata": {
        "id": "8hb0C1vVf_Mb"
      },
      "execution_count": null,
      "outputs": []
    },
    {
      "cell_type": "code",
      "source": [
        "# 모델 학습 및 성능 평가\n",
        "num_epochs = 5\n",
        "count = 0\n",
        "loss_list = []\n",
        "iteration_list = []\n",
        "accuracy_list = []\n",
        "\n",
        "predictions_list = []\n",
        "labels_list = []\n",
        "\n",
        "for epoch in range(num_epochs):\n",
        "    # The training loop would continue from here\n",
        "for images, labels in train_loader:\n",
        "    images, labels = images.to(device), labels.to(device)\n",
        "\n",
        "    train = Variable(images.view(100, 1, 28, 28))\n",
        "    labels = Variable(labels)\n",
        "\n",
        "    outputs = model(train)\n",
        "    loss = criterion(outputs, labels)\n",
        "    optimizer.zero_grad()\n",
        "    loss.backward()\n",
        "    optimizer.step()\n",
        "    count += 1\n",
        "\n",
        "    if not (count % 50):\n",
        "        total = 0\n",
        "        correct = 0\n",
        "        for images, labels in test_loader:\n",
        "            images, labels = images.to(device), labels.to(device)\n",
        "            labels_list.append(labels)\n",
        "\n",
        "            test = Variable(images.view(100, 1, 28, 28))\n",
        "            outputs = model(test)\n",
        "            predictions = torch.max(outputs, 1)[1].to(device)\n",
        "            predictions_list.append(predictions)\n",
        "\n",
        "            correct += (predictions == labels).sum()\n",
        "            total += len(labels)\n",
        "\n",
        "        accuracy = correct * 100 / total\n",
        "        loss_list.append(loss.data)\n",
        "        iteration_list.append(count)\n",
        "        accuracy_list.append(accuracy)\n",
        "\n",
        "    if not (count % 500):\n",
        "        print(\"Iteration: {}, Loss: {}, Accuracy: {}%\".format(count, loss.data, accuracy))"
      ],
      "metadata": {
        "id": "_a8Gr-PtgUp4"
      },
      "execution_count": null,
      "outputs": []
    }
  ]
}
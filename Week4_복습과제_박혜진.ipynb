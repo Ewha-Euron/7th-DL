{
 "cells": [
  {
   "cell_type": "markdown",
   "metadata": {
    "id": "JmbrNadxsBr7"
   },
   "source": [
    "## Convolution Layer Example"
   ]
  },
  {
   "cell_type": "code",
   "execution_count": 1,
   "metadata": {
    "colab": {
     "base_uri": "https://localhost:8080/"
    },
    "id": "MAyG6GGTU_mC",
    "outputId": "118b0f42-fde5-4900-8cea-f4c8709818d5"
   },
   "outputs": [
    {
     "name": "stdout",
     "output_type": "stream",
     "text": [
      "연산 전 torch.Size([10, 1, 20, 20])\n",
      "conv1 연산 후 torch.Size([10, 3, 16, 16])\n",
      "conv2 연산 후 torch.Size([10, 10, 12, 12])\n",
      "차원 감소 후 torch.Size([10, 1440])\n",
      "fc1 연산 후 torch.Size([10, 50])\n",
      "fc2 연산 후 torch.Size([10, 10])\n"
     ]
    }
   ],
   "source": [
    "import torch\n",
    "import torch.nn as nn\n",
    "import torch.nn.functional as F\n",
    "\n",
    "class CNN(nn.Module):\n",
    "  def __init__(self):\n",
    "    super(CNN, self).__init__()\n",
    "\n",
    "    ## 조건1: conv layer 2개 & fc layer 2개\n",
    "    ## 조건2: kernel size=5, stride=1로 통일\n",
    "    ## output을 참고하여 차원을 계산해주세요!\n",
    "    self.conv1 = nn.Conv2d(in_channels=1, out_channels=3, kernel_size=5, stride=1)\n",
    "    self.conv2 = nn.Conv2d(in_channels=3, out_channels=10, kernel_size=5, stride=1)\n",
    "        \n",
    "    self.fc1 = nn.Linear(10 * 12 * 12, 50)  \n",
    "    self.fc2 = nn.Linear(50, 10)\n",
    "\n",
    "\n",
    "  def forward(self, x):\n",
    "    print(\"연산 전\", x.size())\n",
    "    x = F.relu(self.conv1(x))\n",
    "    print(\"conv1 연산 후\", x.size())\n",
    "    x = F.relu(self.conv2(x))\n",
    "    print(\"conv2 연산 후\",x.size())\n",
    "    x = x.view(-1, 10 * 12 * 12)\n",
    "    print(\"차원 감소 후\", x.size())\n",
    "    x = F.relu(self.fc1(x))\n",
    "    print(\"fc1 연산 후\", x.size())\n",
    "    x = self.fc2(x)\n",
    "    print(\"fc2 연산 후\", x.size())\n",
    "    return x\n",
    "\n",
    "cnn = CNN()\n",
    "output = cnn(torch.randn(10, 1, 20, 20))  # Input Size: (10, 1, 20, 20)"
   ]
  },
  {
   "cell_type": "markdown",
   "metadata": {
    "id": "0It8H-mysBr-"
   },
   "source": [
    "## Max Pooling Layer Example"
   ]
  },
  {
   "cell_type": "code",
   "execution_count": 4,
   "metadata": {
    "colab": {
     "base_uri": "https://localhost:8080/"
    },
    "id": "LkOwXPFNchie",
    "outputId": "a3f022de-8d54-4cf8-9456-f9bbc15ed9cc"
   },
   "outputs": [
    {
     "name": "stdout",
     "output_type": "stream",
     "text": [
      "연산 전 torch.Size([10, 1, 20, 20])\n",
      "max_pool1 연산 후 torch.Size([10, 1, 10, 10])\n",
      "max_pool2 연산 후 torch.Size([10, 1, 5, 5])\n",
      "차원 감소 후 torch.Size([1, 250])\n",
      "fc1 연산 후 torch.Size([1, 50])\n",
      "fc2 연산 후 torch.Size([1, 10])\n"
     ]
    }
   ],
   "source": [
    "class CNN(nn.Module):\n",
    "  def __init__(self):\n",
    "    super(CNN, self).__init__()\n",
    "\n",
    "    ## 조건1: 최대풀링 layer 2개 & fc layer 2개\n",
    "    ## 조건2: kernel size=2로 통일, stride는 따로 지정할 필요 없음\n",
    "    ## output을 참고하여 차원을 계산해주세요!\n",
    "    self.max_pool1 = nn.MaxPool2d(kernel_size=2) \n",
    "    self.max_pool2 = nn.MaxPool2d(kernel_size=2)\n",
    "    self.fc1 = nn.Linear(10 * 5 * 5, 50) \n",
    "    self.fc2 = nn.Linear(50, 10)\n",
    "\n",
    "\n",
    "  def forward(self, x):\n",
    "    print(\"연산 전\", x.size())\n",
    "    x = F.relu(self.max_pool1(x))\n",
    "    print(\"max_pool1 연산 후\", x.size())\n",
    "    x = F.relu(self.max_pool2(x))\n",
    "    print(\"max_pool2 연산 후\",x.size())\n",
    "    x = x.view(-1, 10 * 5 * 5)\n",
    "    print(\"차원 감소 후\", x.size())\n",
    "    x = F.relu(self.fc1(x))\n",
    "    print(\"fc1 연산 후\", x.size())\n",
    "    x = self.fc2(x)\n",
    "    print(\"fc2 연산 후\", x.size())\n",
    "    return x\n",
    "\n",
    "cnn = CNN()\n",
    "output = cnn(torch.randn(10, 1, 20, 20))"
   ]
  },
  {
   "cell_type": "markdown",
   "metadata": {
    "id": "uDMn2y5_sBr-"
   },
   "source": [
    "## MNIST 데이터셋 train"
   ]
  },
  {
   "cell_type": "code",
   "execution_count": 5,
   "metadata": {
    "id": "YhfopkrQcp1P"
   },
   "outputs": [
    {
     "name": "stdout",
     "output_type": "stream",
     "text": [
      "Requirement already satisfied: torchvision in /opt/anaconda3/lib/python3.11/site-packages (0.19.1)\n",
      "Requirement already satisfied: numpy in /opt/anaconda3/lib/python3.11/site-packages (from torchvision) (1.26.4)\n",
      "Requirement already satisfied: torch==2.4.1 in /opt/anaconda3/lib/python3.11/site-packages (from torchvision) (2.4.1)\n",
      "Requirement already satisfied: pillow!=8.3.*,>=5.3.0 in /opt/anaconda3/lib/python3.11/site-packages (from torchvision) (10.2.0)\n",
      "Requirement already satisfied: filelock in /opt/anaconda3/lib/python3.11/site-packages (from torch==2.4.1->torchvision) (3.13.1)\n",
      "Requirement already satisfied: typing-extensions>=4.8.0 in /opt/anaconda3/lib/python3.11/site-packages (from torch==2.4.1->torchvision) (4.9.0)\n",
      "Requirement already satisfied: sympy in /opt/anaconda3/lib/python3.11/site-packages (from torch==2.4.1->torchvision) (1.12)\n",
      "Requirement already satisfied: networkx in /opt/anaconda3/lib/python3.11/site-packages (from torch==2.4.1->torchvision) (3.1)\n",
      "Requirement already satisfied: jinja2 in /opt/anaconda3/lib/python3.11/site-packages (from torch==2.4.1->torchvision) (3.1.3)\n",
      "Requirement already satisfied: fsspec in /opt/anaconda3/lib/python3.11/site-packages (from torch==2.4.1->torchvision) (2023.10.0)\n",
      "Requirement already satisfied: MarkupSafe>=2.0 in /opt/anaconda3/lib/python3.11/site-packages (from jinja2->torch==2.4.1->torchvision) (2.1.3)\n",
      "Requirement already satisfied: mpmath>=0.19 in /opt/anaconda3/lib/python3.11/site-packages (from sympy->torch==2.4.1->torchvision) (1.3.0)\n"
     ]
    }
   ],
   "source": [
    "!pip install torchvision"
   ]
  },
  {
   "cell_type": "code",
   "execution_count": 6,
   "metadata": {
    "id": "CqFN5YM5cqKe"
   },
   "outputs": [],
   "source": [
    "import torch.optim as optim\n",
    "from torchvision import datasets, transforms"
   ]
  },
  {
   "cell_type": "code",
   "execution_count": 7,
   "metadata": {
    "id": "IJb_C4ptcu6G"
   },
   "outputs": [
    {
     "name": "stdout",
     "output_type": "stream",
     "text": [
      "Downloading http://yann.lecun.com/exdb/mnist/train-images-idx3-ubyte.gz\n",
      "Failed to download (trying next):\n",
      "<urlopen error [SSL: CERTIFICATE_VERIFY_FAILED] certificate verify failed: certificate has expired (_ssl.c:1006)>\n",
      "\n",
      "Downloading https://ossci-datasets.s3.amazonaws.com/mnist/train-images-idx3-ubyte.gz\n",
      "Downloading https://ossci-datasets.s3.amazonaws.com/mnist/train-images-idx3-ubyte.gz to ./data/MNIST/raw/train-images-idx3-ubyte.gz\n"
     ]
    },
    {
     "name": "stderr",
     "output_type": "stream",
     "text": [
      "100%|████████████████████████████| 9912422/9912422 [00:09<00:00, 1033425.60it/s]\n"
     ]
    },
    {
     "name": "stdout",
     "output_type": "stream",
     "text": [
      "Extracting ./data/MNIST/raw/train-images-idx3-ubyte.gz to ./data/MNIST/raw\n",
      "\n",
      "Downloading http://yann.lecun.com/exdb/mnist/train-labels-idx1-ubyte.gz\n",
      "Failed to download (trying next):\n",
      "<urlopen error [SSL: CERTIFICATE_VERIFY_FAILED] certificate verify failed: certificate has expired (_ssl.c:1006)>\n",
      "\n",
      "Downloading https://ossci-datasets.s3.amazonaws.com/mnist/train-labels-idx1-ubyte.gz\n",
      "Downloading https://ossci-datasets.s3.amazonaws.com/mnist/train-labels-idx1-ubyte.gz to ./data/MNIST/raw/train-labels-idx1-ubyte.gz\n"
     ]
    },
    {
     "name": "stderr",
     "output_type": "stream",
     "text": [
      "100%|█████████████████████████████████| 28881/28881 [00:00<00:00, 161239.29it/s]\n"
     ]
    },
    {
     "name": "stdout",
     "output_type": "stream",
     "text": [
      "Extracting ./data/MNIST/raw/train-labels-idx1-ubyte.gz to ./data/MNIST/raw\n",
      "\n",
      "Downloading http://yann.lecun.com/exdb/mnist/t10k-images-idx3-ubyte.gz\n",
      "Failed to download (trying next):\n",
      "<urlopen error [SSL: CERTIFICATE_VERIFY_FAILED] certificate verify failed: certificate has expired (_ssl.c:1006)>\n",
      "\n",
      "Downloading https://ossci-datasets.s3.amazonaws.com/mnist/t10k-images-idx3-ubyte.gz\n",
      "Downloading https://ossci-datasets.s3.amazonaws.com/mnist/t10k-images-idx3-ubyte.gz to ./data/MNIST/raw/t10k-images-idx3-ubyte.gz\n"
     ]
    },
    {
     "name": "stderr",
     "output_type": "stream",
     "text": [
      "100%|████████████████████████████| 1648877/1648877 [00:01<00:00, 1578885.21it/s]\n"
     ]
    },
    {
     "name": "stdout",
     "output_type": "stream",
     "text": [
      "Extracting ./data/MNIST/raw/t10k-images-idx3-ubyte.gz to ./data/MNIST/raw\n",
      "\n",
      "Downloading http://yann.lecun.com/exdb/mnist/t10k-labels-idx1-ubyte.gz\n",
      "Failed to download (trying next):\n",
      "<urlopen error [SSL: CERTIFICATE_VERIFY_FAILED] certificate verify failed: certificate has expired (_ssl.c:1006)>\n",
      "\n",
      "Downloading https://ossci-datasets.s3.amazonaws.com/mnist/t10k-labels-idx1-ubyte.gz\n",
      "Downloading https://ossci-datasets.s3.amazonaws.com/mnist/t10k-labels-idx1-ubyte.gz to ./data/MNIST/raw/t10k-labels-idx1-ubyte.gz\n"
     ]
    },
    {
     "name": "stderr",
     "output_type": "stream",
     "text": [
      "100%|██████████████████████████████████| 4542/4542 [00:00<00:00, 1198749.61it/s]"
     ]
    },
    {
     "name": "stdout",
     "output_type": "stream",
     "text": [
      "Extracting ./data/MNIST/raw/t10k-labels-idx1-ubyte.gz to ./data/MNIST/raw\n",
      "\n"
     ]
    },
    {
     "name": "stderr",
     "output_type": "stream",
     "text": [
      "\n"
     ]
    }
   ],
   "source": [
    "train_data = datasets.MNIST('./data/', train=True, download=True, transform=transforms.Compose([\n",
    "        transforms.ToTensor(),\n",
    "        transforms.Normalize((0.1307,), (0.3081,))\n",
    "    ])) # 학습 데이터\n",
    "train_loader = torch.utils.data.DataLoader(dataset=train_data, batch_size=50, shuffle=True)\n",
    "\n",
    "test_data = datasets.MNIST('./data/', train=False, transform=transforms.Compose([\n",
    "        transforms.ToTensor(),\n",
    "        transforms.Normalize((0.1307,), (0.3081,))\n",
    "    ])) # 테스트 데이터\n",
    "test_loader = torch.utils.data.DataLoader(dataset=test_data, batch_size=50, shuffle=True)"
   ]
  },
  {
   "cell_type": "code",
   "execution_count": 8,
   "metadata": {
    "id": "YP3tEuo6ct8A"
   },
   "outputs": [],
   "source": [
    "class CNN(nn.Module):\n",
    "    def __init__(self):\n",
    "        super(CNN, self).__init__()\n",
    "\n",
    "        ## 조건1: conv layer 2개 & fc layer 2개\n",
    "            ## 첫 번째 conv layer: 입력 채널 1, 출력 채널 20\n",
    "            ## 두 번째 fc layer: 출력 채널 10\n",
    "        ## 조건2: kernel_size=5, stride=1\n",
    "        self.conv1 = nn.Conv2d(in_channels=1, out_channels=20, kernel_size=5, stride=1)\n",
    "        self.conv2 = nn.Conv2d(in_channels=20, out_channels=50, kernel_size=5, stride=1)\n",
    "        self.fc1 = nn.Linear(4 * 4 * 50, 500)  \n",
    "        self.fc2 = nn.Linear(500, 10)\n",
    "\n",
    "    def forward(self, x):\n",
    "\n",
    "        ## 조건1: relu -> max_pool2d -> relu -> max_pool2d 순서로 이루어짐\n",
    "        ## 조건2: kernel_size=2, stride=2\n",
    "        x = F.relu(self.conv1(x))\n",
    "        x = F.max_pool2d(x, kernel_size=2, stride=2)\n",
    "        x = F.relu(self.conv2(x))\n",
    "        x = F.max_pool2d(x, kernel_size=2, stride=2)\n",
    "\n",
    "        x = x.view(-1, 4 * 4 * 50) # [batch_size, 50, 4, 4]\n",
    "        x = F.relu(self.fc1(x))\n",
    "        x = self.fc2(x)\n",
    "\n",
    "        return x"
   ]
  },
  {
   "cell_type": "code",
   "execution_count": 9,
   "metadata": {
    "id": "EO2ULx3Sc2GM"
   },
   "outputs": [],
   "source": [
    "cnn = CNN()\n",
    "criterion = torch.nn.CrossEntropyLoss()\n",
    "optimizer = optim.SGD(cnn.parameters(), lr=0.01)"
   ]
  },
  {
   "cell_type": "code",
   "execution_count": 10,
   "metadata": {
    "id": "gAwckNWhc4Nr"
   },
   "outputs": [
    {
     "name": "stdout",
     "output_type": "stream",
     "text": [
      "loss of 0 epoch, 0 index : 2.2896125316619873\n",
      "loss of 0 epoch, 100 index : 1.1271672248840332\n",
      "loss of 0 epoch, 200 index : 0.35685643553733826\n",
      "loss of 0 epoch, 300 index : 0.4564712941646576\n",
      "loss of 0 epoch, 400 index : 0.17975492775440216\n",
      "loss of 0 epoch, 500 index : 0.16766546666622162\n",
      "loss of 0 epoch, 600 index : 0.213460311293602\n",
      "loss of 0 epoch, 700 index : 0.310285359621048\n",
      "loss of 0 epoch, 800 index : 0.30335676670074463\n",
      "loss of 0 epoch, 900 index : 0.15461577475070953\n",
      "loss of 0 epoch, 1000 index : 0.20895202457904816\n",
      "loss of 0 epoch, 1100 index : 0.3607276976108551\n",
      "loss of 1 epoch, 0 index : 0.26938557624816895\n",
      "loss of 1 epoch, 100 index : 0.09881865233182907\n",
      "loss of 1 epoch, 200 index : 0.0815427303314209\n",
      "loss of 1 epoch, 300 index : 0.13681140542030334\n",
      "loss of 1 epoch, 400 index : 0.08218362182378769\n",
      "loss of 1 epoch, 500 index : 0.09375489503145218\n",
      "loss of 1 epoch, 600 index : 0.08906174451112747\n",
      "loss of 1 epoch, 700 index : 0.08077400177717209\n",
      "loss of 1 epoch, 800 index : 0.037085626274347305\n",
      "loss of 1 epoch, 900 index : 0.10763001441955566\n",
      "loss of 1 epoch, 1000 index : 0.07686851173639297\n",
      "loss of 1 epoch, 1100 index : 0.03887537121772766\n",
      "loss of 2 epoch, 0 index : 0.10969008505344391\n",
      "loss of 2 epoch, 100 index : 0.08837775886058807\n",
      "loss of 2 epoch, 200 index : 0.14941434562206268\n",
      "loss of 2 epoch, 300 index : 0.08665095269680023\n",
      "loss of 2 epoch, 400 index : 0.042487990111112595\n",
      "loss of 2 epoch, 500 index : 0.05545561760663986\n",
      "loss of 2 epoch, 600 index : 0.01992250233888626\n",
      "loss of 2 epoch, 700 index : 0.12239312380552292\n",
      "loss of 2 epoch, 800 index : 0.11012255400419235\n",
      "loss of 2 epoch, 900 index : 0.07759517431259155\n",
      "loss of 2 epoch, 1000 index : 0.02519291639328003\n",
      "loss of 2 epoch, 1100 index : 0.07406287640333176\n",
      "loss of 3 epoch, 0 index : 0.06017332896590233\n",
      "loss of 3 epoch, 100 index : 0.04622199386358261\n",
      "loss of 3 epoch, 200 index : 0.06018722057342529\n",
      "loss of 3 epoch, 300 index : 0.013961357064545155\n",
      "loss of 3 epoch, 400 index : 0.01278731320053339\n",
      "loss of 3 epoch, 500 index : 0.022017110139131546\n",
      "loss of 3 epoch, 600 index : 0.01372170727699995\n",
      "loss of 3 epoch, 700 index : 0.007439613342285156\n",
      "loss of 3 epoch, 800 index : 0.016528524458408356\n",
      "loss of 3 epoch, 900 index : 0.10222124308347702\n",
      "loss of 3 epoch, 1000 index : 0.17268705368041992\n",
      "loss of 3 epoch, 1100 index : 0.13730455935001373\n",
      "loss of 4 epoch, 0 index : 0.01440412737429142\n",
      "loss of 4 epoch, 100 index : 0.009035423398017883\n",
      "loss of 4 epoch, 200 index : 0.02888130024075508\n",
      "loss of 4 epoch, 300 index : 0.026698313653469086\n",
      "loss of 4 epoch, 400 index : 0.037470292299985886\n",
      "loss of 4 epoch, 500 index : 0.011908777989447117\n",
      "loss of 4 epoch, 600 index : 0.05227344110608101\n",
      "loss of 4 epoch, 700 index : 0.03815488517284393\n",
      "loss of 4 epoch, 800 index : 0.029018152505159378\n",
      "loss of 4 epoch, 900 index : 0.0891864076256752\n",
      "loss of 4 epoch, 1000 index : 0.1559647023677826\n",
      "loss of 4 epoch, 1100 index : 0.009236924350261688\n",
      "loss of 5 epoch, 0 index : 0.012204051949083805\n",
      "loss of 5 epoch, 100 index : 0.02533874660730362\n",
      "loss of 5 epoch, 200 index : 0.015747686848044395\n",
      "loss of 5 epoch, 300 index : 0.0057376474142074585\n",
      "loss of 5 epoch, 400 index : 0.033719662576913834\n",
      "loss of 5 epoch, 500 index : 0.005594468675553799\n",
      "loss of 5 epoch, 600 index : 0.00978467334061861\n",
      "loss of 5 epoch, 700 index : 0.04803691431879997\n",
      "loss of 5 epoch, 800 index : 0.02643338032066822\n",
      "loss of 5 epoch, 900 index : 0.0810433104634285\n",
      "loss of 5 epoch, 1000 index : 0.03547041490674019\n",
      "loss of 5 epoch, 1100 index : 0.010414102114737034\n",
      "loss of 6 epoch, 0 index : 0.0602760836482048\n",
      "loss of 6 epoch, 100 index : 0.13207504153251648\n",
      "loss of 6 epoch, 200 index : 0.10796277225017548\n",
      "loss of 6 epoch, 300 index : 0.03238081932067871\n",
      "loss of 6 epoch, 400 index : 0.0404466912150383\n",
      "loss of 6 epoch, 500 index : 0.116120845079422\n",
      "loss of 6 epoch, 600 index : 0.0009628520929254591\n",
      "loss of 6 epoch, 700 index : 0.020209195092320442\n",
      "loss of 6 epoch, 800 index : 0.003600549651309848\n",
      "loss of 6 epoch, 900 index : 0.007748003117740154\n",
      "loss of 6 epoch, 1000 index : 0.008479222655296326\n",
      "loss of 6 epoch, 1100 index : 0.01229922752827406\n",
      "loss of 7 epoch, 0 index : 0.06162209063768387\n",
      "loss of 7 epoch, 100 index : 0.010367060080170631\n",
      "loss of 7 epoch, 200 index : 0.030489174649119377\n",
      "loss of 7 epoch, 300 index : 0.05598285794258118\n",
      "loss of 7 epoch, 400 index : 0.022881532087922096\n",
      "loss of 7 epoch, 500 index : 0.01732354797422886\n",
      "loss of 7 epoch, 600 index : 0.009339740499854088\n",
      "loss of 7 epoch, 700 index : 0.03820716589689255\n",
      "loss of 7 epoch, 800 index : 0.025521500036120415\n",
      "loss of 7 epoch, 900 index : 0.018676646053791046\n",
      "loss of 7 epoch, 1000 index : 0.017824025824666023\n",
      "loss of 7 epoch, 1100 index : 0.09873697906732559\n",
      "loss of 8 epoch, 0 index : 0.003906252793967724\n",
      "loss of 8 epoch, 100 index : 0.036361683160066605\n",
      "loss of 8 epoch, 200 index : 0.41075554490089417\n",
      "loss of 8 epoch, 300 index : 0.020788880065083504\n",
      "loss of 8 epoch, 400 index : 0.02323688007891178\n",
      "loss of 8 epoch, 500 index : 0.0068320524878799915\n",
      "loss of 8 epoch, 600 index : 0.006110489834100008\n",
      "loss of 8 epoch, 700 index : 0.017065200954675674\n",
      "loss of 8 epoch, 800 index : 0.0016648182645440102\n",
      "loss of 8 epoch, 900 index : 0.08005519956350327\n",
      "loss of 8 epoch, 1000 index : 0.026628419756889343\n",
      "loss of 8 epoch, 1100 index : 0.04253503680229187\n",
      "loss of 9 epoch, 0 index : 0.08665098994970322\n",
      "loss of 9 epoch, 100 index : 0.012940075248479843\n",
      "loss of 9 epoch, 200 index : 0.03722037374973297\n",
      "loss of 9 epoch, 300 index : 0.01962733455002308\n",
      "loss of 9 epoch, 400 index : 0.027828285470604897\n",
      "loss of 9 epoch, 500 index : 0.024657664820551872\n",
      "loss of 9 epoch, 600 index : 0.018916867673397064\n",
      "loss of 9 epoch, 700 index : 0.010837847366929054\n",
      "loss of 9 epoch, 800 index : 0.012852928601205349\n",
      "loss of 9 epoch, 900 index : 0.0014219011645764112\n",
      "loss of 9 epoch, 1000 index : 0.01959826983511448\n",
      "loss of 9 epoch, 1100 index : 0.024242471903562546\n"
     ]
    }
   ],
   "source": [
    "cnn.train()  # 학습을 위함\n",
    "for epoch in range(10):\n",
    "  for index, (data, target) in enumerate(train_loader):\n",
    "    optimizer.zero_grad()  # 기울기 초기화\n",
    "    output = cnn(data)\n",
    "    loss = criterion(output, target)\n",
    "    loss.backward()  # 역전파\n",
    "    optimizer.step()\n",
    "\n",
    "    if index % 100 == 0:\n",
    "      print(\"loss of {} epoch, {} index : {}\".format(epoch, index, loss.item()))"
   ]
  },
  {
   "cell_type": "code",
   "execution_count": 11,
   "metadata": {
    "id": "l2PnlaXIc6dm"
   },
   "outputs": [
    {
     "name": "stdout",
     "output_type": "stream",
     "text": [
      "\n",
      "Test set: Average loss: 6.5557, Accuracy: 9891/10000 (99%)\n",
      "\n"
     ]
    }
   ],
   "source": [
    "cnn.eval()  # test case 학습 방지를 위함\n",
    "test_loss = 0\n",
    "correct = 0\n",
    "with torch.no_grad():\n",
    "  for data, target in test_loader:\n",
    "    output = cnn(data)\n",
    "    test_loss += criterion(output, target).item() # sum up batch loss\n",
    "    pred = output.argmax(dim=1, keepdim=True) # get the index of the max log-probability\n",
    "    correct += pred.eq(target.view_as(pred)).sum().item()\n",
    "print('\\nTest set: Average loss: {:.4f}, Accuracy: {}/{} ({:.0f}%)\\n'.format(\n",
    "        test_loss, correct, len(test_loader.dataset),\n",
    "        100. * correct / len(test_loader.dataset)))"
   ]
  },
  {
   "cell_type": "code",
   "execution_count": null,
   "metadata": {},
   "outputs": [],
   "source": []
  }
 ],
 "metadata": {
  "colab": {
   "provenance": []
  },
  "kernelspec": {
   "display_name": "Python 3 (ipykernel)",
   "language": "python",
   "name": "python3"
  },
  "language_info": {
   "codemirror_mode": {
    "name": "ipython",
    "version": 3
   },
   "file_extension": ".py",
   "mimetype": "text/x-python",
   "name": "python",
   "nbconvert_exporter": "python",
   "pygments_lexer": "ipython3",
   "version": "3.11.8"
  }
 },
 "nbformat": 4,
 "nbformat_minor": 4
}

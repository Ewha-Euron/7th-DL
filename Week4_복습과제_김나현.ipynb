{
  "cells": [
    {
      "cell_type": "markdown",
      "metadata": {
        "id": "JmbrNadxsBr7"
      },
      "source": [
        "## Convolution Layer Example"
      ]
    },
    {
      "cell_type": "code",
      "execution_count": null,
      "metadata": {
        "colab": {
          "base_uri": "https://localhost:8080/"
        },
        "id": "MAyG6GGTU_mC",
        "outputId": "4ffb2542-d078-48be-a0f2-6cb8e1b4b44f"
      },
      "outputs": [
        {
          "output_type": "stream",
          "name": "stdout",
          "text": [
            "연산 전 torch.Size([10, 1, 20, 20])\n",
            "conv1 연산 후 torch.Size([10, 3, 16, 16])\n",
            "conv2 연산 후 torch.Size([10, 10, 12, 12])\n",
            "차원 감소 후 torch.Size([10, 1440])\n",
            "fc1 연산 후 torch.Size([10, 50])\n",
            "fc2 연산 후 torch.Size([10, 10])\n"
          ]
        }
      ],
      "source": [
        "import torch\n",
        "import torch.nn as nn\n",
        "import torch.nn.functional as F\n",
        "\n",
        "class CNN(nn.Module):\n",
        "  def __init__(self):\n",
        "    super(CNN, self).__init__()\n",
        "\n",
        "    ## 조건1: conv layer 2개 & fc layer 2개\n",
        "    ## 조건2: kernel size=5, stride=1로 통일\n",
        "    ## output을 참고하여 차원을 계산해주세요!\n",
        "    ## 답안 ##\n",
        "    self.conv1 = nn.Conv2d(in_channels=1, out_channels=3, kernel_size=5, stride=1)\n",
        "    self.conv2 = nn.Conv2d(in_channels=3, out_channels=10, kernel_size=5, stride=1)\n",
        "    self.fc1 = nn.Linear(in_features=1440, out_features=50)\n",
        "    self.fc2 = nn.Linear(in_features=50, out_features=10)\n",
        "\n",
        "\n",
        "  def forward(self, x):\n",
        "    print(\"연산 전\", x.size())\n",
        "    x = F.relu(self.conv1(x))\n",
        "    print(\"conv1 연산 후\", x.size())\n",
        "    x = F.relu(self.conv2(x))\n",
        "    print(\"conv2 연산 후\",x.size())\n",
        "    x = x.view(-1, 10 * 12 * 12)\n",
        "    print(\"차원 감소 후\", x.size())\n",
        "    x = F.relu(self.fc1(x))\n",
        "    print(\"fc1 연산 후\", x.size())\n",
        "    x = self.fc2(x)\n",
        "    print(\"fc2 연산 후\", x.size())\n",
        "    return x\n",
        "\n",
        "cnn = CNN()\n",
        "output = cnn(torch.randn(10, 1, 20, 20))  # Input Size: (10, 1, 20, 20)"
      ]
    },
    {
      "cell_type": "markdown",
      "metadata": {
        "id": "0It8H-mysBr-"
      },
      "source": [
        "## Max Pooling Layer Example"
      ]
    },
    {
      "cell_type": "code",
      "execution_count": null,
      "metadata": {
        "colab": {
          "base_uri": "https://localhost:8080/"
        },
        "id": "LkOwXPFNchie",
        "outputId": "6d2bddcd-46cd-4d43-f08c-4f463ef9334d"
      },
      "outputs": [
        {
          "output_type": "stream",
          "name": "stdout",
          "text": [
            "연산 전 torch.Size([10, 1, 20, 20])\n",
            "max_pool1 연산 후 torch.Size([10, 1, 10, 10])\n",
            "max_pool2 연산 후 torch.Size([10, 1, 5, 5])\n",
            "차원 감소 후 torch.Size([1, 250])\n",
            "fc1 연산 후 torch.Size([1, 50])\n",
            "fc2 연산 후 torch.Size([1, 10])\n"
          ]
        }
      ],
      "source": [
        "class CNN(nn.Module):\n",
        "  def __init__(self):\n",
        "    super(CNN, self).__init__()\n",
        "\n",
        "    ## 조건1: 최대풀링 layer 2개 & fc layer 2개\n",
        "    ## 조건2: kernel size=2로 통일, stride는 따로 지정할 필요 없음\n",
        "    ## output을 참고하여 차원을 계산해주세요!\n",
        "    ## 답안 ##\n",
        "    self.max_pool1 = nn.MaxPool2d(kernel_size=2)\n",
        "    self.max_pool2 = nn.MaxPool2d(kernel_size=2)\n",
        "    self.fc1 = nn.Linear(in_features=10 * 5 * 5, out_features=50)\n",
        "    self.fc2 = nn.Linear(in_features=50, out_features=10)\n",
        "\n",
        "  def forward(self, x):\n",
        "    print(\"연산 전\", x.size())\n",
        "    x = F.relu(self.max_pool1(x))\n",
        "    print(\"max_pool1 연산 후\", x.size())\n",
        "    x = F.relu(self.max_pool2(x))\n",
        "    print(\"max_pool2 연산 후\",x.size())\n",
        "    x = x.view(-1, 10 * 5 * 5)\n",
        "    print(\"차원 감소 후\", x.size())\n",
        "    x = F.relu(self.fc1(x))\n",
        "    print(\"fc1 연산 후\", x.size())\n",
        "    x = self.fc2(x)\n",
        "    print(\"fc2 연산 후\", x.size())\n",
        "    return x\n",
        "\n",
        "cnn = CNN()\n",
        "output = cnn(torch.randn(10, 1, 20, 20))"
      ]
    },
    {
      "cell_type": "markdown",
      "metadata": {
        "id": "uDMn2y5_sBr-"
      },
      "source": [
        "## MNIST 데이터셋 train"
      ]
    },
    {
      "cell_type": "code",
      "execution_count": null,
      "metadata": {
        "id": "YhfopkrQcp1P",
        "colab": {
          "base_uri": "https://localhost:8080/"
        },
        "outputId": "7e542498-3fea-4152-83b6-2bcd8c27cd60"
      },
      "outputs": [
        {
          "output_type": "stream",
          "name": "stdout",
          "text": [
            "Requirement already satisfied: torchvision in /usr/local/lib/python3.10/dist-packages (0.20.0+cu121)\n",
            "Requirement already satisfied: numpy in /usr/local/lib/python3.10/dist-packages (from torchvision) (1.26.4)\n",
            "Requirement already satisfied: torch==2.5.0 in /usr/local/lib/python3.10/dist-packages (from torchvision) (2.5.0+cu121)\n",
            "Requirement already satisfied: pillow!=8.3.*,>=5.3.0 in /usr/local/lib/python3.10/dist-packages (from torchvision) (10.4.0)\n",
            "Requirement already satisfied: filelock in /usr/local/lib/python3.10/dist-packages (from torch==2.5.0->torchvision) (3.16.1)\n",
            "Requirement already satisfied: typing-extensions>=4.8.0 in /usr/local/lib/python3.10/dist-packages (from torch==2.5.0->torchvision) (4.12.2)\n",
            "Requirement already satisfied: networkx in /usr/local/lib/python3.10/dist-packages (from torch==2.5.0->torchvision) (3.4.2)\n",
            "Requirement already satisfied: jinja2 in /usr/local/lib/python3.10/dist-packages (from torch==2.5.0->torchvision) (3.1.4)\n",
            "Requirement already satisfied: fsspec in /usr/local/lib/python3.10/dist-packages (from torch==2.5.0->torchvision) (2024.6.1)\n",
            "Requirement already satisfied: sympy==1.13.1 in /usr/local/lib/python3.10/dist-packages (from torch==2.5.0->torchvision) (1.13.1)\n",
            "Requirement already satisfied: mpmath<1.4,>=1.1.0 in /usr/local/lib/python3.10/dist-packages (from sympy==1.13.1->torch==2.5.0->torchvision) (1.3.0)\n",
            "Requirement already satisfied: MarkupSafe>=2.0 in /usr/local/lib/python3.10/dist-packages (from jinja2->torch==2.5.0->torchvision) (3.0.2)\n"
          ]
        }
      ],
      "source": [
        "!pip install torchvision"
      ]
    },
    {
      "cell_type": "code",
      "execution_count": null,
      "metadata": {
        "id": "CqFN5YM5cqKe"
      },
      "outputs": [],
      "source": [
        "import torch.optim as optim\n",
        "from torchvision import datasets, transforms"
      ]
    },
    {
      "cell_type": "code",
      "execution_count": null,
      "metadata": {
        "id": "IJb_C4ptcu6G",
        "colab": {
          "base_uri": "https://localhost:8080/"
        },
        "outputId": "5093c621-3085-4a24-b1a7-7a55559ca1f8"
      },
      "outputs": [
        {
          "output_type": "stream",
          "name": "stdout",
          "text": [
            "Downloading http://yann.lecun.com/exdb/mnist/train-images-idx3-ubyte.gz\n",
            "Failed to download (trying next):\n",
            "<urlopen error [SSL: CERTIFICATE_VERIFY_FAILED] certificate verify failed: certificate has expired (_ssl.c:1007)>\n",
            "\n",
            "Downloading https://ossci-datasets.s3.amazonaws.com/mnist/train-images-idx3-ubyte.gz\n",
            "Downloading https://ossci-datasets.s3.amazonaws.com/mnist/train-images-idx3-ubyte.gz to ./data/MNIST/raw/train-images-idx3-ubyte.gz\n"
          ]
        },
        {
          "output_type": "stream",
          "name": "stderr",
          "text": [
            "100%|██████████| 9.91M/9.91M [00:01<00:00, 5.03MB/s]\n"
          ]
        },
        {
          "output_type": "stream",
          "name": "stdout",
          "text": [
            "Extracting ./data/MNIST/raw/train-images-idx3-ubyte.gz to ./data/MNIST/raw\n",
            "\n",
            "Downloading http://yann.lecun.com/exdb/mnist/train-labels-idx1-ubyte.gz\n",
            "Failed to download (trying next):\n",
            "<urlopen error [SSL: CERTIFICATE_VERIFY_FAILED] certificate verify failed: certificate has expired (_ssl.c:1007)>\n",
            "\n",
            "Downloading https://ossci-datasets.s3.amazonaws.com/mnist/train-labels-idx1-ubyte.gz\n",
            "Downloading https://ossci-datasets.s3.amazonaws.com/mnist/train-labels-idx1-ubyte.gz to ./data/MNIST/raw/train-labels-idx1-ubyte.gz\n"
          ]
        },
        {
          "output_type": "stream",
          "name": "stderr",
          "text": [
            "100%|██████████| 28.9k/28.9k [00:00<00:00, 492kB/s]\n"
          ]
        },
        {
          "output_type": "stream",
          "name": "stdout",
          "text": [
            "Extracting ./data/MNIST/raw/train-labels-idx1-ubyte.gz to ./data/MNIST/raw\n",
            "\n",
            "Downloading http://yann.lecun.com/exdb/mnist/t10k-images-idx3-ubyte.gz\n",
            "Failed to download (trying next):\n",
            "<urlopen error [SSL: CERTIFICATE_VERIFY_FAILED] certificate verify failed: certificate has expired (_ssl.c:1007)>\n",
            "\n",
            "Downloading https://ossci-datasets.s3.amazonaws.com/mnist/t10k-images-idx3-ubyte.gz\n",
            "Downloading https://ossci-datasets.s3.amazonaws.com/mnist/t10k-images-idx3-ubyte.gz to ./data/MNIST/raw/t10k-images-idx3-ubyte.gz\n"
          ]
        },
        {
          "output_type": "stream",
          "name": "stderr",
          "text": [
            "100%|██████████| 1.65M/1.65M [00:00<00:00, 4.50MB/s]\n"
          ]
        },
        {
          "output_type": "stream",
          "name": "stdout",
          "text": [
            "Extracting ./data/MNIST/raw/t10k-images-idx3-ubyte.gz to ./data/MNIST/raw\n",
            "\n",
            "Downloading http://yann.lecun.com/exdb/mnist/t10k-labels-idx1-ubyte.gz\n",
            "Failed to download (trying next):\n",
            "<urlopen error [SSL: CERTIFICATE_VERIFY_FAILED] certificate verify failed: certificate has expired (_ssl.c:1007)>\n",
            "\n",
            "Downloading https://ossci-datasets.s3.amazonaws.com/mnist/t10k-labels-idx1-ubyte.gz\n",
            "Downloading https://ossci-datasets.s3.amazonaws.com/mnist/t10k-labels-idx1-ubyte.gz to ./data/MNIST/raw/t10k-labels-idx1-ubyte.gz\n"
          ]
        },
        {
          "output_type": "stream",
          "name": "stderr",
          "text": [
            "100%|██████████| 4.54k/4.54k [00:00<00:00, 3.14MB/s]"
          ]
        },
        {
          "output_type": "stream",
          "name": "stdout",
          "text": [
            "Extracting ./data/MNIST/raw/t10k-labels-idx1-ubyte.gz to ./data/MNIST/raw\n",
            "\n"
          ]
        },
        {
          "output_type": "stream",
          "name": "stderr",
          "text": [
            "\n"
          ]
        }
      ],
      "source": [
        "train_data = datasets.MNIST('./data/', train=True, download=True, transform=transforms.Compose([\n",
        "        transforms.ToTensor(),\n",
        "        transforms.Normalize((0.1307,), (0.3081,))\n",
        "    ])) # 학습 데이터\n",
        "train_loader = torch.utils.data.DataLoader(dataset=train_data, batch_size=50, shuffle=True)\n",
        "\n",
        "test_data = datasets.MNIST('./data/', train=False, transform=transforms.Compose([\n",
        "        transforms.ToTensor(),\n",
        "        transforms.Normalize((0.1307,), (0.3081,))\n",
        "    ])) # 테스트 데이터\n",
        "test_loader = torch.utils.data.DataLoader(dataset=test_data, batch_size=50, shuffle=True)"
      ]
    },
    {
      "cell_type": "code",
      "execution_count": null,
      "metadata": {
        "id": "YP3tEuo6ct8A"
      },
      "outputs": [],
      "source": [
        "class CNN(nn.Module):\n",
        "    def __init__(self):\n",
        "        super(CNN, self).__init__()\n",
        "\n",
        "        ## 조건1: conv layer 2개 & fc layer 2개\n",
        "            ## 첫 번째 conv layer: 입력 채널 1, 출력 채널 20\n",
        "            ## 두 번째 fc layer: 출력 채널 10\n",
        "        ## 조건2: kernel_size=5, stride=1\n",
        "        ## 답안 ##\n",
        "        self.conv1 = nn.Conv2d(in_channels=1, out_channels=20, kernel_size=5, stride=1)\n",
        "        self.conv2 = nn.Conv2d(in_channels=20, out_channels=50, kernel_size=5, stride=1)\n",
        "        self.fc1 = nn.Linear(in_features=4 * 4 * 50, out_features=500)\n",
        "        self.fc2 = nn.Linear(in_features=500, out_features=10)\n",
        "\n",
        "    def forward(self, x):\n",
        "\n",
        "        ## 조건1: relu -> max_pool2d -> relu -> max_pool2d 순서로 이루어짐\n",
        "        ## 조건2: kernel_size=2, stride=2\n",
        "        ## 답안 ##\n",
        "        x = F.relu(self.conv1(x))\n",
        "        x = F.max_pool2d(x, kernel_size=2, stride=2)\n",
        "        x = F.relu(self.conv2(x))\n",
        "        x = F.max_pool2d(x, kernel_size=2, stride=2)\n",
        "\n",
        "        x = x.view(-1, 4 * 4 * 50) # [batch_size, 50, 4, 4]\n",
        "        x = F.relu(self.fc1(x))\n",
        "        x = self.fc2(x)\n",
        "\n",
        "        return x"
      ]
    },
    {
      "cell_type": "code",
      "execution_count": null,
      "metadata": {
        "id": "EO2ULx3Sc2GM"
      },
      "outputs": [],
      "source": [
        "cnn = CNN()\n",
        "criterion = torch.nn.CrossEntropyLoss()\n",
        "optimizer = optim.SGD(cnn.parameters(), lr=0.01)"
      ]
    },
    {
      "cell_type": "code",
      "execution_count": null,
      "metadata": {
        "id": "gAwckNWhc4Nr",
        "colab": {
          "base_uri": "https://localhost:8080/"
        },
        "outputId": "db9729be-8869-4278-fe40-a6f1cae67d9c"
      },
      "outputs": [
        {
          "output_type": "stream",
          "name": "stdout",
          "text": [
            "loss of 0 epoch, 0 index : 2.3009650707244873\n",
            "loss of 0 epoch, 100 index : 1.250158429145813\n",
            "loss of 0 epoch, 200 index : 0.41372185945510864\n",
            "loss of 0 epoch, 300 index : 0.21269777417182922\n",
            "loss of 0 epoch, 400 index : 0.47251856327056885\n",
            "loss of 0 epoch, 500 index : 0.3198407292366028\n",
            "loss of 0 epoch, 600 index : 0.3309600353240967\n",
            "loss of 0 epoch, 700 index : 0.08713800460100174\n",
            "loss of 0 epoch, 800 index : 0.09861383587121964\n",
            "loss of 0 epoch, 900 index : 0.25696319341659546\n",
            "loss of 0 epoch, 1000 index : 0.102055624127388\n",
            "loss of 0 epoch, 1100 index : 0.06012429669499397\n",
            "loss of 1 epoch, 0 index : 0.15060311555862427\n",
            "loss of 1 epoch, 100 index : 0.10665565729141235\n",
            "loss of 1 epoch, 200 index : 0.15844757854938507\n",
            "loss of 1 epoch, 300 index : 0.030796239152550697\n",
            "loss of 1 epoch, 400 index : 0.12620049715042114\n",
            "loss of 1 epoch, 500 index : 0.21927130222320557\n",
            "loss of 1 epoch, 600 index : 0.1820870339870453\n",
            "loss of 1 epoch, 700 index : 0.14363589882850647\n",
            "loss of 1 epoch, 800 index : 0.03305993974208832\n",
            "loss of 1 epoch, 900 index : 0.04302503168582916\n",
            "loss of 1 epoch, 1000 index : 0.09750299155712128\n",
            "loss of 1 epoch, 1100 index : 0.11216993629932404\n",
            "loss of 2 epoch, 0 index : 0.030294237658381462\n",
            "loss of 2 epoch, 100 index : 0.020951129496097565\n",
            "loss of 2 epoch, 200 index : 0.1197274848818779\n",
            "loss of 2 epoch, 300 index : 0.12094038724899292\n",
            "loss of 2 epoch, 400 index : 0.07720737159252167\n",
            "loss of 2 epoch, 500 index : 0.3219977915287018\n",
            "loss of 2 epoch, 600 index : 0.06660240143537521\n",
            "loss of 2 epoch, 700 index : 0.03144180402159691\n",
            "loss of 2 epoch, 800 index : 0.09410751610994339\n",
            "loss of 2 epoch, 900 index : 0.030924152582883835\n",
            "loss of 2 epoch, 1000 index : 0.10635216534137726\n",
            "loss of 2 epoch, 1100 index : 0.015564109198749065\n",
            "loss of 3 epoch, 0 index : 0.055179182440042496\n",
            "loss of 3 epoch, 100 index : 0.030176982283592224\n",
            "loss of 3 epoch, 200 index : 0.04782995581626892\n",
            "loss of 3 epoch, 300 index : 0.07325813919305801\n",
            "loss of 3 epoch, 400 index : 0.06241122633218765\n",
            "loss of 3 epoch, 500 index : 0.04374285042285919\n",
            "loss of 3 epoch, 600 index : 0.08454104512929916\n",
            "loss of 3 epoch, 700 index : 0.014580851420760155\n",
            "loss of 3 epoch, 800 index : 0.04676198959350586\n",
            "loss of 3 epoch, 900 index : 0.022363051772117615\n",
            "loss of 3 epoch, 1000 index : 0.05795702338218689\n",
            "loss of 3 epoch, 1100 index : 0.027543697506189346\n",
            "loss of 4 epoch, 0 index : 0.04664955288171768\n",
            "loss of 4 epoch, 100 index : 0.026531009003520012\n",
            "loss of 4 epoch, 200 index : 0.02010083943605423\n",
            "loss of 4 epoch, 300 index : 0.015731368213891983\n",
            "loss of 4 epoch, 400 index : 0.020322317257523537\n",
            "loss of 4 epoch, 500 index : 0.08027055859565735\n",
            "loss of 4 epoch, 600 index : 0.06732462346553802\n",
            "loss of 4 epoch, 700 index : 0.24727651476860046\n",
            "loss of 4 epoch, 800 index : 0.03232380002737045\n",
            "loss of 4 epoch, 900 index : 0.012053132057189941\n",
            "loss of 4 epoch, 1000 index : 0.02292601577937603\n",
            "loss of 4 epoch, 1100 index : 0.011649996042251587\n",
            "loss of 5 epoch, 0 index : 0.05602375417947769\n",
            "loss of 5 epoch, 100 index : 0.03573966771364212\n",
            "loss of 5 epoch, 200 index : 0.023639647290110588\n",
            "loss of 5 epoch, 300 index : 0.07039736956357956\n",
            "loss of 5 epoch, 400 index : 0.03433704376220703\n",
            "loss of 5 epoch, 500 index : 0.012334061786532402\n",
            "loss of 5 epoch, 600 index : 0.017676062881946564\n",
            "loss of 5 epoch, 700 index : 0.03940760716795921\n",
            "loss of 5 epoch, 800 index : 0.021398665383458138\n",
            "loss of 5 epoch, 900 index : 0.006026850547641516\n",
            "loss of 5 epoch, 1000 index : 0.01526354905217886\n",
            "loss of 5 epoch, 1100 index : 0.01436726376414299\n",
            "loss of 6 epoch, 0 index : 0.013183989562094212\n",
            "loss of 6 epoch, 100 index : 0.035795532166957855\n",
            "loss of 6 epoch, 200 index : 0.025610746815800667\n",
            "loss of 6 epoch, 300 index : 0.014682300388813019\n",
            "loss of 6 epoch, 400 index : 0.17730359733104706\n",
            "loss of 6 epoch, 500 index : 0.004704280290752649\n",
            "loss of 6 epoch, 600 index : 0.09546712785959244\n",
            "loss of 6 epoch, 700 index : 0.008695072494447231\n",
            "loss of 6 epoch, 800 index : 0.09998206049203873\n",
            "loss of 6 epoch, 900 index : 0.014574514701962471\n",
            "loss of 6 epoch, 1000 index : 0.004048648755997419\n",
            "loss of 6 epoch, 1100 index : 0.018249815329909325\n",
            "loss of 7 epoch, 0 index : 0.007784876972436905\n",
            "loss of 7 epoch, 100 index : 0.06637357920408249\n",
            "loss of 7 epoch, 200 index : 0.010054681450128555\n",
            "loss of 7 epoch, 300 index : 0.089659683406353\n",
            "loss of 7 epoch, 400 index : 0.026335671544075012\n",
            "loss of 7 epoch, 500 index : 0.05713648349046707\n",
            "loss of 7 epoch, 600 index : 0.001737234415486455\n",
            "loss of 7 epoch, 700 index : 0.1169997900724411\n",
            "loss of 7 epoch, 800 index : 0.006360551808029413\n",
            "loss of 7 epoch, 900 index : 0.010824798606336117\n",
            "loss of 7 epoch, 1000 index : 0.003092145547270775\n",
            "loss of 7 epoch, 1100 index : 0.0066547635942697525\n",
            "loss of 8 epoch, 0 index : 0.010359330102801323\n",
            "loss of 8 epoch, 100 index : 0.008915784768760204\n",
            "loss of 8 epoch, 200 index : 0.010342489928007126\n",
            "loss of 8 epoch, 300 index : 0.0046171266585588455\n",
            "loss of 8 epoch, 400 index : 0.023173682391643524\n",
            "loss of 8 epoch, 500 index : 0.022083913907408714\n",
            "loss of 8 epoch, 600 index : 0.0037957888562232256\n",
            "loss of 8 epoch, 700 index : 0.011988407000899315\n",
            "loss of 8 epoch, 800 index : 0.004441224038600922\n",
            "loss of 8 epoch, 900 index : 0.002076227916404605\n",
            "loss of 8 epoch, 1000 index : 0.0645746961236\n",
            "loss of 8 epoch, 1100 index : 0.09517946094274521\n",
            "loss of 9 epoch, 0 index : 0.021844375878572464\n",
            "loss of 9 epoch, 100 index : 0.0020537935197353363\n",
            "loss of 9 epoch, 200 index : 0.003304470796138048\n",
            "loss of 9 epoch, 300 index : 0.012058105319738388\n",
            "loss of 9 epoch, 400 index : 0.007757991086691618\n",
            "loss of 9 epoch, 500 index : 0.009252470917999744\n",
            "loss of 9 epoch, 600 index : 0.017802521586418152\n",
            "loss of 9 epoch, 700 index : 0.0012320146197453141\n",
            "loss of 9 epoch, 800 index : 0.037623245269060135\n",
            "loss of 9 epoch, 900 index : 0.03042723424732685\n",
            "loss of 9 epoch, 1000 index : 0.04169405996799469\n",
            "loss of 9 epoch, 1100 index : 0.012288478203117847\n"
          ]
        }
      ],
      "source": [
        "cnn.train()  # 학습을 위함\n",
        "for epoch in range(10):\n",
        "  for index, (data, target) in enumerate(train_loader):\n",
        "    optimizer.zero_grad()  # 기울기 초기화\n",
        "    output = cnn(data)\n",
        "    loss = criterion(output, target)\n",
        "    loss.backward()  # 역전파\n",
        "    optimizer.step()\n",
        "\n",
        "    if index % 100 == 0:\n",
        "      print(\"loss of {} epoch, {} index : {}\".format(epoch, index, loss.item()))"
      ]
    },
    {
      "cell_type": "code",
      "execution_count": null,
      "metadata": {
        "id": "l2PnlaXIc6dm",
        "colab": {
          "base_uri": "https://localhost:8080/"
        },
        "outputId": "fdb5862b-eed6-4616-ba0c-f3c676146b35"
      },
      "outputs": [
        {
          "output_type": "stream",
          "name": "stdout",
          "text": [
            "\n",
            "Test set: Average loss: 6.2520, Accuracy: 9895/10000 (99%)\n",
            "\n"
          ]
        }
      ],
      "source": [
        "cnn.eval()  # test case 학습 방지를 위함\n",
        "test_loss = 0\n",
        "correct = 0\n",
        "with torch.no_grad():\n",
        "  for data, target in test_loader:\n",
        "    output = cnn(data)\n",
        "    test_loss += criterion(output, target).item() # sum up batch loss\n",
        "    pred = output.argmax(dim=1, keepdim=True) # get the index of the max log-probability\n",
        "    correct += pred.eq(target.view_as(pred)).sum().item()\n",
        "print('\\nTest set: Average loss: {:.4f}, Accuracy: {}/{} ({:.0f}%)\\n'.format(\n",
        "        test_loss, correct, len(test_loader.dataset),\n",
        "        100. * correct / len(test_loader.dataset)))"
      ]
    }
  ],
  "metadata": {
    "colab": {
      "provenance": []
    },
    "kernelspec": {
      "display_name": "Python 3",
      "name": "python3"
    },
    "language_info": {
      "name": "python"
    }
  },
  "nbformat": 4,
  "nbformat_minor": 0
}
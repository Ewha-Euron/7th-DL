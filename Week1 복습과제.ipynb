{
 "cells": [
  {
   "cell_type": "markdown",
   "metadata": {
    "_cell_guid": "48bb1394-d871-4670-812e-9e80ac87a27a",
    "_uuid": "84c59c4d97b2f0a0eb52a22d74e7939dd51873bf",
    "id": "AkEjBy9bL3I4"
   },
   "source": [
    "# **Week1 복습과제**\n",
    "<br>**Content:**\n",
    "1. [Basics of Pytorch]\n",
    "    - Matrices\n",
    "    - Math\n",
    "    - Variable\n",
    "1. [Linear Regression]\n",
    "1. [Logistic Regression]\n",
    "1. [Artificial Neural Network (ANN)]\n",
    "1. [Concolutional Neural Network (CNN)]\n",
    "1. Recurrent Neural Network (RNN)\n",
    "1. Long-Short Term Memory (LSTM)\n"
   ]
  },
  {
   "cell_type": "code",
   "execution_count": 1,
   "metadata": {
    "_cell_guid": "b1076dfc-b9ad-4769-8c92-a6c4dae69d19",
    "_uuid": "8f2839f25d086af736a60e9eeb907d3b93b6e0e5",
    "id": "jwSQhXUYL3I8",
    "outputId": "28e41e29-9c0c-465c-9a04-5cbd466e046a"
   },
   "outputs": [
    {
     "name": "stdout",
     "output_type": "stream",
     "text": [
      "['.DS_Store', 'test.csv', 'train.csv', 'sample_submission.csv']\n"
     ]
    }
   ],
   "source": [
    "# import library\n",
    "import numpy as np\n",
    "import pandas as pd\n",
    "import matplotlib.pyplot as plt\n",
    "\n",
    "#input data: 첨부된 .csv 파일 사용해주세요.\n",
    "import os\n",
    "print(os.listdir(\"../input\"))\n"
   ]
  },
  {
   "cell_type": "markdown",
   "metadata": {
    "_cell_guid": "79c7e3d0-c299-4dcb-8224-4455121ee9b0",
    "_uuid": "d629ff2d2480ee46fbb7e2d37f6b5fab8052498a",
    "collapsed": true,
    "id": "0yW9peloL3I9"
   },
   "source": [
    "<a id=\"1\"></a> <br>\n",
    "## 1. Basics of Pytorch\n",
    "### Matrices\n",
    "- In pytorch, matrix(array) is called tensors.\n",
    "- 3*3 matrix koy. This is 3x3 tensor.\n",
    "- Lets look at array example with numpy that we already know.\n",
    "    - We create numpy array with np.numpy() method\n",
    "    - Type(): type of the array. In this example it is numpy\n",
    "    - np.shape(): shape of the array. Row x Column"
   ]
  },
  {
   "cell_type": "code",
   "metadata": {
    "_cell_guid": "0a70fde1-b9c4-47c5-aed7-1c863b2fd1e1",
    "_uuid": "d60e9b9f706124117b1d7ffcdeefb45b9aca45e6",
    "id": "8tITohMXL3I-",
    "outputId": "2340f959-64c0-40df-be84-cb510a58612f",
    "ExecuteTime": {
     "end_time": "2024-10-01T06:41:03.824523Z",
     "start_time": "2024-10-01T06:41:03.741737Z"
    }
   },
   "source": [
    "# import numpy library\n",
    "import numpy as np\n",
    "\n",
    "# numpy array\n",
    "array = [[1,2,3],[4,5,6]]\n",
    "first_array = np.array(array)# 2 by 3 array\n",
    "print(\"Array Type: {}\".format(type(first_array))) # type\n",
    "print(\"Array Shape: {}\".format(first_array.shape)) # shape\n",
    "print(first_array)"
   ],
   "outputs": [
    {
     "name": "stdout",
     "output_type": "stream",
     "text": [
      "Array Type: <class 'numpy.ndarray'>\n",
      "Array Shape: (2, 3)\n",
      "[[1 2 3]\n",
      " [4 5 6]]\n"
     ]
    }
   ],
   "execution_count": 2
  },
  {
   "cell_type": "markdown",
   "metadata": {
    "_cell_guid": "042b8e6f-0be6-43a1-96b4-49b32999a208",
    "_uuid": "28a4eb1e95add272552310eacf20740b895e43cd",
    "id": "haQfsz7bL3I-"
   },
   "source": [
    "- We looked at numpy array.\n",
    "- Now examine how we implement tensor(pytorch array)\n",
    "- import pytorch library with import torch\n",
    "- We create tensor with torch.Tensor() method\n",
    "- type: type of the array. In this example it is tensor\n",
    "- shape: shape of the array. Row x Column"
   ]
  },
  {
   "cell_type": "code",
   "metadata": {
    "_cell_guid": "b383b085-a18f-4c18-a093-428336b6acf6",
    "_uuid": "126ea635dff4e2a6bc9a828dc560863e3be6aa74",
    "id": "1PFrK-NdL3I_",
    "outputId": "bb7effbc-f747-4e0c-fb84-32496f21f7ea",
    "ExecuteTime": {
     "end_time": "2024-10-01T06:41:07.071047Z",
     "start_time": "2024-10-01T06:41:06.194549Z"
    }
   },
   "source": [
    "# import pytorch library\n",
    "import torch\n",
    "\n",
    "# pytorch array\n",
    "tensor = torch.Tensor(array)\n",
    "print(\"Array Type: {}\".format(type(tensor))) # type\n",
    "print(\"Array Shape: {}\".format(tensor.shape)) # shape\n",
    "print(tensor)"
   ],
   "outputs": [
    {
     "name": "stdout",
     "output_type": "stream",
     "text": [
      "Array Type: <class 'torch.Tensor'>\n",
      "Array Shape: torch.Size([2, 3])\n",
      "tensor([[1., 2., 3.],\n",
      "        [4., 5., 6.]])\n"
     ]
    }
   ],
   "execution_count": 3
  },
  {
   "cell_type": "markdown",
   "metadata": {
    "_cell_guid": "e1f7ac29-8aa8-46ff-929f-94f2cedf7541",
    "_uuid": "fa1375fffab5b879eb828de7261e3e436ec15102",
    "id": "_vYjzglZL3I_"
   },
   "source": [
    "- Allocation is one of the most used technique in coding. Therefore lets learn how to make it with pytorch.\n",
    "- In order to learn, compare numpy and tensor\n",
    "    - np.ones() = torch.ones()\n",
    "    - np.random.rand() = torch.rand()"
   ]
  },
  {
   "cell_type": "code",
   "metadata": {
    "_cell_guid": "741468a5-5d91-48d7-95b0-6d02180d0c09",
    "_uuid": "2d36d68f3b57eef9d8f0ed94885f3376de92b414",
    "id": "yRQwEZREL3JA",
    "outputId": "0a980015-b65b-4dd7-d265-efdcf71626e0",
    "ExecuteTime": {
     "end_time": "2024-10-01T06:41:09.473772Z",
     "start_time": "2024-10-01T06:41:09.468785Z"
    }
   },
   "source": [
    "# numpy ones\n",
    "print(\"Numpy {}\\n\".format(np.ones((2, 3)))) # 2 by 3 in numpy\n",
    "\n",
    "# pytorch ones\n",
    "print(torch.ones((2, 3))) # 2 by 3 in tensor"
   ],
   "outputs": [
    {
     "name": "stdout",
     "output_type": "stream",
     "text": [
      "Numpy [[1. 1. 1.]\n",
      " [1. 1. 1.]]\n",
      "\n",
      "tensor([[1., 1., 1.],\n",
      "        [1., 1., 1.]])\n"
     ]
    }
   ],
   "execution_count": 4
  },
  {
   "cell_type": "code",
   "metadata": {
    "_cell_guid": "a578ff9f-df45-4acd-b5ec-2e26b2690adb",
    "_uuid": "1e6b8ce52af8a26ffc39fcd751a834ea7c870a2d",
    "id": "pH0lv3IdL3JA",
    "outputId": "7125762e-f37c-415e-de61-91349645211f",
    "ExecuteTime": {
     "end_time": "2024-10-01T06:41:10.787404Z",
     "start_time": "2024-10-01T06:41:10.782486Z"
    }
   },
   "source": [
    "# numpy random\n",
    "print(\"Numpy {}\\n\".format(np.random.rand(2, 3))) # 2 by 3 random numpy array\n",
    "\n",
    "# pytorch random\n",
    "print(torch.rand((2, 3))) # 2 by 3 random tensor"
   ],
   "outputs": [
    {
     "name": "stdout",
     "output_type": "stream",
     "text": [
      "Numpy [[0.76524446 0.31157538 0.7471968 ]\n",
      " [0.25374489 0.04275    0.46552909]]\n",
      "\n",
      "tensor([[0.4481, 0.3406, 0.5916],\n",
      "        [0.8170, 0.8032, 0.3868]])\n"
     ]
    }
   ],
   "execution_count": 5
  },
  {
   "cell_type": "markdown",
   "metadata": {
    "_cell_guid": "b5177215-45b5-40c1-b838-2d0e3acb48ba",
    "_uuid": "22b5e44de713f58261bf1ff0b3a52b22a81ef1ef",
    "id": "UN-C9RHBL3JA"
   },
   "source": [
    "\n",
    "- Lets look at conversion between tensor and numpy arrays.\n",
    "    - torch.from_numpy(): from numpy to tensor\n",
    "    - numpy(): from tensor to numpy"
   ]
  },
  {
   "cell_type": "code",
   "metadata": {
    "_cell_guid": "f2cedc86-bd28-4709-906f-e236f4a4dbbe",
    "_uuid": "c6d3a7b8e0e42fcadecb16264b0563f74d01439a",
    "id": "DJpzAYm6L3JA",
    "outputId": "137a3eac-910c-4026-90f7-46a283b2050c",
    "ExecuteTime": {
     "end_time": "2024-10-01T06:44:02.878528Z",
     "start_time": "2024-10-01T06:44:02.868650Z"
    }
   },
   "source": [
    "# random numpy array\n",
    "array = np.random.rand(2,2)\n",
    "print(\"{} {}\\n\".format(array[0], array[1]))\n",
    "\n",
    "# from numpy to tensor\n",
    "from_numpy_to_tensor = torch.from_numpy(array) # numpy -> tensor 변환\n",
    "print(\"{}\\n\".format(from_numpy_to_tensor))\n",
    "\n",
    "# from tensor to numpy\n",
    "tensor = from_numpy_to_tensor\n",
    "from_tensor_to_numpy = tensor.numpy() # tensor -> numpy 변환\n",
    "print(\"{} {}\\n\".format(type(from_tensor_to_numpy),from_tensor_to_numpy))"
   ],
   "outputs": [
    {
     "name": "stdout",
     "output_type": "stream",
     "text": [
      "[0.5114027  0.47743321] [0.08605087 0.49195687]\n",
      "\n",
      "tensor([[0.5114, 0.4774],\n",
      "        [0.0861, 0.4920]], dtype=torch.float64)\n",
      "\n",
      "<class 'numpy.ndarray'> [[0.5114027  0.47743321]\n",
      " [0.08605087 0.49195687]]\n",
      "\n"
     ]
    }
   ],
   "execution_count": 7
  },
  {
   "cell_type": "markdown",
   "metadata": {
    "_cell_guid": "6d7038e6-6aaf-4a1e-9204-406ab21082a2",
    "_uuid": "42cbe3900b733ab12867612d484d6fffaccd5e31",
    "id": "yy1ccrWSL3JB"
   },
   "source": [
    "### Basic Math with Pytorch\n",
    "- Resize: view()\n",
    "- a and b are tensor.\n",
    "- Addition: torch.add(a,b) = a + b\n",
    "- Subtraction: a.sub(b) = a - b\n",
    "- Element wise multiplication: torch.mul(a,b) = a * b\n",
    "- Element wise division: torch.div(a,b) = a / b\n",
    "- Mean: a.mean()\n",
    "- Standart Deviation (std): a.std()"
   ]
  },
  {
   "cell_type": "code",
   "metadata": {
    "_cell_guid": "e43af8e7-53ab-40bc-a4f8-4cea941c6df0",
    "_uuid": "66193cb3c790d13b8328c1c1262e1e3c17230bb8",
    "id": "hBYyTmuKL3JB",
    "outputId": "18b514b1-61e4-4873-edcb-12ab72ecd4f4",
    "ExecuteTime": {
     "end_time": "2024-10-01T06:46:04.122182Z",
     "start_time": "2024-10-01T06:46:04.110461Z"
    }
   },
   "source": [
    "# create tensor\n",
    "tensor = torch.Tensor(3,3)\n",
    "print(\"\\n\",tensor)\n",
    "\n",
    "# Resize\n",
    "print(\"{}{}\\n\".format(tensor.view(9).shape,tensor.view(9)))\n",
    "\n",
    "# Addition\n",
    "print(\"Addition: {}\\n\".format(torch.add(tensor,tensor)))\n",
    "\n",
    "# Subtraction\n",
    "print(\"Subtraction: {}\\n\".format(tensor.sub(tensor)))\n",
    "\n",
    "# Element wise multiplication\n",
    "print(\"Element wise multiplication: {}\\n\".format(torch.mul(tensor,tensor)))\n",
    "\n",
    "# Element wise division\n",
    "print(\"Element wise division: {}\\n\".format(torch.div(tensor,tensor)))\n",
    "\n",
    "# Mean\n",
    "tensor = torch.Tensor([1,2,3,4,5])\n",
    "print(\"Mean: {}\".format(tensor.mean()))\n",
    "\n",
    "# Standart deviation (std)\n",
    "print(\"std: {}\".format(tensor.std()))"
   ],
   "outputs": [
    {
     "name": "stdout",
     "output_type": "stream",
     "text": [
      "\n",
      " tensor([[0., 0., 0.],\n",
      "        [0., 0., 0.],\n",
      "        [0., 0., 0.]])\n",
      "torch.Size([9])tensor([0., 0., 0., 0., 0., 0., 0., 0., 0.])\n",
      "\n",
      "Addition: tensor([[0., 0., 0.],\n",
      "        [0., 0., 0.],\n",
      "        [0., 0., 0.]])\n",
      "\n",
      "Subtraction: tensor([[0., 0., 0.],\n",
      "        [0., 0., 0.],\n",
      "        [0., 0., 0.]])\n",
      "\n",
      "Element wise multiplication: tensor([[0., 0., 0.],\n",
      "        [0., 0., 0.],\n",
      "        [0., 0., 0.]])\n",
      "\n",
      "Element wise division: tensor([[nan, nan, nan],\n",
      "        [nan, nan, nan],\n",
      "        [nan, nan, nan]])\n",
      "\n",
      "Mean: 3.0\n",
      "std: 1.5811388492584229\n"
     ]
    }
   ],
   "execution_count": 8
  },
  {
   "cell_type": "markdown",
   "metadata": {
    "_cell_guid": "9fb8b7d4-848a-4d2c-8436-162fd47a0e11",
    "_uuid": "ff85694eebe8d02701e20d7c15b0ad2974175dd3",
    "id": "P-32mdEtL3JB"
   },
   "source": [
    "### Variables\n",
    "- It accumulates gradients.\n",
    "- We will use pytorch in neural network. And as you know, in neural network we have backpropagation where gradients are calculated. Therefore we need to handle gradients. If you do not know neural network, check my deep learning tutorial first because I will not explain detailed the concepts like optimization, loss function or backpropagation.\n",
    "- The Difference between variables and tensor is that a variable accumulates gradients.\n",
    "- We can make math operations with variables, too.\n",
    "- we need variables in order to make backward propagation"
   ]
  },
  {
   "cell_type": "code",
   "metadata": {
    "_cell_guid": "fd8ceaa3-f1e2-4761-924e-00a6daca4a82",
    "_uuid": "83e3222b53be71e5fc7207da552ce9e9b90486dd",
    "id": "fe1Ch6Z1L3JC",
    "outputId": "4d00c319-7267-433b-ff12-ea3cca46a5b3",
    "ExecuteTime": {
     "end_time": "2024-10-01T06:47:00.744216Z",
     "start_time": "2024-10-01T06:47:00.738782Z"
    }
   },
   "source": [
    "# import variable from pytorch library\n",
    "from torch.autograd import Variable\n",
    "\n",
    "# define variable\n",
    "var = Variable(torch.ones(3), requires_grad = True)\n",
    "var"
   ],
   "outputs": [
    {
     "data": {
      "text/plain": [
       "tensor([1., 1., 1.], requires_grad=True)"
      ]
     },
     "execution_count": 9,
     "metadata": {},
     "output_type": "execute_result"
    }
   ],
   "execution_count": 9
  },
  {
   "cell_type": "markdown",
   "metadata": {
    "_cell_guid": "f5d54144-0753-4e2a-bac1-ccfff3084f6e",
    "_uuid": "1cc3de04f98fc14624a18cceb5a84034b1dc29c7",
    "id": "tCnJOuePL3JC"
   },
   "source": [
    "- Assume we have equation y = x^2\n",
    "- Define x = [2,4] variable\n",
    "- After calculation we find that y = [4,16] (y = x^2)\n",
    "- Recap o equation is that o = (1/2)*sum(y) = (1/2)*sum(x^2)\n",
    "- deriavative of o = x\n",
    "- Result is equal to x so gradients are [2,4]\n",
    "- Lets implement"
   ]
  },
  {
   "cell_type": "code",
   "metadata": {
    "_cell_guid": "cd73c1cf-d250-48e4-bfb7-ffbe8c03c267",
    "_uuid": "ff4010e2958a72ce45e43118790f3e20dc2abad6",
    "id": "80py9RcfL3JC",
    "outputId": "c3a6fd4d-b0a5-495c-a0a7-cb732bffd0c8",
    "ExecuteTime": {
     "end_time": "2024-10-01T06:48:32.401274Z",
     "start_time": "2024-10-01T06:48:32.331112Z"
    }
   },
   "source": [
    "# basic backward propagation\n",
    "# we have an equation that is y = x^2\n",
    "array = [2,4]\n",
    "tensor = torch.Tensor(array)\n",
    "x = Variable(tensor, requires_grad = True)\n",
    "y = x**2\n",
    "print(\" y =  \",y)\n",
    "\n",
    "# recap o equation o = 1/2*sum(y)\n",
    "o = (1/2)*sum(y)\n",
    "print(\" o =  \",o)\n",
    "\n",
    "# backward\n",
    "o.backward() # calculates gradients\n",
    "\n",
    "# Variables accumulates gradients. In this part there is only one variable x.\n",
    "# Therefore variable x should be have gradients\n",
    "# Lets look at gradients with x.grad\n",
    "print(\"gradients: \",x.grad)"
   ],
   "outputs": [
    {
     "name": "stdout",
     "output_type": "stream",
     "text": [
      " y =   tensor([ 4., 16.], grad_fn=<PowBackward0>)\n",
      " o =   tensor(10., grad_fn=<MulBackward0>)\n",
      "gradients:  tensor([2., 4.])\n"
     ]
    }
   ],
   "execution_count": 10
  },
  {
   "cell_type": "markdown",
   "metadata": {
    "_cell_guid": "c916b8e5-e078-48de-8bc6-a757022ba65d",
    "_uuid": "6d8fa48e6e641da312175509aae00fea2760cb2c",
    "id": "Ts6iskUNL3JC"
   },
   "source": [
    "<a id=\"2\"></a> <br>\n",
    "### 2. Linear Regression\n",
    "- Detailed linear regression tutorial at: Linear Regression tutorial_ https://www.kaggle.com/kanncaa1/machine-learning-tutorial-for-beginners\n",
    "\n",
    "- y = Ax + B.\n",
    "    - A = slope of curve\n",
    "    - B = bias (point that intersect y-axis)\n",
    "\n",
    "-  If the car price is low, we sell more car. If the car price is high, we sell less car. This is the fact that we know and we have data set about this fact.\n",
    "\n",
    "- The goal is to guess the number of sold cars when the car price is 100."
   ]
  },
  {
   "cell_type": "code",
   "metadata": {
    "_cell_guid": "b9a3beb3-9e3c-4502-94c2-fe87ac623ca2",
    "_uuid": "0bed0a61494fab620e639745f0c48b341f665bf8",
    "id": "p1eojLOQL3JD",
    "outputId": "3540b1f6-f029-4355-da07-7de60c1beeee",
    "ExecuteTime": {
     "end_time": "2024-10-01T06:49:29.166786Z",
     "start_time": "2024-10-01T06:49:28.680809Z"
    }
   },
   "source": [
    "# Define car prices\n",
    "car_prices_array = [3,4,5,6,7,8,9]\n",
    "car_price_np = np.array(car_prices_array,dtype=np.float32) # numpy array로 변환\n",
    "car_price_np = car_price_np.reshape(-1,1) #reshape\n",
    "car_price_tensor = Variable(torch.from_numpy(car_price_np)) # define variable\n",
    "\n",
    "# lets define number of car sell\n",
    "number_of_car_sell_array = [ 7.5, 7, 6.5, 6.0, 5.5, 5.0, 4.5]\n",
    "number_of_car_sell_np = np.array(number_of_car_sell_array,dtype=np.float32) # numpy array 로 변환\n",
    "number_of_car_sell_np = number_of_car_sell_np.reshape(-1,1) #reshape\n",
    "number_of_car_sell_tensor = Variable(torch.from_numpy(number_of_car_sell_np)) # define variable\n",
    "\n",
    "# lets visualize our data\n",
    "import matplotlib.pyplot as plt\n",
    "plt.scatter(car_prices_array,number_of_car_sell_array)\n",
    "plt.xlabel(\"Car Price $\")\n",
    "plt.ylabel(\"Number of Car Sell\")\n",
    "plt.title(\"Car Price$ VS Number of Car Sell\")\n",
    "plt.show()"
   ],
   "outputs": [
    {
     "data": {
      "text/plain": [
       "<Figure size 640x480 with 1 Axes>"
      ],
      "image/png": "[encoded data removed]"
     },
     "metadata": {},
     "output_type": "display_data"
    }
   ],
   "execution_count": 11
  },
  {
   "cell_type": "markdown",
   "metadata": {
    "_cell_guid": "a6044795-9f61-4d67-a16b-8008903fd482",
    "_uuid": "9e7128ffc3fa1b0e545529d5f56d969d45cab78b",
    "id": "ddym7WyAL3JD"
   },
   "source": [
    "- Now this plot is our collected data\n",
    "- We have a question that is what will be number of car sell if the car price is 100$\n",
    "- In order to solve this question we need to use linear regression.\n",
    "- We need to line fit into this data. Aim is fitting line with minimum error.\n",
    "---\n",
    "- **Steps of Linear Regression**\n",
    "    1. create LinearRegression class\n",
    "    1. define model from this LinearRegression class\n",
    "    1. MSE: Mean squared error\n",
    "    1. Optimization (SGD:stochastic gradient descent)\n",
    "    1. Backpropagation\n",
    "    1. Prediction"
   ]
  },
  {
   "cell_type": "code",
   "metadata": {
    "_cell_guid": "2b74a84a-29da-44ed-9b5f-649a5c54b8a9",
    "_uuid": "8040e01e2bdc25d6fdbff800262f3afe8b9dac3a",
    "id": "QbSCP7xcL3JD",
    "outputId": "149228b8-37eb-4397-b5d7-c9aff0d8503f",
    "ExecuteTime": {
     "end_time": "2024-10-01T06:54:41.267809Z",
     "start_time": "2024-10-01T06:54:40.425426Z"
    }
   },
   "source": [
    "# Linear Regression with Pytorch\n",
    "\n",
    "# libraries\n",
    "import torch\n",
    "from torch.autograd import Variable\n",
    "import torch.nn as nn\n",
    "import warnings\n",
    "warnings.filterwarnings(\"ignore\")\n",
    "\n",
    "# create class\n",
    "class LinearRegression(nn.Module):\n",
    "    def __init__(self,input_size,output_size):\n",
    "        # super function. It inherits from nn.Module and we can access everythink in nn.Module\n",
    "        super(LinearRegression,self).__init__()\n",
    "        # Linear function.\n",
    "        self.linear = nn.Linear(input_dim,output_dim) # apply linear function\n",
    "\n",
    "    def forward(self,x):\n",
    "        return self.linear(x)\n",
    "\n",
    "# define model\n",
    "input_dim = 1\n",
    "output_dim = 1\n",
    "model = LinearRegression(input_dim,output_dim) # 선형회귀모델 사용\n",
    "\n",
    "# MSE\n",
    "mse = nn.MSELoss() #MSELoss 사용\n",
    "\n",
    "# Optimization (find parameters that minimize error)\n",
    "learning_rate = 0.02   # how fast we reach best parameters\n",
    "optimizer = torch.optim.SGD(model.parameters(),lr = learning_rate) # SGD = Stochastic Gradient Descent, 확률적 경사 하강법\n",
    "\n",
    "# train model\n",
    "loss_list = []\n",
    "iteration_number = 1001\n",
    "for iteration in range(iteration_number):\n",
    "\n",
    "    # optimization\n",
    "    optimizer.zero_grad() # gradient 초기화\n",
    "\n",
    "    # Forward to get output\n",
    "    results = model(car_price_tensor)\n",
    "\n",
    "    # Calculate Loss\n",
    "    loss = mse(results, number_of_car_sell_tensor) #MSE\n",
    "\n",
    "    # backward propagation\n",
    "    loss.backward()\n",
    "\n",
    "    # Updating parameters\n",
    "    optimizer.step()\n",
    "\n",
    "    # store loss\n",
    "    loss_list.append(loss.item())\n",
    "\n",
    "    # print loss\n",
    "    if(iteration % 50 == 0):\n",
    "        print('epoch {}, loss {}'.format(iteration, loss.data))\n",
    "\n",
    "plt.plot(range(iteration_number),loss_list)\n",
    "plt.xlabel(\"Number of Iterations\")\n",
    "plt.ylabel(\"Loss\")\n",
    "plt.show()"
   ],
   "outputs": [
    {
     "name": "stdout",
     "output_type": "stream",
     "text": [
      "epoch 0, loss 29.245807647705078\n",
      "epoch 50, loss 5.401479244232178\n",
      "epoch 100, loss 3.6500067710876465\n",
      "epoch 150, loss 2.4664618968963623\n",
      "epoch 200, loss 1.666691541671753\n",
      "epoch 250, loss 1.1262537240982056\n",
      "epoch 300, loss 0.7610568404197693\n",
      "epoch 350, loss 0.5142782330513\n",
      "epoch 400, loss 0.34751954674720764\n",
      "epoch 450, loss 0.23483328521251678\n",
      "epoch 500, loss 0.15868684649467468\n",
      "epoch 550, loss 0.10723119229078293\n",
      "epoch 600, loss 0.07246071100234985\n",
      "epoch 650, loss 0.04896485432982445\n",
      "epoch 700, loss 0.033087410032749176\n",
      "epoch 750, loss 0.022358551621437073\n",
      "epoch 800, loss 0.015108676627278328\n",
      "epoch 850, loss 0.010209625586867332\n",
      "epoch 900, loss 0.006899043917655945\n",
      "epoch 950, loss 0.004661968909204006\n",
      "epoch 1000, loss 0.003150308271870017\n"
     ]
    },
    {
     "data": {
      "text/plain": [
       "<Figure size 640x480 with 1 Axes>"
      ],
      "image/png": "[encoded data removed]"
     },
     "metadata": {},
     "output_type": "display_data"
    }
   ],
   "execution_count": 12
  },
  {
   "cell_type": "markdown",
   "metadata": {
    "_cell_guid": "b86efed7-1e47-44ad-9223-59c370a42560",
    "_uuid": "6f3c764684ae00949ef3f91f5eb75b7bd11c089d",
    "id": "IZ8BosRpL3JD"
   },
   "source": [
    "- Number of iteration is 1001.\n",
    "- Loss is almost zero that you can see from plot or loss in epoch number 1000.\n",
    "- Now we have a trained model.\n",
    "- While usign trained model, lets predict car prices."
   ]
  },
  {
   "cell_type": "code",
   "metadata": {
    "_cell_guid": "abecf557-4d1f-4e2a-a466-001abb4d27d2",
    "_uuid": "ec56085a9c6e91f18042f8a79dede663abf09cf0",
    "id": "4z97wc-KL3JD",
    "outputId": "e621e683-abd5-4969-dff1-34be7e96f7ed",
    "ExecuteTime": {
     "end_time": "2024-10-01T06:56:33.603662Z",
     "start_time": "2024-10-01T06:56:33.496768Z"
    }
   },
   "source": [
    "# predict our car price\n",
    "predicted = model(car_price_tensor).data.numpy()\n",
    "plt.scatter(car_prices_array,number_of_car_sell_array,label = \"original data\",color =\"red\") # original data\n",
    "plt.scatter(car_prices_array,predicted,label = \"predicted data\",color =\"blue\") # predicted data\n",
    "\n",
    "# predict if car price is 10$, what will be the number of car sell?\n",
    "predicted_10 = model(torch.Tensor([10])).data.numpy()\n",
    "plt.scatter(10,predicted_10.data,label = \"car price 10$\",color =\"green\")\n",
    "plt.legend()\n",
    "plt.xlabel(\"Car Price $\")\n",
    "plt.ylabel(\"Number of Car Sell\")\n",
    "plt.title(\"Original vs Predicted values\")\n",
    "plt.show()"
   ],
   "outputs": [
    {
     "data": {
      "text/plain": [
       "<Figure size 640x480 with 1 Axes>"
      ],
      "image/png": "[encoded data removed]"
     },
     "metadata": {},
     "output_type": "display_data"
    }
   ],
   "execution_count": 14
  },
  {
   "cell_type": "markdown",
   "metadata": {
    "_cell_guid": "49344c72-d0ea-4092-96fe-ed5508ae6e0b",
    "_uuid": "20b4762eb8607ed428703c2156c5aefe8b49ff3f",
    "id": "sDpJoUyGL3JE"
   },
   "source": [
    "<a id=\"3\"></a> <br>\n",
    "### Logistic Regression\n",
    "- Linear regression is not good at classification.\n",
    "- We use logistic regression for classification.\n",
    "- linear regression + logistic function(softmax) = logistic regression\n",
    "- Check my deep learning tutorial. There is detailed explanation of logistic regression.\n",
    "    - https://www.kaggle.com/kanncaa1/deep-learning-tutorial-for-beginners\n",
    "- **Steps of Logistic Regression**\n",
    "    1. Import Libraries\n",
    "    1. Prepare Dataset\n",
    "        - We use MNIST dataset.\n",
    "        - There are 28*28 images and 10 labels from 0 to 9\n",
    "        - Data is not normalized so we divide each image to 255 that is basic normalization for images.\n",
    "        - In order to split data, we use train_test_split method from sklearn library\n",
    "        - Size of train data is 80% and size of test data is 20%.\n",
    "        - Create feature and target tensors. At the next parts we create variable from these tensors. As you remember we need to define variable for accumulation of gradients.\n",
    "        - batch_size = batch size means is that for example we have data and it includes 1000 sample. We can train 1000 sample in a same time or we can divide it 10 groups which include 100 sample and train 10 groups in order. Batch size is the group size. For example, I choose batch_size = 100, that means in order to train all data only once we have 336 groups. We train each groups(336) that have batch_size(quota) 100. Finally we train 33600 sample one time.\n",
    "        - epoch: 1 epoch means training all samples one time.\n",
    "        - In our example: we have 33600 sample to train and we decide our batch_size is 100. Also we decide epoch is 29(accuracy achieves almost highest value when epoch is 29). Data is trained 29 times. Question is that how many iteration do I need? Lets calculate:\n",
    "            - training data 1 times = training 33600 sample (because data includes 33600 sample)\n",
    "            - But we split our data 336 groups(group_size = batch_size = 100) our data\n",
    "            - Therefore, 1 epoch(training data only once) takes 336 iteration\n",
    "            - We have 29 epoch, so total iterarion is 9744(that is almost 10000 which I used)\n",
    "        - TensorDataset(): Data set wrapping tensors. Each sample is retrieved by indexing tensors along the first dimension.\n",
    "        - DataLoader(): It combines dataset and sample. It also provides multi process iterators over the dataset.\n",
    "        - Visualize one of the images in dataset\n",
    "    1. Create Logistic Regression Model\n",
    "        - Same with linear regression.\n",
    "        - However as you expect, there should be logistic function in model right?\n",
    "        - In pytorch, logistic function is in the loss function where we will use at next parts.\n",
    "    1. Instantiate Model\n",
    "        - input_dim = 28*28 # size of image px*px\n",
    "        - output_dim = 10  # labels 0,1,2,3,4,5,6,7,8,9\n",
    "        - create model\n",
    "    1. Instantiate Loss\n",
    "        - Cross entropy loss\n",
    "        - It calculates loss that is not surprise :)\n",
    "        - It also has softmax(logistic function) in it.\n",
    "    1. Instantiate Optimizer\n",
    "        - SGD Optimizer\n",
    "    1. Traning the Model\n",
    "    1. Prediction\n",
    "- As a result, as you can see from plot, while loss decreasing, accuracy(almost 85%) is increasing and our model is learning(training).    "
   ]
  },
  {
   "cell_type": "code",
   "metadata": {
    "_cell_guid": "a0bf0fa7-c527-4fd3-b504-02a88fc94798",
    "_uuid": "1382c63fe24710d3b2840e7dcf172cddbf533743",
    "id": "UNRuk7UHL3JE",
    "ExecuteTime": {
     "end_time": "2024-10-01T06:59:54.062456Z",
     "start_time": "2024-10-01T06:59:54.059609Z"
    }
   },
   "source": [
    "# Import Libraries\n",
    "import torch\n",
    "import torch.nn as nn\n",
    "from torch.autograd import Variable\n",
    "from torch.utils.data import DataLoader, TensorDataset\n",
    "import pandas as pd\n",
    "from sklearn.model_selection import train_test_split"
   ],
   "outputs": [],
   "execution_count": 17
  },
  {
   "cell_type": "code",
   "metadata": {
    "_cell_guid": "59cdc9d5-da8f-4d7a-abc5-c62b0008afb0",
    "_uuid": "c6e0d7d3843719091564a580dbe08f67ee0d93ec",
    "id": "GQVUKACTL3JE",
    "outputId": "80cd5209-0179-483c-c03f-4359f7906cc8",
    "ExecuteTime": {
     "end_time": "2024-10-01T06:59:56.518036Z",
     "start_time": "2024-10-01T06:59:54.945238Z"
    }
   },
   "source": [
    "# Prepare Dataset\n",
    "# load data\n",
    "train = pd.read_csv(r\"../input/train.csv\",dtype = np.float32)\n",
    "\n",
    "# split data into features(pixels) and labels(numbers from 0 to 9)\n",
    "targets_numpy = train.label.values\n",
    "features_numpy = train.loc[:,train.columns != \"label\"].values/255 # normalization\n",
    "\n",
    "# train test split. Size of train data is 80% and size of test data is 20%.\n",
    "features_train, features_test, targets_train, targets_test = train_test_split(features_numpy,\n",
    "                                                                             targets_numpy,\n",
    "                                                                             test_size = 0.2,\n",
    "                                                                             random_state = 42)\n",
    "\n",
    "# create feature and targets tensor for train set. As you remember we need variable to accumulate gradients. Therefore first we create tensor, then we will create variable\n",
    "featuresTrain = torch.from_numpy(features_train)\n",
    "targetsTrain = torch.from_numpy(targets_train).type(torch.LongTensor) # data type is long\n",
    "\n",
    "# create feature and targets tensor for test set.\n",
    "featuresTest = torch.from_numpy(features_train).type(torch.FloatTensor)\n",
    "targetsTest = torch.from_numpy(targets_train).type(torch.FloatTensor)\n",
    "## 힌트: PyTorch Tesnor를 생성해주세요!\n",
    "## 어떤 데이터를 PyTorch Tensor를 변환하고, 어떤 데이터타입을 선택할지 직접 작성해주세요\n",
    "\n",
    "# batch_size, epoch and iteration\n",
    "batch_size = 100\n",
    "n_iters = 10000\n",
    "num_epochs = n_iters / (len(features_train) / batch_size)\n",
    "num_epochs = int(num_epochs)\n",
    "\n",
    "# Pytorch train and test sets\n",
    "train = TensorDataset(featuresTrain, targetsTrain)\n",
    "test = TensorDataset(featuresTest, targetsTest)\n",
    "## 힌트: 입력 데이터와 레이블을 텐서로 변환하여, 이들을 TensorDataset으로 묶어 train과 test 데이터셋을 구성합니다\n",
    "## TensorDataset에는 두 개의 텐서를 전달해야 하며, 각각 특징과 레이블에 해당합니다.\n",
    "## 첫 번째 텐서는 입력 데이터, 두 번째 텐서는 정답 데이터이며 입력 데이터와 정답 데이터의 샘플 수가 동일해야 합니다.\n",
    "\n",
    "# data loader\n",
    "train_loader = DataLoader(train, batch_size = batch_size, shuffle = False)\n",
    "test_loader = DataLoader(test, batch_size = batch_size, shuffle = False)\n",
    "\n",
    "# visualize one of the images in data set\n",
    "plt.imshow(features_numpy[10].reshape(28,28))\n",
    "plt.axis(\"off\")\n",
    "plt.title(str(targets_numpy[10]))\n",
    "plt.savefig('graph.png')\n",
    "plt.show()"
   ],
   "outputs": [
    {
     "data": {
      "text/plain": [
       "<Figure size 640x480 with 1 Axes>"
      ],
      "image/png": "[encoded data removed]"
     },
     "metadata": {},
     "output_type": "display_data"
    }
   ],
   "execution_count": 18
  },
  {
   "cell_type": "code",
   "metadata": {
    "_cell_guid": "03a25584-c567-4b5e-bae1-7bc9e02184fe",
    "_uuid": "7c7a7265a23a8101d5ed0c8826dfec3726d6161d",
    "id": "MP7aa-ABL3JE",
    "ExecuteTime": {
     "end_time": "2024-10-01T07:00:44.129891Z",
     "start_time": "2024-10-01T07:00:44.122555Z"
    }
   },
   "source": [
    "# Create Logistic Regression Model\n",
    "class LogisticRegressionModel(nn.Module):\n",
    "    def __init__(self, input_dim, output_dim):\n",
    "        super(LogisticRegressionModel, self).__init__()\n",
    "        # Linear part\n",
    "        self.linear = nn.Linear(input_dim, output_dim)\n",
    "        # There should be logistic function right?\n",
    "        # However logistic function in pytorch is in loss function\n",
    "        # So actually we do not forget to put it, it is only at next parts\n",
    "\n",
    "    def forward(self, x):\n",
    "        out = self.linear(x)\n",
    "        return out\n",
    "\n",
    "# Instantiate Model Class\n",
    "input_dim = 28*28 # size of image px*px\n",
    "output_dim = 10  # labels 0,1,2,3,4,5,6,7,8,9\n",
    "\n",
    "# create logistic regression model\n",
    "model = LogisticRegressionModel(input_dim, output_dim)\n",
    "\n",
    "# Cross Entropy Loss\n",
    "error = nn.CrossEntropyLoss()\n",
    "\n",
    "# SGD Optimizer\n",
    "learning_rate = 0.001\n",
    "optimizer = torch.optim.SGD(model.parameters(), lr = learning_rate)\n",
    "## 힌트: 모델 파라미터를 model.parameters()로 넘겨줍니다\n",
    "## 학습률(learning rate)은 훈련 속도를 결정합니다\n",
    "## 최적화 함수가 SGD이므로, torch.optim.SGD를 사용합니다"
   ],
   "outputs": [],
   "execution_count": 19
  },
  {
   "cell_type": "code",
   "metadata": {
    "_cell_guid": "82de08d9-7f3c-4eb9-8a99-9d7a8677799c",
    "_uuid": "0cab9c3ec72f73db1b06578fa7a51611141e16da",
    "id": "ywecWIQvL3JE",
    "outputId": "52133152-409f-42f6-b229-055f5a881725",
    "ExecuteTime": {
     "end_time": "2024-10-01T07:03:02.761786Z",
     "start_time": "2024-10-01T07:00:49.899858Z"
    }
   },
   "source": [
    "# Traning the Model\n",
    "count = 0\n",
    "loss_list = []\n",
    "iteration_list = []\n",
    "for epoch in range(num_epochs):\n",
    "    for i, (images, labels) in enumerate(train_loader):\n",
    "\n",
    "        # Define variables\n",
    "        train = Variable(images.view(-1, 28*28))\n",
    "        labels = Variable(labels)\n",
    "\n",
    "        # Clear gradients\n",
    "        optimizer.zero_grad()\n",
    "\n",
    "        # Forward propagation\n",
    "        outputs = model(train)\n",
    "\n",
    "        # Calculate softmax and cross entropy loss\n",
    "        loss = error(outputs, labels)\n",
    "\n",
    "        # Calculate gradients\n",
    "        loss.backward()\n",
    "\n",
    "        # Update parameters\n",
    "        optimizer.step()\n",
    "\n",
    "        count += 1\n",
    "\n",
    "        # Prediction\n",
    "        if count % 50 == 0:\n",
    "            # Calculate Accuracy\n",
    "            correct = 0\n",
    "            total = 0\n",
    "            # Predict test dataset\n",
    "            for images, labels in test_loader:\n",
    "                test = Variable(images.view(-1, 28*28))\n",
    "\n",
    "                # Forward propagation\n",
    "                outputs = model(test)\n",
    "\n",
    "                # Get predictions from the maximum value\n",
    "                predicted = torch.max(outputs.data, 1)[1]\n",
    "\n",
    "                # Total number of labels\n",
    "                total += len(labels)\n",
    "\n",
    "                # Total correct predictions\n",
    "                correct += (predicted == labels).sum()\n",
    "\n",
    "            accuracy = 100 * correct / float(total)\n",
    "\n",
    "            # store loss and iteration\n",
    "            loss_list.append(loss.data)\n",
    "            iteration_list.append(count)\n",
    "        if count % 500 == 0:\n",
    "            # Print Loss\n",
    "            print('Iteration: {}  Loss: {}  Accuracy: {}%'.format(count, loss.data, accuracy))"
   ],
   "outputs": [
    {
     "name": "stdout",
     "output_type": "stream",
     "text": [
      "Iteration: 500  Loss: 1.813926339149475  Accuracy: 67.04166412353516%\n",
      "Iteration: 1000  Loss: 1.6044539213180542  Accuracy: 75.49404907226562%\n",
      "Iteration: 1500  Loss: 1.2816065549850464  Accuracy: 78.375%\n",
      "Iteration: 2000  Loss: 1.202232003211975  Accuracy: 80.05357360839844%\n",
      "Iteration: 2500  Loss: 1.049696922302246  Accuracy: 81.15178680419922%\n",
      "Iteration: 3000  Loss: 0.9374659061431885  Accuracy: 82.07737731933594%\n",
      "Iteration: 3500  Loss: 0.8989803194999695  Accuracy: 82.67559814453125%\n",
      "Iteration: 4000  Loss: 0.7565435767173767  Accuracy: 83.10416412353516%\n",
      "Iteration: 4500  Loss: 0.9778913855552673  Accuracy: 83.54762268066406%\n",
      "Iteration: 5000  Loss: 0.8108006119728088  Accuracy: 83.9702377319336%\n",
      "Iteration: 5500  Loss: 0.7502163648605347  Accuracy: 84.2202377319336%\n",
      "Iteration: 6000  Loss: 0.8681691884994507  Accuracy: 84.51786041259766%\n",
      "Iteration: 6500  Loss: 0.6619981527328491  Accuracy: 84.74702453613281%\n",
      "Iteration: 7000  Loss: 0.7252832651138306  Accuracy: 85.00297546386719%\n",
      "Iteration: 7500  Loss: 0.635311484336853  Accuracy: 85.21131134033203%\n",
      "Iteration: 8000  Loss: 0.7414671182632446  Accuracy: 85.4077377319336%\n",
      "Iteration: 8500  Loss: 0.5512661337852478  Accuracy: 85.60713958740234%\n",
      "Iteration: 9000  Loss: 0.6600227952003479  Accuracy: 85.81547546386719%\n",
      "Iteration: 9500  Loss: 0.525985062122345  Accuracy: 85.97321319580078%\n"
     ]
    }
   ],
   "execution_count": 20
  },
  {
   "cell_type": "code",
   "metadata": {
    "_cell_guid": "924e9606-e155-4e39-89d3-39f941fd52f8",
    "_uuid": "db87c03e9d263f07eb75f82a914d3e966895a6c1",
    "id": "y6WQ-vzpL3JE",
    "outputId": "c95c0eb1-1594-49b5-efec-f69403197d74",
    "ExecuteTime": {
     "end_time": "2024-10-01T07:03:41.024237Z",
     "start_time": "2024-10-01T07:03:40.931913Z"
    }
   },
   "source": [
    "# visualization\n",
    "plt.plot(iteration_list,loss_list)\n",
    "plt.xlabel(\"Number of iteration\")\n",
    "plt.ylabel(\"Loss\")\n",
    "plt.title(\"Logistic Regression: Loss vs Number of iteration\")\n",
    "plt.show()"
   ],
   "outputs": [
    {
     "data": {
      "text/plain": [
       "<Figure size 640x480 with 1 Axes>"
      ],
      "image/png": "[encoded data removed]"
     },
     "metadata": {},
     "output_type": "display_data"
    }
   ],
   "execution_count": 21
  },
  {
   "cell_type": "markdown",
   "metadata": {
    "_cell_guid": "4d38db05-fad0-468c-9000-20caf5465eca",
    "_uuid": "ea9eba414f2f0f1e63ef564dc0ee708c753ff51f",
    "id": "Yr-BnnvxL3JF"
   },
   "source": [
    "<a id=\"4\"></a> <br>\n",
    "### Artificial Neural Network (ANN)\n",
    "- Logistic regression is good at classification but when complexity(non linearity) increases, the accuracy of model decreases.\n",
    "- Therefore, we need to increase complexity of model.\n",
    "- In order to increase complexity of model, we need to add more non linear functions as hidden layer.\n",
    "- I am saying again that if you do not know what is artificial neural network check my deep learning tutorial because I will not explain neural network detailed here, only explain pytorch.\n",
    "- Artificial Neural Network tutorial: https://www.kaggle.com/kanncaa1/deep-learning-tutorial-for-beginners\n",
    "- What we expect from artificial neural network is that when complexity increases, we use more hidden layers and our model can adapt better. As a result accuracy increase.\n",
    "- **Steps of ANN:**\n",
    "    1. Import Libraries\n",
    "        - In order to show you, I import again but we actually imported them at previous parts.\n",
    "    1. Prepare Dataset\n",
    "        - Totally same with previous part(logistic regression).\n",
    "        - We use same dataset so we only need train_loader and test_loader.\n",
    "        - We use same batch size, epoch and iteration numbers.\n",
    "    1. Create ANN Model\n",
    "        - We add 3 hidden layers.\n",
    "        - We use ReLU, Tanh and ELU activation functions for diversity.\n",
    "    1. Instantiate Model Class\n",
    "        - input_dim = 28*28 # size of image px*px\n",
    "        - output_dim = 10  # labels 0,1,2,3,4,5,6,7,8,9\n",
    "        - Hidden layer dimension is 150. I only choose it as 150 there is no reason. Actually hidden layer dimension is hyperparameter and it should be chosen and tuned. You can try different values for hidden layer dimension and observe the results.\n",
    "        - create model\n",
    "    1. Instantiate Loss\n",
    "        - Cross entropy loss\n",
    "        - It also has softmax(logistic function) in it.\n",
    "    1. Instantiate Optimizer\n",
    "        - SGD Optimizer\n",
    "    1. Traning the Model\n",
    "    1. Prediction\n",
    "- As a result, as you can see from plot, while loss decreasing, accuracy is increasing and our model is learning(training).\n",
    "- Thanks to hidden layers model learnt better and accuracy(almost 95%) is better than accuracy of logistic regression model."
   ]
  },
  {
   "cell_type": "code",
   "metadata": {
    "_cell_guid": "6925f8ed-54b7-4d9a-9801-acd65f213bc9",
    "_uuid": "cf25ee4b28129a47bac4c9dc7d932295155b79f7",
    "id": "w1UDReo0L3JF",
    "ExecuteTime": {
     "end_time": "2024-10-01T07:03:49.946386Z",
     "start_time": "2024-10-01T07:03:49.944437Z"
    }
   },
   "source": [
    "# Import Libraries\n",
    "import torch\n",
    "import torch.nn as nn\n",
    "from torch.autograd import Variable"
   ],
   "outputs": [],
   "execution_count": 24
  },
  {
   "cell_type": "code",
   "metadata": {
    "_cell_guid": "3472f1c1-5888-4abe-822c-3a493a5f8be5",
    "_uuid": "cefd0bb2f23b80f30ca65cbb08859ad81ab12e08",
    "id": "AKVIKioaL3JF",
    "ExecuteTime": {
     "end_time": "2024-10-01T07:04:25.770397Z",
     "start_time": "2024-10-01T07:04:25.764325Z"
    }
   },
   "source": [
    "# Create ANN Model\n",
    "class ANNModel(nn.Module):\n",
    "\n",
    "    def __init__(self, input_dim, hidden_dim, output_dim):\n",
    "        super(ANNModel, self).__init__()\n",
    "\n",
    "        # Linear function 1: 784 --> 150\n",
    "        self.fc1 = nn.Linear(input_dim, hidden_dim)\n",
    "        # Non-linearity 1\n",
    "        self.relu1 = nn.ReLU()\n",
    "\n",
    "        # Linear function 2: 150 --> 150\n",
    "        self.fc2 = nn.Linear(hidden_dim, hidden_dim)\n",
    "        # Non-linearity 2\n",
    "        self.tanh2 = nn.Tanh()\n",
    "\n",
    "        # Linear function 3: 150 --> 150\n",
    "        self.fc3 = nn.Linear(hidden_dim, hidden_dim)\n",
    "        # Non-linearity 3\n",
    "        self.elu3 = nn.ELU()\n",
    "\n",
    "        # Linear function 4 (readout): 150 --> 10\n",
    "        self.fc4 = nn.Linear(hidden_dim, output_dim)\n",
    "\n",
    "    def forward(self, x):\n",
    "        # Linear function 1\n",
    "        out = self.fc1(x)\n",
    "        # Non-linearity 1\n",
    "        out = self.relu1(out)\n",
    "\n",
    "        # Linear function 2\n",
    "        out = self.fc2(out)\n",
    "        # Non-linearity 2\n",
    "        out = self.tanh2(out)\n",
    "\n",
    "        # Linear function 2\n",
    "        out = self.fc3(out)\n",
    "        # Non-linearity 2\n",
    "        out = self.elu3(out)\n",
    "\n",
    "        # Linear function 4 (readout)\n",
    "        out = self.fc4(out)\n",
    "        return out\n",
    "\n",
    "# instantiate ANN\n",
    "input_dim = 28*28\n",
    "hidden_dim = 150 #hidden layer dim is one of the hyper parameter and it should be chosen and tuned. For now I only say 150 there is no reason.\n",
    "output_dim = 10\n",
    "\n",
    "# Create ANN\n",
    "model = ANNModel(input_dim, hidden_dim, output_dim)\n",
    "\n",
    "# Cross Entropy Loss\n",
    "error = nn.CrossEntropyLoss()\n",
    "\n",
    "# SGD Optimizer\n",
    "learning_rate = 0.02\n",
    "optimizer = torch.optim.SGD(model.parameters(), lr = learning_rate)\n",
    "## 힌트: 모델 파라미터를 model.parameters()로 넘겨줍니다\n",
    "## 학습률(learning rate)은 훈련 속도를 결정합니다\n",
    "## 최적화 함수가 SGD이므로, torch.optim.SGD를 사용합니다"
   ],
   "outputs": [],
   "execution_count": 25
  },
  {
   "cell_type": "code",
   "metadata": {
    "_cell_guid": "7550e98b-5011-4d09-88ee-97b0ecbc6f19",
    "_uuid": "c91694f3af94e4e1b76ab01489e186718c70ccd3",
    "id": "Ks4ae46FL3JF",
    "outputId": "d066f779-7db2-46a8-999b-b0f66405ecf7",
    "ExecuteTime": {
     "end_time": "2024-10-01T07:09:13.438656Z",
     "start_time": "2024-10-01T07:04:29.995048Z"
    }
   },
   "source": [
    "# ANN model training\n",
    "count = 0\n",
    "loss_list = []\n",
    "iteration_list = []\n",
    "accuracy_list = []\n",
    "for epoch in range(num_epochs):\n",
    "    for i, (images, labels) in enumerate(train_loader):\n",
    "\n",
    "        train = Variable(images.view(-1, 28*28))\n",
    "        labels = Variable(labels)\n",
    "\n",
    "        # Clear gradients\n",
    "        optimizer.zero_grad()\n",
    "\n",
    "        # Forward propagation\n",
    "        outputs = model(train)\n",
    "\n",
    "        # Calculate softmax and ross entropy loss\n",
    "        loss = error(outputs, labels)\n",
    "\n",
    "        # Calculating gradients\n",
    "        loss.backward()\n",
    "\n",
    "        # Update parameters\n",
    "        optimizer.step()\n",
    "\n",
    "        count += 1\n",
    "\n",
    "        if count % 50 == 0:\n",
    "            # Calculate Accuracy\n",
    "            correct = 0\n",
    "            total = 0\n",
    "            # Predict test dataset\n",
    "            for images, labels in test_loader:\n",
    "\n",
    "                test = Variable(images.view(-1, 28*28))\n",
    "\n",
    "                # Forward propagation\n",
    "                outputs = model(test)\n",
    "\n",
    "                # Get predictions from the maximum value\n",
    "                predicted = torch.max(outputs.data, 1)[1]\n",
    "\n",
    "                # Total number of labels\n",
    "                total += len(labels)\n",
    "\n",
    "                # Total correct predictions\n",
    "                correct += (predicted == labels).sum()\n",
    "\n",
    "            accuracy = 100 * correct / float(total)\n",
    "\n",
    "            # store loss and iteration\n",
    "            loss_list.append(loss.data)\n",
    "            iteration_list.append(count)\n",
    "            accuracy_list.append(accuracy)\n",
    "        if count % 500 == 0:\n",
    "            # Print Loss\n",
    "            print('Iteration: {}  Loss: {}  Accuracy: {} %'.format(count, loss.data, accuracy))"
   ],
   "outputs": [
    {
     "name": "stdout",
     "output_type": "stream",
     "text": [
      "Iteration: 500  Loss: 0.7595346570014954  Accuracy: 78.53868865966797 %\n",
      "Iteration: 1000  Loss: 0.46393585205078125  Accuracy: 87.55654907226562 %\n",
      "Iteration: 1500  Loss: 0.23699231445789337  Accuracy: 90.0922622680664 %\n",
      "Iteration: 2000  Loss: 0.29765549302101135  Accuracy: 91.43452453613281 %\n",
      "Iteration: 2500  Loss: 0.31111854314804077  Accuracy: 92.42262268066406 %\n",
      "Iteration: 3000  Loss: 0.1238677129149437  Accuracy: 93.49404907226562 %\n",
      "Iteration: 3500  Loss: 0.2314896434545517  Accuracy: 94.24702453613281 %\n",
      "Iteration: 4000  Loss: 0.06383062154054642  Accuracy: 94.7797622680664 %\n",
      "Iteration: 4500  Loss: 0.2980293035507202  Accuracy: 95.38095092773438 %\n",
      "Iteration: 5000  Loss: 0.08856440335512161  Accuracy: 95.82737731933594 %\n",
      "Iteration: 5500  Loss: 0.1813809722661972  Accuracy: 96.08036041259766 %\n",
      "Iteration: 6000  Loss: 0.20110292732715607  Accuracy: 96.39881134033203 %\n",
      "Iteration: 6500  Loss: 0.09838041663169861  Accuracy: 96.83036041259766 %\n",
      "Iteration: 7000  Loss: 0.1043807715177536  Accuracy: 97.20237731933594 %\n",
      "Iteration: 7500  Loss: 0.12715791165828705  Accuracy: 97.29762268066406 %\n",
      "Iteration: 8000  Loss: 0.17714495956897736  Accuracy: 97.41071319580078 %\n",
      "Iteration: 8500  Loss: 0.06359264254570007  Accuracy: 97.77083587646484 %\n",
      "Iteration: 9000  Loss: 0.0544164665043354  Accuracy: 98.03868865966797 %\n",
      "Iteration: 9500  Loss: 0.019644415006041527  Accuracy: 98.19047546386719 %\n"
     ]
    }
   ],
   "execution_count": 26
  },
  {
   "cell_type": "code",
   "metadata": {
    "_cell_guid": "5579a7d6-7766-4d0f-b9d0-584cb4f28321",
    "_uuid": "c5e2e6da7f1ee801e38358dc28d4c99e32d2b761",
    "id": "l_C-2MgIL3JF",
    "outputId": "17484782-4d46-416e-9187-6ef0cafaab7d",
    "ExecuteTime": {
     "end_time": "2024-10-01T07:09:16.698499Z",
     "start_time": "2024-10-01T07:09:16.551905Z"
    }
   },
   "source": [
    "# visualization loss\n",
    "plt.plot(iteration_list,loss_list)\n",
    "plt.xlabel(\"Number of iteration\")\n",
    "plt.ylabel(\"Loss\")\n",
    "plt.title(\"ANN: Loss vs Number of iteration\")\n",
    "plt.show()\n",
    "\n",
    "# visualization accuracy\n",
    "plt.plot(iteration_list,accuracy_list,color = \"red\")\n",
    "plt.xlabel(\"Number of iteration\")\n",
    "plt.ylabel(\"Accuracy\")\n",
    "plt.title(\"ANN: Accuracy vs Number of iteration\")\n",
    "plt.show()"
   ],
   "outputs": [
    {
     "data": {
      "text/plain": [
       "<Figure size 640x480 with 1 Axes>"
      ],
      "image/png": "[encoded data removed]"
     },
     "metadata": {},
     "output_type": "display_data"
    },
    {
     "data": {
      "text/plain": [
       "<Figure size 640x480 with 1 Axes>"
      ],
      "image/png": "[encoded data removed]"
     },
     "metadata": {},
     "output_type": "display_data"
    }
   ],
   "execution_count": 27
  }
 ],
 "metadata": {
  "colab": {
   "provenance": []
  },
  "kernelspec": {
   "display_name": "Python 3",
   "language": "python",
   "name": "python3"
  },
  "language_info": {
   "codemirror_mode": {
    "name": "ipython",
    "version": 3
   },
   "file_extension": ".py",
   "mimetype": "text/x-python",
   "name": "python",
   "nbconvert_exporter": "python",
   "pygments_lexer": "ipython3",
   "version": "3.12.4"
  }
 },
 "nbformat": 4,
 "nbformat_minor": 0
}

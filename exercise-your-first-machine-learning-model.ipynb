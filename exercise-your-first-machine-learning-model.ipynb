{
 "cells": [
  {
   "cell_type": "markdown",
   "id": "b51faa9f",
   "metadata": {
    "papermill": {
     "duration": 0.007613,
     "end_time": "2024-09-16T04:53:33.233226",
     "exception": false,
     "start_time": "2024-09-16T04:53:33.225613",
     "status": "completed"
    },
    "tags": []
   },
   "source": [
    "**This notebook is an exercise in the [Introduction to Machine Learning](https://www.kaggle.com/learn/intro-to-machine-learning) course.  You can reference the tutorial at [this link](https://www.kaggle.com/dansbecker/your-first-machine-learning-model).**\n",
    "\n",
    "---\n"
   ]
  },
  {
   "cell_type": "markdown",
   "id": "84f6f74f",
   "metadata": {
    "papermill": {
     "duration": 0.006648,
     "end_time": "2024-09-16T04:53:33.247000",
     "exception": false,
     "start_time": "2024-09-16T04:53:33.240352",
     "status": "completed"
    },
    "tags": []
   },
   "source": [
    "## Recap\n",
    "So far, you have loaded your data and reviewed it with the following code. Run this cell to set up your coding environment where the previous step left off."
   ]
  },
  {
   "cell_type": "code",
   "execution_count": 1,
   "id": "199f6c5c",
   "metadata": {
    "execution": {
     "iopub.execute_input": "2024-09-16T04:53:33.263448Z",
     "iopub.status.busy": "2024-09-16T04:53:33.262443Z",
     "iopub.status.idle": "2024-09-16T04:53:35.511203Z",
     "shell.execute_reply": "2024-09-16T04:53:35.509712Z"
    },
    "papermill": {
     "duration": 2.259992,
     "end_time": "2024-09-16T04:53:35.513937",
     "exception": false,
     "start_time": "2024-09-16T04:53:33.253945",
     "status": "completed"
    },
    "tags": []
   },
   "outputs": [
    {
     "name": "stdout",
     "output_type": "stream",
     "text": [
      "Setup Complete\n"
     ]
    }
   ],
   "source": [
    "# Code you have previously used to load data\n",
    "import pandas as pd\n",
    "\n",
    "# Path of the file to read\n",
    "iowa_file_path = '../input/home-data-for-ml-course/train.csv'\n",
    "\n",
    "home_data = pd.read_csv(iowa_file_path)\n",
    "\n",
    "# Set up code checking\n",
    "from learntools.core import binder\n",
    "binder.bind(globals())\n",
    "from learntools.machine_learning.ex3 import *\n",
    "\n",
    "print(\"Setup Complete\")"
   ]
  },
  {
   "cell_type": "markdown",
   "id": "54b2e29f",
   "metadata": {
    "papermill": {
     "duration": 0.006889,
     "end_time": "2024-09-16T04:53:35.528197",
     "exception": false,
     "start_time": "2024-09-16T04:53:35.521308",
     "status": "completed"
    },
    "tags": []
   },
   "source": [
    "# Exercises\n",
    "\n",
    "## Step 1: Specify Prediction Target\n",
    "Select the target variable, which corresponds to the sales price. Save this to a new variable called `y`. You'll need to print a list of the columns to find the name of the column you need.\n"
   ]
  },
  {
   "cell_type": "code",
   "execution_count": 2,
   "id": "6d9d6dcf",
   "metadata": {
    "execution": {
     "iopub.execute_input": "2024-09-16T04:53:35.545340Z",
     "iopub.status.busy": "2024-09-16T04:53:35.544464Z",
     "iopub.status.idle": "2024-09-16T04:53:35.556961Z",
     "shell.execute_reply": "2024-09-16T04:53:35.555642Z"
    },
    "papermill": {
     "duration": 0.024392,
     "end_time": "2024-09-16T04:53:35.559643",
     "exception": false,
     "start_time": "2024-09-16T04:53:35.535251",
     "status": "completed"
    },
    "tags": []
   },
   "outputs": [
    {
     "data": {
      "text/plain": [
       "Index(['Id', 'MSSubClass', 'MSZoning', 'LotFrontage', 'LotArea', 'Street',\n",
       "       'Alley', 'LotShape', 'LandContour', 'Utilities', 'LotConfig',\n",
       "       'LandSlope', 'Neighborhood', 'Condition1', 'Condition2', 'BldgType',\n",
       "       'HouseStyle', 'OverallQual', 'OverallCond', 'YearBuilt', 'YearRemodAdd',\n",
       "       'RoofStyle', 'RoofMatl', 'Exterior1st', 'Exterior2nd', 'MasVnrType',\n",
       "       'MasVnrArea', 'ExterQual', 'ExterCond', 'Foundation', 'BsmtQual',\n",
       "       'BsmtCond', 'BsmtExposure', 'BsmtFinType1', 'BsmtFinSF1',\n",
       "       'BsmtFinType2', 'BsmtFinSF2', 'BsmtUnfSF', 'TotalBsmtSF', 'Heating',\n",
       "       'HeatingQC', 'CentralAir', 'Electrical', '1stFlrSF', '2ndFlrSF',\n",
       "       'LowQualFinSF', 'GrLivArea', 'BsmtFullBath', 'BsmtHalfBath', 'FullBath',\n",
       "       'HalfBath', 'BedroomAbvGr', 'KitchenAbvGr', 'KitchenQual',\n",
       "       'TotRmsAbvGrd', 'Functional', 'Fireplaces', 'FireplaceQu', 'GarageType',\n",
       "       'GarageYrBlt', 'GarageFinish', 'GarageCars', 'GarageArea', 'GarageQual',\n",
       "       'GarageCond', 'PavedDrive', 'WoodDeckSF', 'OpenPorchSF',\n",
       "       'EnclosedPorch', '3SsnPorch', 'ScreenPorch', 'PoolArea', 'PoolQC',\n",
       "       'Fence', 'MiscFeature', 'MiscVal', 'MoSold', 'YrSold', 'SaleType',\n",
       "       'SaleCondition', 'SalePrice'],\n",
       "      dtype='object')"
      ]
     },
     "execution_count": 2,
     "metadata": {},
     "output_type": "execute_result"
    }
   ],
   "source": [
    "# print the list of columns in the dataset to find the name of the prediction target\n",
    "home_data.columns"
   ]
  },
  {
   "cell_type": "code",
   "execution_count": 3,
   "id": "47d041a7",
   "metadata": {
    "execution": {
     "iopub.execute_input": "2024-09-16T04:53:35.576576Z",
     "iopub.status.busy": "2024-09-16T04:53:35.575722Z",
     "iopub.status.idle": "2024-09-16T04:53:35.592846Z",
     "shell.execute_reply": "2024-09-16T04:53:35.591711Z"
    },
    "papermill": {
     "duration": 0.028382,
     "end_time": "2024-09-16T04:53:35.595519",
     "exception": false,
     "start_time": "2024-09-16T04:53:35.567137",
     "status": "completed"
    },
    "tags": []
   },
   "outputs": [
    {
     "data": {
      "application/javascript": [
       "parent.postMessage({\"jupyterEvent\": \"custom.exercise_interaction\", \"data\": {\"outcomeType\": 1, \"valueTowardsCompletion\": 0.25, \"interactionType\": 1, \"questionType\": 2, \"questionId\": \"1_SetTarget\", \"learnToolsVersion\": \"0.3.4\", \"failureMessage\": \"\", \"exceptionClass\": \"\", \"trace\": \"\"}}, \"*\")"
      ],
      "text/plain": [
       "<IPython.core.display.Javascript object>"
      ]
     },
     "metadata": {},
     "output_type": "display_data"
    },
    {
     "data": {
      "text/markdown": [
       "<span style=\"color:#33cc33\">Correct</span>"
      ],
      "text/plain": [
       "Correct"
      ]
     },
     "metadata": {},
     "output_type": "display_data"
    }
   ],
   "source": [
    "y = home_data['SalePrice']\n",
    "\n",
    "# Check your answer\n",
    "step_1.check()"
   ]
  },
  {
   "cell_type": "code",
   "execution_count": 4,
   "id": "95cc6a43",
   "metadata": {
    "execution": {
     "iopub.execute_input": "2024-09-16T04:53:35.612890Z",
     "iopub.status.busy": "2024-09-16T04:53:35.612411Z",
     "iopub.status.idle": "2024-09-16T04:53:35.617608Z",
     "shell.execute_reply": "2024-09-16T04:53:35.616414Z"
    },
    "papermill": {
     "duration": 0.016828,
     "end_time": "2024-09-16T04:53:35.620271",
     "exception": false,
     "start_time": "2024-09-16T04:53:35.603443",
     "status": "completed"
    },
    "tags": []
   },
   "outputs": [],
   "source": [
    "# The lines below will show you a hint or the solution.\n",
    "# step_1.hint() \n",
    "# step_1.solution()"
   ]
  },
  {
   "cell_type": "markdown",
   "id": "a069fad4",
   "metadata": {
    "papermill": {
     "duration": 0.007265,
     "end_time": "2024-09-16T04:53:35.635267",
     "exception": false,
     "start_time": "2024-09-16T04:53:35.628002",
     "status": "completed"
    },
    "tags": []
   },
   "source": [
    "## Step 2: Create X\n",
    "Now you will create a DataFrame called `X` holding the predictive features.\n",
    "\n",
    "Since you want only some columns from the original data, you'll first create a list with the names of the columns you want in `X`.\n",
    "\n",
    "You'll use just the following columns in the list (you can copy and paste the whole list to save some typing, though you'll still need to add quotes):\n",
    "  * LotArea\n",
    "  * YearBuilt\n",
    "  * 1stFlrSF\n",
    "  * 2ndFlrSF\n",
    "  * FullBath\n",
    "  * BedroomAbvGr\n",
    "  * TotRmsAbvGrd\n",
    "\n",
    "After you've created that list of features, use it to create the DataFrame that you'll use to fit the model."
   ]
  },
  {
   "cell_type": "code",
   "execution_count": 5,
   "id": "2089af58",
   "metadata": {
    "execution": {
     "iopub.execute_input": "2024-09-16T04:53:35.652704Z",
     "iopub.status.busy": "2024-09-16T04:53:35.652259Z",
     "iopub.status.idle": "2024-09-16T04:53:35.666884Z",
     "shell.execute_reply": "2024-09-16T04:53:35.665799Z"
    },
    "papermill": {
     "duration": 0.026508,
     "end_time": "2024-09-16T04:53:35.669394",
     "exception": false,
     "start_time": "2024-09-16T04:53:35.642886",
     "status": "completed"
    },
    "tags": []
   },
   "outputs": [
    {
     "data": {
      "application/javascript": [
       "parent.postMessage({\"jupyterEvent\": \"custom.exercise_interaction\", \"data\": {\"outcomeType\": 1, \"valueTowardsCompletion\": 0.25, \"interactionType\": 1, \"questionType\": 2, \"questionId\": \"2_SelectPredictionData\", \"learnToolsVersion\": \"0.3.4\", \"failureMessage\": \"\", \"exceptionClass\": \"\", \"trace\": \"\"}}, \"*\")"
      ],
      "text/plain": [
       "<IPython.core.display.Javascript object>"
      ]
     },
     "metadata": {},
     "output_type": "display_data"
    },
    {
     "data": {
      "text/markdown": [
       "<span style=\"color:#33cc33\">Correct</span>"
      ],
      "text/plain": [
       "Correct"
      ]
     },
     "metadata": {},
     "output_type": "display_data"
    }
   ],
   "source": [
    "# Create the list of features below\n",
    "feature_names = ['LotArea','YearBuilt','1stFlrSF','2ndFlrSF','FullBath','BedroomAbvGr','TotRmsAbvGrd']\n",
    "\n",
    "# Select data corresponding to features in feature_names\n",
    "X = home_data[feature_names]\n",
    "\n",
    "# Check your answer\n",
    "step_2.check()"
   ]
  },
  {
   "cell_type": "code",
   "execution_count": 6,
   "id": "732b2f1f",
   "metadata": {
    "collapsed": true,
    "execution": {
     "iopub.execute_input": "2024-09-16T04:53:35.687655Z",
     "iopub.status.busy": "2024-09-16T04:53:35.686757Z",
     "iopub.status.idle": "2024-09-16T04:53:35.692016Z",
     "shell.execute_reply": "2024-09-16T04:53:35.690872Z"
    },
    "jupyter": {
     "outputs_hidden": true
    },
    "papermill": {
     "duration": 0.01715,
     "end_time": "2024-09-16T04:53:35.694473",
     "exception": false,
     "start_time": "2024-09-16T04:53:35.677323",
     "status": "completed"
    },
    "tags": []
   },
   "outputs": [],
   "source": [
    "# step_2.hint()\n",
    "# step_2.solution()"
   ]
  },
  {
   "cell_type": "markdown",
   "id": "aafe10e9",
   "metadata": {
    "papermill": {
     "duration": 0.007699,
     "end_time": "2024-09-16T04:53:35.710522",
     "exception": false,
     "start_time": "2024-09-16T04:53:35.702823",
     "status": "completed"
    },
    "tags": []
   },
   "source": [
    "## Review Data\n",
    "Before building a model, take a quick look at **X** to verify it looks sensible"
   ]
  },
  {
   "cell_type": "code",
   "execution_count": 7,
   "id": "2e9914d6",
   "metadata": {
    "execution": {
     "iopub.execute_input": "2024-09-16T04:53:35.729064Z",
     "iopub.status.busy": "2024-09-16T04:53:35.728074Z",
     "iopub.status.idle": "2024-09-16T04:53:35.762755Z",
     "shell.execute_reply": "2024-09-16T04:53:35.761671Z"
    },
    "papermill": {
     "duration": 0.046927,
     "end_time": "2024-09-16T04:53:35.765498",
     "exception": false,
     "start_time": "2024-09-16T04:53:35.718571",
     "status": "completed"
    },
    "tags": []
   },
   "outputs": [
    {
     "name": "stdout",
     "output_type": "stream",
     "text": [
      "             LotArea    YearBuilt     1stFlrSF     2ndFlrSF     FullBath  \\\n",
      "count    1460.000000  1460.000000  1460.000000  1460.000000  1460.000000   \n",
      "mean    10516.828082  1971.267808  1162.626712   346.992466     1.565068   \n",
      "std      9981.264932    30.202904   386.587738   436.528436     0.550916   \n",
      "min      1300.000000  1872.000000   334.000000     0.000000     0.000000   \n",
      "25%      7553.500000  1954.000000   882.000000     0.000000     1.000000   \n",
      "50%      9478.500000  1973.000000  1087.000000     0.000000     2.000000   \n",
      "75%     11601.500000  2000.000000  1391.250000   728.000000     2.000000   \n",
      "max    215245.000000  2010.000000  4692.000000  2065.000000     3.000000   \n",
      "\n",
      "       BedroomAbvGr  TotRmsAbvGrd  \n",
      "count   1460.000000   1460.000000  \n",
      "mean       2.866438      6.517808  \n",
      "std        0.815778      1.625393  \n",
      "min        0.000000      2.000000  \n",
      "25%        2.000000      5.000000  \n",
      "50%        3.000000      6.000000  \n",
      "75%        3.000000      7.000000  \n",
      "max        8.000000     14.000000  \n",
      "   LotArea  YearBuilt  1stFlrSF  2ndFlrSF  FullBath  BedroomAbvGr  \\\n",
      "0     8450       2003       856       854         2             3   \n",
      "1     9600       1976      1262         0         2             3   \n",
      "2    11250       2001       920       866         2             3   \n",
      "3     9550       1915       961       756         1             3   \n",
      "4    14260       2000      1145      1053         2             4   \n",
      "\n",
      "   TotRmsAbvGrd  \n",
      "0             8  \n",
      "1             6  \n",
      "2             6  \n",
      "3             7  \n",
      "4             9  \n"
     ]
    }
   ],
   "source": [
    "# Review data\n",
    "# print description or statistics from X\n",
    "print(X.describe())\n",
    "\n",
    "# print the top few lines\n",
    "print(X.head())"
   ]
  },
  {
   "cell_type": "markdown",
   "id": "249332c7",
   "metadata": {
    "papermill": {
     "duration": 0.00788,
     "end_time": "2024-09-16T04:53:35.781646",
     "exception": false,
     "start_time": "2024-09-16T04:53:35.773766",
     "status": "completed"
    },
    "tags": []
   },
   "source": [
    "## Step 3: Specify and Fit Model\n",
    "Create a `DecisionTreeRegressor` and save it iowa_model. Ensure you've done the relevant import from sklearn to run this command.\n",
    "\n",
    "Then fit the model you just created using the data in `X` and `y` that you saved above."
   ]
  },
  {
   "cell_type": "code",
   "execution_count": 8,
   "id": "1d49be75",
   "metadata": {
    "execution": {
     "iopub.execute_input": "2024-09-16T04:53:35.799830Z",
     "iopub.status.busy": "2024-09-16T04:53:35.799384Z",
     "iopub.status.idle": "2024-09-16T04:53:35.821797Z",
     "shell.execute_reply": "2024-09-16T04:53:35.820619Z"
    },
    "papermill": {
     "duration": 0.034842,
     "end_time": "2024-09-16T04:53:35.824579",
     "exception": false,
     "start_time": "2024-09-16T04:53:35.789737",
     "status": "completed"
    },
    "tags": []
   },
   "outputs": [
    {
     "data": {
      "application/javascript": [
       "parent.postMessage({\"jupyterEvent\": \"custom.exercise_interaction\", \"data\": {\"outcomeType\": 1, \"valueTowardsCompletion\": 0.25, \"interactionType\": 1, \"questionType\": 2, \"questionId\": \"3_CreateModel\", \"learnToolsVersion\": \"0.3.4\", \"failureMessage\": \"\", \"exceptionClass\": \"\", \"trace\": \"\"}}, \"*\")"
      ],
      "text/plain": [
       "<IPython.core.display.Javascript object>"
      ]
     },
     "metadata": {},
     "output_type": "display_data"
    },
    {
     "data": {
      "text/markdown": [
       "<span style=\"color:#33cc33\">Correct</span>"
      ],
      "text/plain": [
       "Correct"
      ]
     },
     "metadata": {},
     "output_type": "display_data"
    }
   ],
   "source": [
    "# from _ import _\n",
    "#specify the model. \n",
    "#For model reproducibility, set a numeric value for random_state when specifying the model\n",
    "from sklearn.tree import DecisionTreeRegressor\n",
    "iowa_model = DecisionTreeRegressor(random_state=0)\n",
    "\n",
    "# Fit the model\n",
    "iowa_model.fit(X,y)\n",
    "\n",
    "# Check your answer\n",
    "step_3.check()"
   ]
  },
  {
   "cell_type": "code",
   "execution_count": 9,
   "id": "1a74740c",
   "metadata": {
    "collapsed": true,
    "execution": {
     "iopub.execute_input": "2024-09-16T04:53:35.844051Z",
     "iopub.status.busy": "2024-09-16T04:53:35.843567Z",
     "iopub.status.idle": "2024-09-16T04:53:35.848201Z",
     "shell.execute_reply": "2024-09-16T04:53:35.847174Z"
    },
    "jupyter": {
     "outputs_hidden": true
    },
    "papermill": {
     "duration": 0.016908,
     "end_time": "2024-09-16T04:53:35.850625",
     "exception": false,
     "start_time": "2024-09-16T04:53:35.833717",
     "status": "completed"
    },
    "tags": []
   },
   "outputs": [],
   "source": [
    "# step_3.hint()\n",
    "# step_3.solution()"
   ]
  },
  {
   "cell_type": "markdown",
   "id": "a56783f2",
   "metadata": {
    "papermill": {
     "duration": 0.00836,
     "end_time": "2024-09-16T04:53:35.867584",
     "exception": false,
     "start_time": "2024-09-16T04:53:35.859224",
     "status": "completed"
    },
    "tags": []
   },
   "source": [
    "## Step 4: Make Predictions\n",
    "Make predictions with the model's `predict` command using `X` as the data. Save the results to a variable called `predictions`."
   ]
  },
  {
   "cell_type": "code",
   "execution_count": 10,
   "id": "108689d2",
   "metadata": {
    "execution": {
     "iopub.execute_input": "2024-09-16T04:53:35.886840Z",
     "iopub.status.busy": "2024-09-16T04:53:35.886371Z",
     "iopub.status.idle": "2024-09-16T04:53:35.901643Z",
     "shell.execute_reply": "2024-09-16T04:53:35.900529Z"
    },
    "papermill": {
     "duration": 0.027859,
     "end_time": "2024-09-16T04:53:35.904159",
     "exception": false,
     "start_time": "2024-09-16T04:53:35.876300",
     "status": "completed"
    },
    "tags": []
   },
   "outputs": [
    {
     "name": "stdout",
     "output_type": "stream",
     "text": [
      "[208500. 181500. 223500. ... 266500. 142125. 147500.]\n"
     ]
    },
    {
     "data": {
      "application/javascript": [
       "parent.postMessage({\"jupyterEvent\": \"custom.exercise_interaction\", \"data\": {\"outcomeType\": 1, \"valueTowardsCompletion\": 0.25, \"interactionType\": 1, \"questionType\": 2, \"questionId\": \"4_MakePredictions\", \"learnToolsVersion\": \"0.3.4\", \"failureMessage\": \"\", \"exceptionClass\": \"\", \"trace\": \"\"}}, \"*\")"
      ],
      "text/plain": [
       "<IPython.core.display.Javascript object>"
      ]
     },
     "metadata": {},
     "output_type": "display_data"
    },
    {
     "data": {
      "text/markdown": [
       "<span style=\"color:#33cc33\">Correct</span>"
      ],
      "text/plain": [
       "Correct"
      ]
     },
     "metadata": {},
     "output_type": "display_data"
    }
   ],
   "source": [
    "predictions = iowa_model.predict(X)\n",
    "print(predictions)\n",
    "\n",
    "# Check your answer\n",
    "step_4.check()"
   ]
  },
  {
   "cell_type": "code",
   "execution_count": 11,
   "id": "bdf0225f",
   "metadata": {
    "collapsed": true,
    "execution": {
     "iopub.execute_input": "2024-09-16T04:53:35.925500Z",
     "iopub.status.busy": "2024-09-16T04:53:35.924339Z",
     "iopub.status.idle": "2024-09-16T04:53:35.929395Z",
     "shell.execute_reply": "2024-09-16T04:53:35.928320Z"
    },
    "jupyter": {
     "outputs_hidden": true
    },
    "papermill": {
     "duration": 0.018267,
     "end_time": "2024-09-16T04:53:35.931925",
     "exception": false,
     "start_time": "2024-09-16T04:53:35.913658",
     "status": "completed"
    },
    "tags": []
   },
   "outputs": [],
   "source": [
    "# step_4.hint()\n",
    "# step_4.solution()"
   ]
  },
  {
   "cell_type": "markdown",
   "id": "2f9027c4",
   "metadata": {
    "papermill": {
     "duration": 0.009152,
     "end_time": "2024-09-16T04:53:35.951060",
     "exception": false,
     "start_time": "2024-09-16T04:53:35.941908",
     "status": "completed"
    },
    "tags": []
   },
   "source": [
    "## Think About Your Results\n",
    "\n",
    "Use the `head` method to compare the top few predictions to the actual home values (in `y`) for those same homes. Anything surprising?\n"
   ]
  },
  {
   "cell_type": "code",
   "execution_count": 12,
   "id": "a0550879",
   "metadata": {
    "execution": {
     "iopub.execute_input": "2024-09-16T04:53:35.972051Z",
     "iopub.status.busy": "2024-09-16T04:53:35.970839Z",
     "iopub.status.idle": "2024-09-16T04:53:35.980605Z",
     "shell.execute_reply": "2024-09-16T04:53:35.979257Z"
    },
    "papermill": {
     "duration": 0.022995,
     "end_time": "2024-09-16T04:53:35.983323",
     "exception": false,
     "start_time": "2024-09-16T04:53:35.960328",
     "status": "completed"
    },
    "tags": []
   },
   "outputs": [
    {
     "name": "stdout",
     "output_type": "stream",
     "text": [
      "[208500. 181500. 223500. 140000. 250000.]\n",
      "[208500, 181500, 223500, 140000, 250000]\n"
     ]
    }
   ],
   "source": [
    "# You can write code in this cell\n",
    "print(iowa_model.predict(X.head()))\n",
    "print(list(y.head()))"
   ]
  },
  {
   "cell_type": "markdown",
   "id": "1f70b7cd",
   "metadata": {
    "papermill": {
     "duration": 0.009078,
     "end_time": "2024-09-16T04:53:36.001692",
     "exception": false,
     "start_time": "2024-09-16T04:53:35.992614",
     "status": "completed"
    },
    "tags": []
   },
   "source": [
    "It's natural to ask how accurate the model's predictions will be and how you can improve that. That will be you're next step.\n",
    "\n",
    "# Keep Going\n",
    "\n",
    "You are ready for **[Model Validation](https://www.kaggle.com/dansbecker/model-validation).**\n"
   ]
  },
  {
   "cell_type": "markdown",
   "id": "58520889",
   "metadata": {
    "papermill": {
     "duration": 0.009176,
     "end_time": "2024-09-16T04:53:36.020279",
     "exception": false,
     "start_time": "2024-09-16T04:53:36.011103",
     "status": "completed"
    },
    "tags": []
   },
   "source": [
    "---\n",
    "\n",
    "\n",
    "\n",
    "\n",
    "*Have questions or comments? Visit the [course discussion forum](https://www.kaggle.com/learn/intro-to-machine-learning/discussion) to chat with other learners.*"
   ]
  }
 ],
 "metadata": {
  "kaggle": {
   "accelerator": "none",
   "dataSources": [
    {
     "databundleVersionId": 111096,
     "sourceId": 10211,
     "sourceType": "competition"
    },
    {
     "datasetId": 11167,
     "sourceId": 15520,
     "sourceType": "datasetVersion"
    },
    {
     "datasetId": 2709,
     "sourceId": 38454,
     "sourceType": "datasetVersion"
    }
   ],
   "isGpuEnabled": false,
   "isInternetEnabled": false,
   "language": "python",
   "sourceType": "notebook"
  },
  "kernelspec": {
   "display_name": "Python 3",
   "language": "python",
   "name": "python3"
  },
  "language_info": {
   "codemirror_mode": {
    "name": "ipython",
    "version": 3
   },
   "file_extension": ".py",
   "mimetype": "text/x-python",
   "name": "python",
   "nbconvert_exporter": "python",
   "pygments_lexer": "ipython3",
   "version": "3.10.14"
  },
  "papermill": {
   "default_parameters": {},
   "duration": 6.463505,
   "end_time": "2024-09-16T04:53:36.652884",
   "environment_variables": {},
   "exception": null,
   "input_path": "__notebook__.ipynb",
   "output_path": "__notebook__.ipynb",
   "parameters": {},
   "start_time": "2024-09-16T04:53:30.189379",
   "version": "2.6.0"
  }
 },
 "nbformat": 4,
 "nbformat_minor": 5
}

{
  "cells": [
    {
      "cell_type": "markdown",
      "source": [
        "#### 필요한 라이브러리 호출"
      ],
      "metadata": {
        "id": "SSZgs36AJ9VO"
      }
    },
    {
      "cell_type": "code",
      "source": [
        "import numpy as np\n",
        "import pandas as pd\n",
        "import matplotlib.pyplot as plt\n",
        "import os\n",
        "\n",
        "import torch\n",
        "import torch.nn as nn\n",
        "from torch.autograd import Variable\n",
        "from sklearn.model_selection import train_test_split\n",
        "from torch.utils.data import DataLoader, TensorDataset"
      ],
      "metadata": {
        "id": "5sG7YYmsKWfu"
      },
      "execution_count": 3,
      "outputs": []
    },
    {
      "cell_type": "markdown",
      "source": [
        "#### 데이터 불러오기 & 훈련/테스트용 데이터 분리"
      ],
      "metadata": {
        "id": "LVIzEjKEKumx"
      }
    },
    {
      "cell_type": "code",
      "source": [
        "from google.colab import files # 구글 코랩 파일 업로드하기\n",
        "file_uploaded=files.upload()"
      ],
      "metadata": {
        "colab": {
          "base_uri": "https://localhost:8080/",
          "height": 76
        },
        "id": "NmsGrxJhK56L",
        "outputId": "d427c895-7ca7-4013-81dc-510b310771d4"
      },
      "execution_count": 4,
      "outputs": [
        {
          "output_type": "display_data",
          "data": {
            "text/plain": [
              "<IPython.core.display.HTML object>"
            ],
            "text/html": [
              "\n",
              "     <input type=\"file\" id=\"files-62cbe932-9866-4954-bf6d-44b4f78ace21\" name=\"files[]\" multiple disabled\n",
              "        style=\"border:none\" />\n",
              "     <output id=\"result-62cbe932-9866-4954-bf6d-44b4f78ace21\">\n",
              "      Upload widget is only available when the cell has been executed in the\n",
              "      current browser session. Please rerun this cell to enable.\n",
              "      </output>\n",
              "      <script>// Copyright 2017 Google LLC\n",
              "//\n",
              "// Licensed under the Apache License, Version 2.0 (the \"License\");\n",
              "// you may not use this file except in compliance with the License.\n",
              "// You may obtain a copy of the License at\n",
              "//\n",
              "//      http://www.apache.org/licenses/LICENSE-2.0\n",
              "//\n",
              "// Unless required by applicable law or agreed to in writing, software\n",
              "// distributed under the License is distributed on an \"AS IS\" BASIS,\n",
              "// WITHOUT WARRANTIES OR CONDITIONS OF ANY KIND, either express or implied.\n",
              "// See the License for the specific language governing permissions and\n",
              "// limitations under the License.\n",
              "\n",
              "/**\n",
              " * @fileoverview Helpers for google.colab Python module.\n",
              " */\n",
              "(function(scope) {\n",
              "function span(text, styleAttributes = {}) {\n",
              "  const element = document.createElement('span');\n",
              "  element.textContent = text;\n",
              "  for (const key of Object.keys(styleAttributes)) {\n",
              "    element.style[key] = styleAttributes[key];\n",
              "  }\n",
              "  return element;\n",
              "}\n",
              "\n",
              "// Max number of bytes which will be uploaded at a time.\n",
              "const MAX_PAYLOAD_SIZE = 100 * 1024;\n",
              "\n",
              "function _uploadFiles(inputId, outputId) {\n",
              "  const steps = uploadFilesStep(inputId, outputId);\n",
              "  const outputElement = document.getElementById(outputId);\n",
              "  // Cache steps on the outputElement to make it available for the next call\n",
              "  // to uploadFilesContinue from Python.\n",
              "  outputElement.steps = steps;\n",
              "\n",
              "  return _uploadFilesContinue(outputId);\n",
              "}\n",
              "\n",
              "// This is roughly an async generator (not supported in the browser yet),\n",
              "// where there are multiple asynchronous steps and the Python side is going\n",
              "// to poll for completion of each step.\n",
              "// This uses a Promise to block the python side on completion of each step,\n",
              "// then passes the result of the previous step as the input to the next step.\n",
              "function _uploadFilesContinue(outputId) {\n",
              "  const outputElement = document.getElementById(outputId);\n",
              "  const steps = outputElement.steps;\n",
              "\n",
              "  const next = steps.next(outputElement.lastPromiseValue);\n",
              "  return Promise.resolve(next.value.promise).then((value) => {\n",
              "    // Cache the last promise value to make it available to the next\n",
              "    // step of the generator.\n",
              "    outputElement.lastPromiseValue = value;\n",
              "    return next.value.response;\n",
              "  });\n",
              "}\n",
              "\n",
              "/**\n",
              " * Generator function which is called between each async step of the upload\n",
              " * process.\n",
              " * @param {string} inputId Element ID of the input file picker element.\n",
              " * @param {string} outputId Element ID of the output display.\n",
              " * @return {!Iterable<!Object>} Iterable of next steps.\n",
              " */\n",
              "function* uploadFilesStep(inputId, outputId) {\n",
              "  const inputElement = document.getElementById(inputId);\n",
              "  inputElement.disabled = false;\n",
              "\n",
              "  const outputElement = document.getElementById(outputId);\n",
              "  outputElement.innerHTML = '';\n",
              "\n",
              "  const pickedPromise = new Promise((resolve) => {\n",
              "    inputElement.addEventListener('change', (e) => {\n",
              "      resolve(e.target.files);\n",
              "    });\n",
              "  });\n",
              "\n",
              "  const cancel = document.createElement('button');\n",
              "  inputElement.parentElement.appendChild(cancel);\n",
              "  cancel.textContent = 'Cancel upload';\n",
              "  const cancelPromise = new Promise((resolve) => {\n",
              "    cancel.onclick = () => {\n",
              "      resolve(null);\n",
              "    };\n",
              "  });\n",
              "\n",
              "  // Wait for the user to pick the files.\n",
              "  const files = yield {\n",
              "    promise: Promise.race([pickedPromise, cancelPromise]),\n",
              "    response: {\n",
              "      action: 'starting',\n",
              "    }\n",
              "  };\n",
              "\n",
              "  cancel.remove();\n",
              "\n",
              "  // Disable the input element since further picks are not allowed.\n",
              "  inputElement.disabled = true;\n",
              "\n",
              "  if (!files) {\n",
              "    return {\n",
              "      response: {\n",
              "        action: 'complete',\n",
              "      }\n",
              "    };\n",
              "  }\n",
              "\n",
              "  for (const file of files) {\n",
              "    const li = document.createElement('li');\n",
              "    li.append(span(file.name, {fontWeight: 'bold'}));\n",
              "    li.append(span(\n",
              "        `(${file.type || 'n/a'}) - ${file.size} bytes, ` +\n",
              "        `last modified: ${\n",
              "            file.lastModifiedDate ? file.lastModifiedDate.toLocaleDateString() :\n",
              "                                    'n/a'} - `));\n",
              "    const percent = span('0% done');\n",
              "    li.appendChild(percent);\n",
              "\n",
              "    outputElement.appendChild(li);\n",
              "\n",
              "    const fileDataPromise = new Promise((resolve) => {\n",
              "      const reader = new FileReader();\n",
              "      reader.onload = (e) => {\n",
              "        resolve(e.target.result);\n",
              "      };\n",
              "      reader.readAsArrayBuffer(file);\n",
              "    });\n",
              "    // Wait for the data to be ready.\n",
              "    let fileData = yield {\n",
              "      promise: fileDataPromise,\n",
              "      response: {\n",
              "        action: 'continue',\n",
              "      }\n",
              "    };\n",
              "\n",
              "    // Use a chunked sending to avoid message size limits. See b/62115660.\n",
              "    let position = 0;\n",
              "    do {\n",
              "      const length = Math.min(fileData.byteLength - position, MAX_PAYLOAD_SIZE);\n",
              "      const chunk = new Uint8Array(fileData, position, length);\n",
              "      position += length;\n",
              "\n",
              "      const base64 = btoa(String.fromCharCode.apply(null, chunk));\n",
              "      yield {\n",
              "        response: {\n",
              "          action: 'append',\n",
              "          file: file.name,\n",
              "          data: base64,\n",
              "        },\n",
              "      };\n",
              "\n",
              "      let percentDone = fileData.byteLength === 0 ?\n",
              "          100 :\n",
              "          Math.round((position / fileData.byteLength) * 100);\n",
              "      percent.textContent = `${percentDone}% done`;\n",
              "\n",
              "    } while (position < fileData.byteLength);\n",
              "  }\n",
              "\n",
              "  // All done.\n",
              "  yield {\n",
              "    response: {\n",
              "      action: 'complete',\n",
              "    }\n",
              "  };\n",
              "}\n",
              "\n",
              "scope.google = scope.google || {};\n",
              "scope.google.colab = scope.google.colab || {};\n",
              "scope.google.colab._files = {\n",
              "  _uploadFiles,\n",
              "  _uploadFilesContinue,\n",
              "};\n",
              "})(self);\n",
              "</script> "
            ]
          },
          "metadata": {}
        },
        {
          "output_type": "stream",
          "name": "stdout",
          "text": [
            "Saving train.csv to train.csv\n"
          ]
        }
      ]
    },
    {
      "cell_type": "code",
      "source": [
        "# 데이터 불러오기\n",
        "train =  pd.read_csv('train.csv', dtype = np.float32)\n",
        "\n",
        "# 데이터를 features & labels로 분리하기\n",
        "targets_numpy = train.label.values  # 레이블\n",
        "features_numpy = train.loc[:, train.columns != 'label'].values / 255  # 정규화\n",
        "\n",
        "# 훈련용, 테스트용 데이터 분리하기 (비율은 8;2)\n",
        "features_train, features_test, targets_train, targets_test = train_test_split(features_numpy,\n",
        "                                                                              targets_numpy,\n",
        "                                                                              test_size=0.2,\n",
        "                                                                              random_state=42)\n"
      ],
      "metadata": {
        "id": "Fv41_OQMJ9B6"
      },
      "execution_count": 6,
      "outputs": []
    },
    {
      "cell_type": "markdown",
      "source": [
        "#### 텐서 생성 및 데이터로더로 불러오기"
      ],
      "metadata": {
        "id": "XQztt7eeNelk"
      }
    },
    {
      "cell_type": "code",
      "source": [
        "# 훈련용 데이터셋에 대한 feature, label 텐서 만들기\n",
        "# 그레디언트 축적하기 위해 텐서 먼저 만들고, variable 만들기\n",
        "featuresTrain = torch.from_numpy(features_train)\n",
        "targetsTrain = torch.from_numpy(targets_train).type(torch.LongTensor)\n",
        "\n",
        "# 테스트용 데이터셋에 대한 feature, label 텐서 만들기\n",
        "featuresTest = torch.from_numpy(features_test)\n",
        "targetsTest = torch.from_numpy(targets_test).type(torch.LongTensor)\n",
        "\n",
        "# 배치사이즈, 에포크, iteration 지정하기\n",
        "batch_size = 100\n",
        "n_iters = 6000\n",
        "num_epochs = n_iters / (len(features_train) / batch_size)\n",
        "num_epochs = int(num_epochs)\n",
        "print(\"Epoch Number: \", num_epochs)\n",
        "\n",
        "# Pytorch 훈련, 검증용 데이터셋\n",
        "train = TensorDataset(featuresTrain, targetsTrain)\n",
        "test = TensorDataset(featuresTest, targetsTest)\n",
        "\n",
        "# 데이터로더로 불러오기\n",
        "train_loader = DataLoader(train, batch_size=batch_size, shuffle=False)\n",
        "test_loader = DataLoader(test, batch_size=batch_size, shuffle=False)"
      ],
      "metadata": {
        "id": "TSXjr-kGNe33",
        "colab": {
          "base_uri": "https://localhost:8080/"
        },
        "outputId": "613d3e13-0bcb-4b69-bada-34870f1f0f19"
      },
      "execution_count": 7,
      "outputs": [
        {
          "output_type": "stream",
          "name": "stdout",
          "text": [
            "Epoch Number:  17\n"
          ]
        }
      ]
    },
    {
      "cell_type": "markdown",
      "source": [
        "#### 데이터셋 시각화"
      ],
      "metadata": {
        "id": "Dv3fdnKSOHpD"
      }
    },
    {
      "cell_type": "code",
      "source": [
        "# 데이터셋에 있는 임의의 이미지 하나 시각화\n",
        "plt.imshow(features_numpy[10].reshape(28, 28))\n",
        "plt.axis(\"off\")\n",
        "plt.title(str(targets_numpy[10]))\n",
        "plt.savefig('graph.png')\n",
        "plt.show()\n",
        "\n",
        "print(len(train_loader.dataset))\n",
        "print(len(test_loader.dataset))"
      ],
      "metadata": {
        "id": "8XYaHSFEOK4T",
        "colab": {
          "base_uri": "https://localhost:8080/",
          "height": 464
        },
        "outputId": "80d62ddf-d8a6-40cb-9ae5-3bb63a100317"
      },
      "execution_count": 8,
      "outputs": [
        {
          "output_type": "display_data",
          "data": {
            "text/plain": [
              "<Figure size 640x480 with 1 Axes>"
            ],
            "image/png": "[encoded data removed]"
          },
          "metadata": {}
        },
        {
          "output_type": "stream",
          "name": "stdout",
          "text": [
            "33600\n",
            "8400\n"
          ]
        }
      ]
    },
    {
      "cell_type": "markdown",
      "source": [
        "#### 모델 생성\n",
        "- LSTM"
      ],
      "metadata": {
        "id": "94il-cPdOfwl"
      }
    },
    {
      "cell_type": "code",
      "source": [
        "class LSTMModel(nn.Module):\n",
        "    def __init__(self, input_dim, hidden_dim, layer_dim, output_dim):\n",
        "        super(LSTMModel, self).__init__()\n",
        "\n",
        "        # LSTM의 hidden state 차원(hidden state 벡터 길이)\n",
        "        self.hidden_dim = hidden_dim\n",
        "\n",
        "        # LSTM 레이어 개수 (stacked LSTM layers)\n",
        "        self.layer_dim = layer_dim\n",
        "\n",
        "        # LSTM 레이어 정의\n",
        "        # input_dim : 입력 데이터의 feature 개수\n",
        "        # hidden_dim : LSTM의 hidden state 차원\n",
        "        # layer_dim : LSTM 레이어 수\n",
        "        # batch_first=True : 입력 데이터의 첫 번째 차원을 배치(batch)로 설정\n",
        "        self.lstm = nn.LSTM(input_dim, hidden_dim, layer_dim, batch_first=True)\n",
        "\n",
        "        # 출력 레이어 정의 (fully connected layer)\n",
        "        # hidden_dim -> output_dim으로 매핑\n",
        "        self.fc = nn.Linear(hidden_dim, output_dim)\n",
        "\n",
        "    def forward(self, x):\n",
        "        # LSTM의 초기 hidden state (h0) 0으로 초기화\n",
        "        # shape : (layer_dim, batch_size, hidden_dim)\n",
        "        h0 = torch.zeros(self.layer_dim, x.size(0), self.hidden_dim).requires_grad_()\n",
        "\n",
        "        # LSTM의 초기 cell state (c0) 0으로 초기화\n",
        "        # shape : (layer_dim, batch_size, hidden_dim)\n",
        "        c0 = torch.zeros(self.layer_dim, x.size(0), self.hidden_dim).requires_grad_()\n",
        "\n",
        "        # LSTM에 입력 데이터 x와 초기 hidden state, cell state 전달\n",
        "        # out : 모든 타임스텝의 hidden state 출력\n",
        "        # hn : 마지막 타임스텝의 hidden state\n",
        "        # cn : 마지막 타임스텝의 cell state\n",
        "        # detach() 호출하여 이전 배치의 연산 그래프 연결 끊음\n",
        "        # 28개의 타임스텝 존재\n",
        "        out, (hn, cn) = self.lstm(x, (h0.detach(), c0.detach()))\n",
        "\n",
        "        # 마지막 타임스텝의 hidden state 사용하여 출력값 생성\n",
        "        # out[:, -1, :]은 마지막 타임스텝의 hidden state 추출\n",
        "        # out.size() -> (100, 28, 100) // out[:, -1, :] -> (100, 100)\n",
        "        out = self.fc(out[:, -1, :])\n",
        "        # out.size() -> (100, 10)\n",
        "\n",
        "        return out"
      ],
      "metadata": {
        "id": "ZSgfCqboOfT8"
      },
      "execution_count": 9,
      "outputs": []
    },
    {
      "cell_type": "markdown",
      "source": [
        "#### 변수 지정 & 모델 선언 & 옵티마이저 및 손실함수 지정"
      ],
      "metadata": {
        "id": "GYytNirpqu0m"
      }
    },
    {
      "cell_type": "code",
      "source": [
        "input_dim = 28   # 입력 데이터의 feature 차원\n",
        "hidden_dim = 100  # LSTM hidden state 차원\n",
        "layer_dim = 1   # LSTM 레이어 수\n",
        "output_dim = 10   # 출력 데이터 차원(클래스 수)\n",
        "\n",
        "# LSTM 모델\n",
        "model = LSTMModel(input_dim, hidden_dim, layer_dim, output_dim)\n",
        "\n",
        "# 손실 함수\n",
        "error = nn.CrossEntropyLoss()\n",
        "\n",
        "# 학습률 설정\n",
        "learning_rate = 0.1\n",
        "\n",
        "# 옵티마이저 설정 : 확률적 경사 하강법(SGD)\n",
        "optimizer = torch.optim.SGD(model.parameters(), lr=learning_rate)"
      ],
      "metadata": {
        "id": "P-1RxzNBqAtw"
      },
      "execution_count": 10,
      "outputs": []
    },
    {
      "cell_type": "markdown",
      "source": [
        "#### 모델 학습을 위한 하이퍼파라미터 설정 및 학습"
      ],
      "metadata": {
        "id": "z7vcAIC8rPTa"
      }
    },
    {
      "cell_type": "code",
      "source": [
        "seq_dim = 28  # 시퀀스 길이(타임스텝)\n",
        "loss_list = []  # 손실 값 저장할 리스트\n",
        "iteration_list = []  # 반복 횟수 저장할 리스트\n",
        "accuracy_list = []   # 정확도 저장할 리스트\n",
        "count = 0  # 총 학습 반복 수를 세는 변수\n",
        "\n",
        "for epoch in range(num_epochs):\n",
        "    for i, (images, labels) in enumerate(train_loader):\n",
        "        # 이미지를 (batch_size, seq_dim, input_dim) 형태로 변환하고 gradient 추적 활성화\n",
        "        images = images.view(-1, seq_dim, input_dim).requires_grad_()\n",
        "        # 옵티마이저 gradient 초기화\n",
        "        optimizer.zero_grad()\n",
        "        # 모델 순전파(forward pass) 수행하여 출력 계산\n",
        "        outputs = model(images)\n",
        "        # 손실 계산\n",
        "        loss = error(outputs, labels)\n",
        "        # 역전파(backward pass) 통해 gradient 계산\n",
        "        loss.backward()\n",
        "        # 파라미터 업데이트\n",
        "        optimizer.step()\n",
        "        # 반복 횟수 증가\n",
        "        count += 1\n",
        "\n",
        "        if count % 500 == 0:\n",
        "            # 정확도 계산 위한 변수 초기화\n",
        "            correct = 0\n",
        "            total = 0\n",
        "            for images, labels in test_loader:\n",
        "                images = images.view(-1, seq_dim, input_dim)\n",
        "\n",
        "                outputs = model(images)\n",
        "                # 가장 높은 값 가지는 클래스 예측\n",
        "                _, predicted = torch.max(outputs.data, 1)\n",
        "                # 총 라벨 개수 계산\n",
        "                total += labels.size(0)\n",
        "                # 정확히 예측된 라벨 수 계산\n",
        "                correct += (predicted == labels).sum()\n",
        "\n",
        "            accuracy = 100 * correct / total # 정확도 계산\n",
        "            # 손실 및 정확도 기록\n",
        "            loss_list.append(loss.data.item())\n",
        "            iteration_list.append(count)\n",
        "            accuracy_list.append(accuracy)\n",
        "\n",
        "            print('Iteration: {}  Loss: {}  Accuracy: {} %'.format(count, loss.data.item(), accuracy))"
      ],
      "metadata": {
        "colab": {
          "base_uri": "https://localhost:8080/"
        },
        "id": "tUyIvwISrQZa",
        "outputId": "cd5f82f1-c108-4749-81ea-b15a9f3b7c83"
      },
      "execution_count": 11,
      "outputs": [
        {
          "output_type": "stream",
          "name": "stdout",
          "text": [
            "Iteration: 500  Loss: 2.271587610244751  Accuracy: 19.095237731933594 %\n",
            "Iteration: 1000  Loss: 1.2203459739685059  Accuracy: 46.75 %\n",
            "Iteration: 1500  Loss: 0.49860256910324097  Accuracy: 80.10713958740234 %\n",
            "Iteration: 2000  Loss: 0.2585972547531128  Accuracy: 91.11904907226562 %\n",
            "Iteration: 2500  Loss: 0.14115062355995178  Accuracy: 93.08333587646484 %\n",
            "Iteration: 3000  Loss: 0.14880676567554474  Accuracy: 95.19047546386719 %\n",
            "Iteration: 3500  Loss: 0.16578830778598785  Accuracy: 95.67857360839844 %\n",
            "Iteration: 4000  Loss: 0.022911304607987404  Accuracy: 96.19047546386719 %\n",
            "Iteration: 4500  Loss: 0.08661877363920212  Accuracy: 96.42857360839844 %\n",
            "Iteration: 5000  Loss: 0.035815175622701645  Accuracy: 97.03571319580078 %\n",
            "Iteration: 5500  Loss: 0.11130614578723907  Accuracy: 97.03571319580078 %\n"
          ]
        }
      ]
    },
    {
      "cell_type": "markdown",
      "source": [
        "#### 결과 확인 및 시각화"
      ],
      "metadata": {
        "id": "qIKl9EL-rS4H"
      }
    },
    {
      "cell_type": "code",
      "source": [
        "# loss 시각화\n",
        "# 학습 반복(iteration)에 따른 손실 변화를 나타낸 그래프\n",
        "plt.plot(iteration_list, loss_list)\n",
        "plt.xlabel(\"Number of iteration\")\n",
        "plt.ylabel(\"Loss\")\n",
        "plt.title(\"LSTM: Loss vs Number of iteration\")\n",
        "plt.show()\n",
        "\n",
        "# accuracy 시각화\n",
        "# 학습 반복(iteration)에 따른 정확도 변화를 나타낸 그래프\n",
        "plt.plot(iteration_list, accuracy_list, color='red')\n",
        "plt.xlabel(\"Number of iteration\")\n",
        "plt.ylabel(\"Accuracy\")\n",
        "plt.title(\"LSTM: Accuracy vs Number of iteration\")\n",
        "plt.savefig('graph.png')\n",
        "plt.show()"
      ],
      "metadata": {
        "colab": {
          "base_uri": "https://localhost:8080/",
          "height": 927
        },
        "id": "JW15XxUvrU3C",
        "outputId": "d1e84084-17a5-4600-9898-e47906b5daec"
      },
      "execution_count": 12,
      "outputs": [
        {
          "output_type": "display_data",
          "data": {
            "text/plain": [
              "<Figure size 640x480 with 1 Axes>"
            ],
            "image/png": "[encoded data removed]"
          },
          "metadata": {}
        },
        {
          "output_type": "display_data",
          "data": {
            "text/plain": [
              "<Figure size 640x480 with 1 Axes>"
            ],
            "image/png": "[encoded data removed]"
          },
          "metadata": {}
        }
      ]
    }
  ],
  "metadata": {
    "kernelspec": {
      "display_name": "Python 3",
      "language": "python",
      "name": "python3"
    },
    "language_info": {
      "codemirror_mode": {
        "name": "ipython",
        "version": 3
      },
      "file_extension": ".py",
      "mimetype": "text/x-python",
      "name": "python",
      "nbconvert_exporter": "python",
      "pygments_lexer": "ipython3",
      "version": "3.11.8"
    },
    "colab": {
      "provenance": []
    }
  },
  "nbformat": 4,
  "nbformat_minor": 0
}
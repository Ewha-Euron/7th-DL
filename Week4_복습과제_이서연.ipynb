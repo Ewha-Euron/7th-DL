{
 "cells": [
  {
   "cell_type": "markdown",
   "metadata": {
    "id": "JmbrNadxsBr7"
   },
   "source": [
    "## Convolution Layer Example"
   ]
  },
  {
   "cell_type": "code",
   "execution_count": 1,
   "metadata": {
    "colab": {
     "base_uri": "https://localhost:8080/"
    },
    "id": "MAyG6GGTU_mC",
    "outputId": "118b0f42-fde5-4900-8cea-f4c8709818d5"
   },
   "outputs": [
    {
     "name": "stdout",
     "output_type": "stream",
     "text": [
      "연산 전 torch.Size([10, 1, 20, 20])\n",
      "conv1 연산 후 torch.Size([10, 3, 16, 16])\n",
      "conv2 연산 후 torch.Size([10, 10, 12, 12])\n",
      "차원 감소 후 torch.Size([10, 1440])\n",
      "fc1 연산 후 torch.Size([10, 50])\n",
      "fc2 연산 후 torch.Size([10, 10])\n"
     ]
    }
   ],
   "source": [
    "import torch\n",
    "import torch.nn as nn\n",
    "import torch.nn.functional as F\n",
    "\n",
    "class CNN(nn.Module):\n",
    "  def __init__(self):\n",
    "    super(CNN, self).__init__()\n",
    "\n",
    "    ## 조건1: conv layer 2개 & fc layer 2개\n",
    "    ## 조건2: kernel size=5, stride=1로 통일\n",
    "    ## output을 참고하여 차원을 계산해주세요!\n",
    "    self.conv1 = nn.Conv2d(in_channels=1, out_channels=3, kernel_size=5, stride=1)\n",
    "    self.conv2 = nn.Conv2d(in_channels=3, out_channels=10, kernel_size=5, stride=1)\n",
    "    self.fc1 = nn.Linear(10*12*12, 50)\n",
    "    self.fc2 = nn.Linear(50, 10)\n",
    "\n",
    "\n",
    "  def forward(self, x):\n",
    "    print(\"연산 전\", x.size())\n",
    "    x = F.relu(self.conv1(x))\n",
    "    print(\"conv1 연산 후\", x.size())\n",
    "    x = F.relu(self.conv2(x))\n",
    "    print(\"conv2 연산 후\",x.size())\n",
    "    x = x.view(-1, 10 * 12 * 12)\n",
    "    print(\"차원 감소 후\", x.size())\n",
    "    x = F.relu(self.fc1(x))\n",
    "    print(\"fc1 연산 후\", x.size())\n",
    "    x = self.fc2(x)\n",
    "    print(\"fc2 연산 후\", x.size())\n",
    "    return x\n",
    "\n",
    "cnn = CNN()\n",
    "output = cnn(torch.randn(10, 1, 20, 20))  # Input Size: (10, 1, 20, 20)"
   ]
  },
  {
   "cell_type": "markdown",
   "metadata": {
    "id": "0It8H-mysBr-"
   },
   "source": [
    "## Max Pooling Layer Example"
   ]
  },
  {
   "cell_type": "code",
   "execution_count": 2,
   "metadata": {
    "colab": {
     "base_uri": "https://localhost:8080/"
    },
    "id": "LkOwXPFNchie",
    "outputId": "a3f022de-8d54-4cf8-9456-f9bbc15ed9cc"
   },
   "outputs": [
    {
     "name": "stdout",
     "output_type": "stream",
     "text": [
      "연산 전 torch.Size([10, 1, 20, 20])\n",
      "max_pool1 연산 후 torch.Size([10, 1, 10, 10])\n",
      "max_pool2 연산 후 torch.Size([10, 1, 5, 5])\n",
      "차원 감소 후 torch.Size([1, 250])\n",
      "fc1 연산 후 torch.Size([1, 50])\n",
      "fc2 연산 후 torch.Size([1, 10])\n"
     ]
    }
   ],
   "source": [
    "class CNN(nn.Module):\n",
    "  def __init__(self):\n",
    "    super(CNN, self).__init__()\n",
    "\n",
    "    ## 조건1: 최대풀링 layer 2개 & fc layer 2개\n",
    "    ## 조건2: kernel size=2로 통일, stride는 따로 지정할 필요 없음\n",
    "    ## output을 참고하여 차원을 계산해주세요!\n",
    "    \n",
    "    # 최대풀링 Layer 2개\n",
    "    self.max_pool1 = nn.MaxPool2d(kernel_size=2)\n",
    "    self.max_pool2 = nn.MaxPool2d(kernel_size=2)\n",
    "\n",
    "    # fc Layer 2개\n",
    "    self.fc1 = nn.Linear(10*5*5, 50)\n",
    "    self.fc2 = nn.Linear(50, 10)\n",
    "\n",
    "  def forward(self, x):\n",
    "    print(\"연산 전\", x.size())\n",
    "    x = F.relu(self.max_pool1(x))\n",
    "    print(\"max_pool1 연산 후\", x.size())\n",
    "    x = F.relu(self.max_pool2(x))\n",
    "    print(\"max_pool2 연산 후\",x.size())\n",
    "    x = x.view(-1, 10 * 5 * 5)\n",
    "    print(\"차원 감소 후\", x.size())\n",
    "    x = F.relu(self.fc1(x))\n",
    "    print(\"fc1 연산 후\", x.size())\n",
    "    x = self.fc2(x)\n",
    "    print(\"fc2 연산 후\", x.size())\n",
    "    return x\n",
    "\n",
    "cnn = CNN()\n",
    "output = cnn(torch.randn(10, 1, 20, 20))"
   ]
  },
  {
   "cell_type": "markdown",
   "metadata": {
    "id": "uDMn2y5_sBr-"
   },
   "source": [
    "## MNIST 데이터셋 train"
   ]
  },
  {
   "cell_type": "code",
   "execution_count": 3,
   "metadata": {
    "id": "YhfopkrQcp1P"
   },
   "outputs": [
    {
     "name": "stdout",
     "output_type": "stream",
     "text": [
      "Requirement already satisfied: torchvision in c:\\users\\a0107\\anaconda3\\lib\\site-packages (0.19.1)\n",
      "Requirement already satisfied: numpy in c:\\users\\a0107\\anaconda3\\lib\\site-packages (from torchvision) (1.26.4)\n",
      "Requirement already satisfied: torch==2.4.1 in c:\\users\\a0107\\anaconda3\\lib\\site-packages (from torchvision) (2.4.1)\n",
      "Requirement already satisfied: pillow!=8.3.*,>=5.3.0 in c:\\users\\a0107\\anaconda3\\lib\\site-packages (from torchvision) (10.2.0)\n",
      "Requirement already satisfied: filelock in c:\\users\\a0107\\anaconda3\\lib\\site-packages (from torch==2.4.1->torchvision) (3.13.1)\n",
      "Requirement already satisfied: typing-extensions>=4.8.0 in c:\\users\\a0107\\anaconda3\\lib\\site-packages (from torch==2.4.1->torchvision) (4.12.2)\n",
      "Requirement already satisfied: sympy in c:\\users\\a0107\\anaconda3\\lib\\site-packages (from torch==2.4.1->torchvision) (1.12)\n",
      "Requirement already satisfied: networkx in c:\\users\\a0107\\anaconda3\\lib\\site-packages (from torch==2.4.1->torchvision) (3.1)\n",
      "Requirement already satisfied: jinja2 in c:\\users\\a0107\\anaconda3\\lib\\site-packages (from torch==2.4.1->torchvision) (3.1.3)\n",
      "Requirement already satisfied: fsspec in c:\\users\\a0107\\anaconda3\\lib\\site-packages (from torch==2.4.1->torchvision) (2023.10.0)\n",
      "Requirement already satisfied: MarkupSafe>=2.0 in c:\\users\\a0107\\anaconda3\\lib\\site-packages (from jinja2->torch==2.4.1->torchvision) (2.1.3)\n",
      "Requirement already satisfied: mpmath>=0.19 in c:\\users\\a0107\\anaconda3\\lib\\site-packages (from sympy->torch==2.4.1->torchvision) (1.3.0)\n"
     ]
    }
   ],
   "source": [
    "!pip install torchvision"
   ]
  },
  {
   "cell_type": "code",
   "execution_count": 4,
   "metadata": {
    "id": "CqFN5YM5cqKe"
   },
   "outputs": [],
   "source": [
    "import torch.optim as optim\n",
    "from torchvision import datasets, transforms"
   ]
  },
  {
   "cell_type": "code",
   "execution_count": 5,
   "metadata": {
    "id": "IJb_C4ptcu6G"
   },
   "outputs": [
    {
     "name": "stdout",
     "output_type": "stream",
     "text": [
      "Downloading http://yann.lecun.com/exdb/mnist/train-images-idx3-ubyte.gz\n",
      "Failed to download (trying next):\n",
      "<urlopen error [SSL: CERTIFICATE_VERIFY_FAILED] certificate verify failed: certificate has expired (_ssl.c:1006)>\n",
      "\n",
      "Downloading https://ossci-datasets.s3.amazonaws.com/mnist/train-images-idx3-ubyte.gz\n",
      "Downloading https://ossci-datasets.s3.amazonaws.com/mnist/train-images-idx3-ubyte.gz to ./data/MNIST\\raw\\train-images-idx3-ubyte.gz\n"
     ]
    },
    {
     "name": "stderr",
     "output_type": "stream",
     "text": [
      "100%|██████████| 9912422/9912422 [00:06<00:00, 1515330.19it/s]\n"
     ]
    },
    {
     "name": "stdout",
     "output_type": "stream",
     "text": [
      "Extracting ./data/MNIST\\raw\\train-images-idx3-ubyte.gz to ./data/MNIST\\raw\n",
      "\n",
      "Downloading http://yann.lecun.com/exdb/mnist/train-labels-idx1-ubyte.gz\n",
      "Failed to download (trying next):\n",
      "<urlopen error [SSL: CERTIFICATE_VERIFY_FAILED] certificate verify failed: certificate has expired (_ssl.c:1006)>\n",
      "\n",
      "Downloading https://ossci-datasets.s3.amazonaws.com/mnist/train-labels-idx1-ubyte.gz\n",
      "Downloading https://ossci-datasets.s3.amazonaws.com/mnist/train-labels-idx1-ubyte.gz to ./data/MNIST\\raw\\train-labels-idx1-ubyte.gz\n"
     ]
    },
    {
     "name": "stderr",
     "output_type": "stream",
     "text": [
      "100%|██████████| 28881/28881 [00:00<00:00, 155313.12it/s]\n"
     ]
    },
    {
     "name": "stdout",
     "output_type": "stream",
     "text": [
      "Extracting ./data/MNIST\\raw\\train-labels-idx1-ubyte.gz to ./data/MNIST\\raw\n",
      "\n",
      "Downloading http://yann.lecun.com/exdb/mnist/t10k-images-idx3-ubyte.gz\n",
      "Failed to download (trying next):\n",
      "<urlopen error [SSL: CERTIFICATE_VERIFY_FAILED] certificate verify failed: certificate has expired (_ssl.c:1006)>\n",
      "\n",
      "Downloading https://ossci-datasets.s3.amazonaws.com/mnist/t10k-images-idx3-ubyte.gz\n",
      "Downloading https://ossci-datasets.s3.amazonaws.com/mnist/t10k-images-idx3-ubyte.gz to ./data/MNIST\\raw\\t10k-images-idx3-ubyte.gz\n"
     ]
    },
    {
     "name": "stderr",
     "output_type": "stream",
     "text": [
      "100%|██████████| 1648877/1648877 [00:01<00:00, 1175277.96it/s]\n"
     ]
    },
    {
     "name": "stdout",
     "output_type": "stream",
     "text": [
      "Extracting ./data/MNIST\\raw\\t10k-images-idx3-ubyte.gz to ./data/MNIST\\raw\n",
      "\n",
      "Downloading http://yann.lecun.com/exdb/mnist/t10k-labels-idx1-ubyte.gz\n",
      "Failed to download (trying next):\n",
      "<urlopen error [SSL: CERTIFICATE_VERIFY_FAILED] certificate verify failed: certificate has expired (_ssl.c:1006)>\n",
      "\n",
      "Downloading https://ossci-datasets.s3.amazonaws.com/mnist/t10k-labels-idx1-ubyte.gz\n",
      "Downloading https://ossci-datasets.s3.amazonaws.com/mnist/t10k-labels-idx1-ubyte.gz to ./data/MNIST\\raw\\t10k-labels-idx1-ubyte.gz\n"
     ]
    },
    {
     "name": "stderr",
     "output_type": "stream",
     "text": [
      "100%|██████████| 4542/4542 [00:00<00:00, 1274623.90it/s]"
     ]
    },
    {
     "name": "stdout",
     "output_type": "stream",
     "text": [
      "Extracting ./data/MNIST\\raw\\t10k-labels-idx1-ubyte.gz to ./data/MNIST\\raw\n",
      "\n"
     ]
    },
    {
     "name": "stderr",
     "output_type": "stream",
     "text": [
      "\n"
     ]
    }
   ],
   "source": [
    "train_data = datasets.MNIST('./data/', train=True, download=True, transform=transforms.Compose([\n",
    "        transforms.ToTensor(),\n",
    "        transforms.Normalize((0.1307,), (0.3081,))\n",
    "    ])) # 학습 데이터\n",
    "train_loader = torch.utils.data.DataLoader(dataset=train_data, batch_size=50, shuffle=True)\n",
    "\n",
    "test_data = datasets.MNIST('./data/', train=False, transform=transforms.Compose([\n",
    "        transforms.ToTensor(),\n",
    "        transforms.Normalize((0.1307,), (0.3081,))\n",
    "    ])) # 테스트 데이터\n",
    "test_loader = torch.utils.data.DataLoader(dataset=test_data, batch_size=50, shuffle=True)"
   ]
  },
  {
   "cell_type": "code",
   "execution_count": 9,
   "metadata": {
    "id": "YP3tEuo6ct8A"
   },
   "outputs": [],
   "source": [
    "class CNN(nn.Module):\n",
    "    def __init__(self):\n",
    "        super(CNN, self).__init__()\n",
    "\n",
    "        ## 조건1: conv layer 2개 & fc layer 2개\n",
    "            ## 첫 번째 conv layer: 입력 채널 1, 출력 채널 20\n",
    "            ## 두 번째 fc layer: 출력 채널 10\n",
    "        ## 조건2: kernel_size=5, stride=1\n",
    "        self.conv1 = nn.Conv2d(in_channels=1, out_channels=20, kernel_size=5, stride=1)\n",
    "        self.conv2 = nn.Conv2d(in_channels=20, out_channels=50, kernel_size=5, stride=1)\n",
    "        self.fc1 = nn.Linear(4*4*50, 500)\n",
    "        self.fc2 = nn.Linear(500, 10)\n",
    "\n",
    "    def forward(self, x):\n",
    "\n",
    "        ## 조건1: relu -> max_pool2d -> relu -> max_pool2d 순서로 이루어짐\n",
    "        ## 조건2: kernel_size=2, stride=2\n",
    "        x = F.relu(self.conv1(x))\n",
    "        x = F.max_pool2d(x, kernel_size=2, stride=2)\n",
    "\n",
    "        x = F.relu(self.conv2(x))\n",
    "        x = F.max_pool2d(x, kernel_size=2, stride=2)\n",
    "\n",
    "        x = x.view(-1, 4 * 4 * 50) # [batch_size, 50, 4, 4]\n",
    "        x = F.relu(self.fc1(x))\n",
    "        x = self.fc2(x)\n",
    "\n",
    "        return x\n"
   ]
  },
  {
   "cell_type": "code",
   "execution_count": 11,
   "metadata": {
    "id": "EO2ULx3Sc2GM"
   },
   "outputs": [],
   "source": [
    "cnn = CNN()\n",
    "criterion = torch.nn.CrossEntropyLoss()\n",
    "optimizer = optim.SGD(cnn.parameters(), lr=0.01)"
   ]
  },
  {
   "cell_type": "code",
   "execution_count": 12,
   "metadata": {
    "id": "gAwckNWhc4Nr"
   },
   "outputs": [
    {
     "name": "stdout",
     "output_type": "stream",
     "text": [
      "loss of 0 epoch, 0 index : 2.323821544647217\n",
      "loss of 0 epoch, 100 index : 1.5546867847442627\n",
      "loss of 0 epoch, 200 index : 0.5033454895019531\n",
      "loss of 0 epoch, 300 index : 0.25895026326179504\n",
      "loss of 0 epoch, 400 index : 0.23805324733257294\n",
      "loss of 0 epoch, 500 index : 0.17229153215885162\n",
      "loss of 0 epoch, 600 index : 0.24805383384227753\n",
      "loss of 0 epoch, 700 index : 0.2070361077785492\n",
      "loss of 0 epoch, 800 index : 0.22467775642871857\n",
      "loss of 0 epoch, 900 index : 0.2053382694721222\n",
      "loss of 0 epoch, 1000 index : 0.24752821028232574\n",
      "loss of 0 epoch, 1100 index : 0.1093505471944809\n",
      "loss of 1 epoch, 0 index : 0.16101770102977753\n",
      "loss of 1 epoch, 100 index : 0.21900811791419983\n",
      "loss of 1 epoch, 200 index : 0.11688868701457977\n",
      "loss of 1 epoch, 300 index : 0.1442040055990219\n",
      "loss of 1 epoch, 400 index : 0.15603461861610413\n",
      "loss of 1 epoch, 500 index : 0.07889438420534134\n",
      "loss of 1 epoch, 600 index : 0.09185779839754105\n",
      "loss of 1 epoch, 700 index : 0.0656074807047844\n",
      "loss of 1 epoch, 800 index : 0.08514704555273056\n",
      "loss of 1 epoch, 900 index : 0.01150347851216793\n",
      "loss of 1 epoch, 1000 index : 0.01826285570859909\n",
      "loss of 1 epoch, 1100 index : 0.0497208796441555\n",
      "loss of 2 epoch, 0 index : 0.06020131707191467\n",
      "loss of 2 epoch, 100 index : 0.07911281287670135\n",
      "loss of 2 epoch, 200 index : 0.04429079592227936\n",
      "loss of 2 epoch, 300 index : 0.08516720682382584\n",
      "loss of 2 epoch, 400 index : 0.020341483876109123\n",
      "loss of 2 epoch, 500 index : 0.2298627644777298\n",
      "loss of 2 epoch, 600 index : 0.07752396166324615\n",
      "loss of 2 epoch, 700 index : 0.050617117434740067\n",
      "loss of 2 epoch, 800 index : 0.06879686564207077\n",
      "loss of 2 epoch, 900 index : 0.011807424947619438\n",
      "loss of 2 epoch, 1000 index : 0.1033589169383049\n",
      "loss of 2 epoch, 1100 index : 0.0765460804104805\n",
      "loss of 3 epoch, 0 index : 0.022532055154442787\n",
      "loss of 3 epoch, 100 index : 0.02981395274400711\n",
      "loss of 3 epoch, 200 index : 0.07290325313806534\n",
      "loss of 3 epoch, 300 index : 0.09232146292924881\n",
      "loss of 3 epoch, 400 index : 0.1510864496231079\n",
      "loss of 3 epoch, 500 index : 0.053462304174900055\n",
      "loss of 3 epoch, 600 index : 0.17052781581878662\n",
      "loss of 3 epoch, 700 index : 0.07320362329483032\n",
      "loss of 3 epoch, 800 index : 0.015709392726421356\n",
      "loss of 3 epoch, 900 index : 0.07327911257743835\n",
      "loss of 3 epoch, 1000 index : 0.13102447986602783\n",
      "loss of 3 epoch, 1100 index : 0.1457499861717224\n",
      "loss of 4 epoch, 0 index : 0.011429979465901852\n",
      "loss of 4 epoch, 100 index : 0.12329307198524475\n",
      "loss of 4 epoch, 200 index : 0.05347615107893944\n",
      "loss of 4 epoch, 300 index : 0.023558281362056732\n",
      "loss of 4 epoch, 400 index : 0.025718512013554573\n",
      "loss of 4 epoch, 500 index : 0.07142826914787292\n",
      "loss of 4 epoch, 600 index : 0.06382124871015549\n",
      "loss of 4 epoch, 700 index : 0.014179041609168053\n",
      "loss of 4 epoch, 800 index : 0.015554720535874367\n",
      "loss of 4 epoch, 900 index : 0.1800559163093567\n",
      "loss of 4 epoch, 1000 index : 0.01516016572713852\n",
      "loss of 4 epoch, 1100 index : 0.024907730519771576\n",
      "loss of 5 epoch, 0 index : 0.027788501232862473\n",
      "loss of 5 epoch, 100 index : 0.018324244767427444\n",
      "loss of 5 epoch, 200 index : 0.03207717835903168\n",
      "loss of 5 epoch, 300 index : 0.008423412218689919\n",
      "loss of 5 epoch, 400 index : 0.01030868198722601\n",
      "loss of 5 epoch, 500 index : 0.002235166961327195\n",
      "loss of 5 epoch, 600 index : 0.010567313060164452\n",
      "loss of 5 epoch, 700 index : 0.04031969979405403\n",
      "loss of 5 epoch, 800 index : 0.04651900380849838\n",
      "loss of 5 epoch, 900 index : 0.07414344698190689\n",
      "loss of 5 epoch, 1000 index : 0.053648754954338074\n",
      "loss of 5 epoch, 1100 index : 0.014082076959311962\n",
      "loss of 6 epoch, 0 index : 0.010160181671380997\n",
      "loss of 6 epoch, 100 index : 0.0037271517794579268\n",
      "loss of 6 epoch, 200 index : 0.01410672441124916\n",
      "loss of 6 epoch, 300 index : 0.05301549285650253\n",
      "loss of 6 epoch, 400 index : 0.033405981957912445\n",
      "loss of 6 epoch, 500 index : 0.019801350310444832\n",
      "loss of 6 epoch, 600 index : 0.010638722218573093\n",
      "loss of 6 epoch, 700 index : 0.02252739481627941\n",
      "loss of 6 epoch, 800 index : 0.011594532988965511\n",
      "loss of 6 epoch, 900 index : 0.035018619149923325\n",
      "loss of 6 epoch, 1000 index : 0.027931153774261475\n",
      "loss of 6 epoch, 1100 index : 0.03838473930954933\n",
      "loss of 7 epoch, 0 index : 0.0053477478213608265\n",
      "loss of 7 epoch, 100 index : 0.05535001680254936\n",
      "loss of 7 epoch, 200 index : 0.007200099993497133\n",
      "loss of 7 epoch, 300 index : 0.0065409415401518345\n",
      "loss of 7 epoch, 400 index : 0.03418295085430145\n",
      "loss of 7 epoch, 500 index : 0.055032845586538315\n",
      "loss of 7 epoch, 600 index : 0.09830842167139053\n",
      "loss of 7 epoch, 700 index : 0.0342818945646286\n",
      "loss of 7 epoch, 800 index : 0.030948486179113388\n",
      "loss of 7 epoch, 900 index : 0.04763103649020195\n",
      "loss of 7 epoch, 1000 index : 0.0065545085817575455\n",
      "loss of 7 epoch, 1100 index : 0.4073134660720825\n",
      "loss of 8 epoch, 0 index : 0.001397894462570548\n",
      "loss of 8 epoch, 100 index : 0.013384481891989708\n",
      "loss of 8 epoch, 200 index : 0.031171031296253204\n",
      "loss of 8 epoch, 300 index : 0.005169330630451441\n",
      "loss of 8 epoch, 400 index : 0.032501090317964554\n",
      "loss of 8 epoch, 500 index : 0.0708392858505249\n",
      "loss of 8 epoch, 600 index : 0.017521323636174202\n",
      "loss of 8 epoch, 700 index : 0.0293265413492918\n",
      "loss of 8 epoch, 800 index : 0.04740650951862335\n",
      "loss of 8 epoch, 900 index : 0.010580372996628284\n",
      "loss of 8 epoch, 1000 index : 0.03627629205584526\n",
      "loss of 8 epoch, 1100 index : 0.012363198213279247\n",
      "loss of 9 epoch, 0 index : 0.009539570659399033\n",
      "loss of 9 epoch, 100 index : 0.027631646022200584\n",
      "loss of 9 epoch, 200 index : 0.026347793638706207\n",
      "loss of 9 epoch, 300 index : 0.0013258102117106318\n",
      "loss of 9 epoch, 400 index : 0.006386346183717251\n",
      "loss of 9 epoch, 500 index : 0.04978276416659355\n",
      "loss of 9 epoch, 600 index : 0.08147966116666794\n",
      "loss of 9 epoch, 700 index : 0.06046565622091293\n",
      "loss of 9 epoch, 800 index : 0.0048827300779521465\n",
      "loss of 9 epoch, 900 index : 0.011523817665874958\n",
      "loss of 9 epoch, 1000 index : 0.05935779958963394\n",
      "loss of 9 epoch, 1100 index : 0.04014987498521805\n"
     ]
    }
   ],
   "source": [
    "cnn.train()  # 학습을 위함\n",
    "for epoch in range(10):\n",
    "  for index, (data, target) in enumerate(train_loader):\n",
    "    optimizer.zero_grad()  # 기울기 초기화\n",
    "    output = cnn(data)\n",
    "    loss = criterion(output, target)\n",
    "    loss.backward()  # 역전파\n",
    "    optimizer.step()\n",
    "\n",
    "    if index % 100 == 0:\n",
    "      print(\"loss of {} epoch, {} index : {}\".format(epoch, index, loss.item()))"
   ]
  },
  {
   "cell_type": "code",
   "execution_count": 13,
   "metadata": {
    "id": "l2PnlaXIc6dm"
   },
   "outputs": [
    {
     "name": "stdout",
     "output_type": "stream",
     "text": [
      "\n",
      "Test set: Average loss: 6.7629, Accuracy: 9890/10000 (99%)\n",
      "\n"
     ]
    }
   ],
   "source": [
    "cnn.eval()  # test case 학습 방지를 위함\n",
    "test_loss = 0\n",
    "correct = 0\n",
    "with torch.no_grad():\n",
    "  for data, target in test_loader:\n",
    "    output = cnn(data)\n",
    "    test_loss += criterion(output, target).item() # sum up batch loss\n",
    "    pred = output.argmax(dim=1, keepdim=True) # get the index of the max log-probability\n",
    "    correct += pred.eq(target.view_as(pred)).sum().item()\n",
    "print('\\nTest set: Average loss: {:.4f}, Accuracy: {}/{} ({:.0f}%)\\n'.format(\n",
    "        test_loss, correct, len(test_loader.dataset),\n",
    "        100. * correct / len(test_loader.dataset)))"
   ]
  }
 ],
 "metadata": {
  "colab": {
   "provenance": []
  },
  "kernelspec": {
   "display_name": "base",
   "language": "python",
   "name": "python3"
  },
  "language_info": {
   "codemirror_mode": {
    "name": "ipython",
    "version": 3
   },
   "file_extension": ".py",
   "mimetype": "text/x-python",
   "name": "python",
   "nbconvert_exporter": "python",
   "pygments_lexer": "ipython3",
   "version": "3.11.7"
  }
 },
 "nbformat": 4,
 "nbformat_minor": 0
}

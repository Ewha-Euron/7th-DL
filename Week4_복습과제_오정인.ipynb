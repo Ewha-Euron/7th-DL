{
  "cells": [
    {
      "cell_type": "markdown",
      "metadata": {
        "id": "JmbrNadxsBr7"
      },
      "source": [
        "## Convolution Layer Example"
      ]
    },
    {
      "cell_type": "code",
      "execution_count": 6,
      "metadata": {
        "colab": {
          "base_uri": "https://localhost:8080/"
        },
        "id": "MAyG6GGTU_mC",
        "outputId": "d1f06223-764e-4030-f221-513900a2d691"
      },
      "outputs": [
        {
          "output_type": "stream",
          "name": "stdout",
          "text": [
            "연산 전 torch.Size([10, 1, 20, 20])\n",
            "conv1 연산 후 torch.Size([10, 3, 16, 16])\n",
            "conv2 연산 후 torch.Size([10, 10, 12, 12])\n",
            "차원 감소 후 torch.Size([10, 1440])\n",
            "fc1 연산 후 torch.Size([10, 50])\n",
            "fc2 연산 후 torch.Size([10, 10])\n"
          ]
        }
      ],
      "source": [
        "import torch\n",
        "import torch.nn as nn\n",
        "import torch.nn.functional as F\n",
        "\n",
        "class CNN(nn.Module):\n",
        "  def __init__(self):\n",
        "    super(CNN, self).__init__()\n",
        "    self.conv1 = nn.Conv2d(in_channels=1, out_channels=3, kernel_size=5, stride=1)\n",
        "    self.conv2 = nn.Conv2d(in_channels=3, out_channels=10, kernel_size=5, stride=1)\n",
        "\n",
        "    self.fc1 = nn.Linear(10 * 12 * 12, 50)\n",
        "    self.fc2 = nn.Linear(50, 10)\n",
        "\n",
        "  def forward(self, x):\n",
        "    print(\"연산 전\", x.size())\n",
        "    x = F.relu(self.conv1(x))\n",
        "    print(\"conv1 연산 후\", x.size())\n",
        "    x = F.relu(self.conv2(x))\n",
        "    print(\"conv2 연산 후\",x.size())\n",
        "    x = x.view(-1, 10 * 12 * 12)\n",
        "    print(\"차원 감소 후\", x.size())\n",
        "    x = F.relu(self.fc1(x))\n",
        "    print(\"fc1 연산 후\", x.size())\n",
        "    x = self.fc2(x)\n",
        "    print(\"fc2 연산 후\", x.size())\n",
        "    return x\n",
        "\n",
        "cnn = CNN()\n",
        "output = cnn(torch.randn(10, 1, 20, 20))  # Input Size: (10, 1, 20, 20)"
      ]
    },
    {
      "cell_type": "markdown",
      "metadata": {
        "id": "0It8H-mysBr-"
      },
      "source": [
        "## Max Pooling Layer Example"
      ]
    },
    {
      "cell_type": "code",
      "execution_count": 9,
      "metadata": {
        "colab": {
          "base_uri": "https://localhost:8080/"
        },
        "id": "LkOwXPFNchie",
        "outputId": "c76aaa90-076f-46bc-fdc6-bc8d992df4ae"
      },
      "outputs": [
        {
          "output_type": "stream",
          "name": "stdout",
          "text": [
            "연산 전 torch.Size([10, 1, 20, 20])\n",
            "max_pool1 연산 후 torch.Size([10, 1, 10, 10])\n",
            "max_pool2 연산 후 torch.Size([10, 1, 5, 5])\n",
            "차원 감소 후 torch.Size([10, 25])\n",
            "fc1 연산 후 torch.Size([10, 50])\n",
            "fc2 연산 후 torch.Size([10, 10])\n"
          ]
        }
      ],
      "source": [
        "class CNN(nn.Module):\n",
        "  def __init__(self):\n",
        "    super(CNN, self).__init__()\n",
        "    self.max_pool1 = nn.MaxPool2d(kernel_size=2)\n",
        "    self.max_pool2 = nn.MaxPool2d(kernel_size=2)\n",
        "\n",
        "    self.fc1 = nn.Linear(1 * 5 * 5, 50)\n",
        "    self.fc2 = nn.Linear(50, 10)\n",
        "\n",
        "  def forward(self, x):\n",
        "    print(\"연산 전\", x.size())\n",
        "    x = F.relu(self.max_pool1(x))\n",
        "    print(\"max_pool1 연산 후\", x.size())\n",
        "    x = F.relu(self.max_pool2(x))\n",
        "    print(\"max_pool2 연산 후\",x.size())\n",
        "    x = x.view(x.size(0), -1)\n",
        "    print(\"차원 감소 후\", x.size())\n",
        "    x = F.relu(self.fc1(x))\n",
        "    print(\"fc1 연산 후\", x.size())\n",
        "    x = self.fc2(x)\n",
        "    print(\"fc2 연산 후\", x.size())\n",
        "    return x\n",
        "\n",
        "cnn = CNN()\n",
        "output = cnn(torch.randn(10, 1, 20, 20))"
      ]
    },
    {
      "cell_type": "markdown",
      "metadata": {
        "id": "uDMn2y5_sBr-"
      },
      "source": [
        "## MNIST 데이터셋 train"
      ]
    },
    {
      "cell_type": "code",
      "execution_count": 1,
      "metadata": {
        "id": "YhfopkrQcp1P",
        "colab": {
          "base_uri": "https://localhost:8080/"
        },
        "outputId": "2465f280-eef6-4052-f0db-36e4ae6c239a"
      },
      "outputs": [
        {
          "output_type": "stream",
          "name": "stdout",
          "text": [
            "Requirement already satisfied: torchvision in /usr/local/lib/python3.10/dist-packages (0.20.0+cu121)\n",
            "Requirement already satisfied: numpy in /usr/local/lib/python3.10/dist-packages (from torchvision) (1.26.4)\n",
            "Requirement already satisfied: torch==2.5.0 in /usr/local/lib/python3.10/dist-packages (from torchvision) (2.5.0+cu121)\n",
            "Requirement already satisfied: pillow!=8.3.*,>=5.3.0 in /usr/local/lib/python3.10/dist-packages (from torchvision) (10.4.0)\n",
            "Requirement already satisfied: filelock in /usr/local/lib/python3.10/dist-packages (from torch==2.5.0->torchvision) (3.16.1)\n",
            "Requirement already satisfied: typing-extensions>=4.8.0 in /usr/local/lib/python3.10/dist-packages (from torch==2.5.0->torchvision) (4.12.2)\n",
            "Requirement already satisfied: networkx in /usr/local/lib/python3.10/dist-packages (from torch==2.5.0->torchvision) (3.4.2)\n",
            "Requirement already satisfied: jinja2 in /usr/local/lib/python3.10/dist-packages (from torch==2.5.0->torchvision) (3.1.4)\n",
            "Requirement already satisfied: fsspec in /usr/local/lib/python3.10/dist-packages (from torch==2.5.0->torchvision) (2024.10.0)\n",
            "Requirement already satisfied: sympy==1.13.1 in /usr/local/lib/python3.10/dist-packages (from torch==2.5.0->torchvision) (1.13.1)\n",
            "Requirement already satisfied: mpmath<1.4,>=1.1.0 in /usr/local/lib/python3.10/dist-packages (from sympy==1.13.1->torch==2.5.0->torchvision) (1.3.0)\n",
            "Requirement already satisfied: MarkupSafe>=2.0 in /usr/local/lib/python3.10/dist-packages (from jinja2->torch==2.5.0->torchvision) (3.0.2)\n"
          ]
        }
      ],
      "source": [
        "!pip install torchvision"
      ]
    },
    {
      "cell_type": "code",
      "execution_count": 4,
      "metadata": {
        "id": "CqFN5YM5cqKe"
      },
      "outputs": [],
      "source": [
        "import torch\n",
        "import torch.optim as optim\n",
        "from torchvision import datasets, transforms"
      ]
    },
    {
      "cell_type": "code",
      "execution_count": 5,
      "metadata": {
        "id": "IJb_C4ptcu6G"
      },
      "outputs": [],
      "source": [
        "train_data = datasets.MNIST('./data/', train=True, download=True, transform=transforms.Compose([\n",
        "        transforms.ToTensor(),\n",
        "        transforms.Normalize((0.1307,), (0.3081,))\n",
        "    ])) # 학습 데이터\n",
        "train_loader = torch.utils.data.DataLoader(dataset=train_data, batch_size=50, shuffle=True)\n",
        "\n",
        "test_data = datasets.MNIST('./data/', train=False, transform=transforms.Compose([\n",
        "        transforms.ToTensor(),\n",
        "        transforms.Normalize((0.1307,), (0.3081,))\n",
        "    ])) # 테스트 데이터\n",
        "test_loader = torch.utils.data.DataLoader(dataset=test_data, batch_size=50, shuffle=True)"
      ]
    },
    {
      "cell_type": "code",
      "execution_count": 10,
      "metadata": {
        "id": "YP3tEuo6ct8A"
      },
      "outputs": [],
      "source": [
        "class CNN(nn.Module):\n",
        "    def __init__(self):\n",
        "        super(CNN, self).__init__()\n",
        "        self.conv1 = nn.Conv2d(in_channels=1, out_channels=20, kernel_size=5, stride=1)\n",
        "        self.conv2 = nn.Conv2d(in_channels=20, out_channels=50, kernel_size=5, stride=1)\n",
        "        self.fc1 = nn.Linear(4 * 4 * 50, 500)\n",
        "        self.fc2 = nn.Linear(500, 10)\n",
        "\n",
        "    def forward(self, x):\n",
        "        #1: Conv -> ReLU -> MaxPool\n",
        "        x = F.relu(self.conv1(x))\n",
        "        x = F.max_pool2d(x, kernel_size=2, stride=2)\n",
        "\n",
        "        #2: Conv -> ReLU -> MaxPool\n",
        "        x = F.relu(self.conv2(x))\n",
        "        x = F.max_pool2d(x, kernel_size=2, stride=2)\n",
        "\n",
        "        x = x.view(-1, 4 * 4 * 50)\n",
        "        x = F.relu(self.fc1(x))\n",
        "        x = self.fc2(x)\n",
        "\n",
        "        return x"
      ]
    },
    {
      "cell_type": "code",
      "execution_count": 11,
      "metadata": {
        "id": "EO2ULx3Sc2GM"
      },
      "outputs": [],
      "source": [
        "cnn = CNN()\n",
        "criterion = torch.nn.CrossEntropyLoss()\n",
        "optimizer = optim.SGD(cnn.parameters(), lr=0.01)"
      ]
    },
    {
      "cell_type": "code",
      "execution_count": 12,
      "metadata": {
        "id": "gAwckNWhc4Nr",
        "colab": {
          "base_uri": "https://localhost:8080/"
        },
        "outputId": "eb1ec5f4-5e42-4725-e141-8d5893b96885"
      },
      "outputs": [
        {
          "output_type": "stream",
          "name": "stdout",
          "text": [
            "loss of 0 epoch, 0 index : 2.2987380027770996\n",
            "loss of 0 epoch, 100 index : 1.0151056051254272\n",
            "loss of 0 epoch, 200 index : 0.354448139667511\n",
            "loss of 0 epoch, 300 index : 0.37920981645584106\n",
            "loss of 0 epoch, 400 index : 0.22995628416538239\n",
            "loss of 0 epoch, 500 index : 0.27760952711105347\n",
            "loss of 0 epoch, 600 index : 0.4181002080440521\n",
            "loss of 0 epoch, 700 index : 0.23928847908973694\n",
            "loss of 0 epoch, 800 index : 0.2179255336523056\n",
            "loss of 0 epoch, 900 index : 0.16336509585380554\n",
            "loss of 0 epoch, 1000 index : 0.17829588055610657\n",
            "loss of 0 epoch, 1100 index : 0.0735735148191452\n",
            "loss of 1 epoch, 0 index : 0.1876397579908371\n",
            "loss of 1 epoch, 100 index : 0.1510622352361679\n",
            "loss of 1 epoch, 200 index : 0.06622471660375595\n",
            "loss of 1 epoch, 300 index : 0.14804041385650635\n",
            "loss of 1 epoch, 400 index : 0.06020026654005051\n",
            "loss of 1 epoch, 500 index : 0.22298862040042877\n",
            "loss of 1 epoch, 600 index : 0.06609559804201126\n",
            "loss of 1 epoch, 700 index : 0.1914956271648407\n",
            "loss of 1 epoch, 800 index : 0.09728717058897018\n",
            "loss of 1 epoch, 900 index : 0.19900403916835785\n",
            "loss of 1 epoch, 1000 index : 0.04688643291592598\n",
            "loss of 1 epoch, 1100 index : 0.07715478539466858\n",
            "loss of 2 epoch, 0 index : 0.15521040558815002\n",
            "loss of 2 epoch, 100 index : 0.04718960449099541\n",
            "loss of 2 epoch, 200 index : 0.03162391483783722\n",
            "loss of 2 epoch, 300 index : 0.017736420035362244\n",
            "loss of 2 epoch, 400 index : 0.16251902282238007\n",
            "loss of 2 epoch, 500 index : 0.11221706122159958\n",
            "loss of 2 epoch, 600 index : 0.08344855904579163\n",
            "loss of 2 epoch, 700 index : 0.01541755348443985\n",
            "loss of 2 epoch, 800 index : 0.04076751694083214\n",
            "loss of 2 epoch, 900 index : 0.09773703664541245\n",
            "loss of 2 epoch, 1000 index : 0.045234907418489456\n",
            "loss of 2 epoch, 1100 index : 0.13343407213687897\n",
            "loss of 3 epoch, 0 index : 0.11255304515361786\n",
            "loss of 3 epoch, 100 index : 0.02857600897550583\n",
            "loss of 3 epoch, 200 index : 0.042231135070323944\n",
            "loss of 3 epoch, 300 index : 0.1651189625263214\n",
            "loss of 3 epoch, 400 index : 0.01181128341704607\n",
            "loss of 3 epoch, 500 index : 0.04500003159046173\n",
            "loss of 3 epoch, 600 index : 0.03773560747504234\n",
            "loss of 3 epoch, 700 index : 0.07229815423488617\n",
            "loss of 3 epoch, 800 index : 0.021741388365626335\n",
            "loss of 3 epoch, 900 index : 0.004990384913980961\n",
            "loss of 3 epoch, 1000 index : 0.05462932214140892\n",
            "loss of 3 epoch, 1100 index : 0.024535181000828743\n",
            "loss of 4 epoch, 0 index : 0.0803130716085434\n",
            "loss of 4 epoch, 100 index : 0.011277250945568085\n",
            "loss of 4 epoch, 200 index : 0.0313219390809536\n",
            "loss of 4 epoch, 300 index : 0.08430151641368866\n",
            "loss of 4 epoch, 400 index : 0.058917202055454254\n",
            "loss of 4 epoch, 500 index : 0.035221025347709656\n",
            "loss of 4 epoch, 600 index : 0.06662953644990921\n",
            "loss of 4 epoch, 700 index : 0.07898743450641632\n",
            "loss of 4 epoch, 800 index : 0.04974634200334549\n",
            "loss of 4 epoch, 900 index : 0.07622721791267395\n",
            "loss of 4 epoch, 1000 index : 0.10810378938913345\n",
            "loss of 4 epoch, 1100 index : 0.01393807865679264\n",
            "loss of 5 epoch, 0 index : 0.007419760804623365\n",
            "loss of 5 epoch, 100 index : 0.10987597703933716\n",
            "loss of 5 epoch, 200 index : 0.02855464071035385\n",
            "loss of 5 epoch, 300 index : 0.012107379734516144\n",
            "loss of 5 epoch, 400 index : 0.010519049130380154\n",
            "loss of 5 epoch, 500 index : 0.016896812245249748\n",
            "loss of 5 epoch, 600 index : 0.042466096580028534\n",
            "loss of 5 epoch, 700 index : 0.0023972787894308567\n",
            "loss of 5 epoch, 800 index : 0.09792269021272659\n",
            "loss of 5 epoch, 900 index : 0.06251796334981918\n",
            "loss of 5 epoch, 1000 index : 0.041080523282289505\n",
            "loss of 5 epoch, 1100 index : 0.022544531151652336\n",
            "loss of 6 epoch, 0 index : 0.019692976027727127\n",
            "loss of 6 epoch, 100 index : 0.07999338954687119\n",
            "loss of 6 epoch, 200 index : 0.004565712064504623\n",
            "loss of 6 epoch, 300 index : 0.007932022213935852\n",
            "loss of 6 epoch, 400 index : 0.010127072222530842\n",
            "loss of 6 epoch, 500 index : 0.02429971843957901\n",
            "loss of 6 epoch, 600 index : 0.019982051104307175\n",
            "loss of 6 epoch, 700 index : 0.03647366538643837\n",
            "loss of 6 epoch, 800 index : 0.07378525286912918\n",
            "loss of 6 epoch, 900 index : 0.036480870097875595\n",
            "loss of 6 epoch, 1000 index : 0.0590972863137722\n",
            "loss of 6 epoch, 1100 index : 0.0538976676762104\n",
            "loss of 7 epoch, 0 index : 0.0038894391618669033\n",
            "loss of 7 epoch, 100 index : 0.012081547640264034\n",
            "loss of 7 epoch, 200 index : 0.03388342261314392\n",
            "loss of 7 epoch, 300 index : 0.06725730001926422\n",
            "loss of 7 epoch, 400 index : 0.020584814250469208\n",
            "loss of 7 epoch, 500 index : 0.008085337467491627\n",
            "loss of 7 epoch, 600 index : 0.007836425676941872\n",
            "loss of 7 epoch, 700 index : 0.01771404594182968\n",
            "loss of 7 epoch, 800 index : 0.09240474551916122\n",
            "loss of 7 epoch, 900 index : 0.13696669042110443\n",
            "loss of 7 epoch, 1000 index : 0.0288984552025795\n",
            "loss of 7 epoch, 1100 index : 0.10187780112028122\n",
            "loss of 8 epoch, 0 index : 0.15157045423984528\n",
            "loss of 8 epoch, 100 index : 0.021897463127970695\n",
            "loss of 8 epoch, 200 index : 0.018710505217313766\n",
            "loss of 8 epoch, 300 index : 0.009399451315402985\n",
            "loss of 8 epoch, 400 index : 0.12139184772968292\n",
            "loss of 8 epoch, 500 index : 0.09018102288246155\n",
            "loss of 8 epoch, 600 index : 0.042320337146520615\n",
            "loss of 8 epoch, 700 index : 0.043972644954919815\n",
            "loss of 8 epoch, 800 index : 0.03249694034457207\n",
            "loss of 8 epoch, 900 index : 0.003600056516006589\n",
            "loss of 8 epoch, 1000 index : 0.03184868395328522\n",
            "loss of 8 epoch, 1100 index : 0.014448842033743858\n",
            "loss of 9 epoch, 0 index : 0.050818223506212234\n",
            "loss of 9 epoch, 100 index : 0.02127901092171669\n",
            "loss of 9 epoch, 200 index : 0.014668908901512623\n",
            "loss of 9 epoch, 300 index : 0.0074813487008214\n",
            "loss of 9 epoch, 400 index : 0.04019523039460182\n",
            "loss of 9 epoch, 500 index : 0.007263148203492165\n",
            "loss of 9 epoch, 600 index : 0.005404965486377478\n",
            "loss of 9 epoch, 700 index : 0.07713885605335236\n",
            "loss of 9 epoch, 800 index : 0.00820969045162201\n",
            "loss of 9 epoch, 900 index : 0.005438131280243397\n",
            "loss of 9 epoch, 1000 index : 0.018371466547250748\n",
            "loss of 9 epoch, 1100 index : 0.0026858483906835318\n"
          ]
        }
      ],
      "source": [
        "cnn.train()\n",
        "for epoch in range(10):\n",
        "  for index, (data, target) in enumerate(train_loader):\n",
        "    optimizer.zero_grad()\n",
        "    output = cnn(data)\n",
        "    loss = criterion(output, target)\n",
        "    loss.backward()  # 역전파\n",
        "    optimizer.step()\n",
        "\n",
        "    if index % 100 == 0:\n",
        "      print(\"loss of {} epoch, {} index : {}\".format(epoch, index, loss.item()))"
      ]
    },
    {
      "cell_type": "code",
      "execution_count": 13,
      "metadata": {
        "id": "l2PnlaXIc6dm",
        "colab": {
          "base_uri": "https://localhost:8080/"
        },
        "outputId": "167f494a-2b88-4ff4-da33-65167d8c5ceb"
      },
      "outputs": [
        {
          "output_type": "stream",
          "name": "stdout",
          "text": [
            "\n",
            "Test set: Average loss: 6.2837, Accuracy: 9904/10000 (99%)\n",
            "\n"
          ]
        }
      ],
      "source": [
        "cnn.eval()\n",
        "test_loss = 0\n",
        "correct = 0\n",
        "with torch.no_grad():\n",
        "  for data, target in test_loader:\n",
        "    output = cnn(data)\n",
        "    test_loss += criterion(output, target).item() # sum up batch loss\n",
        "    pred = output.argmax(dim=1, keepdim=True) # get the index of the max log-probability\n",
        "    correct += pred.eq(target.view_as(pred)).sum().item()\n",
        "print('\\nTest set: Average loss: {:.4f}, Accuracy: {}/{} ({:.0f}%)\\n'.format(\n",
        "        test_loss, correct, len(test_loader.dataset),\n",
        "        100. * correct / len(test_loader.dataset)))"
      ]
    }
  ],
  "metadata": {
    "colab": {
      "provenance": []
    },
    "kernelspec": {
      "display_name": "Python 3",
      "name": "python3"
    },
    "language_info": {
      "name": "python"
    }
  },
  "nbformat": 4,
  "nbformat_minor": 0
}
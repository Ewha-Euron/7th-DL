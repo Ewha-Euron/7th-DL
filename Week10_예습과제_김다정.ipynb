{
 "cells": [
  {
   "cell_type": "markdown",
   "metadata": {
    "id": "ieq_lDLKtKDW"
   },
   "source": [
    "# **7.1 시계열 문제**"
   ]
  },
  {
   "cell_type": "markdown",
   "metadata": {
    "id": "x4EW-81atMPN"
   },
   "source": [
    "# **7.2 AR, MA, ARMA, ARIMA**"
   ]
  },
  {
   "cell_type": "markdown",
   "metadata": {
    "id": "UZHFCtjHtWE7"
   },
   "source": [
    "## **7.2.1 AR 모델**"
   ]
  },
  {
   "cell_type": "markdown",
   "metadata": {
    "id": "UTE5NG0WtXug"
   },
   "source": [
    "## **7.2.2 MA 모델**"
   ]
  },
  {
   "cell_type": "markdown",
   "metadata": {
    "id": "cupqloi2tait"
   },
   "source": [
    "## **7.2.3 ARMA 모델**"
   ]
  },
  {
   "cell_type": "markdown",
   "metadata": {
    "id": "H4XRc9f5td9k"
   },
   "source": [
    "## **7.2.4 ARIMA 모델**"
   ]
  },
  {
   "cell_type": "markdown",
   "metadata": {
    "id": "FHArUUgjtjF3"
   },
   "source": [
    "**`statsmodels` 라이브러리 설치**"
   ]
  },
  {
   "cell_type": "code",
   "execution_count": null,
   "metadata": {
    "colab": {
     "base_uri": "https://localhost:8080/"
    },
    "id": "WC35WUYGtCYH",
    "outputId": "d7186857-62b5-4e69-a5a7-7106fd56a7fc"
   },
   "outputs": [
    {
     "name": "stdout",
     "output_type": "stream",
     "text": [
      "Requirement already satisfied: statsmodels in /usr/local/lib/python3.10/dist-packages (0.14.4)\n",
      "Requirement already satisfied: numpy<3,>=1.22.3 in /usr/local/lib/python3.10/dist-packages (from statsmodels) (1.26.4)\n",
      "Requirement already satisfied: scipy!=1.9.2,>=1.8 in /usr/local/lib/python3.10/dist-packages (from statsmodels) (1.13.1)\n",
      "Requirement already satisfied: pandas!=2.1.0,>=1.4 in /usr/local/lib/python3.10/dist-packages (from statsmodels) (2.2.2)\n",
      "Requirement already satisfied: patsy>=0.5.6 in /usr/local/lib/python3.10/dist-packages (from statsmodels) (1.0.1)\n",
      "Requirement already satisfied: packaging>=21.3 in /usr/local/lib/python3.10/dist-packages (from statsmodels) (24.2)\n",
      "Requirement already satisfied: python-dateutil>=2.8.2 in /usr/local/lib/python3.10/dist-packages (from pandas!=2.1.0,>=1.4->statsmodels) (2.8.2)\n",
      "Requirement already satisfied: pytz>=2020.1 in /usr/local/lib/python3.10/dist-packages (from pandas!=2.1.0,>=1.4->statsmodels) (2024.2)\n",
      "Requirement already satisfied: tzdata>=2022.7 in /usr/local/lib/python3.10/dist-packages (from pandas!=2.1.0,>=1.4->statsmodels) (2024.2)\n",
      "Requirement already satisfied: six>=1.5 in /usr/local/lib/python3.10/dist-packages (from python-dateutil>=2.8.2->pandas!=2.1.0,>=1.4->statsmodels) (1.16.0)\n"
     ]
    }
   ],
   "source": [
    "pip install statsmodels"
   ]
  },
  {
   "cell_type": "markdown",
   "metadata": {
    "id": "gb4guWM6tmrN"
   },
   "source": [
    "**`ARIMA()` 함수 호출, `sales` 데이터셋에 대한 예측**"
   ]
  },
  {
   "cell_type": "code",
   "execution_count": null,
   "metadata": {
    "colab": {
     "base_uri": "https://localhost:8080/"
    },
    "id": "Si95ZWWXucUu",
    "outputId": "c24038c4-910b-4d25-8f88-3f6748338a0e"
   },
   "outputs": [
    {
     "name": "stdout",
     "output_type": "stream",
     "text": [
      "Mounted at /content/drive\n"
     ]
    }
   ],
   "source": [
    "from google.colab import drive\n",
    "drive.mount('/content/drive')"
   ]
  },
  {
   "cell_type": "code",
   "execution_count": null,
   "metadata": {
    "colab": {
     "base_uri": "https://localhost:8080/",
     "height": 1000
    },
    "id": "3FjFzWcwtswJ",
    "outputId": "86ada51f-d46e-4e7c-877e-9fb14a5ba5de"
   },
   "outputs": [
    {
     "name": "stderr",
     "output_type": "stream",
     "text": [
      "<ipython-input-10-e75f30616811>:10: FutureWarning: The argument 'date_parser' is deprecated and will be removed in a future version. Please use 'date_format' instead, or read your data in as 'object' dtype and then call 'to_datetime'.\n",
      "  series=read_csv('/content/drive/MyDrive/24-2/EURON/과제/Week10/sales.csv', header=0, parse_dates=[0], index_col=0,\n",
      "/usr/local/lib/python3.10/dist-packages/statsmodels/tsa/base/tsa_model.py:473: ValueWarning: No frequency information was provided, so inferred frequency MS will be used.\n",
      "  self._init_dates(dates, freq)\n"
     ]
    },
    {
     "name": "stdout",
     "output_type": "stream",
     "text": [
      "                               SARIMAX Results                                \n",
      "==============================================================================\n",
      "Dep. Variable:                  Sales   No. Observations:                   36\n",
      "Model:                 ARIMA(5, 1, 0)   Log Likelihood                -199.651\n",
      "Date:                Mon, 25 Nov 2024   AIC                            411.302\n",
      "Time:                        00:39:23   BIC                            420.634\n",
      "Sample:                    01-01-1991   HQIC                           414.523\n",
      "                         - 12-01-1993                                         \n",
      "Covariance Type:                  opg                                         \n",
      "==============================================================================\n",
      "                 coef    std err          z      P>|z|      [0.025      0.975]\n",
      "------------------------------------------------------------------------------\n",
      "ar.L1         -0.8788      0.227     -3.876      0.000      -1.323      -0.434\n",
      "ar.L2         -0.2787      0.232     -1.203      0.229      -0.733       0.176\n",
      "ar.L3         -0.0076      0.270     -0.028      0.978      -0.536       0.521\n",
      "ar.L4          0.3483      0.294      1.185      0.236      -0.228       0.924\n",
      "ar.L5          0.3772      0.207      1.826      0.068      -0.028       0.782\n",
      "sigma2      5049.2115   1540.731      3.277      0.001    2029.435    8068.988\n",
      "===================================================================================\n",
      "Ljung-Box (L1) (Q):                   0.39   Jarque-Bera (JB):                 1.60\n",
      "Prob(Q):                              0.53   Prob(JB):                         0.45\n",
      "Heteroskedasticity (H):               1.43   Skew:                             0.38\n",
      "Prob(H) (two-sided):                  0.54   Kurtosis:                         2.28\n",
      "===================================================================================\n",
      "\n",
      "Warnings:\n",
      "[1] Covariance matrix calculated using the outer product of gradients (complex-step).\n"
     ]
    },
    {
     "data": {
      "image/png": "[encoded data removed]",
      "text/plain": [
       "<Figure size 640x480 with 1 Axes>"
      ]
     },
     "metadata": {},
     "output_type": "display_data"
    },
    {
     "data": {
      "image/png": "[encoded data removed]",
      "text/plain": [
       "<Figure size 640x480 with 1 Axes>"
      ]
     },
     "metadata": {},
     "output_type": "display_data"
    },
    {
     "name": "stdout",
     "output_type": "stream",
     "text": [
      "                0\n",
      "count   36.000000\n",
      "mean    22.459086\n",
      "std     82.505331\n",
      "min   -118.213281\n",
      "25%    -33.308343\n",
      "50%      1.361178\n",
      "75%     76.704967\n",
      "max    266.000000\n"
     ]
    }
   ],
   "source": [
    "from pandas import read_csv\n",
    "from datetime import datetime\n",
    "from pandas import DataFrame\n",
    "from statsmodels.tsa.arima.model import ARIMA\n",
    "from matplotlib import pyplot\n",
    "\n",
    "def parser(x):\n",
    "  return datetime.strptime('199'+x, '%Y-%m')\n",
    "\n",
    "series=read_csv('/content/drive/MyDrive/24-2/EURON/과제/Week10/sales.csv', header=0, parse_dates=[0], index_col=0,\n",
    "                date_parser=parser)\n",
    "series=series.squeeze('columns')\n",
    "model=ARIMA(series, order=(5, 1, 0))\n",
    "model_fit=model.fit()\n",
    "print(model_fit.summary())\n",
    "residuals=DataFrame(model_fit.resid)\n",
    "residuals.plot()\n",
    "pyplot.show()\n",
    "residuals.plot(kind='kde')\n",
    "pyplot.show()\n",
    "print(residuals.describe())"
   ]
  },
  {
   "cell_type": "markdown",
   "metadata": {
    "id": "B2dV9W3myGjV"
   },
   "source": [
    "➡️오류 분포가 치우쳐 있다.\n",
    "  * 오류 평균(`mean`) 값이 0이 아니다."
   ]
  },
  {
   "cell_type": "markdown",
   "metadata": {
    "id": "aAt6D9payOs9"
   },
   "source": [
    "**`ARIMA()` 예측**"
   ]
  },
  {
   "cell_type": "code",
   "execution_count": null,
   "metadata": {
    "colab": {
     "base_uri": "https://localhost:8080/",
     "height": 762
    },
    "id": "oA2O2K59x-FM",
    "outputId": "c3b058f5-eb7c-463a-ec08-38fec2196f4e"
   },
   "outputs": [
    {
     "name": "stderr",
     "output_type": "stream",
     "text": [
      "<ipython-input-11-1cf1186d586d>:11: FutureWarning: The argument 'date_parser' is deprecated and will be removed in a future version. Please use 'date_format' instead, or read your data in as 'object' dtype and then call 'to_datetime'.\n",
      "  series=read_csv('/content/drive/MyDrive/24-2/EURON/과제/Week10/sales.csv', header=0, parse_dates=[0], index_col=0, date_parser=parser)\n",
      "<ipython-input-11-1cf1186d586d>:26: DeprecationWarning: Conversion of an array with ndim > 0 to a scalar is deprecated, and will error in future. Ensure you extract a single element from your array before performing this operation. (Deprecated NumPy 1.25.)\n",
      "  print('predicted=%f, expected=%f' % (yhat, obs))\n"
     ]
    },
    {
     "name": "stdout",
     "output_type": "stream",
     "text": [
      "predicted=352.855343, expected=346.300000\n",
      "predicted=277.398036, expected=329.700000\n",
      "predicted=368.753734, expected=445.400000\n",
      "predicted=331.773635, expected=325.900000\n",
      "predicted=372.070405, expected=449.300000\n",
      "predicted=360.020872, expected=411.300000\n",
      "predicted=454.526230, expected=417.400000\n",
      "predicted=388.690699, expected=545.500000\n",
      "predicted=437.632447, expected=477.600000\n",
      "predicted=516.437624, expected=687.000000\n",
      "predicted=520.916190, expected=435.300000\n",
      "predicted=675.594647, expected=587.300000\n",
      "predicted=505.201016, expected=676.900000\n",
      "Test MSE: 29480.541\n"
     ]
    },
    {
     "data": {
      "image/png": "[encoded data removed]",
      "text/plain": [
       "<Figure size 640x480 with 1 Axes>"
      ]
     },
     "metadata": {},
     "output_type": "display_data"
    }
   ],
   "source": [
    "import numpy as np\n",
    "from pandas import read_csv\n",
    "from datetime import datetime\n",
    "from matplotlib import pyplot\n",
    "from statsmodels.tsa.arima.model import ARIMA\n",
    "from sklearn.metrics import mean_squared_error\n",
    "\n",
    "def parser(x):\n",
    "  return datetime.strptime('199'+x, '%Y-%m')\n",
    "\n",
    "series=read_csv('/content/drive/MyDrive/24-2/EURON/과제/Week10/sales.csv', header=0, parse_dates=[0], index_col=0, date_parser=parser)\n",
    "X=series.values\n",
    "X=np.nan_to_num(X)\n",
    "size=int(len(X)*0.66)\n",
    "train, test=X[0:size], X[size:len(X)]\n",
    "history=[x for x in train]\n",
    "predictions=list()\n",
    "for t in range(len(test)):\n",
    "  model=ARIMA(history, order=(5, 1, 0))\n",
    "  model_fit=model.fit()\n",
    "  output=model_fit.forecast()\n",
    "  yhat=output[0]\n",
    "  predictions.append(yhat)\n",
    "  obs=test[t]\n",
    "  history.append(obs)\n",
    "  print('predicted=%f, expected=%f' % (yhat, obs))\n",
    "\n",
    "error=mean_squared_error([obs], [yhat])\n",
    "print('Test MSE: %.3f' % error)\n",
    "pyplot.plot(test)\n",
    "pyplot.plot(predictions, color='red')\n",
    "pyplot.show()"
   ]
  },
  {
   "cell_type": "markdown",
   "metadata": {
    "id": "fcAqzjMM4Sd-"
   },
   "source": [
    "* 빨간색: 실제 데이터\n",
    "* 파란색: 모형 실행 결과\n",
    "\n",
    "➡️우상향 추세를 나타내고 있으므로, 자전거 판매가 향후에도 계속 증가할 것이다.\n",
    "\n",
    "📍ARIMA를 사용하면 데이터 경향을 파악해서 미래를 예측할 수 있다."
   ]
  },
  {
   "cell_type": "markdown",
   "metadata": {
    "id": "zK0HuKzN4mon"
   },
   "source": [
    "# **7.3 순환 신경망(RNN)**"
   ]
  },
  {
   "cell_type": "markdown",
   "metadata": {
    "id": "TZRrIcbUcvRR"
   },
   "source": [
    "1. 일대일\n",
    "2. 일대다\n",
    "3. 다대일\n",
    "4. 다대다\n",
    "5. 동기화 다대다"
   ]
  },
  {
   "cell_type": "markdown",
   "metadata": {
    "id": "Uff7fNcLczGi"
   },
   "source": [
    "**다대일 구조 예시 코드**\n",
    "```\n",
    "self.em=nn.Embedding(len(TEXT.vocab.stoi), embeding_dim)\n",
    "self.rnn=nn.RNNCell(input_dim, hidden_size)\n",
    "self.fc1=nn.Linear(hidden_size, 256)\n",
    "self.fc2=nn.Linear(256, 3)\n",
    "```"
   ]
  },
  {
   "cell_type": "markdown",
   "metadata": {
    "id": "dM6_tNDEgF_Z"
   },
   "source": [
    "**다대다 구조 예시 코드(파이토치)**\n",
    "```\n",
    "Seq2Seq(\n",
    "    (encoder): Encoder(\n",
    "        (embedding): Embedding(7855, 256)\n",
    "        (rnn): LSTM(256, 512, num_layers=2, dropout=0.5)\n",
    "        (dropout): Dropout(p=0.5, inplace=False)\n",
    "    )\n",
    "    (decoder): Decoder(\n",
    "        (embedding): Embedding(5893, 256)\n",
    "        (rnn): LSTM(256, 512, num_layers=2, dropout=0.5)\n",
    "        (dropout): Dropout(p=0.5, inplace=False)\n",
    "    )\n",
    ")\n",
    "```"
   ]
  },
  {
   "cell_type": "markdown",
   "metadata": {
    "id": "GUstAxR02HTl"
   },
   "source": [
    "### **7.3.1 RNN 계층과 셀**"
   ]
  },
  {
   "cell_type": "markdown",
   "metadata": {
    "id": "J3wpzXd72Pk_"
   },
   "source": [
    "## **7.4 RNN 구조**"
   ]
  },
  {
   "cell_type": "markdown",
   "metadata": {
    "id": "N7ViGQG_2TA-"
   },
   "source": [
    "### **7.4.1 RNN 셀 구현**"
   ]
  },
  {
   "cell_type": "code",
   "execution_count": 4,
   "metadata": {},
   "outputs": [
    {
     "name": "stdout",
     "output_type": "stream",
     "text": [
      "Collecting torch==1.10.0\n",
      "  Downloading torch-1.10.0-cp38-cp38-win_amd64.whl (226.6 MB)\n",
      "Requirement already satisfied: typing-extensions in c:\\users\\user\\appdata\\roaming\\python\\python38\\site-packages (from torch==1.10.0) (4.12.2)\n",
      "Installing collected packages: torch\n",
      "Successfully installed torch-1.10.0\n",
      "Note: you may need to restart the kernel to use updated packages.\n"
     ]
    },
    {
     "name": "stderr",
     "output_type": "stream",
     "text": [
      "  WARNING: The scripts convert-caffe2-to-onnx.exe, convert-onnx-to-caffe2.exe and torchrun.exe are installed in 'c:\\Users\\User\\AppData\\Local\\Programs\\Python\\Python38\\Scripts' which is not on PATH.\n",
      "  Consider adding this directory to PATH or, if you prefer to suppress this warning, use --no-warn-script-location.\n",
      "WARNING: You are using pip version 21.1.1; however, version 24.3.1 is available.\n",
      "You should consider upgrading via the 'c:\\Users\\User\\AppData\\Local\\Programs\\Python\\Python38\\python.exe -m pip install --upgrade pip' command.\n"
     ]
    },
    {
     "name": "stdout",
     "output_type": "stream",
     "text": [
      "Collecting torchtext==0.11.0\n",
      "  Downloading torchtext-0.11.0-cp38-cp38-win_amd64.whl (1.5 MB)\n",
      "Collecting tqdm\n",
      "  Downloading tqdm-4.67.1-py3-none-any.whl (78 kB)\n",
      "Collecting numpy\n",
      "  Downloading numpy-1.24.4-cp38-cp38-win_amd64.whl (14.9 MB)\n",
      "Requirement already satisfied: torch==1.10.0 in c:\\users\\user\\appdata\\local\\programs\\python\\python38\\lib\\site-packages (from torchtext==0.11.0) (1.10.0)\n",
      "Collecting requests\n",
      "  Downloading requests-2.32.3-py3-none-any.whl (64 kB)\n",
      "Requirement already satisfied: typing-extensions in c:\\users\\user\\appdata\\roaming\\python\\python38\\site-packages (from torch==1.10.0->torchtext==0.11.0) (4.12.2)\n",
      "Collecting certifi>=2017.4.17\n",
      "  Downloading certifi-2024.8.30-py3-none-any.whl (167 kB)\n",
      "Collecting idna<4,>=2.5\n",
      "  Downloading idna-3.10-py3-none-any.whl (70 kB)\n",
      "Collecting charset-normalizer<4,>=2\n",
      "  Downloading charset_normalizer-3.4.0-cp38-cp38-win_amd64.whl (101 kB)\n",
      "Collecting urllib3<3,>=1.21.1\n",
      "  Downloading urllib3-2.2.3-py3-none-any.whl (126 kB)\n",
      "Requirement already satisfied: colorama in c:\\users\\user\\appdata\\roaming\\python\\python38\\site-packages (from tqdm->torchtext==0.11.0) (0.4.6)\n",
      "Installing collected packages: urllib3, idna, charset-normalizer, certifi, tqdm, requests, numpy, torchtext\n",
      "Successfully installed certifi-2024.8.30 charset-normalizer-3.4.0 idna-3.10 numpy-1.24.4 requests-2.32.3 torchtext-0.11.0 tqdm-4.67.1 urllib3-2.2.3\n",
      "Note: you may need to restart the kernel to use updated packages.\n"
     ]
    },
    {
     "name": "stderr",
     "output_type": "stream",
     "text": [
      "  WARNING: The script normalizer.exe is installed in 'c:\\Users\\User\\AppData\\Local\\Programs\\Python\\Python38\\Scripts' which is not on PATH.\n",
      "  Consider adding this directory to PATH or, if you prefer to suppress this warning, use --no-warn-script-location.\n",
      "  WARNING: The script tqdm.exe is installed in 'c:\\Users\\User\\AppData\\Local\\Programs\\Python\\Python38\\Scripts' which is not on PATH.\n",
      "  Consider adding this directory to PATH or, if you prefer to suppress this warning, use --no-warn-script-location.\n",
      "  WARNING: The script f2py.exe is installed in 'c:\\Users\\User\\AppData\\Local\\Programs\\Python\\Python38\\Scripts' which is not on PATH.\n",
      "  Consider adding this directory to PATH or, if you prefer to suppress this warning, use --no-warn-script-location.\n",
      "WARNING: You are using pip version 21.1.1; however, version 24.3.1 is available.\n",
      "You should consider upgrading via the 'c:\\Users\\User\\AppData\\Local\\Programs\\Python\\Python38\\python.exe -m pip install --upgrade pip' command.\n"
     ]
    }
   ],
   "source": [
    "%pip install torch==1.10.0\n",
    "%pip install torchtext==0.11.0"
   ]
  },
  {
   "cell_type": "markdown",
   "metadata": {
    "id": "8lHMsM7D2ZEE"
   },
   "source": [
    "**라이브러리 호출**"
   ]
  },
  {
   "cell_type": "code",
   "execution_count": 2,
   "metadata": {
    "id": "1aYX53gA2z07"
   },
   "outputs": [
    {
     "name": "stderr",
     "output_type": "stream",
     "text": [
      "c:\\Users\\User\\AppData\\Local\\Programs\\Python\\Python38\\lib\\site-packages\\tqdm\\auto.py:21: TqdmWarning: IProgress not found. Please update jupyter and ipywidgets. See https://ipywidgets.readthedocs.io/en/stable/user_install.html\n",
      "  from .autonotebook import tqdm as notebook_tqdm\n"
     ]
    }
   ],
   "source": [
    "import torch\n",
    "import torchtext\n",
    "import numpy as np\n",
    "import torch.nn as nn\n",
    "import torch.nn.functional as F\n",
    "import time"
   ]
  },
  {
   "cell_type": "markdown",
   "metadata": {
    "id": "PwE0Grj629l4"
   },
   "source": [
    "**데이터 전처리**"
   ]
  },
  {
   "cell_type": "code",
   "execution_count": 3,
   "metadata": {
    "colab": {
     "base_uri": "https://localhost:8080/"
    },
    "id": "6Ciq3_gx_4K2",
    "outputId": "cf96f5b6-893e-480c-e175-ab3fd6069f55"
   },
   "outputs": [],
   "source": [
    "start=time.time()\n",
    "TEXT=torchtext.legacy.data.Field(lower=True, fix_length=200, batch_first=False)\n",
    "LABEL=torchtext.legacy.data.Field(sequential=False)"
   ]
  },
  {
   "cell_type": "markdown",
   "metadata": {
    "id": "FmzEDE6r-pAr"
   },
   "source": [
    "**데이터셋 준비**"
   ]
  },
  {
   "cell_type": "code",
   "execution_count": 4,
   "metadata": {
    "id": "S256TD5z-rKW"
   },
   "outputs": [],
   "source": [
    "from torchtext.legacy import datasets\n",
    "\n",
    "train_data, test_data=datasets.IMDB.splits(TEXT, LABEL)"
   ]
  },
  {
   "cell_type": "markdown",
   "metadata": {},
   "source": [
    "**추천 데이터셋 내용 확인**"
   ]
  },
  {
   "cell_type": "code",
   "execution_count": 5,
   "metadata": {},
   "outputs": [
    {
     "name": "stdout",
     "output_type": "stream",
     "text": [
      "{'text': ['bromwell', 'high', 'is', 'a', 'cartoon', 'comedy.', 'it', 'ran', 'at', 'the', 'same', 'time', 'as', 'some', 'other', 'programs', 'about', 'school', 'life,', 'such', 'as', '\"teachers\".', 'my', '35', 'years', 'in', 'the', 'teaching', 'profession', 'lead', 'me', 'to', 'believe', 'that', 'bromwell', \"high's\", 'satire', 'is', 'much', 'closer', 'to', 'reality', 'than', 'is', '\"teachers\".', 'the', 'scramble', 'to', 'survive', 'financially,', 'the', 'insightful', 'students', 'who', 'can', 'see', 'right', 'through', 'their', 'pathetic', \"teachers'\", 'pomp,', 'the', 'pettiness', 'of', 'the', 'whole', 'situation,', 'all', 'remind', 'me', 'of', 'the', 'schools', 'i', 'knew', 'and', 'their', 'students.', 'when', 'i', 'saw', 'the', 'episode', 'in', 'which', 'a', 'student', 'repeatedly', 'tried', 'to', 'burn', 'down', 'the', 'school,', 'i', 'immediately', 'recalled', '.........', 'at', '..........', 'high.', 'a', 'classic', 'line:', 'inspector:', \"i'm\", 'here', 'to', 'sack', 'one', 'of', 'your', 'teachers.', 'student:', 'welcome', 'to', 'bromwell', 'high.', 'i', 'expect', 'that', 'many', 'adults', 'of', 'my', 'age', 'think', 'that', 'bromwell', 'high', 'is', 'far', 'fetched.', 'what', 'a', 'pity', 'that', 'it', \"isn't!\"], 'label': 'pos'}\n"
     ]
    }
   ],
   "source": [
    "print(vars(train_data.examples[0]))"
   ]
  },
  {
   "cell_type": "markdown",
   "metadata": {},
   "source": [
    "**데이터셋 전처리 적용**"
   ]
  },
  {
   "cell_type": "code",
   "execution_count": 6,
   "metadata": {},
   "outputs": [],
   "source": [
    "import string\n",
    "\n",
    "for example in train_data.examples:\n",
    "    text=[x.lower() for x in vars(example)['text']]\n",
    "    text=[x.replace('<br', '') for x in text]\n",
    "    text=[''.join(c for c in s if c not in string.punctuation) for s in text]\n",
    "    text=[s for s in text if s]\n",
    "    vars(example)['text']=text"
   ]
  },
  {
   "cell_type": "markdown",
   "metadata": {
    "id": "x26i7245_Eg-"
   },
   "source": [
    "**훈련과 검증 데이터셋 분리**"
   ]
  },
  {
   "cell_type": "code",
   "execution_count": 7,
   "metadata": {
    "colab": {
     "base_uri": "https://localhost:8080/"
    },
    "id": "W3p7srCq_GkP",
    "outputId": "18022ed3-0202-4a86-d7d3-2f06b44d39f0"
   },
   "outputs": [],
   "source": [
    "import random\n",
    "\n",
    "train_data, valid_data=train_data.split(random_state=random.seed(0), split_ratio=0.8)"
   ]
  },
  {
   "cell_type": "markdown",
   "metadata": {},
   "source": [
    "**데이터셋 개수 확인**"
   ]
  },
  {
   "cell_type": "code",
   "execution_count": 8,
   "metadata": {},
   "outputs": [
    {
     "name": "stdout",
     "output_type": "stream",
     "text": [
      "Number of training examples: 20000\n",
      "Number of validation examples: 5000\n",
      "Number of testing examples: 25000\n"
     ]
    }
   ],
   "source": [
    "print(f'Number of training examples: {len(train_data)}')\n",
    "print(f'Number of validation examples: {len(valid_data)}')\n",
    "print(f'Number of testing examples: {len(test_data)}')"
   ]
  },
  {
   "cell_type": "markdown",
   "metadata": {
    "id": "hqDxN2rQByru"
   },
   "source": [
    "**단어 집합 만들기**"
   ]
  },
  {
   "cell_type": "code",
   "execution_count": 9,
   "metadata": {
    "colab": {
     "base_uri": "https://localhost:8080/"
    },
    "id": "7tY-C5FxA17H",
    "outputId": "72854a94-bf4d-4172-db68-278e2c4acfda"
   },
   "outputs": [
    {
     "name": "stdout",
     "output_type": "stream",
     "text": [
      "Unique tokens in TEXT vocabulary: 10002\n",
      "Unique tokens in LABEL vocabulary: 3\n"
     ]
    }
   ],
   "source": [
    "TEXT.build_vocab(train_data, max_size=10000, min_freq=10, vectors=None)\n",
    "LABEL.build_vocab(train_data)\n",
    "\n",
    "print(f'Unique tokens in TEXT vocabulary: {len(TEXT.vocab)}')\n",
    "print(f'Unique tokens in LABEL vocabulary: {len(LABEL.vocab)}')"
   ]
  },
  {
   "cell_type": "markdown",
   "metadata": {
    "id": "BOouCy4uDF50"
   },
   "source": [
    "**테스트 데이터셋의 단어 집합 확인**"
   ]
  },
  {
   "cell_type": "code",
   "execution_count": 10,
   "metadata": {
    "colab": {
     "base_uri": "https://localhost:8080/"
    },
    "id": "rbZVbtmWCnjf",
    "outputId": "c737f375-4c36-4eb6-9f15-8ecd60ec39c0"
   },
   "outputs": [
    {
     "name": "stdout",
     "output_type": "stream",
     "text": [
      "defaultdict(<bound method Vocab._default_unk_index of <torchtext.legacy.vocab.Vocab object at 0x00000200AF802F70>>, {'<unk>': 0, 'pos': 1, 'neg': 2})\n"
     ]
    }
   ],
   "source": [
    "print(LABEL.vocab.stoi)"
   ]
  },
  {
   "cell_type": "markdown",
   "metadata": {
    "id": "LHynPiRHDFQC"
   },
   "source": [
    "**데이터셋 메모리로 가져오기**"
   ]
  },
  {
   "cell_type": "code",
   "execution_count": 11,
   "metadata": {
    "colab": {
     "base_uri": "https://localhost:8080/"
    },
    "id": "UnF4T_eXEe93",
    "outputId": "a5d13a48-d800-4012-9c16-698ba2ef1806"
   },
   "outputs": [],
   "source": [
    "BATCH_SIZE=64\n",
    "device=torch.device('cuda:0' if torch.cuda.is_available() else 'cpu')\n",
    "\n",
    "embeding_dim=100\n",
    "hidden_size=300\n",
    "\n",
    "train_iterator, valid_iterator, test_iterator=torchtext.legacy.data.BucketIterator.splits(\n",
    "    (train_data, valid_data, test_data),\n",
    "    batch_size=BATCH_SIZE,\n",
    "    device=device\n",
    ")"
   ]
  },
  {
   "cell_type": "markdown",
   "metadata": {},
   "source": [
    "**워드 임베딩 및 RNN 셀 정의**"
   ]
  },
  {
   "cell_type": "code",
   "execution_count": 12,
   "metadata": {},
   "outputs": [],
   "source": [
    "class RNNCell_Encoder(nn.Module):\n",
    "    def __init__(self, input_dim, hidden_size):\n",
    "        super(RNNCell_Encoder, self).__init__()\n",
    "        self.nn=nn.RNNCell(input_dim, hidden_size)\n",
    "        \n",
    "    def forward(self, inputs):\n",
    "        bz=inputs.shape[1]\n",
    "        ht=torch.zeros((bz, hidden_size)).to(device)\n",
    "        for word in inputs:\n",
    "            ht=self.nn(word, ht)\n",
    "        return ht\n",
    "    \n",
    "class Net(nn.Module):\n",
    "    def __init__(self):\n",
    "        super(Net, self).__init__()\n",
    "        self.em=nn.Embedding(len(TEXT.vocab.stoi), embeding_dim)\n",
    "        self.rnn=RNNCell_Encoder(embeding_dim, hidden_size)\n",
    "        self.fc1=nn.Linear(hidden_size, 256)\n",
    "        self.fc2=nn.Linear(256, 3)\n",
    "        \n",
    "    def forward(self, x):\n",
    "        x=self.em(x)\n",
    "        x=self.rnn(x)\n",
    "        x=F.relu(self.fc1(x))\n",
    "        x=self.fc2(x)\n",
    "        return x"
   ]
  },
  {
   "cell_type": "markdown",
   "metadata": {},
   "source": [
    "**옵티마이저와 손실 함수 정의**"
   ]
  },
  {
   "cell_type": "code",
   "execution_count": 13,
   "metadata": {},
   "outputs": [],
   "source": [
    "model=Net()\n",
    "model.to(device)\n",
    "\n",
    "loss_fn=nn.CrossEntropyLoss()\n",
    "optimizer=torch.optim.Adam(model.parameters(), lr=0.0001)"
   ]
  },
  {
   "cell_type": "markdown",
   "metadata": {},
   "source": [
    "**모델 학습을 위한 함수 정의**"
   ]
  },
  {
   "cell_type": "code",
   "execution_count": 14,
   "metadata": {},
   "outputs": [],
   "source": [
    "def training(epoch, model, trainloader, validloader):\n",
    "    correct=0\n",
    "    total=0\n",
    "    running_loss=0\n",
    "    \n",
    "    model.train()\n",
    "    for b in trainloader:\n",
    "        x, y=b.text, b.label\n",
    "        x, y=x.to(device), y.to(device)\n",
    "        y_pred=model(x)\n",
    "        loss=loss_fn(y_pred, y)\n",
    "        optimizer.zero_grad()\n",
    "        loss.backward()\n",
    "        optimizer.step()\n",
    "        with torch.no_grad():\n",
    "            y_pred=torch.argmax(y_pred, dim=1)\n",
    "            correct+=(y_pred==y).sum().item()\n",
    "            total+=y.size(0)\n",
    "            running_loss+=loss.item()\n",
    "            \n",
    "    epoch_loss=running_loss/len(trainloader.dataset)\n",
    "    epoch_acc=correct/total\n",
    "    \n",
    "    valid_correct=0\n",
    "    valid_total=0\n",
    "    valid_running_loss=0\n",
    "    \n",
    "    model.eval()\n",
    "    with torch.no_grad():\n",
    "        for b in validloader:\n",
    "            x, y=b.text, b.label\n",
    "            x, y=x.to(device), y.to(device)\n",
    "            y_pred=model(x)\n",
    "            loss=loss_fn(y_pred, y)\n",
    "            y_pred=torch.argmax(y_pred, dim=1)\n",
    "            valid_correct+=(y_pred==y).sum().item()\n",
    "            valid_total+=y.size(0)\n",
    "            valid_running_loss+=loss.item()\n",
    "            \n",
    "    epoch_valid_loss=valid_running_loss/len(validloader.dataset)\n",
    "    epoch_valid_acc=valid_correct/valid_total\n",
    "    \n",
    "    print('epoch: ', epoch,\n",
    "          'loss: ', round(epoch_loss, 3),\n",
    "          'accuracy: ', round(epoch_acc, 3),\n",
    "          'valid_loss: ', round(epoch_valid_loss, 3),\n",
    "          'valid_accuracy: ', round(epoch_valid_acc, 3)\n",
    "    )\n",
    "    return epoch_loss, epoch_acc, epoch_valid_loss, epoch_valid_acc"
   ]
  },
  {
   "cell_type": "markdown",
   "metadata": {},
   "source": [
    "**모델 학습**"
   ]
  },
  {
   "cell_type": "code",
   "execution_count": 15,
   "metadata": {},
   "outputs": [
    {
     "name": "stdout",
     "output_type": "stream",
     "text": [
      "epoch:  0 loss:  0.011 accuracy:  0.492 valid_loss:  0.011 valid_accuracy:  0.506\n",
      "epoch:  1 loss:  0.011 accuracy:  0.502 valid_loss:  0.011 valid_accuracy:  0.49\n",
      "epoch:  2 loss:  0.011 accuracy:  0.514 valid_loss:  0.011 valid_accuracy:  0.496\n",
      "epoch:  3 loss:  0.011 accuracy:  0.517 valid_loss:  0.011 valid_accuracy:  0.493\n",
      "epoch:  4 loss:  0.011 accuracy:  0.522 valid_loss:  0.011 valid_accuracy:  0.515\n",
      "565.8348751068115\n"
     ]
    }
   ],
   "source": [
    "epochs=5\n",
    "train_loss=[]\n",
    "train_acc=[]\n",
    "valid_loss=[]\n",
    "valid_acc=[]\n",
    "\n",
    "for epoch in range(epochs):\n",
    "    epoch_loss, epoch_acc, epoch_valid_loss, epoch_valid_acc=training(epoch,\n",
    "                                                                      model,\n",
    "                                                                      train_iterator,\n",
    "                                                                      valid_iterator)\n",
    "    train_loss.append(epoch_loss)\n",
    "    train_acc.append(epoch_acc)\n",
    "    valid_loss.append(epoch_valid_loss)\n",
    "    valid_acc.append(epoch_valid_acc)\n",
    "\n",
    "end=time.time()\n",
    "print(end-start)"
   ]
  },
  {
   "cell_type": "markdown",
   "metadata": {},
   "source": [
    "**모델 예측 함수 정의**"
   ]
  },
  {
   "cell_type": "code",
   "execution_count": 16,
   "metadata": {},
   "outputs": [],
   "source": [
    "def evaluate(epoch, model, testloader):\n",
    "    test_correct=0\n",
    "    test_total=0\n",
    "    test_running_loss=0\n",
    "    \n",
    "    model.eval()\n",
    "    with torch.no_grad():\n",
    "        for b in testloader:\n",
    "            x, y=b.text, b.label\n",
    "            x, y=x.to(device), y.to(device)\n",
    "            y_pred=model(x)\n",
    "            loss=loss_fn(y_pred, y)\n",
    "            y_pred=torch.argmax(y_pred, dim=1)\n",
    "            test_correct+=(y_pred==y).sum().item()\n",
    "            test_total+=y.size(0)\n",
    "            test_running_loss+=loss.item()\n",
    "            \n",
    "    epoch_test_loss=test_running_loss/len(testloader.dataset)\n",
    "    epoch_test_acc=test_correct/test_total\n",
    "    \n",
    "    print('epoch: ', epoch,\n",
    "          'test_loss: ', round(epoch_test_loss, 3),\n",
    "          'test_accuracy: ', round(epoch_test_acc, 3)\n",
    "          )\n",
    "    return epoch_test_loss, epoch_test_acc"
   ]
  },
  {
   "cell_type": "markdown",
   "metadata": {},
   "source": [
    "**모델 예측 결과 확인**"
   ]
  },
  {
   "cell_type": "code",
   "execution_count": 17,
   "metadata": {},
   "outputs": [
    {
     "name": "stdout",
     "output_type": "stream",
     "text": [
      "epoch:  0 test_loss:  0.011 test_accuracy:  0.503\n",
      "epoch:  1 test_loss:  0.011 test_accuracy:  0.503\n",
      "epoch:  2 test_loss:  0.011 test_accuracy:  0.503\n",
      "epoch:  3 test_loss:  0.011 test_accuracy:  0.503\n",
      "epoch:  4 test_loss:  0.011 test_accuracy:  0.503\n",
      "612.5783948898315\n"
     ]
    }
   ],
   "source": [
    "epochs=5\n",
    "test_loss=[]\n",
    "test_acc=[]\n",
    "\n",
    "for epoch in range(epochs):\n",
    "    epoch_test_loss, epoch_test_acc=evaluate(epoch,\n",
    "                                             model,\n",
    "                                             test_iterator)\n",
    "    test_loss.append(epoch_test_loss)\n",
    "    test_acc.append(epoch_test_acc)\n",
    "    \n",
    "end=time.time()\n",
    "print(end-start)"
   ]
  },
  {
   "cell_type": "markdown",
   "metadata": {},
   "source": [
    "### **RNN 계층 구현**"
   ]
  },
  {
   "cell_type": "markdown",
   "metadata": {},
   "source": [
    "**라이브러리 호출**"
   ]
  },
  {
   "cell_type": "code",
   "execution_count": 18,
   "metadata": {},
   "outputs": [],
   "source": [
    "import torch\n",
    "import torchtext\n",
    "import numpy as np\n",
    "import torch.nn as nn\n",
    "import torch.nn.functional as F\n",
    "import time"
   ]
  },
  {
   "cell_type": "markdown",
   "metadata": {},
   "source": [
    "**데이터셋 내려받기 및 전처리**"
   ]
  },
  {
   "cell_type": "code",
   "execution_count": 19,
   "metadata": {},
   "outputs": [],
   "source": [
    "start=time.time()\n",
    "TEXT=torchtext.legacy.data.Field(sequential=True, batch_first=True, lower=True)\n",
    "LABEL=torchtext.legacy.data.Field(sequential=False, batch_first=True)\n",
    "\n",
    "from torchtext.legacy import datasets\n",
    "train_data, test_data=datasets.IMDB.splits(TEXT, LABEL)\n",
    "train_data, valid_data=train_data.split(split_ratio=0.8)\n",
    "\n",
    "TEXT.build_vocab(train_data, max_size=10000, min_freq=10, vectors=None)\n",
    "LABEL.build_vocab(train_data)\n",
    "\n",
    "BATCH_SIZE=100\n",
    "device=torch.device('cuda:0' if torch.cuda.is_available() else 'cpu')"
   ]
  },
  {
   "cell_type": "markdown",
   "metadata": {},
   "source": [
    "**데이터셋 분리**"
   ]
  },
  {
   "cell_type": "code",
   "execution_count": 20,
   "metadata": {},
   "outputs": [],
   "source": [
    "train_iterator, valid_iterator, test_iterator=torchtext.legacy.data.BucketIterator.splits(\n",
    "    (train_data, valid_data, test_data),\n",
    "    batch_size=BATCH_SIZE,\n",
    "    device=device\n",
    ")"
   ]
  },
  {
   "cell_type": "markdown",
   "metadata": {},
   "source": [
    "**변수 값 지정**"
   ]
  },
  {
   "cell_type": "code",
   "execution_count": 21,
   "metadata": {},
   "outputs": [],
   "source": [
    "vocab_size=len(TEXT.vocab)\n",
    "n_classes=2"
   ]
  },
  {
   "cell_type": "markdown",
   "metadata": {},
   "source": [
    "**RNN 계층 네트워크**"
   ]
  },
  {
   "cell_type": "code",
   "execution_count": 22,
   "metadata": {},
   "outputs": [],
   "source": [
    "class BasicRNN(nn.Module):\n",
    "    def __init__(self, n_layers, hidden_dim, n_vocab, embed_dim, n_classes, dropout_p=0.2):\n",
    "        super(BasicRNN, self).__init__()\n",
    "        self.n_layers=n_layers\n",
    "        self.embed=nn.Embedding(n_vocab, embed_dim)\n",
    "        self.hidden_dim=hidden_dim\n",
    "        self.dropout=nn.Dropout(dropout_p)\n",
    "        self.rnn=nn.RNN(embed_dim, self.hidden_dim, num_layers=self.n_layers,\n",
    "                        batch_first=True)\n",
    "        self.out=nn.Linear(self.hidden_dim, n_classes)\n",
    "        \n",
    "    def forward(self, x):\n",
    "        x = self.embed(x)  # Embedding 레이어\n",
    "        h_0 = self._init_state(batch_size=x.size(0))  # 초기 은닉 상태\n",
    "        x, _ = self.rnn(x, h_0)  # RNN 레이어\n",
    "        h_t = x[:, -1, :]  # 마지막 타임스텝 출력\n",
    "        self.dropout(h_t)  # 드롭아웃 적용\n",
    "        logit = torch.sigmoid(self.out(h_t))  # 출력 레이어\n",
    "        return logit\n",
    "\n",
    "    \n",
    "    def _init_state(self, batch_size=1):\n",
    "        weight=next(self.parameters()).data\n",
    "        return weight.new(self.n_layers, batch_size, self.hidden_dim).zero_()"
   ]
  },
  {
   "cell_type": "markdown",
   "metadata": {},
   "source": [
    "**손실 함수와 옵티마이저 설정**"
   ]
  },
  {
   "cell_type": "code",
   "execution_count": 23,
   "metadata": {},
   "outputs": [],
   "source": [
    "model=BasicRNN(n_layers=1, hidden_dim=256, n_vocab=vocab_size, embed_dim=128,\n",
    "               n_classes=n_classes, dropout_p=0.5)\n",
    "model.to(device)\n",
    "\n",
    "loss_fn=nn.CrossEntropyLoss()\n",
    "optimizer=torch.optim.Adam(model.parameters(), lr=0.0001)"
   ]
  },
  {
   "cell_type": "markdown",
   "metadata": {},
   "source": [
    "**모델 학습 함수**"
   ]
  },
  {
   "cell_type": "code",
   "execution_count": 24,
   "metadata": {},
   "outputs": [],
   "source": [
    "def train(model, optimizer, train_iter):\n",
    "    model.train()\n",
    "    for b, batch in enumerate(train_iter):\n",
    "        x, y=batch.text.to(device), batch.label.to(device)\n",
    "        y.data.sub_(1)\n",
    "        optimizer.zero_grad()\n",
    "        \n",
    "        logit=model(x)\n",
    "        loss=F.cross_entropy(logit, y)\n",
    "        loss.backward()\n",
    "        optimizer.step()\n",
    "        \n",
    "        if b % 50 == 0:\n",
    "            print('Train Epoch: {} [{}/{} ({:.0f}%)]\\tLoss: {:.6f}'.format(\n",
    "                e, b * len(x), len(train_iter.dataset), 100.*b/len(train_iter), loss.item()))"
   ]
  },
  {
   "cell_type": "markdown",
   "metadata": {},
   "source": [
    "**모델 평가 함수**"
   ]
  },
  {
   "cell_type": "code",
   "execution_count": 25,
   "metadata": {},
   "outputs": [],
   "source": [
    "def evaluate(model, val_iter):\n",
    "    model.eval()\n",
    "    corrects, total, total_loss = 0, 0, 0\n",
    "    for batch in val_iter:\n",
    "        x, y = batch.text.to(device), batch.label.to(device)\n",
    "        y.data.sub_(1)\n",
    "        logit=model(x)\n",
    "        loss=F.cross_entropy(logit, y, reduction='sum')\n",
    "        total+=y.size(0)\n",
    "        total_loss+=loss.item()\n",
    "        corrects+=(logit.max(1)[1].view(y.size()).data==y.data).sum()\n",
    "    \n",
    "    avg_loss=total_loss/len(val_iter.dataset)\n",
    "    avg_accuracy=corrects/total\n",
    "    return avg_loss, avg_accuracy"
   ]
  },
  {
   "cell_type": "markdown",
   "metadata": {},
   "source": [
    "**모델 학습 및 평가**"
   ]
  },
  {
   "cell_type": "code",
   "execution_count": 26,
   "metadata": {},
   "outputs": [
    {
     "name": "stdout",
     "output_type": "stream",
     "text": [
      "Train Epoch: 1 [0/20000 (0%)]\tLoss: 0.706620\n",
      "Train Epoch: 1 [5000/20000 (25%)]\tLoss: 0.692645\n",
      "Train Epoch: 1 [10000/20000 (50%)]\tLoss: 0.692105\n",
      "Train Epoch: 1 [15000/20000 (75%)]\tLoss: 0.699720\n",
      "[EPOCH: 1], Validation Loss:  0.69 | Validation Accuracy:  0.52\n",
      "Train Epoch: 2 [0/20000 (0%)]\tLoss: 0.694416\n",
      "Train Epoch: 2 [5000/20000 (25%)]\tLoss: 0.693726\n",
      "Train Epoch: 2 [10000/20000 (50%)]\tLoss: 0.692516\n",
      "Train Epoch: 2 [15000/20000 (75%)]\tLoss: 0.696619\n",
      "[EPOCH: 2], Validation Loss:  0.69 | Validation Accuracy:  0.50\n",
      "Train Epoch: 3 [0/20000 (0%)]\tLoss: 0.695787\n",
      "Train Epoch: 3 [5000/20000 (25%)]\tLoss: 0.692530\n",
      "Train Epoch: 3 [10000/20000 (50%)]\tLoss: 0.694215\n",
      "Train Epoch: 3 [15000/20000 (75%)]\tLoss: 0.692279\n",
      "[EPOCH: 3], Validation Loss:  0.69 | Validation Accuracy:  0.50\n",
      "Train Epoch: 4 [0/20000 (0%)]\tLoss: 0.688708\n",
      "Train Epoch: 4 [5000/20000 (25%)]\tLoss: 0.694041\n",
      "Train Epoch: 4 [10000/20000 (50%)]\tLoss: 0.692596\n",
      "Train Epoch: 4 [15000/20000 (75%)]\tLoss: 0.694991\n",
      "[EPOCH: 4], Validation Loss:  0.69 | Validation Accuracy:  0.50\n",
      "Train Epoch: 5 [0/20000 (0%)]\tLoss: 0.694728\n",
      "Train Epoch: 5 [5000/20000 (25%)]\tLoss: 0.692656\n",
      "Train Epoch: 5 [10000/20000 (50%)]\tLoss: 0.693405\n",
      "Train Epoch: 5 [15000/20000 (75%)]\tLoss: 0.687481\n",
      "[EPOCH: 5], Validation Loss:  0.69 | Validation Accuracy:  0.49\n"
     ]
    }
   ],
   "source": [
    "BATCH_SIZE=100\n",
    "LR=0.001\n",
    "EPOCHS=5\n",
    "for e in range(1, EPOCHS+1):\n",
    "    train(model, optimizer, train_iterator)\n",
    "    val_loss, val_accuracy=evaluate(model, valid_iterator)\n",
    "    print('[EPOCH: %d], Validation Loss: %5.2f | Validation Accuracy: %5.2f' % (e, val_loss, val_accuracy))"
   ]
  },
  {
   "cell_type": "markdown",
   "metadata": {},
   "source": [
    "**테스트 데이터셋을 이용한 모델 예측**"
   ]
  },
  {
   "cell_type": "code",
   "execution_count": 27,
   "metadata": {},
   "outputs": [
    {
     "name": "stdout",
     "output_type": "stream",
     "text": [
      "Test Loss:  0.69 | Test Accuracy:  0.50\n"
     ]
    }
   ],
   "source": [
    "test_loss, test_acc=evaluate(model, test_iterator)\n",
    "print('Test Loss: %5.2f | Test Accuracy: %5.2f' % (test_loss, test_acc))"
   ]
  },
  {
   "cell_type": "markdown",
   "metadata": {},
   "source": [
    "## **7.5 LSTM**"
   ]
  },
  {
   "cell_type": "markdown",
   "metadata": {},
   "source": [
    "### **7.5.1 LSTM 구조**"
   ]
  },
  {
   "cell_type": "markdown",
   "metadata": {},
   "source": [
    "### **7.5.2 LSTM 셀 구현**"
   ]
  },
  {
   "cell_type": "code",
   "execution_count": 2,
   "metadata": {},
   "outputs": [
    {
     "name": "stdout",
     "output_type": "stream",
     "text": [
      "Collecting torchvision==0.11.1\n",
      "  Downloading torchvision-0.11.1-cp38-cp38-win_amd64.whl (984 kB)\n",
      "Requirement already satisfied: torch==1.10.0 in c:\\users\\user\\appdata\\local\\programs\\python\\python38\\lib\\site-packages (from torchvision==0.11.1) (1.10.0)\n",
      "Collecting pillow!=8.3.0,>=5.3.0\n",
      "  Downloading pillow-10.4.0-cp38-cp38-win_amd64.whl (2.6 MB)\n",
      "Requirement already satisfied: numpy in c:\\users\\user\\appdata\\local\\programs\\python\\python38\\lib\\site-packages (from torchvision==0.11.1) (1.24.4)\n",
      "Requirement already satisfied: typing-extensions in c:\\users\\user\\appdata\\roaming\\python\\python38\\site-packages (from torch==1.10.0->torchvision==0.11.1) (4.12.2)\n",
      "Installing collected packages: pillow, torchvision\n",
      "Successfully installed pillow-10.4.0 torchvision-0.11.1\n",
      "Note: you may need to restart the kernel to use updated packages.\n"
     ]
    },
    {
     "name": "stderr",
     "output_type": "stream",
     "text": [
      "WARNING: You are using pip version 21.1.1; however, version 24.3.1 is available.\n",
      "You should consider upgrading via the 'c:\\Users\\User\\AppData\\Local\\Programs\\Python\\Python38\\python.exe -m pip install --upgrade pip' command.\n"
     ]
    }
   ],
   "source": [
    "%pip install torchvision==0.11.1"
   ]
  },
  {
   "cell_type": "markdown",
   "metadata": {},
   "source": [
    "**라이브러리 호출**"
   ]
  },
  {
   "cell_type": "code",
   "execution_count": 3,
   "metadata": {},
   "outputs": [],
   "source": [
    "import torch\n",
    "import torch.nn as nn\n",
    "import torchvision.transforms as transforms\n",
    "import torchvision.datasets as dataset\n",
    "from torch.autograd import Variable\n",
    "from torch.nn import Parameter\n",
    "from torch import Tensor\n",
    "import torch.nn.functional as F\n",
    "from torch.utils.data import DataLoader\n",
    "import math\n",
    "\n",
    "device=torch.device('cuda:0' if torch.cuda.is_available() else 'cpu')\n",
    "cuda=True if torch.cuda.is_available() else False\n",
    "\n",
    "Tensor=torch.cuda.FloatTensor if cuda else torch.FloatTensor\n",
    "\n",
    "torch.manual_seed(125)\n",
    "if torch.cuda.is_available():\n",
    "    torch.cuda.manual_seed_all(125)"
   ]
  },
  {
   "cell_type": "markdown",
   "metadata": {},
   "source": [
    "**데이터 전처리**"
   ]
  },
  {
   "cell_type": "code",
   "execution_count": 4,
   "metadata": {},
   "outputs": [],
   "source": [
    "import torchvision.transforms as transforms\n",
    "\n",
    "mnist_transform=transforms.Compose([\n",
    "    transforms.ToTensor(),\n",
    "    transforms.Normalize((0.5,), (1.0,))\n",
    "])"
   ]
  },
  {
   "cell_type": "markdown",
   "metadata": {},
   "source": [
    "**데이터셋 내려받기**"
   ]
  },
  {
   "cell_type": "code",
   "execution_count": 6,
   "metadata": {},
   "outputs": [
    {
     "name": "stdout",
     "output_type": "stream",
     "text": [
      "Downloading http://yann.lecun.com/exdb/mnist/train-images-idx3-ubyte.gz\n",
      "Failed to download (trying next):\n",
      "HTTP Error 403: Forbidden\n",
      "\n",
      "Downloading https://ossci-datasets.s3.amazonaws.com/mnist/train-images-idx3-ubyte.gz\n",
      "Downloading https://ossci-datasets.s3.amazonaws.com/mnist/train-images-idx3-ubyte.gz to C:\\Users\\User\\24-2EURON\\MNIST_DATASET\\MNIST\\raw\\train-images-idx3-ubyte.gz\n"
     ]
    },
    {
     "name": "stderr",
     "output_type": "stream",
     "text": [
      "9913344it [00:03, 2686169.38it/s]                             \n"
     ]
    },
    {
     "name": "stdout",
     "output_type": "stream",
     "text": [
      "Extracting C:\\Users\\User\\24-2EURON\\MNIST_DATASET\\MNIST\\raw\\train-images-idx3-ubyte.gz to C:\\Users\\User\\24-2EURON\\MNIST_DATASET\\MNIST\\raw\n",
      "\n",
      "Downloading http://yann.lecun.com/exdb/mnist/train-labels-idx1-ubyte.gz\n",
      "Failed to download (trying next):\n",
      "HTTP Error 403: Forbidden\n",
      "\n",
      "Downloading https://ossci-datasets.s3.amazonaws.com/mnist/train-labels-idx1-ubyte.gz\n",
      "Downloading https://ossci-datasets.s3.amazonaws.com/mnist/train-labels-idx1-ubyte.gz to C:\\Users\\User\\24-2EURON\\MNIST_DATASET\\MNIST\\raw\\train-labels-idx1-ubyte.gz\n"
     ]
    },
    {
     "name": "stderr",
     "output_type": "stream",
     "text": [
      "29696it [00:00, 165652.86it/s]                           \n"
     ]
    },
    {
     "name": "stdout",
     "output_type": "stream",
     "text": [
      "Extracting C:\\Users\\User\\24-2EURON\\MNIST_DATASET\\MNIST\\raw\\train-labels-idx1-ubyte.gz to C:\\Users\\User\\24-2EURON\\MNIST_DATASET\\MNIST\\raw\n",
      "\n",
      "Downloading http://yann.lecun.com/exdb/mnist/t10k-images-idx3-ubyte.gz\n",
      "Failed to download (trying next):\n",
      "HTTP Error 403: Forbidden\n",
      "\n",
      "Downloading https://ossci-datasets.s3.amazonaws.com/mnist/t10k-images-idx3-ubyte.gz\n",
      "Downloading https://ossci-datasets.s3.amazonaws.com/mnist/t10k-images-idx3-ubyte.gz to C:\\Users\\User\\24-2EURON\\MNIST_DATASET\\MNIST\\raw\\t10k-images-idx3-ubyte.gz\n"
     ]
    },
    {
     "name": "stderr",
     "output_type": "stream",
     "text": [
      "1649664it [00:01, 1174408.54it/s]                           \n"
     ]
    },
    {
     "name": "stdout",
     "output_type": "stream",
     "text": [
      "Extracting C:\\Users\\User\\24-2EURON\\MNIST_DATASET\\MNIST\\raw\\t10k-images-idx3-ubyte.gz to C:\\Users\\User\\24-2EURON\\MNIST_DATASET\\MNIST\\raw\n",
      "\n",
      "Downloading http://yann.lecun.com/exdb/mnist/t10k-labels-idx1-ubyte.gz\n",
      "Failed to download (trying next):\n",
      "HTTP Error 403: Forbidden\n",
      "\n",
      "Downloading https://ossci-datasets.s3.amazonaws.com/mnist/t10k-labels-idx1-ubyte.gz\n",
      "Downloading https://ossci-datasets.s3.amazonaws.com/mnist/t10k-labels-idx1-ubyte.gz to C:\\Users\\User\\24-2EURON\\MNIST_DATASET\\MNIST\\raw\\t10k-labels-idx1-ubyte.gz\n"
     ]
    },
    {
     "name": "stderr",
     "output_type": "stream",
     "text": [
      "5120it [00:00, ?it/s]                   "
     ]
    },
    {
     "name": "stdout",
     "output_type": "stream",
     "text": [
      "Extracting C:\\Users\\User\\24-2EURON\\MNIST_DATASET\\MNIST\\raw\\t10k-labels-idx1-ubyte.gz to C:\\Users\\User\\24-2EURON\\MNIST_DATASET\\MNIST\\raw\n",
      "\n"
     ]
    },
    {
     "name": "stderr",
     "output_type": "stream",
     "text": [
      "\n"
     ]
    }
   ],
   "source": [
    "from torchvision.datasets import MNIST\n",
    "\n",
    "download_root=r\"C:\\Users\\User\\24-2EURON\\MNIST_DATASET\"\n",
    "\n",
    "train_dataset=MNIST(download_root, transform=mnist_transform, train=True,\n",
    "                    download=True)\n",
    "valid_dataset=MNIST(download_root, transform=mnist_transform, train=False,\n",
    "                    download=True)\n",
    "test_dataset=MNIST(download_root, transform=mnist_transform, train=False,\n",
    "                   download=True)"
   ]
  },
  {
   "cell_type": "markdown",
   "metadata": {},
   "source": [
    "**데이터셋을 메모리로 가져오기**"
   ]
  },
  {
   "cell_type": "code",
   "execution_count": 7,
   "metadata": {},
   "outputs": [],
   "source": [
    "batch_size=64\n",
    "train_loader=DataLoader(dataset=train_dataset,\n",
    "                        batch_size=batch_size,\n",
    "                        shuffle=True)\n",
    "valid_loader=DataLoader(dataset=test_dataset,\n",
    "                        batch_size=batch_size,\n",
    "                        shuffle=True)\n",
    "test_loader=DataLoader(dataset=test_dataset,\n",
    "                       batch_size=batch_size,\n",
    "                       shuffle=True)"
   ]
  },
  {
   "cell_type": "markdown",
   "metadata": {},
   "source": [
    "**변수 값 지정**"
   ]
  },
  {
   "cell_type": "code",
   "execution_count": 8,
   "metadata": {},
   "outputs": [],
   "source": [
    "batch_size=100\n",
    "n_iters=6000\n",
    "num_epochs=n_iters/(len(train_dataset)/batch_size)\n",
    "num_epochs=int(num_epochs)"
   ]
  },
  {
   "cell_type": "markdown",
   "metadata": {},
   "source": [
    "**LSTM 셀 네트워크 구축**"
   ]
  },
  {
   "cell_type": "code",
   "execution_count": 9,
   "metadata": {},
   "outputs": [],
   "source": [
    "class LSTMCell(nn.Module):\n",
    "    def __init__(self, input_size, hidden_size, bias=True):\n",
    "        super(LSTMCell, self).__init__()\n",
    "        self.input_size=input_size\n",
    "        self.hidden_size=hidden_size\n",
    "        self.bias=bias\n",
    "        self.x2h=nn.Linear(input_size, 4*hidden_size, bias=bias)\n",
    "        self.h2h=nn.Linear(hidden_size, 4*hidden_size, bias=bias)\n",
    "        self.reset_parameters()\n",
    "        \n",
    "    def reset_parameters(self):\n",
    "        std=1.0/math.sqrt(self.hidden_size)\n",
    "        for w in self.parameters():\n",
    "            w.data.uniform_(-std, std)\n",
    "            \n",
    "    def forward(self, x, hidden):\n",
    "        hx, cx=hidden\n",
    "        x=x.view(-1, x.size(1))\n",
    "        \n",
    "        gates=self.x2h(x)+self.h2h(hx)\n",
    "        gates=gates.squeeze()\n",
    "        ingate, forgetgate, cellgate, outgate=gates.chunk(4, 1)\n",
    "        \n",
    "        ingate=F.sigmoid(ingate)\n",
    "        forgetgate=F.sigmoid(forgetgate)\n",
    "        cellgate=F.tanh(cellgate)\n",
    "        outgate=F.sigmoid(outgate)\n",
    "        \n",
    "        cy=torch.mul(cx, forgetgate)+torch.mul(ingate, cellgate)\n",
    "        hy=torch.mul(outgate, F.tanh(cy))\n",
    "        return (hy, cy)"
   ]
  },
  {
   "cell_type": "markdown",
   "metadata": {},
   "source": [
    "**`uniform()`**"
   ]
  },
  {
   "cell_type": "code",
   "execution_count": 18,
   "metadata": {},
   "outputs": [
    {
     "name": "stdout",
     "output_type": "stream",
     "text": [
      "6\n",
      "0.7575286426257696\n",
      "5.493209863106487\n",
      "7\n"
     ]
    }
   ],
   "source": [
    "from random import *\n",
    "\n",
    "ri=randint(1, 10)\n",
    "print(ri)\n",
    "\n",
    "rd=random()\n",
    "print(rd)\n",
    "\n",
    "ui=uniform(1, 10)\n",
    "print(ui)\n",
    "\n",
    "rr=randrange(1, 10, 2)\n",
    "print(rr)"
   ]
  },
  {
   "cell_type": "markdown",
   "metadata": {},
   "source": [
    "**`torch.squeeze()`**"
   ]
  },
  {
   "cell_type": "code",
   "execution_count": 19,
   "metadata": {},
   "outputs": [
    {
     "name": "stdout",
     "output_type": "stream",
     "text": [
      "tensor([[1.],\n",
      "        [2.]])\n",
      "torch.Size([2, 1])\n",
      "--squeeze 적용--\n",
      "tensor([1., 2.])\n",
      "torch.Size([2])\n"
     ]
    }
   ],
   "source": [
    "import torch\n",
    "x=torch.FloatTensor([[1], [2]])\n",
    "print(x)\n",
    "print(x.shape)\n",
    "print('--squeeze 적용--')\n",
    "print(x.squeeze())\n",
    "print(x.squeeze().shape)"
   ]
  },
  {
   "cell_type": "markdown",
   "metadata": {},
   "source": [
    "**`torch.mul()`**"
   ]
  },
  {
   "cell_type": "code",
   "execution_count": 20,
   "metadata": {},
   "outputs": [
    {
     "name": "stdout",
     "output_type": "stream",
     "text": [
      "tensor([[1.],\n",
      "        [2.]])\n",
      "--mul 적용--\n"
     ]
    },
    {
     "data": {
      "text/plain": [
       "tensor([[3.],\n",
       "        [6.]])"
      ]
     },
     "execution_count": 20,
     "metadata": {},
     "output_type": "execute_result"
    }
   ],
   "source": [
    "import torch\n",
    "\n",
    "x=torch.FloatTensor([[1], [2]])\n",
    "print(x)\n",
    "print('--mul 적용--')\n",
    "torch.mul(x, 3)"
   ]
  },
  {
   "cell_type": "markdown",
   "metadata": {},
   "source": [
    "**LSTM 셀의 전반적인 네트워크**"
   ]
  },
  {
   "cell_type": "code",
   "execution_count": 10,
   "metadata": {},
   "outputs": [],
   "source": [
    "class LSTMModel(nn.Module):\n",
    "    def __init__(self, input_dim, hidden_dim, layer_dim, output_dim, bias=True):\n",
    "        super(LSTMModel, self).__init__()\n",
    "        self.hidden_dim=hidden_dim\n",
    "        \n",
    "        self.layer_dim=layer_dim\n",
    "        self.lstm=LSTMCell(input_dim, hidden_dim, layer_dim)\n",
    "        self.fc=nn.Linear(hidden_dim, output_dim)\n",
    "        \n",
    "    def forward(self, x):\n",
    "        if torch.cuda.is_available():\n",
    "            h0=Variable(torch.zeros(self.layer_dim, x.size(0), self.hidden_dim).cuda())\n",
    "        else:\n",
    "            h0=Variable(torch.zeros(self.layer_dim, x.size(0), self.hidden_dim))\n",
    "            \n",
    "        if torch.cuda.is_available():\n",
    "            c0=Variable(torch.zeros(self.layer_dim, x.size(0), self.hidden_dim).cuda())\n",
    "        else:\n",
    "            c0=Variable(torch.zeros(self.layer_dim, x.size(0), hidden_dim))\n",
    "            \n",
    "        outs=[]\n",
    "        cn=c0[0, :, :]\n",
    "        hn=h0[0, :, :]\n",
    "        \n",
    "        for seq in range(x.size(1)):\n",
    "            hn, cn=self.lstm(x[:, seq, :], (hn, cn))\n",
    "            outs.append(hn)\n",
    "            \n",
    "        out=outs[-1].squeeze()\n",
    "        out=self.fc(out)\n",
    "        return out"
   ]
  },
  {
   "cell_type": "markdown",
   "metadata": {},
   "source": [
    "**옵티마이저와 손실 함수 지정**"
   ]
  },
  {
   "cell_type": "code",
   "execution_count": 11,
   "metadata": {},
   "outputs": [],
   "source": [
    "input_dim=28\n",
    "hidden_dim=128\n",
    "layer_dim=1\n",
    "output_dim=10\n",
    "\n",
    "model=LSTMModel(input_dim, hidden_dim, layer_dim, output_dim)\n",
    "if torch.cuda.is_available():\n",
    "    model.cuda()\n",
    "criterion=nn.CrossEntropyLoss()\n",
    "learning_rate=0.1\n",
    "optimizer=torch.optim.SGD(model.parameters(), lr=learning_rate)"
   ]
  },
  {
   "cell_type": "markdown",
   "metadata": {},
   "source": [
    "**모델 학습 및 성능 확인**"
   ]
  },
  {
   "cell_type": "code",
   "execution_count": 15,
   "metadata": {},
   "outputs": [
    {
     "name": "stdout",
     "output_type": "stream",
     "text": [
      "Iteration: 500. Loss: 0.9617865681648254. Accuracy: 74.80000305175781\n",
      "Iteration: 1000. Loss: 0.17407824099063873. Accuracy: 90.81999969482422\n",
      "Iteration: 1500. Loss: 0.2152642458677292. Accuracy: 94.0999984741211\n",
      "Iteration: 2000. Loss: 0.17430922389030457. Accuracy: 93.27999877929688\n",
      "Iteration: 2500. Loss: 0.044762853533029556. Accuracy: 96.58000183105469\n",
      "Iteration: 3000. Loss: 0.03986254334449768. Accuracy: 96.33999633789062\n",
      "Iteration: 3500. Loss: 0.09530385583639145. Accuracy: 96.93000030517578\n",
      "Iteration: 4000. Loss: 0.02351413108408451. Accuracy: 96.94999694824219\n",
      "Iteration: 4500. Loss: 0.03900284692645073. Accuracy: 96.9000015258789\n",
      "Iteration: 5000. Loss: 0.01459866389632225. Accuracy: 97.27999877929688\n",
      "Iteration: 5500. Loss: 0.043162353336811066. Accuracy: 97.72000122070312\n",
      "Iteration: 6000. Loss: 0.033645082265138626. Accuracy: 97.88999938964844\n",
      "Iteration: 6500. Loss: 0.06150784343481064. Accuracy: 97.62000274658203\n",
      "Iteration: 7000. Loss: 0.03553546592593193. Accuracy: 97.9000015258789\n",
      "Iteration: 7500. Loss: 0.19328396022319794. Accuracy: 97.87999725341797\n",
      "Iteration: 8000. Loss: 0.07487710565328598. Accuracy: 97.94000244140625\n",
      "Iteration: 8500. Loss: 0.011416479013860226. Accuracy: 98.16000366210938\n",
      "Iteration: 9000. Loss: 0.014050076715648174. Accuracy: 98.18000030517578\n"
     ]
    }
   ],
   "source": [
    "seq_dim = 28\n",
    "loss_list = []\n",
    "iter = 0\n",
    "\n",
    "for epoch in range(num_epochs):\n",
    "    for i, (images, labels) in enumerate(train_loader):\n",
    "        if torch.cuda.is_available():\n",
    "            images = Variable(images.view(-1, seq_dim, input_dim).cuda())\n",
    "            labels = Variable(labels.cuda())\n",
    "        else:\n",
    "            images = Variable(images.view(-1, seq_dim, input_dim))\n",
    "            labels = Variable(labels)\n",
    "        \n",
    "        optimizer.zero_grad()\n",
    "        outputs = model(images)\n",
    "        loss = criterion(outputs, labels)\n",
    "        \n",
    "        if torch.cuda.is_available():\n",
    "            loss.cuda()\n",
    "        \n",
    "        loss.backward()\n",
    "        optimizer.step()\n",
    "        loss_list.append(loss.item())\n",
    "        iter += 1\n",
    "        \n",
    "        if iter % 500 == 0:\n",
    "            correct = 0\n",
    "            total = 0\n",
    "            for images, labels in valid_loader:\n",
    "                if torch.cuda.is_available():\n",
    "                    images = Variable(images.view(-1, seq_dim, input_dim).cuda())\n",
    "                else:\n",
    "                    images = Variable(images.view(-1, seq_dim, input_dim))\n",
    "                \n",
    "                outputs = model(images)\n",
    "                _, predicted = torch.max(outputs.data, 1)\n",
    "                \n",
    "                total += labels.size(0)\n",
    "                if torch.cuda.is_available():\n",
    "                    correct += (predicted.cpu() == labels.cpu()).sum()\n",
    "                else:\n",
    "                    correct += (predicted == labels).sum()\n",
    "            \n",
    "            accuracy = 100 * correct / total\n",
    "            print('Iteration: {}. Loss: {}. Accuracy: {}'.format(iter, loss.item(), accuracy))"
   ]
  },
  {
   "cell_type": "markdown",
   "metadata": {},
   "source": [
    "**테스트 데이터셋을 이용한 모델 예측 성능 확인**"
   ]
  },
  {
   "cell_type": "code",
   "execution_count": 16,
   "metadata": {},
   "outputs": [],
   "source": [
    "def evaluate(model, val_iter):\n",
    "    corrects, total, total_loss=0, 0, 0\n",
    "    model.eval()\n",
    "    for images, labels in val_iter:\n",
    "        if torch.cuda.is_available():\n",
    "            images=Variable(images.view(-1, seq_dim, input_dim).cuda())\n",
    "        else:\n",
    "            images=Variable(images.view(-1, seq_dim, input_dim)).to(device)\n",
    "            \n",
    "        logit=model(images).to(device)\n",
    "        loss=F.cross_entropy(logit, labels, reduction='sum')\n",
    "        _, predicted=torch.max(logit.data, 1)\n",
    "        total+=labels.size(0)\n",
    "        total_loss+=loss.item()\n",
    "        corrects+=(predicted==labels).sum()\n",
    "        \n",
    "    avg_loss=total_loss/len(val_iter.dataset)\n",
    "    avg_accuracy=corrects/total\n",
    "    return avg_loss, avg_accuracy"
   ]
  },
  {
   "cell_type": "markdown",
   "metadata": {},
   "source": [
    "**모델 예측 성능 확인**"
   ]
  },
  {
   "cell_type": "code",
   "execution_count": 17,
   "metadata": {},
   "outputs": [
    {
     "name": "stderr",
     "output_type": "stream",
     "text": [
      "c:\\Users\\User\\AppData\\Local\\Programs\\Python\\Python38\\lib\\site-packages\\torch\\nn\\functional.py:1806: UserWarning: nn.functional.sigmoid is deprecated. Use torch.sigmoid instead.\n",
      "  warnings.warn(\"nn.functional.sigmoid is deprecated. Use torch.sigmoid instead.\")\n",
      "c:\\Users\\User\\AppData\\Local\\Programs\\Python\\Python38\\lib\\site-packages\\torch\\nn\\functional.py:1795: UserWarning: nn.functional.tanh is deprecated. Use torch.tanh instead.\n",
      "  warnings.warn(\"nn.functional.tanh is deprecated. Use torch.tanh instead.\")\n"
     ]
    },
    {
     "name": "stdout",
     "output_type": "stream",
     "text": [
      "Test Loss:  0.07 | Test Accuracy:  0.98\n"
     ]
    }
   ],
   "source": [
    "test_loss, test_acc=evaluate(model, test_loader)\n",
    "print('Test Loss: %5.2f | Test Accuracy: %5.2f' % (test_loss, test_acc))"
   ]
  },
  {
   "cell_type": "markdown",
   "metadata": {},
   "source": [
    "### **7.5.3 LSTM 계층 구현**"
   ]
  },
  {
   "cell_type": "code",
   "execution_count": 22,
   "metadata": {},
   "outputs": [
    {
     "name": "stdout",
     "output_type": "stream",
     "text": [
      "Collecting pandas\n",
      "  Downloading pandas-2.0.3-cp38-cp38-win_amd64.whl (10.8 MB)\n",
      "Requirement already satisfied: python-dateutil>=2.8.2 in c:\\users\\user\\appdata\\roaming\\python\\python38\\site-packages (from pandas) (2.9.0.post0)\n",
      "Collecting tzdata>=2022.1\n",
      "  Downloading tzdata-2024.2-py2.py3-none-any.whl (346 kB)\n",
      "Collecting pytz>=2020.1\n",
      "  Downloading pytz-2024.2-py2.py3-none-any.whl (508 kB)\n",
      "Requirement already satisfied: numpy>=1.20.3 in c:\\users\\user\\appdata\\local\\programs\\python\\python38\\lib\\site-packages (from pandas) (1.24.4)\n",
      "Requirement already satisfied: six>=1.5 in c:\\users\\user\\appdata\\roaming\\python\\python38\\site-packages (from python-dateutil>=2.8.2->pandas) (1.16.0)\n",
      "Installing collected packages: tzdata, pytz, pandas\n",
      "Successfully installed pandas-2.0.3 pytz-2024.2 tzdata-2024.2\n",
      "Note: you may need to restart the kernel to use updated packages.\n"
     ]
    },
    {
     "name": "stderr",
     "output_type": "stream",
     "text": [
      "WARNING: You are using pip version 21.1.1; however, version 24.3.1 is available.\n",
      "You should consider upgrading via the 'c:\\Users\\User\\AppData\\Local\\Programs\\Python\\Python38\\python.exe -m pip install --upgrade pip' command.\n"
     ]
    }
   ],
   "source": [
    "%pip install pandas"
   ]
  },
  {
   "cell_type": "code",
   "execution_count": 24,
   "metadata": {},
   "outputs": [
    {
     "name": "stdout",
     "output_type": "stream",
     "text": [
      "Collecting matplotlibNote: you may need to restart the kernel to use updated packages.\n",
      "\n",
      "  Downloading matplotlib-3.7.5-cp38-cp38-win_amd64.whl (7.5 MB)\n",
      "Collecting pyparsing>=2.3.1\n",
      "  Downloading pyparsing-3.1.4-py3-none-any.whl (104 kB)\n",
      "Requirement already satisfied: pillow>=6.2.0 in c:\\users\\user\\appdata\\local\\programs\\python\\python38\\lib\\site-packages (from matplotlib) (10.4.0)\n",
      "Collecting cycler>=0.10\n",
      "  Downloading cycler-0.12.1-py3-none-any.whl (8.3 kB)\n",
      "Requirement already satisfied: numpy<2,>=1.20 in c:\\users\\user\\appdata\\local\\programs\\python\\python38\\lib\\site-packages (from matplotlib) (1.24.4)\n",
      "Requirement already satisfied: packaging>=20.0 in c:\\users\\user\\appdata\\roaming\\python\\python38\\site-packages (from matplotlib) (24.2)\n",
      "Collecting fonttools>=4.22.0\n",
      "  Downloading fonttools-4.55.0-cp38-cp38-win_amd64.whl (1.5 MB)\n",
      "Collecting kiwisolver>=1.0.1\n",
      "  Downloading kiwisolver-1.4.7-cp38-cp38-win_amd64.whl (55 kB)\n",
      "Collecting importlib-resources>=3.2.0\n",
      "  Downloading importlib_resources-6.4.5-py3-none-any.whl (36 kB)\n",
      "Collecting contourpy>=1.0.1\n",
      "  Downloading contourpy-1.1.1-cp38-cp38-win_amd64.whl (477 kB)\n",
      "Requirement already satisfied: python-dateutil>=2.7 in c:\\users\\user\\appdata\\roaming\\python\\python38\\site-packages (from matplotlib) (2.9.0.post0)\n",
      "Requirement already satisfied: zipp>=3.1.0 in c:\\users\\user\\appdata\\roaming\\python\\python38\\site-packages (from importlib-resources>=3.2.0->matplotlib) (3.20.2)\n",
      "Requirement already satisfied: six>=1.5 in c:\\users\\user\\appdata\\roaming\\python\\python38\\site-packages (from python-dateutil>=2.7->matplotlib) (1.16.0)\n",
      "Installing collected packages: pyparsing, kiwisolver, importlib-resources, fonttools, cycler, contourpy, matplotlib\n",
      "Successfully installed contourpy-1.1.1 cycler-0.12.1 fonttools-4.55.0 importlib-resources-6.4.5 kiwisolver-1.4.7 matplotlib-3.7.5 pyparsing-3.1.4\n"
     ]
    },
    {
     "name": "stderr",
     "output_type": "stream",
     "text": [
      "WARNING: You are using pip version 21.1.1; however, version 24.3.1 is available.\n",
      "You should consider upgrading via the 'c:\\Users\\User\\AppData\\Local\\Programs\\Python\\Python38\\python.exe -m pip install --upgrade pip' command.\n"
     ]
    }
   ],
   "source": [
    "%pip install matplotlib"
   ]
  },
  {
   "cell_type": "code",
   "execution_count": 26,
   "metadata": {},
   "outputs": [
    {
     "name": "stdout",
     "output_type": "stream",
     "text": [
      "Collecting scikit-learn\n",
      "  Downloading scikit_learn-1.3.2-cp38-cp38-win_amd64.whl (9.3 MB)\n",
      "Requirement already satisfied: numpy<2.0,>=1.17.3 in c:\\users\\user\\appdata\\local\\programs\\python\\python38\\lib\\site-packages (from scikit-learn) (1.24.4)\n",
      "Collecting threadpoolctl>=2.0.0\n",
      "  Downloading threadpoolctl-3.5.0-py3-none-any.whl (18 kB)\n",
      "Collecting joblib>=1.1.1\n",
      "  Downloading joblib-1.4.2-py3-none-any.whl (301 kB)\n",
      "Collecting scipy>=1.5.0\n",
      "  Downloading scipy-1.10.1-cp38-cp38-win_amd64.whl (42.2 MB)\n",
      "Installing collected packages: threadpoolctl, scipy, joblib, scikit-learn\n",
      "Successfully installed joblib-1.4.2 scikit-learn-1.3.2 scipy-1.10.1 threadpoolctl-3.5.0\n",
      "Note: you may need to restart the kernel to use updated packages.\n"
     ]
    },
    {
     "name": "stderr",
     "output_type": "stream",
     "text": [
      "WARNING: You are using pip version 21.1.1; however, version 24.3.1 is available.\n",
      "You should consider upgrading via the 'c:\\Users\\User\\AppData\\Local\\Programs\\Python\\Python38\\python.exe -m pip install --upgrade pip' command.\n"
     ]
    }
   ],
   "source": [
    "%pip install scikit-learn"
   ]
  },
  {
   "cell_type": "markdown",
   "metadata": {},
   "source": [
    "**라이브러리 호출**"
   ]
  },
  {
   "cell_type": "code",
   "execution_count": 27,
   "metadata": {},
   "outputs": [],
   "source": [
    "import os\n",
    "import time\n",
    "\n",
    "import numpy as np\n",
    "import pandas as pd\n",
    "import matplotlib.pyplot as plt\n",
    "\n",
    "import torch\n",
    "import torch.nn as nn\n",
    "from torch.utils.data import TensorDataset, DataLoader\n",
    "from torch.autograd import Variable\n",
    "from tqdm import tqdm_notebook\n",
    "from sklearn.preprocessing import StandardScaler, MinMaxScaler\n",
    "from sklearn.model_selection import train_test_split\n",
    "\n",
    "device=torch.device('cuda:0' if torch.cuda.is_available() else 'cpu')"
   ]
  },
  {
   "cell_type": "markdown",
   "metadata": {},
   "source": [
    "**데이터셋 가져오기**"
   ]
  },
  {
   "cell_type": "code",
   "execution_count": 28,
   "metadata": {},
   "outputs": [
    {
     "name": "stdout",
     "output_type": "stream",
     "text": [
      "Date          object\n",
      "Open         float64\n",
      "High         float64\n",
      "Low          float64\n",
      "Close        float64\n",
      "Adj Close    float64\n",
      "Volume         int64\n",
      "dtype: object\n"
     ]
    }
   ],
   "source": [
    "data=pd.read_csv(r\"C:\\Users\\User\\24-2EURON\\SBUX.csv\")\n",
    "print(data.dtypes)"
   ]
  },
  {
   "cell_type": "markdown",
   "metadata": {},
   "source": [
    "**날짜 칼럼을 인덱스로 사용**"
   ]
  },
  {
   "cell_type": "code",
   "execution_count": 31,
   "metadata": {},
   "outputs": [],
   "source": [
    "data['Date']=pd.to_datetime(data['Date'])\n",
    "data.set_index('Date', inplace=True)"
   ]
  },
  {
   "cell_type": "markdown",
   "metadata": {},
   "source": [
    "**데이터 형식 변경**"
   ]
  },
  {
   "cell_type": "code",
   "execution_count": 32,
   "metadata": {},
   "outputs": [],
   "source": [
    "data['Volume']=data['Volume'].astype(float)"
   ]
  },
  {
   "cell_type": "markdown",
   "metadata": {},
   "source": [
    "**훈련과 레이블 관리**"
   ]
  },
  {
   "cell_type": "code",
   "execution_count": 33,
   "metadata": {},
   "outputs": [
    {
     "name": "stdout",
     "output_type": "stream",
     "text": [
      "                  Open        High         Low       Close   Adj Close\n",
      "Date                                                                  \n",
      "2019-12-11   86.260002   86.870003   85.849998   86.589996   84.145752\n",
      "2019-12-12   88.000000   88.889999   87.540001   88.209999   85.720032\n",
      "2019-12-13   88.019997   88.790001   87.580002   88.669998   86.167046\n",
      "2019-12-16   89.139999   89.300003   88.430000   88.779999   86.273941\n",
      "2019-12-17   88.870003   88.970001   87.470001   88.129997   85.642288\n",
      "...                ...         ...         ...         ...         ...\n",
      "2020-12-04  101.349998  102.940002  101.070000  102.279999  101.442787\n",
      "2020-12-07  102.010002  102.220001  100.690002  101.410004  100.579918\n",
      "2020-12-08  100.370003  101.570000  100.010002  101.209999  100.381554\n",
      "2020-12-09  101.940002  102.209999  100.099998  100.400002   99.578186\n",
      "2020-12-10  103.510002  106.089996  102.750000  105.389999  104.527336\n",
      "\n",
      "[253 rows x 5 columns]\n",
      "                Volume\n",
      "Date                  \n",
      "2019-12-11   4921900.0\n",
      "2019-12-12  10282100.0\n",
      "2019-12-13   6714100.0\n",
      "2019-12-16   6705600.0\n",
      "2019-12-17   7296900.0\n",
      "...                ...\n",
      "2020-12-04   6952700.0\n",
      "2020-12-07   4514800.0\n",
      "2020-12-08   3911300.0\n",
      "2020-12-09   6629900.0\n",
      "2020-12-10  12939200.0\n",
      "\n",
      "[253 rows x 1 columns]\n"
     ]
    }
   ],
   "source": [
    "X=data.iloc[:, :-1]\n",
    "y=data.iloc[:, 5:6]\n",
    "print(X)\n",
    "print(y)"
   ]
  },
  {
   "cell_type": "markdown",
   "metadata": {},
   "source": [
    "**데이터 분포 조정**"
   ]
  },
  {
   "cell_type": "code",
   "execution_count": 35,
   "metadata": {},
   "outputs": [
    {
     "name": "stdout",
     "output_type": "stream",
     "text": [
      "Training Shape (200, 5) (200, 1)\n",
      "Testing Shape (53, 5) (53, 1)\n"
     ]
    }
   ],
   "source": [
    "ms=MinMaxScaler()\n",
    "ss=StandardScaler()\n",
    "\n",
    "X_ss=ss.fit_transform(X)\n",
    "y_ms=ms.fit_transform(y)\n",
    "\n",
    "X_train=X_ss[:200, :]\n",
    "X_test=X_ss[200:, :]\n",
    "\n",
    "y_train=y_ms[:200, :]\n",
    "y_test=y_ms[200:, :]\n",
    "\n",
    "print('Training Shape', X_train.shape, y_train.shape)\n",
    "print('Testing Shape', X_test.shape, y_test.shape)"
   ]
  },
  {
   "cell_type": "markdown",
   "metadata": {},
   "source": [
    "**데이터셋의 형태 및 크기 조정**"
   ]
  },
  {
   "cell_type": "code",
   "execution_count": 36,
   "metadata": {},
   "outputs": [
    {
     "name": "stdout",
     "output_type": "stream",
     "text": [
      "Training Shape torch.Size([200, 1, 5]) torch.Size([200, 1])\n",
      "Testing Shape torch.Size([53, 1, 5]) torch.Size([53, 1])\n"
     ]
    }
   ],
   "source": [
    "X_train_tensors=Variable(torch.Tensor(X_train))\n",
    "X_test_tensors=Variable(torch.Tensor(X_test))\n",
    "\n",
    "y_train_tensors=Variable(torch.Tensor(y_train))\n",
    "y_test_tensors=Variable(torch.Tensor(y_test))\n",
    "\n",
    "X_train_tensors_f=torch.reshape(X_train_tensors, (X_train_tensors.shape[0],\n",
    "                                                  1, X_train_tensors.shape[1]))\n",
    "X_test_tensors_f=torch.reshape(X_test_tensors, (X_test_tensors.shape[0],\n",
    "                                                1, X_test_tensors.shape[1]))\n",
    "\n",
    "print('Training Shape', X_train_tensors_f.shape, y_train_tensors.shape)\n",
    "print('Testing Shape', X_test_tensors_f.shape, y_test_tensors.shape)"
   ]
  },
  {
   "cell_type": "markdown",
   "metadata": {},
   "source": [
    "**LSTM 네트워크**"
   ]
  },
  {
   "cell_type": "code",
   "execution_count": 37,
   "metadata": {},
   "outputs": [],
   "source": [
    "class LSTM(nn.Module):\n",
    "    def __init__(self, num_classes, input_size, hidden_size, num_layers, seq_length):\n",
    "        super(LSTM, self).__init__()\n",
    "        self.num_classes=num_classes\n",
    "        self.num_layers=num_layers\n",
    "        self.input_size=input_size\n",
    "        self.hidden_size=hidden_size\n",
    "        self.seq_length=seq_length\n",
    "        \n",
    "        self.lstm=nn.LSTM(input_size=input_size, hidden_size=hidden_size,\n",
    "                          num_layers=num_layers, batch_first=True)\n",
    "        self.fc_1=nn.Linear(hidden_size, 128)\n",
    "        self.fc=nn.Linear(128, num_classes)\n",
    "        self.relu=nn.ReLU()\n",
    "        \n",
    "    def forward(self, x):\n",
    "        h_0=Variable(torch.zeros(self.num_layers, x.size(0), self.hidden_size))\n",
    "        c_0=Variable(torch.zeros(self.num_layers, x.size(0), self.hidden_size))\n",
    "        output, (hn, cn)=self.lstm(x, (h_0, c_0))\n",
    "        hn=hn.view(-1, self.hidden_size)\n",
    "        out=self.relu(hn)\n",
    "        out=self.fc_1(out)\n",
    "        out=self.relu(out)\n",
    "        out=self.fc(out)\n",
    "        return out"
   ]
  },
  {
   "cell_type": "markdown",
   "metadata": {},
   "source": [
    "**변수 값 설정**"
   ]
  },
  {
   "cell_type": "code",
   "execution_count": 38,
   "metadata": {},
   "outputs": [],
   "source": [
    "num_epochs=1000\n",
    "learning_rate=0.0001\n",
    "\n",
    "input_size=5\n",
    "hidden_size=2\n",
    "num_layers=1\n",
    "\n",
    "num_classes=1\n",
    "model=LSTM(num_classes, input_size, hidden_size, num_layers, X_train_tensors_f.shape[1])\n",
    "\n",
    "criterion=torch.nn.MSELoss()\n",
    "optimizer=torch.optim.Adam(model.parameters(), lr=learning_rate)"
   ]
  },
  {
   "cell_type": "markdown",
   "metadata": {},
   "source": [
    "**모델 학습**"
   ]
  },
  {
   "cell_type": "code",
   "execution_count": 39,
   "metadata": {},
   "outputs": [
    {
     "name": "stdout",
     "output_type": "stream",
     "text": [
      "Epoch: 0, loss: 0.26832\n",
      "Epoch: 100, loss: 0.09451\n",
      "Epoch: 200, loss: 0.04903\n",
      "Epoch: 300, loss: 0.04058\n",
      "Epoch: 400, loss: 0.03745\n",
      "Epoch: 500, loss: 0.03506\n",
      "Epoch: 600, loss: 0.03324\n",
      "Epoch: 700, loss: 0.03201\n",
      "Epoch: 800, loss: 0.03113\n",
      "Epoch: 900, loss: 0.03032\n"
     ]
    }
   ],
   "source": [
    "for epoch in range(num_epochs):\n",
    "    outputs=model.forward(X_train_tensors_f)\n",
    "    optimizer.zero_grad()\n",
    "    loss=criterion(outputs, y_train_tensors)\n",
    "    loss.backward()\n",
    "    \n",
    "    optimizer.step()\n",
    "    if epoch % 100==0:\n",
    "        print('Epoch: %d, loss: %1.5f' % (epoch, loss.item()))"
   ]
  },
  {
   "cell_type": "markdown",
   "metadata": {},
   "source": [
    "**모델 예측 결과를 출력하기 위한 데이터 크기 재구성**"
   ]
  },
  {
   "cell_type": "code",
   "execution_count": 40,
   "metadata": {},
   "outputs": [],
   "source": [
    "df_x_ss=ss.transform(data.iloc[:, :-1])\n",
    "df_y_ms=ms.transform(data.iloc[:, -1:])\n",
    "\n",
    "df_x_ss=Variable(torch.Tensor(df_x_ss))\n",
    "df_y_ms=Variable(torch.Tensor(df_y_ms))\n",
    "df_x_ss=torch.reshape(df_x_ss, (df_x_ss.shape[0], 1, df_x_ss.shape[1]))"
   ]
  },
  {
   "cell_type": "markdown",
   "metadata": {},
   "source": [
    "**모델 예측 결과 출력**"
   ]
  },
  {
   "cell_type": "code",
   "execution_count": 41,
   "metadata": {},
   "outputs": [
    {
     "data": {
      "image/png": "[encoded data removed]",
      "text/plain": [
       "<Figure size 1000x600 with 1 Axes>"
      ]
     },
     "metadata": {},
     "output_type": "display_data"
    }
   ],
   "source": [
    "train_predict=model(df_x_ss)\n",
    "predicted=train_predict.data.numpy()\n",
    "label_y=df_y_ms.data.numpy()\n",
    "\n",
    "predicted=ms.inverse_transform(predicted)\n",
    "label_y=ms.inverse_transform(label_y)\n",
    "plt.figure(figsize=(10, 6))\n",
    "plt.axvline(x=200, c='r', linestyle='--')\n",
    "\n",
    "plt.plot(label_y, label='Actual Data')\n",
    "plt.plot(predicted, label='Predicted Data')\n",
    "plt.title('Time-Series Prediction')\n",
    "plt.legend()\n",
    "plt.show()"
   ]
  },
  {
   "cell_type": "markdown",
   "metadata": {},
   "source": [
    "## **7.6 게이트 순환 신경망(GRU)**"
   ]
  },
  {
   "cell_type": "markdown",
   "metadata": {},
   "source": [
    "### **7.6.1 GRU 구조**"
   ]
  },
  {
   "cell_type": "markdown",
   "metadata": {},
   "source": [
    "### **7.6.2 GRU 셀 구현**"
   ]
  },
  {
   "cell_type": "markdown",
   "metadata": {},
   "source": [
    "**라이브러리 호출**"
   ]
  },
  {
   "cell_type": "code",
   "execution_count": 42,
   "metadata": {},
   "outputs": [],
   "source": [
    "import torch\n",
    "import torch.nn as nn\n",
    "import torchvision.transforms as transforms\n",
    "import torchvision.datasets as dataset\n",
    "from torch.autograd import Variable\n",
    "from torch.nn import Parameter\n",
    "from torch import Tensor\n",
    "import torch.nn.functional as F\n",
    "from torch.utils.data import DataLoader\n",
    "import math\n",
    "\n",
    "device=torch.device('cuda:0' if torch.cuda.is_available() else 'cpu')\n",
    "cuda=True if torch.cuda.is_available() else False\n",
    "\n",
    "Tensor=torch.cuda.FloatTensor if cuda else torch.FloatTensor\n",
    "\n",
    "torch.manual_seed(125)\n",
    "if torch.cuda.is_available():\n",
    "    torch.cuda.manual_seed_all(125)"
   ]
  },
  {
   "cell_type": "markdown",
   "metadata": {},
   "source": [
    "**데이터 전처리**"
   ]
  },
  {
   "cell_type": "code",
   "execution_count": 43,
   "metadata": {},
   "outputs": [],
   "source": [
    "mnist_transform=transforms.Compose([\n",
    "    transforms.ToTensor(),\n",
    "    transforms.Normalize((0.5,), (1.0,))\n",
    "])"
   ]
  },
  {
   "cell_type": "markdown",
   "metadata": {},
   "source": [
    "**데이터셋 내려받기 및 전처리 적용**"
   ]
  },
  {
   "cell_type": "code",
   "execution_count": 44,
   "metadata": {},
   "outputs": [],
   "source": [
    "from torchvision.datasets import MNIST\n",
    "download_root=r\"C:\\Users\\User\\24-2EURON\\MNIST_DATASET\"\n",
    "\n",
    "train_dataset=MNIST(download_root, transform=mnist_transform, train=True,\n",
    "                    download=True)\n",
    "valid_dataset=MNIST(download_root, transform=mnist_transform, train=False,\n",
    "                    download=True)\n",
    "test_dataset=MNIST(download_root, transform=mnist_transform, train=False,\n",
    "                   download=True)"
   ]
  },
  {
   "cell_type": "markdown",
   "metadata": {},
   "source": [
    "**데이터셋 메모리로 가져오기**"
   ]
  },
  {
   "cell_type": "code",
   "execution_count": 45,
   "metadata": {},
   "outputs": [],
   "source": [
    "batch_size=64\n",
    "train_loader=DataLoader(dataset=train_dataset,\n",
    "                        batch_size=batch_size,\n",
    "                        shuffle=True)\n",
    "valid_loader=DataLoader(dataset=test_dataset,\n",
    "                        batch_size=batch_size,\n",
    "                        shuffle=True)\n",
    "test_loader=DataLoader(dataset=test_dataset,\n",
    "                       batch_size=batch_size,\n",
    "                       shuffle=True)"
   ]
  },
  {
   "cell_type": "markdown",
   "metadata": {},
   "source": [
    "**변수 값 설정**"
   ]
  },
  {
   "cell_type": "code",
   "execution_count": 46,
   "metadata": {},
   "outputs": [],
   "source": [
    "batch_size=100\n",
    "n_iters=6000\n",
    "num_epochs=n_iters/(len(train_dataset)/batch_size)\n",
    "num_epochs=int(num_epochs)"
   ]
  },
  {
   "cell_type": "markdown",
   "metadata": {},
   "source": [
    "**GRU 셀 네트워크**"
   ]
  },
  {
   "cell_type": "code",
   "execution_count": 47,
   "metadata": {},
   "outputs": [],
   "source": [
    "class GRUCell(nn.Module):\n",
    "    def __init__(self, input_size, hidden_size, bias=True):\n",
    "        super(GRUCell, self).__init__()\n",
    "        self.input_size=input_size\n",
    "        self.hidden_size=hidden_size\n",
    "        self.bias=bias\n",
    "        self.x2h=nn.Linear(input_size, 3*hidden_size, bias=bias)\n",
    "        self.h2h=nn.Linear(hidden_size, 3*hidden_size, bias=bias)\n",
    "        self.reset_parameters()\n",
    "        \n",
    "    def reset_parameters(self):\n",
    "        std=1.0/math.sqrt(self.hidden_size)\n",
    "        for w in self.parameters():\n",
    "            w.data.uniform_(-std, std)\n",
    "            \n",
    "    def forward(self, x, hidden):\n",
    "        x=x.view(-1, x.size(1))\n",
    "        \n",
    "        gate_x=self.x2h(x)\n",
    "        gate_h=self.h2h(hidden)\n",
    "        gate_x=gate_x.squeeze()\n",
    "        gate_h=gate_h.squeeze()\n",
    "        \n",
    "        i_r, i_i, i_n=gate_x.chunk(3, 1)\n",
    "        h_r, h_i, h_n=gate_h.chunk(3, 1)\n",
    "        \n",
    "        resetgate=F.sigmoid(i_r+h_r)\n",
    "        inputgate=F.sigmoid(i_i+h_i)\n",
    "        newgate=F.tanh(i_n+(resetgate*h_n))\n",
    "        \n",
    "        hy=newgate+inputgate*(hidden-newgate)\n",
    "        return hy"
   ]
  },
  {
   "cell_type": "markdown",
   "metadata": {},
   "source": [
    "**전반적인 네트워크 구조**"
   ]
  },
  {
   "cell_type": "code",
   "execution_count": null,
   "metadata": {},
   "outputs": [],
   "source": [
    "class GRUModel(nn.Module):\n",
    "    def __init__(self, input_dim, hidden_dim, layer_dim, output_dim, bias=True):\n",
    "        super(GRUModel, self).__init__()\n",
    "        self.hidden_dim=hidden_dim\n",
    "        self.layer_dim=layer_dim\n",
    "        \n",
    "        self.gru_cell=GRUCell(input_dim, hidden_dim, layer_dim)\n",
    "        self.fc=nn.Linear(hidden_dim, output_dim)\n",
    "        \n",
    "    def forward(self, x):\n",
    "        if torch.cuda.is_available():\n",
    "            h0=Variable(torch.zeros(self.layer_dim, x.size(0), self.hidden_dim).cuda())"
   ]
  }
 ],
 "metadata": {
  "colab": {
   "provenance": []
  },
  "kernelspec": {
   "display_name": "Python 3",
   "name": "python3"
  },
  "language_info": {
   "codemirror_mode": {
    "name": "ipython",
    "version": 3
   },
   "file_extension": ".py",
   "mimetype": "text/x-python",
   "name": "python",
   "nbconvert_exporter": "python",
   "pygments_lexer": "ipython3",
   "version": "3.8.10"
  }
 },
 "nbformat": 4,
 "nbformat_minor": 0
}

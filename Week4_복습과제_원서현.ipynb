{
 "cells": [
  {
   "cell_type": "markdown",
   "metadata": {
    "id": "JmbrNadxsBr7"
   },
   "source": [
    "## Convolution Layer Example"
   ]
  },
  {
   "cell_type": "code",
   "execution_count": 6,
   "metadata": {
    "colab": {
     "base_uri": "https://localhost:8080/"
    },
    "id": "MAyG6GGTU_mC",
    "outputId": "118b0f42-fde5-4900-8cea-f4c8709818d5"
   },
   "outputs": [
    {
     "name": "stdout",
     "output_type": "stream",
     "text": [
      "연산 전 torch.Size([10, 1, 20, 20])\n",
      "conv1 연산 후 torch.Size([10, 10, 16, 16])\n",
      "conv2 연산 후 torch.Size([10, 20, 12, 12])\n",
      "차원 감소 후 torch.Size([20, 1440])\n",
      "fc1 연산 후 torch.Size([20, 50])\n",
      "fc2 연산 후 torch.Size([20, 10])\n"
     ]
    }
   ],
   "source": [
    "import torch\n",
    "import torch.nn as nn\n",
    "import torch.nn.functional as F\n",
    "\n",
    "class CNN(nn.Module):\n",
    "  def __init__(self):\n",
    "    super(CNN, self).__init__()\n",
    "\n",
    "    ## 조건1: conv layer 2개 & fc layer 2개\n",
    "    ## 조건2: kernel size=5, stride=1로 통일\n",
    "    ## output을 참고하여 차원을 계산해주세요!\n",
    "    # 1: input channels = 1, output channels = 10, kernel size = 5, stride = 1\n",
    "    self.conv1 = nn.Conv2d(1, 10, kernel_size=5, stride=1)\n",
    "        \n",
    "    # 2: input channels = 10, output channels = 20, kernel size = 5, stride = 1\n",
    "    self.conv2 = nn.Conv2d(10, 20, kernel_size=5, stride=1)\n",
    "\n",
    "    # FC layer\n",
    "    self.fc1 = nn.Linear(10*12*12, 50)  \n",
    "    self.fc2 = nn.Linear(50, 10)  \n",
    "\n",
    "\n",
    "  def forward(self, x):\n",
    "    print(\"연산 전\", x.size())\n",
    "    x = F.relu(self.conv1(x))\n",
    "    print(\"conv1 연산 후\", x.size())\n",
    "    x = F.relu(self.conv2(x))\n",
    "    print(\"conv2 연산 후\",x.size())\n",
    "    x = x.view(-1, 10 * 12 * 12)\n",
    "    print(\"차원 감소 후\", x.size())\n",
    "    x = F.relu(self.fc1(x))\n",
    "    print(\"fc1 연산 후\", x.size())\n",
    "    x = self.fc2(x)\n",
    "    print(\"fc2 연산 후\", x.size())\n",
    "    return x\n",
    "\n",
    "cnn = CNN()\n",
    "output = cnn(torch.randn(10, 1, 20, 20))  # Input Size: (10, 1, 20, 20)"
   ]
  },
  {
   "cell_type": "markdown",
   "metadata": {
    "id": "0It8H-mysBr-"
   },
   "source": [
    "## Max Pooling Layer Example"
   ]
  },
  {
   "cell_type": "code",
   "execution_count": 9,
   "metadata": {
    "colab": {
     "base_uri": "https://localhost:8080/"
    },
    "id": "LkOwXPFNchie",
    "outputId": "a3f022de-8d54-4cf8-9456-f9bbc15ed9cc"
   },
   "outputs": [
    {
     "name": "stdout",
     "output_type": "stream",
     "text": [
      "연산 전 torch.Size([10, 1, 20, 20])\n",
      "max_pool1 연산 후 torch.Size([10, 1, 10, 10])\n",
      "max_pool2 연산 후 torch.Size([10, 1, 5, 5])\n",
      "차원 감소 후 torch.Size([1, 250])\n",
      "fc1 연산 후 torch.Size([1, 50])\n",
      "fc2 연산 후 torch.Size([1, 10])\n"
     ]
    }
   ],
   "source": [
    "class CNN(nn.Module):\n",
    "  def __init__(self):\n",
    "    super(CNN, self).__init__()\n",
    "\n",
    "    ## 조건1: 최대풀링 layer 2개 & fc layer 2개\n",
    "    ## 조건2: kernel size=2로 통일, stride는 따로 지정할 필요 없음\n",
    "    ## output을 참고하여 차원을 계산해주세요!\n",
    "    self.max_pool1 = nn.MaxPool2d(kernel_size=2)\n",
    "    self.max_pool2 = nn.MaxPool2d(kernel_size=2)\n",
    "    self.fc1 = nn.Linear(5*5*10, 50)  \n",
    "    self.fc2 = nn.Linear(50, 10) \n",
    "  def forward(self, x):\n",
    "    print(\"연산 전\", x.size())\n",
    "    x = F.relu(self.max_pool1(x))\n",
    "    print(\"max_pool1 연산 후\", x.size())\n",
    "    x = F.relu(self.max_pool2(x))\n",
    "    print(\"max_pool2 연산 후\",x.size())\n",
    "    x = x.view(-1, 10 * 5 * 5)\n",
    "    print(\"차원 감소 후\", x.size())\n",
    "    x = F.relu(self.fc1(x))\n",
    "    print(\"fc1 연산 후\", x.size())\n",
    "    x = self.fc2(x)\n",
    "    print(\"fc2 연산 후\", x.size())\n",
    "    return x\n",
    "\n",
    "cnn = CNN()\n",
    "output = cnn(torch.randn(10, 1, 20, 20))"
   ]
  },
  {
   "cell_type": "markdown",
   "metadata": {
    "id": "uDMn2y5_sBr-"
   },
   "source": [
    "## MNIST 데이터셋 train"
   ]
  },
  {
   "cell_type": "code",
   "execution_count": 10,
   "metadata": {
    "id": "YhfopkrQcp1P"
   },
   "outputs": [
    {
     "name": "stdout",
     "output_type": "stream",
     "text": [
      "Requirement already satisfied: torchvision in c:\\users\\sshyu\\appdata\\local\\programs\\python\\python312\\lib\\site-packages (0.19.0+cu124)\n",
      "Requirement already satisfied: numpy in c:\\users\\sshyu\\appdata\\local\\programs\\python\\python312\\lib\\site-packages (from torchvision) (1.26.4)\n",
      "Requirement already satisfied: torch==2.4.0+cu124 in c:\\users\\sshyu\\appdata\\local\\programs\\python\\python312\\lib\\site-packages (from torchvision) (2.4.0+cu124)\n",
      "Requirement already satisfied: pillow!=8.3.*,>=5.3.0 in c:\\users\\sshyu\\appdata\\local\\programs\\python\\python312\\lib\\site-packages (from torchvision) (10.4.0)\n",
      "Requirement already satisfied: filelock in c:\\users\\sshyu\\appdata\\local\\programs\\python\\python312\\lib\\site-packages (from torch==2.4.0+cu124->torchvision) (3.16.1)\n",
      "Requirement already satisfied: typing-extensions>=4.8.0 in c:\\users\\sshyu\\appdata\\local\\programs\\python\\python312\\lib\\site-packages (from torch==2.4.0+cu124->torchvision) (4.12.2)\n",
      "Requirement already satisfied: sympy in c:\\users\\sshyu\\appdata\\local\\programs\\python\\python312\\lib\\site-packages (from torch==2.4.0+cu124->torchvision) (1.13.3)\n",
      "Requirement already satisfied: networkx in c:\\users\\sshyu\\appdata\\local\\programs\\python\\python312\\lib\\site-packages (from torch==2.4.0+cu124->torchvision) (3.3)\n",
      "Requirement already satisfied: jinja2 in c:\\users\\sshyu\\appdata\\local\\programs\\python\\python312\\lib\\site-packages (from torch==2.4.0+cu124->torchvision) (3.1.4)\n",
      "Requirement already satisfied: fsspec in c:\\users\\sshyu\\appdata\\local\\programs\\python\\python312\\lib\\site-packages (from torch==2.4.0+cu124->torchvision) (2024.9.0)\n",
      "Requirement already satisfied: setuptools in c:\\users\\sshyu\\appdata\\local\\programs\\python\\python312\\lib\\site-packages (from torch==2.4.0+cu124->torchvision) (72.2.0)\n",
      "Requirement already satisfied: MarkupSafe>=2.0 in c:\\users\\sshyu\\appdata\\local\\programs\\python\\python312\\lib\\site-packages (from jinja2->torch==2.4.0+cu124->torchvision) (2.1.5)\n",
      "Requirement already satisfied: mpmath<1.4,>=1.1.0 in c:\\users\\sshyu\\appdata\\local\\programs\\python\\python312\\lib\\site-packages (from sympy->torch==2.4.0+cu124->torchvision) (1.3.0)\n"
     ]
    },
    {
     "name": "stderr",
     "output_type": "stream",
     "text": [
      "\n",
      "[notice] A new release of pip is available: 24.2 -> 24.3.1\n",
      "[notice] To update, run: python.exe -m pip install --upgrade pip\n"
     ]
    }
   ],
   "source": [
    "!pip install torchvision"
   ]
  },
  {
   "cell_type": "code",
   "execution_count": 11,
   "metadata": {
    "id": "CqFN5YM5cqKe"
   },
   "outputs": [],
   "source": [
    "import torch.optim as optim\n",
    "from torchvision import datasets, transforms"
   ]
  },
  {
   "cell_type": "code",
   "execution_count": 12,
   "metadata": {
    "id": "IJb_C4ptcu6G"
   },
   "outputs": [
    {
     "name": "stdout",
     "output_type": "stream",
     "text": [
      "Downloading http://yann.lecun.com/exdb/mnist/train-images-idx3-ubyte.gz\n",
      "Failed to download (trying next):\n",
      "<urlopen error [SSL: CERTIFICATE_VERIFY_FAILED] certificate verify failed: certificate has expired (_ssl.c:1000)>\n",
      "\n",
      "Downloading https://ossci-datasets.s3.amazonaws.com/mnist/train-images-idx3-ubyte.gz\n",
      "Downloading https://ossci-datasets.s3.amazonaws.com/mnist/train-images-idx3-ubyte.gz to ./data/MNIST\\raw\\train-images-idx3-ubyte.gz\n"
     ]
    },
    {
     "name": "stderr",
     "output_type": "stream",
     "text": [
      "100%|███████████████████████████████████████████████████████████████████| 9912422/9912422 [00:02<00:00, 4043680.85it/s]\n"
     ]
    },
    {
     "name": "stdout",
     "output_type": "stream",
     "text": [
      "Extracting ./data/MNIST\\raw\\train-images-idx3-ubyte.gz to ./data/MNIST\\raw\n",
      "\n",
      "Downloading http://yann.lecun.com/exdb/mnist/train-labels-idx1-ubyte.gz\n",
      "Failed to download (trying next):\n",
      "<urlopen error [SSL: CERTIFICATE_VERIFY_FAILED] certificate verify failed: certificate has expired (_ssl.c:1000)>\n",
      "\n",
      "Downloading https://ossci-datasets.s3.amazonaws.com/mnist/train-labels-idx1-ubyte.gz\n",
      "Downloading https://ossci-datasets.s3.amazonaws.com/mnist/train-labels-idx1-ubyte.gz to ./data/MNIST\\raw\\train-labels-idx1-ubyte.gz\n"
     ]
    },
    {
     "name": "stderr",
     "output_type": "stream",
     "text": [
      "100%|████████████████████████████████████████████████████████████████████████| 28881/28881 [00:00<00:00, 143492.89it/s]\n"
     ]
    },
    {
     "name": "stdout",
     "output_type": "stream",
     "text": [
      "Extracting ./data/MNIST\\raw\\train-labels-idx1-ubyte.gz to ./data/MNIST\\raw\n",
      "\n",
      "Downloading http://yann.lecun.com/exdb/mnist/t10k-images-idx3-ubyte.gz\n",
      "Failed to download (trying next):\n",
      "<urlopen error [SSL: CERTIFICATE_VERIFY_FAILED] certificate verify failed: certificate has expired (_ssl.c:1000)>\n",
      "\n",
      "Downloading https://ossci-datasets.s3.amazonaws.com/mnist/t10k-images-idx3-ubyte.gz\n",
      "Downloading https://ossci-datasets.s3.amazonaws.com/mnist/t10k-images-idx3-ubyte.gz to ./data/MNIST\\raw\\t10k-images-idx3-ubyte.gz\n"
     ]
    },
    {
     "name": "stderr",
     "output_type": "stream",
     "text": [
      "100%|███████████████████████████████████████████████████████████████████| 1648877/1648877 [00:01<00:00, 1354070.90it/s]\n"
     ]
    },
    {
     "name": "stdout",
     "output_type": "stream",
     "text": [
      "Extracting ./data/MNIST\\raw\\t10k-images-idx3-ubyte.gz to ./data/MNIST\\raw\n",
      "\n",
      "Downloading http://yann.lecun.com/exdb/mnist/t10k-labels-idx1-ubyte.gz\n",
      "Failed to download (trying next):\n",
      "<urlopen error [SSL: CERTIFICATE_VERIFY_FAILED] certificate verify failed: certificate has expired (_ssl.c:1000)>\n",
      "\n",
      "Downloading https://ossci-datasets.s3.amazonaws.com/mnist/t10k-labels-idx1-ubyte.gz\n",
      "Downloading https://ossci-datasets.s3.amazonaws.com/mnist/t10k-labels-idx1-ubyte.gz to ./data/MNIST\\raw\\t10k-labels-idx1-ubyte.gz\n"
     ]
    },
    {
     "name": "stderr",
     "output_type": "stream",
     "text": [
      "100%|██████████████████████████████████████████████████████████████████████████████████████| 4542/4542 [00:00<?, ?it/s]"
     ]
    },
    {
     "name": "stdout",
     "output_type": "stream",
     "text": [
      "Extracting ./data/MNIST\\raw\\t10k-labels-idx1-ubyte.gz to ./data/MNIST\\raw\n",
      "\n"
     ]
    },
    {
     "name": "stderr",
     "output_type": "stream",
     "text": [
      "\n"
     ]
    }
   ],
   "source": [
    "train_data = datasets.MNIST('./data/', train=True, download=True, transform=transforms.Compose([\n",
    "        transforms.ToTensor(),\n",
    "        transforms.Normalize((0.1307,), (0.3081,))\n",
    "    ])) # 학습 데이터\n",
    "train_loader = torch.utils.data.DataLoader(dataset=train_data, batch_size=50, shuffle=True)\n",
    "\n",
    "test_data = datasets.MNIST('./data/', train=False, transform=transforms.Compose([\n",
    "        transforms.ToTensor(),\n",
    "        transforms.Normalize((0.1307,), (0.3081,))\n",
    "    ])) # 테스트 데이터\n",
    "test_loader = torch.utils.data.DataLoader(dataset=test_data, batch_size=50, shuffle=True)"
   ]
  },
  {
   "cell_type": "code",
   "execution_count": 20,
   "metadata": {
    "id": "YP3tEuo6ct8A"
   },
   "outputs": [],
   "source": [
    "class CNN(nn.Module):\n",
    "    def __init__(self):\n",
    "        super(CNN, self).__init__()\n",
    "\n",
    "        ## 조건1: conv layer 2개 & fc layer 2개\n",
    "            ## 첫 번째 conv layer: 입력 채널 1, 출력 채널 20\n",
    "            ## 두 번째 fc layer: 출력 채널 10\n",
    "        ## 조건2: kernel_size=5, stride=1\n",
    "        self.conv1 = nn.Conv2d(1, 20, kernel_size=5, stride=1)\n",
    "        self.conv2 = nn.Conv2d(20, 50, kernel_size=5, stride=1)\n",
    "        \n",
    "        # Fc layers\n",
    "        self.fc1 = nn.Linear(4 * 4 * 50, 50)\n",
    "        self.fc2 = nn.Linear(50, 10)  # 10 classes\n",
    "\n",
    "\n",
    "    def forward(self, x):\n",
    "\n",
    "        ## 조건1: relu -> max_pool2d -> relu -> max_pool2d 순서로 이루어짐\n",
    "        ## 조건2: kernel_size=2, stride=2\n",
    "        # 순서: relu -> max_pool2d -> relu -> max_pool2d\n",
    "        x = F.relu(self.conv1(x))\n",
    "        x = F.max_pool2d(x, kernel_size=2, stride=2)\n",
    "        \n",
    "        x = F.relu(self.conv2(x))\n",
    "        x = F.max_pool2d(x, kernel_size=2, stride=2)\n",
    "        x = x.view(x.size(0), -1 )  \n",
    "        x = F.relu(self.fc1(x))\n",
    "        x = self.fc2(x)\n",
    "\n",
    "        return x\n"
   ]
  },
  {
   "cell_type": "code",
   "execution_count": 21,
   "metadata": {
    "id": "EO2ULx3Sc2GM"
   },
   "outputs": [],
   "source": [
    "cnn = CNN()\n",
    "criterion = torch.nn.CrossEntropyLoss()\n",
    "optimizer = optim.SGD(cnn.parameters(), lr=0.01)"
   ]
  },
  {
   "cell_type": "code",
   "execution_count": 22,
   "metadata": {
    "id": "gAwckNWhc4Nr"
   },
   "outputs": [
    {
     "name": "stdout",
     "output_type": "stream",
     "text": [
      "loss of 0 epoch, 0 index : 2.3082549571990967\n",
      "loss of 0 epoch, 100 index : 1.8134199380874634\n",
      "loss of 0 epoch, 200 index : 0.5654747486114502\n",
      "loss of 0 epoch, 300 index : 0.4706026315689087\n",
      "loss of 0 epoch, 400 index : 0.21308770775794983\n",
      "loss of 0 epoch, 500 index : 0.17938977479934692\n",
      "loss of 0 epoch, 600 index : 0.18724992871284485\n",
      "loss of 0 epoch, 700 index : 0.43736645579338074\n",
      "loss of 0 epoch, 800 index : 0.12414763122797012\n",
      "loss of 0 epoch, 900 index : 0.18859420716762543\n",
      "loss of 0 epoch, 1000 index : 0.17124174535274506\n",
      "loss of 0 epoch, 1100 index : 0.15580931305885315\n",
      "loss of 1 epoch, 0 index : 0.06251123547554016\n",
      "loss of 1 epoch, 100 index : 0.15325622260570526\n",
      "loss of 1 epoch, 200 index : 0.424760103225708\n",
      "loss of 1 epoch, 300 index : 0.05791488289833069\n",
      "loss of 1 epoch, 400 index : 0.21685321629047394\n",
      "loss of 1 epoch, 500 index : 0.15054510533809662\n",
      "loss of 1 epoch, 600 index : 0.05223097652196884\n",
      "loss of 1 epoch, 700 index : 0.08392548561096191\n",
      "loss of 1 epoch, 800 index : 0.0978497862815857\n",
      "loss of 1 epoch, 900 index : 0.11927779018878937\n",
      "loss of 1 epoch, 1000 index : 0.018299506977200508\n",
      "loss of 1 epoch, 1100 index : 0.19570069015026093\n",
      "loss of 2 epoch, 0 index : 0.020345795899629593\n",
      "loss of 2 epoch, 100 index : 0.13840888440608978\n",
      "loss of 2 epoch, 200 index : 0.14105777442455292\n",
      "loss of 2 epoch, 300 index : 0.06794653832912445\n",
      "loss of 2 epoch, 400 index : 0.06914570927619934\n",
      "loss of 2 epoch, 500 index : 0.016456639394164085\n",
      "loss of 2 epoch, 600 index : 0.11889910697937012\n",
      "loss of 2 epoch, 700 index : 0.19354413449764252\n",
      "loss of 2 epoch, 800 index : 0.07541591674089432\n",
      "loss of 2 epoch, 900 index : 0.037819311022758484\n",
      "loss of 2 epoch, 1000 index : 0.022804543375968933\n",
      "loss of 2 epoch, 1100 index : 0.03895582631230354\n",
      "loss of 3 epoch, 0 index : 0.029178578406572342\n",
      "loss of 3 epoch, 100 index : 0.020784268155694008\n",
      "loss of 3 epoch, 200 index : 0.0952673926949501\n",
      "loss of 3 epoch, 300 index : 0.03468206524848938\n",
      "loss of 3 epoch, 400 index : 0.24888122081756592\n",
      "loss of 3 epoch, 500 index : 0.023338252678513527\n",
      "loss of 3 epoch, 600 index : 0.17110641300678253\n",
      "loss of 3 epoch, 700 index : 0.15796104073524475\n",
      "loss of 3 epoch, 800 index : 0.026236390694975853\n",
      "loss of 3 epoch, 900 index : 0.13644008338451385\n",
      "loss of 3 epoch, 1000 index : 0.019078487530350685\n",
      "loss of 3 epoch, 1100 index : 0.05580467730760574\n",
      "loss of 4 epoch, 0 index : 0.04146704822778702\n",
      "loss of 4 epoch, 100 index : 0.06677467375993729\n",
      "loss of 4 epoch, 200 index : 0.004421670455485582\n",
      "loss of 4 epoch, 300 index : 0.05257865786552429\n",
      "loss of 4 epoch, 400 index : 0.004651280120015144\n",
      "loss of 4 epoch, 500 index : 0.07711245864629745\n",
      "loss of 4 epoch, 600 index : 0.21624508500099182\n",
      "loss of 4 epoch, 700 index : 0.024363718926906586\n",
      "loss of 4 epoch, 800 index : 0.016276782378554344\n",
      "loss of 4 epoch, 900 index : 0.022458987310528755\n",
      "loss of 4 epoch, 1000 index : 0.06047425419092178\n",
      "loss of 4 epoch, 1100 index : 0.012590337544679642\n",
      "loss of 5 epoch, 0 index : 0.08948714286088943\n",
      "loss of 5 epoch, 100 index : 0.027837205678224564\n",
      "loss of 5 epoch, 200 index : 0.09527890384197235\n",
      "loss of 5 epoch, 300 index : 0.010859327390789986\n",
      "loss of 5 epoch, 400 index : 0.01697339117527008\n",
      "loss of 5 epoch, 500 index : 0.16295310854911804\n",
      "loss of 5 epoch, 600 index : 0.0277997013181448\n",
      "loss of 5 epoch, 700 index : 0.038442302495241165\n",
      "loss of 5 epoch, 800 index : 0.03297765552997589\n",
      "loss of 5 epoch, 900 index : 0.002833197358995676\n",
      "loss of 5 epoch, 1000 index : 0.0351032055914402\n",
      "loss of 5 epoch, 1100 index : 0.018262367695569992\n",
      "loss of 6 epoch, 0 index : 0.028599195182323456\n",
      "loss of 6 epoch, 100 index : 0.062346410006284714\n",
      "loss of 6 epoch, 200 index : 0.03461213409900665\n",
      "loss of 6 epoch, 300 index : 0.10432515293359756\n",
      "loss of 6 epoch, 400 index : 0.06124258413910866\n",
      "loss of 6 epoch, 500 index : 0.030305173248052597\n",
      "loss of 6 epoch, 600 index : 0.015352999791502953\n",
      "loss of 6 epoch, 700 index : 0.01548965647816658\n",
      "loss of 6 epoch, 800 index : 0.056719716638326645\n",
      "loss of 6 epoch, 900 index : 0.026022862643003464\n",
      "loss of 6 epoch, 1000 index : 0.04304800182580948\n",
      "loss of 6 epoch, 1100 index : 0.07846581190824509\n",
      "loss of 7 epoch, 0 index : 0.015737641602754593\n",
      "loss of 7 epoch, 100 index : 0.10914234071969986\n",
      "loss of 7 epoch, 200 index : 0.28454655408859253\n",
      "loss of 7 epoch, 300 index : 0.08848097175359726\n",
      "loss of 7 epoch, 400 index : 0.02342665009200573\n",
      "loss of 7 epoch, 500 index : 0.017573079094290733\n",
      "loss of 7 epoch, 600 index : 0.009995606727898121\n",
      "loss of 7 epoch, 700 index : 0.06564566493034363\n",
      "loss of 7 epoch, 800 index : 0.003359067952260375\n",
      "loss of 7 epoch, 900 index : 0.028033411130309105\n",
      "loss of 7 epoch, 1000 index : 0.02558382786810398\n",
      "loss of 7 epoch, 1100 index : 0.003268516156822443\n",
      "loss of 8 epoch, 0 index : 0.016595738008618355\n",
      "loss of 8 epoch, 100 index : 0.001765300054103136\n",
      "loss of 8 epoch, 200 index : 0.008349848911166191\n",
      "loss of 8 epoch, 300 index : 0.05787822604179382\n",
      "loss of 8 epoch, 400 index : 0.007610303815454245\n",
      "loss of 8 epoch, 500 index : 0.021280767396092415\n",
      "loss of 8 epoch, 600 index : 0.03727136552333832\n",
      "loss of 8 epoch, 700 index : 0.05498407781124115\n",
      "loss of 8 epoch, 800 index : 0.00824352353811264\n",
      "loss of 8 epoch, 900 index : 0.024052493274211884\n",
      "loss of 8 epoch, 1000 index : 0.017042605206370354\n",
      "loss of 8 epoch, 1100 index : 0.009348767809569836\n",
      "loss of 9 epoch, 0 index : 0.06036892905831337\n",
      "loss of 9 epoch, 100 index : 0.03016846626996994\n",
      "loss of 9 epoch, 200 index : 0.002517853630706668\n",
      "loss of 9 epoch, 300 index : 0.0052034067921340466\n",
      "loss of 9 epoch, 400 index : 0.038192566484212875\n",
      "loss of 9 epoch, 500 index : 0.017287855967879295\n",
      "loss of 9 epoch, 600 index : 0.010415738448500633\n",
      "loss of 9 epoch, 700 index : 0.005336846690624952\n",
      "loss of 9 epoch, 800 index : 0.01021244190633297\n",
      "loss of 9 epoch, 900 index : 0.03807377070188522\n",
      "loss of 9 epoch, 1000 index : 0.024532966315746307\n",
      "loss of 9 epoch, 1100 index : 0.005037282127887011\n"
     ]
    }
   ],
   "source": [
    "cnn.train()  # 학습을 위함\n",
    "for epoch in range(10):\n",
    "  for index, (data, target) in enumerate(train_loader):\n",
    "    optimizer.zero_grad()  # 기울기 초기화\n",
    "    output = cnn(data)\n",
    "    loss = criterion(output, target)\n",
    "    loss.backward()  # 역전파\n",
    "    optimizer.step()\n",
    "\n",
    "    if index % 100 == 0:\n",
    "      print(\"loss of {} epoch, {} index : {}\".format(epoch, index, loss.item()))"
   ]
  },
  {
   "cell_type": "code",
   "execution_count": 23,
   "metadata": {
    "id": "l2PnlaXIc6dm"
   },
   "outputs": [
    {
     "name": "stdout",
     "output_type": "stream",
     "text": [
      "\n",
      "Test set: Average loss: 6.8261, Accuracy: 9895/10000 (99%)\n",
      "\n"
     ]
    }
   ],
   "source": [
    "cnn.eval()  # test case 학습 방지를 위함\n",
    "test_loss = 0\n",
    "correct = 0\n",
    "with torch.no_grad():\n",
    "  for data, target in test_loader:\n",
    "    output = cnn(data)\n",
    "    test_loss += criterion(output, target).item() # sum up batch loss\n",
    "    pred = output.argmax(dim=1, keepdim=True) # get the index of the max log-probability\n",
    "    correct += pred.eq(target.view_as(pred)).sum().item()\n",
    "print('\\nTest set: Average loss: {:.4f}, Accuracy: {}/{} ({:.0f}%)\\n'.format(\n",
    "        test_loss, correct, len(test_loader.dataset),\n",
    "        100. * correct / len(test_loader.dataset)))"
   ]
  }
 ],
 "metadata": {
  "colab": {
   "provenance": []
  },
  "kernelspec": {
   "display_name": "Python 3 (ipykernel)",
   "language": "python",
   "name": "python3"
  },
  "language_info": {
   "codemirror_mode": {
    "name": "ipython",
    "version": 3
   },
   "file_extension": ".py",
   "mimetype": "text/x-python",
   "name": "python",
   "nbconvert_exporter": "python",
   "pygments_lexer": "ipython3",
   "version": "3.12.5"
  }
 },
 "nbformat": 4,
 "nbformat_minor": 4
}

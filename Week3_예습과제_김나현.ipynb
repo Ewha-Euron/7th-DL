{
  "nbformat": 4,
  "nbformat_minor": 0,
  "metadata": {
    "colab": {
      "provenance": []
    },
    "kernelspec": {
      "name": "python3",
      "display_name": "Python 3"
    },
    "language_info": {
      "name": "python"
    }
  },
  "cells": [
    {
      "cell_type": "markdown",
      "source": [
        "## **5장 합성곱 신경망 Ⅰ - Part 1**"
      ],
      "metadata": {
        "id": "vfypV5A321k0"
      }
    },
    {
      "cell_type": "markdown",
      "source": [
        "### 5.2 합성곱 신경망 맛보기"
      ],
      "metadata": {
        "id": "__wFKW993HGk"
      }
    },
    {
      "cell_type": "code",
      "source": [
        "# 예제 진행을 위해 먼저 필요한 라이브러리 호출\n",
        "import numpy as np\n",
        "import matplotlib.pyplot as plt\n",
        "\n",
        "import torch\n",
        "import torch.nn as nn\n",
        "from torch.autograd import Variable\n",
        "import torch.nn.functional as F\n",
        "\n",
        "import torchvision\n",
        "import torchvision.transforms as transforms  # 데이터 전처리를 위해 사용하는 라이브러리\n",
        "from torch.utils.data import Dataset, DataLoader"
      ],
      "metadata": {
        "id": "CmocYoCG218v"
      },
      "execution_count": null,
      "outputs": []
    },
    {
      "cell_type": "code",
      "source": [
        "# CPU 혹은 GPU 장치 확인\n",
        "device = torch.device(\"cuda:0\" if torch.cuda.is_available() else \"cpu\")"
      ],
      "metadata": {
        "id": "IbPWu9ZN7U8y"
      },
      "execution_count": null,
      "outputs": []
    },
    {
      "cell_type": "markdown",
      "source": [
        "일반적으로 하나의 GPU 사용할 때 사용하는 코드\n",
        "\n",
        "```python\n",
        "device = torch.device(\"cuda:0\" if torch.cuda.is_available() else \"cpu\")\n",
        "model = Net()\n",
        "model.to(device)\n",
        "```\n",
        "\n",
        "사용하는 PC에서 다수의 GPU 사용한다면 `nn.DataParallell` 이용한다.\n",
        "\n",
        "```python\n",
        "device = torch.device(\"cuda\" if torch.cuda.is_available() else \"cpu\")\n",
        "model = Net()\n",
        "if torch.cuda.device_count() > 1:\n",
        "\tmodel = nn.DataParallel(net)\n",
        "model.to(device)\n",
        "```\n",
        "\n",
        "nn.DataParallel 사용할 경우 배치 크기(batch size)가 알아서 각 GPU로 분배되는 방식으로 작동한다. 따라서 GPU 수만큼 배치 크기도 늘려 주어야 한다."
      ],
      "metadata": {
        "id": "GitQnBPE9_Hw"
      }
    },
    {
      "cell_type": "code",
      "source": [
        "# google 드라이브 접근\n",
        "from google.colab import drive\n",
        "drive.mount('/content/gdrive/')"
      ],
      "metadata": {
        "colab": {
          "base_uri": "https://localhost:8080/"
        },
        "id": "zgIKHg2D-Umf",
        "outputId": "a33b9733-9fa7-453a-f723-018ec99639bb"
      },
      "execution_count": null,
      "outputs": [
        {
          "output_type": "stream",
          "name": "stdout",
          "text": [
            "Mounted at /content/gdrive/\n"
          ]
        }
      ]
    },
    {
      "cell_type": "code",
      "source": [
        "file_path = \"/content/gdrive/My Drive/Colab Notebooks/DLData\""
      ],
      "metadata": {
        "id": "nK-ioQxr-ru9"
      },
      "execution_count": null,
      "outputs": []
    },
    {
      "cell_type": "code",
      "source": [
        "# fashion_mnist 데이터셋 내려받기 - 토치비전으로 다운로드\n",
        "train_dataset = torchvision.datasets.FashionMNIST(file_path, download=True,\n",
        "                    transform=transforms.Compose([transforms.ToTensor()]))\n",
        "test_dataset = torchvision.datasets.FashionMNIST(file_path, download=True,\n",
        "                    train=False, transform=transforms.Compose([transforms.ToTensor()]))"
      ],
      "metadata": {
        "colab": {
          "base_uri": "https://localhost:8080/"
        },
        "id": "kb20YlQu75nO",
        "outputId": "b4c8f297-7a80-4113-e91c-7063bc533e64"
      },
      "execution_count": null,
      "outputs": [
        {
          "output_type": "stream",
          "name": "stdout",
          "text": [
            "Downloading http://fashion-mnist.s3-website.eu-central-1.amazonaws.com/train-images-idx3-ubyte.gz\n",
            "Downloading http://fashion-mnist.s3-website.eu-central-1.amazonaws.com/train-images-idx3-ubyte.gz to /content/gdrive/My Drive/Colab Notebooks/DLData/FashionMNIST/raw/train-images-idx3-ubyte.gz\n"
          ]
        },
        {
          "output_type": "stream",
          "name": "stderr",
          "text": [
            "100%|██████████| 26421880/26421880 [00:11<00:00, 2226425.97it/s]\n"
          ]
        },
        {
          "output_type": "stream",
          "name": "stdout",
          "text": [
            "Extracting /content/gdrive/My Drive/Colab Notebooks/DLData/FashionMNIST/raw/train-images-idx3-ubyte.gz to /content/gdrive/My Drive/Colab Notebooks/DLData/FashionMNIST/raw\n",
            "\n",
            "Downloading http://fashion-mnist.s3-website.eu-central-1.amazonaws.com/train-labels-idx1-ubyte.gz\n",
            "Downloading http://fashion-mnist.s3-website.eu-central-1.amazonaws.com/train-labels-idx1-ubyte.gz to /content/gdrive/My Drive/Colab Notebooks/DLData/FashionMNIST/raw/train-labels-idx1-ubyte.gz\n"
          ]
        },
        {
          "output_type": "stream",
          "name": "stderr",
          "text": [
            "100%|██████████| 29515/29515 [00:00<00:00, 208899.49it/s]\n"
          ]
        },
        {
          "output_type": "stream",
          "name": "stdout",
          "text": [
            "Extracting /content/gdrive/My Drive/Colab Notebooks/DLData/FashionMNIST/raw/train-labels-idx1-ubyte.gz to /content/gdrive/My Drive/Colab Notebooks/DLData/FashionMNIST/raw\n",
            "\n",
            "Downloading http://fashion-mnist.s3-website.eu-central-1.amazonaws.com/t10k-images-idx3-ubyte.gz\n",
            "Downloading http://fashion-mnist.s3-website.eu-central-1.amazonaws.com/t10k-images-idx3-ubyte.gz to /content/gdrive/My Drive/Colab Notebooks/DLData/FashionMNIST/raw/t10k-images-idx3-ubyte.gz\n"
          ]
        },
        {
          "output_type": "stream",
          "name": "stderr",
          "text": [
            "100%|██████████| 4422102/4422102 [00:01<00:00, 3698584.65it/s]\n"
          ]
        },
        {
          "output_type": "stream",
          "name": "stdout",
          "text": [
            "Extracting /content/gdrive/My Drive/Colab Notebooks/DLData/FashionMNIST/raw/t10k-images-idx3-ubyte.gz to /content/gdrive/My Drive/Colab Notebooks/DLData/FashionMNIST/raw\n",
            "\n",
            "Downloading http://fashion-mnist.s3-website.eu-central-1.amazonaws.com/t10k-labels-idx1-ubyte.gz\n",
            "Downloading http://fashion-mnist.s3-website.eu-central-1.amazonaws.com/t10k-labels-idx1-ubyte.gz to /content/gdrive/My Drive/Colab Notebooks/DLData/FashionMNIST/raw/t10k-labels-idx1-ubyte.gz\n"
          ]
        },
        {
          "output_type": "stream",
          "name": "stderr",
          "text": [
            "100%|██████████| 5148/5148 [00:00<00:00, 3264632.14it/s]\n"
          ]
        },
        {
          "output_type": "stream",
          "name": "stdout",
          "text": [
            "Extracting /content/gdrive/My Drive/Colab Notebooks/DLData/FashionMNIST/raw/t10k-labels-idx1-ubyte.gz to /content/gdrive/My Drive/Colab Notebooks/DLData/FashionMNIST/raw\n",
            "\n"
          ]
        }
      ]
    },
    {
      "cell_type": "markdown",
      "source": [
        "- fashion_mnist 데이터셋 내려받기\n",
        "    - `torchvision.datasets`는 `torch.utils.data.Dataset`의 하위 클래스로 다양한 데이터셋(CIFAR, COCO, MNIST, ImageNet 등)을 포함함. torchvision.datasets에서 사용하는 주요한 파라미터는 다음과 같다.\n",
        "        - `torchvision.datasets.FashionMNIST(file_path, download=True, transform=transforms.Compose([transforms.ToTensor()]))`\n",
        "            - 첫 번째 파라미터 : FashionMNIST를 내려받을 위치를 지정함.\n",
        "            - `download` : `download`를 `True`로 변경해 주면 첫 번째 파라미터의 위치에 해당 데이터셋이 있는지 확인한 후 내려받음.\n",
        "            - `transform` : 이미지를 텐서(0~1)로 변경함."
      ],
      "metadata": {
        "id": "MsMEfxpcDLMi"
      }
    },
    {
      "cell_type": "code",
      "source": [
        "# fashion_mnist 데이터를 데이터로더에 전달\n",
        "train_loader = torch.utils.data.DataLoader(train_dataset,\n",
        "                                           batch_size=100)\n",
        "test_loader = torch.utils.data.DataLoader(test_dataset,\n",
        "                                          batch_size=100)"
      ],
      "metadata": {
        "id": "mUeOuZkKBgyy"
      },
      "execution_count": null,
      "outputs": []
    },
    {
      "cell_type": "markdown",
      "source": [
        "- `torch.utils.data.DataLoader()`를 사용하여 원하는 크기의 배치 단위로 데이터를 불러오거나, 순서가 무작위로 섞이도록(shuffle) 할 수 있음. 데이터로더에서 사용하는 파라미터는 다음과 같다.\n",
        "    - `torch.utils.data.DataLoader(train_dataset, batch_size=100)`\n",
        "        - 첫 번째 파라미터 : 데이터를 불러올 데이터셋을 지정함.\n",
        "        - `batch_size` : 데이터를 배치로 묶어 줌. 여기에서는 `batch_size=100`으로 지정했기 때문에 100개 단위로 데이터를 묶어서 불러옴."
      ],
      "metadata": {
        "id": "xIfq8rxqDo9_"
      }
    },
    {
      "cell_type": "code",
      "source": [
        "# 분류에 사용될 클래스 정의\n",
        "\n",
        "labels_map = {0 : 'T-Shirt', 1 : 'Trouser', 2 : 'Pullover', 3 : 'Dress', 4 : 'Coat',\n",
        "              5 : 'Sandal', 6 : 'Shirt', 7 : 'Sneaker', 8 : 'Bag', 9 : ' Ankel Boot'}\n",
        "              # 열 개의 클래스\n",
        "\n",
        "fig = plt.figure(figsize=(8,8));  # 출력할 이미지의 가로세로 길이로 단위는 inch\n",
        "columns = 4;\n",
        "rows = 5;\n",
        "for i in range(1, columns*rows + 1):\n",
        "    img_xy = np.random.randint(len(train_dataset));  # 1\n",
        "    img = train_dataset[img_xy][0][0,:,:]    # 2\n",
        "    fig.add_subplot(rows, columns, i)\n",
        "    plt.title(labels_map[train_dataset[img_xy][1]])\n",
        "    plt.axis('off')\n",
        "    plt.imshow(img, cmap='gray')\n",
        "plt.show()  # 20개의 이미지 데이터를 시각적으로 표현"
      ],
      "metadata": {
        "colab": {
          "base_uri": "https://localhost:8080/",
          "height": 675
        },
        "id": "MfdxSOanK4Y-",
        "outputId": "f23bd401-36f6-4b47-d639-6dab7f8f9545"
      },
      "execution_count": null,
      "outputs": [
        {
          "output_type": "display_data",
          "data": {
            "text/plain": [
              "<Figure size 800x800 with 20 Axes>"
            ],
            "image/png": "[encoded data removed]"
          },
          "metadata": {}
        }
      ]
    },
    {
      "cell_type": "markdown",
      "source": [
        "- 분류에 사용될 클래스 정의\n",
        "1. np.random은 무작위로 데이터를 생성할 때 사용함. 또한, np.random.randint()는 이산형분포를 갖는 데이터에서 무작위 표본을 추출할 때 사용함. 따라서, random.randint(len(train_dataset)) 의미는 0~(train_dataset의 길이) 값을 갖는 분포에서 랜덤한 숫자 한 개를 생성하라는 의미.\n",
        "\n"
      ],
      "metadata": {
        "id": "nETbEtfUNakU"
      }
    },
    {
      "cell_type": "code",
      "source": [
        "import numpy as np\n",
        "np.random.randint(10)   # 0~10의 임의의 숫자 출력"
      ],
      "metadata": {
        "colab": {
          "base_uri": "https://localhost:8080/"
        },
        "id": "M0aDpOVzO5xp",
        "outputId": "bfc30f33-fadd-4189-eb36-e1f723f67b94"
      },
      "execution_count": null,
      "outputs": [
        {
          "output_type": "execute_result",
          "data": {
            "text/plain": [
              "1"
            ]
          },
          "metadata": {},
          "execution_count": 17
        }
      ]
    },
    {
      "cell_type": "code",
      "source": [
        "np.random.randint(1, 10)  # 1~9의 임의의 숫자 출력"
      ],
      "metadata": {
        "colab": {
          "base_uri": "https://localhost:8080/"
        },
        "id": "2G0O_LGHPBFo",
        "outputId": "cf70470e-bb92-4b60-88a5-f9281e04f807"
      },
      "execution_count": null,
      "outputs": [
        {
          "output_type": "execute_result",
          "data": {
            "text/plain": [
              "1"
            ]
          },
          "metadata": {},
          "execution_count": 18
        }
      ]
    },
    {
      "cell_type": "code",
      "source": [
        "np.random.rand(8)   # 0~1 사이의 정규표준분포 난수를 행렬로 (1x8) 출력"
      ],
      "metadata": {
        "colab": {
          "base_uri": "https://localhost:8080/"
        },
        "id": "Xypsp6yTPBA2",
        "outputId": "44b7070d-8fb3-4b52-f1bc-685c8caaaf5e"
      },
      "execution_count": null,
      "outputs": [
        {
          "output_type": "execute_result",
          "data": {
            "text/plain": [
              "array([0.05639381, 0.07600295, 0.34239702, 0.9702523 , 0.79199797,\n",
              "       0.2514856 , 0.54702788, 0.09483049])"
            ]
          },
          "metadata": {},
          "execution_count": 19
        }
      ]
    },
    {
      "cell_type": "code",
      "source": [
        "np.random.rand(4,2) # 0~1 사이의 정규표준분포 난수를 행렬로 (4x2) 출력"
      ],
      "metadata": {
        "colab": {
          "base_uri": "https://localhost:8080/"
        },
        "id": "7tnZJHdePA-L",
        "outputId": "fc26134d-895f-48c0-97d4-06afc195c07e"
      },
      "execution_count": null,
      "outputs": [
        {
          "output_type": "execute_result",
          "data": {
            "text/plain": [
              "array([[0.35844102, 0.53355576],\n",
              "       [0.77988406, 0.66972546],\n",
              "       [0.02581728, 0.9162391 ],\n",
              "       [0.68924127, 0.12675577]])"
            ]
          },
          "metadata": {},
          "execution_count": 20
        }
      ]
    },
    {
      "cell_type": "code",
      "source": [
        "np.random.randn(8)  # 평균이 0, 표준편차가 1인 가우시안 정규분포 난수를 행렬로 (1x8) 출력"
      ],
      "metadata": {
        "colab": {
          "base_uri": "https://localhost:8080/"
        },
        "id": "cFA7V_UuPOil",
        "outputId": "75f68be4-f87a-454b-d02f-d0dc81d40541"
      },
      "execution_count": null,
      "outputs": [
        {
          "output_type": "execute_result",
          "data": {
            "text/plain": [
              "array([-0.61145638, -0.68840908,  0.02782313,  1.76315853,  2.89875225,\n",
              "       -1.29642479,  0.16934627,  0.12456569])"
            ]
          },
          "metadata": {},
          "execution_count": 21
        }
      ]
    },
    {
      "cell_type": "code",
      "source": [
        "np.random.randn(4,2) # 평균이 0, 표준편차가 1인 가우시안 정규분포 난수를 행렬로 (4x2) 출력"
      ],
      "metadata": {
        "colab": {
          "base_uri": "https://localhost:8080/"
        },
        "id": "7u_LIQoCPVSy",
        "outputId": "a0b29915-88fc-4ff2-ea78-a10f6f82f7ff"
      },
      "execution_count": null,
      "outputs": [
        {
          "output_type": "execute_result",
          "data": {
            "text/plain": [
              "array([[ 1.41926232, -0.79147623],\n",
              "       [-1.48313733, -0.25834506],\n",
              "       [ 0.78473483,  1.28084557],\n",
              "       [-0.17477448,  0.36392679]])"
            ]
          },
          "metadata": {},
          "execution_count": 22
        }
      ]
    },
    {
      "cell_type": "markdown",
      "source": [
        "2. train_dataset을 이용한 3차원 배열을 생성함.\n",
        "    - 배열에 대한 사용 예시"
      ],
      "metadata": {
        "id": "Yokvatu8Oxk7"
      }
    },
    {
      "cell_type": "code",
      "source": [
        "import numpy as np\n",
        "examp = np.arange(0, 100, 3)  # 1~99의 숫자에서 3씩 건너뛴 행렬을 생성\n",
        "examp.resize(6,4) # 행렬의 크기를 6x4로 조정\n",
        "examp"
      ],
      "metadata": {
        "colab": {
          "base_uri": "https://localhost:8080/"
        },
        "id": "3BpIh3SYLTX5",
        "outputId": "1a885002-9104-452e-d9b9-276386601bd8"
      },
      "execution_count": null,
      "outputs": [
        {
          "output_type": "execute_result",
          "data": {
            "text/plain": [
              "array([[ 0,  3,  6,  9],\n",
              "       [12, 15, 18, 21],\n",
              "       [24, 27, 30, 33],\n",
              "       [36, 39, 42, 45],\n",
              "       [48, 51, 54, 57],\n",
              "       [60, 63, 66, 69]])"
            ]
          },
          "metadata": {},
          "execution_count": 13
        }
      ]
    },
    {
      "cell_type": "code",
      "source": [
        "examp[3]  # 3행에 해당하는 모든 요소 출력"
      ],
      "metadata": {
        "colab": {
          "base_uri": "https://localhost:8080/"
        },
        "id": "q-GrFhoSNl74",
        "outputId": "25d5863a-3446-4d7d-90c8-f1a0e7218713"
      },
      "execution_count": null,
      "outputs": [
        {
          "output_type": "execute_result",
          "data": {
            "text/plain": [
              "array([36, 39, 42, 45])"
            ]
          },
          "metadata": {},
          "execution_count": 14
        }
      ]
    },
    {
      "cell_type": "code",
      "source": [
        "examp[3,3]  # 3행 3번째 열에 대한 값 출력"
      ],
      "metadata": {
        "colab": {
          "base_uri": "https://localhost:8080/"
        },
        "id": "whqCgLmmNqNx",
        "outputId": "699ca841-3932-4d37-fa41-62b00752b06f"
      },
      "execution_count": null,
      "outputs": [
        {
          "output_type": "execute_result",
          "data": {
            "text/plain": [
              "45"
            ]
          },
          "metadata": {},
          "execution_count": 15
        }
      ]
    },
    {
      "cell_type": "code",
      "source": [
        "examp[3][3]  # 3행의 3번째 열에 대한 값을 출력(앞 결과에 동일)"
      ],
      "metadata": {
        "colab": {
          "base_uri": "https://localhost:8080/"
        },
        "id": "xupXIwgKNrpB",
        "outputId": "020a0486-8b07-460d-ca8c-c38af3c5b3c5"
      },
      "execution_count": null,
      "outputs": [
        {
          "output_type": "execute_result",
          "data": {
            "text/plain": [
              "45"
            ]
          },
          "metadata": {},
          "execution_count": 16
        }
      ]
    },
    {
      "cell_type": "code",
      "source": [
        "# train_dataset[img_xy][0][0,:,:] 의미 유추해보기\n",
        "examp = np.arange(0, 500, 3)\n",
        "examp.resize(3, 3, 5)\n",
        "examp"
      ],
      "metadata": {
        "colab": {
          "base_uri": "https://localhost:8080/"
        },
        "id": "GN_9OVdeNuIC",
        "outputId": "5643cda8-6fad-492a-b822-e460ae06fc62"
      },
      "execution_count": null,
      "outputs": [
        {
          "output_type": "execute_result",
          "data": {
            "text/plain": [
              "array([[[  0,   3,   6,   9,  12],\n",
              "        [ 15,  18,  21,  24,  27],\n",
              "        [ 30,  33,  36,  39,  42]],\n",
              "\n",
              "       [[ 45,  48,  51,  54,  57],\n",
              "        [ 60,  63,  66,  69,  72],\n",
              "        [ 75,  78,  81,  84,  87]],\n",
              "\n",
              "       [[ 90,  93,  96,  99, 102],\n",
              "        [105, 108, 111, 114, 117],\n",
              "        [120, 123, 126, 129, 132]]])"
            ]
          },
          "metadata": {},
          "execution_count": 23
        }
      ]
    },
    {
      "cell_type": "code",
      "source": [
        "examp[2][0][3]"
      ],
      "metadata": {
        "colab": {
          "base_uri": "https://localhost:8080/"
        },
        "id": "hqAKa9j0VZ8H",
        "outputId": "b0bcfa2a-453c-49ba-b7cf-d60c6a189ce3"
      },
      "execution_count": null,
      "outputs": [
        {
          "output_type": "execute_result",
          "data": {
            "text/plain": [
              "99"
            ]
          },
          "metadata": {},
          "execution_count": 24
        }
      ]
    },
    {
      "cell_type": "code",
      "source": [
        "# 심층 신경망 모델 생성\n",
        "class FashionDNN(nn.Module):\n",
        "    def __init__(self):   # 1\n",
        "        super(FashionDNN, self).__init__()\n",
        "        self.fc1 = nn.Linear(in_features=784, out_features=256)  # 2\n",
        "        self.drop = nn.Dropout(0.25)   # 3\n",
        "        self.fc2 = nn.Linear(in_features=256, out_features=128)\n",
        "        self.fc3 = nn.Linear(in_features=128, out_features=10)\n",
        "\n",
        "    def forward(self, input_data):   # 4\n",
        "        out = input_data.view(-1, 784)   # 5\n",
        "        out = F.relu(self.fc1(out))  # 6\n",
        "        out = self.drop(out)\n",
        "        out = F.relu(self.fc2(out))\n",
        "        out = self.fc3(out)\n",
        "        return out"
      ],
      "metadata": {
        "id": "PIkKj0CNVdSe"
      },
      "execution_count": null,
      "outputs": []
    },
    {
      "cell_type": "markdown",
      "source": [
        "1. 클래스(class) 형태의 모델은 항상 `torch.nn.Module` 상속받음. `__init__()`은 객체가 갖는 속성 값을 초기화하는 역할을 하며, 객체가 생성될 때 자동으로 호출됨. `super(FashionDNN, self).__init__()`은 FashionDNN이라는 부모(super) 클래스를 상속받겠다는 의미.\n",
        "2. `nn`은 딥러닝 모델(네트워크) 구성에 필요한 모듈이 모여 있는 패키지, `Linear`는 단순 선형 회귀 모델을 만들 때 사용함. 이때 사용하는 파라미터는 다음과 같다.\n",
        "    \n",
        "    `nn.Linear(in_features=784, out_features=256)`\n",
        "    \n",
        "    1. in_features : 입력의 크기(input size)\n",
        "    2. out_features : 출력의 크기(output size)\n",
        "    \n",
        "    실제로 데이터 연산이 진행되는 `forward()` 부분에는 첫 번째 파라미터 값만 넘겨주게 되며, 두 번째 파라미터에서 정의된 크기가 `forward()` 연산의 결과가 됨.\n",
        "    \n",
        "3. `torch.nn.Dropout(p)`는 p만큼의 비율로 텐서의 값이 0이 되고, 0이 되지 않는 값들은 기존 값에 (1/(1-p))만큼 곱해져 커짐. 예를 들어 p=0.3이라는 의미는 전체 값 중 0.3의 확률로 0이 된다는 것, 0이 되지 않는 0.7에 해당하는 값은 (1/(1-0.7))만큼 커짐.\n",
        "4. `forward()` 함수는 모델이 학습 데이터를 입력받아서 순전파 학습을 진행시키며, 반드시 forward라는 이름의 함수여야 함. 객체를 데이터와 함께 호출하면 자동으로 실행됨. 이때 순전파 연산이란 $H(x)$ 식에 입력 $x$로부터 예측된 $y$를 얻는 것.\n",
        "5. 파이토치에서 사용하는 뷰(view) - 넘파이의 reshape과 같은 역할. 텐서의 크기(shape)를 변경해 주는 역할. 따라서 `input_data.view(-1, 784)`는 input_data를 `(?, 784)`의 크기로 변경하라는 의미. 첫 번째 차원(-1)은 사용자가 잘 모르겠으니 파이토치에 맡기겠다는 의미, 두 번째 차원의 길이는 784를 가지도록 하라는 의미.\n",
        "6. 활성화 함수 지정하는 2가지 방법\n",
        "    1. `F.relu()` : `forward()` 함수에서 정의\n",
        "    2. `nn.ReLU()` : `__init__()` 함수에서 정의\n",
        "    \n",
        "    이 둘 간의 차이는 간단히 사용하는 위치라고 할 수 있음. 하지만 근본적으로는 `nn.functional.xx()`(혹은 `F.xx()`)와 `nn.xx()`는 사용 방법에 차이가 있음."
      ],
      "metadata": {
        "id": "GTT53dpOcIC-"
      }
    },
    {
      "cell_type": "markdown",
      "source": [
        "- nn 사용하는 코드\n",
        "    ```\n",
        "    import torch\n",
        "    import torch.nn as nn\n",
        "\n",
        "    inputs = torch.randn(64, 3, 244, 244)\n",
        "    conv = nn.Conv2d(in_channels=3, out_channels=64, kernel_size=3, padding=1)\n",
        "    outputs = conv(inputs)\n",
        "    layer = nn.Conv2d(1, 1, 3)\n",
        "    ```\n",
        "\n"
      ],
      "metadata": {
        "id": "-PHrY1qfdxWo"
      }
    },
    {
      "cell_type": "markdown",
      "source": [
        "- nn.functional 사용하는 코드\n",
        "    - 입력과 가중치 자체를 직접 넣어 줌.\n",
        "    ```\n",
        "    import torch.nn.functional as F\n",
        "\n",
        "    inputs = torch.randn(64, 3, 244, 244)\n",
        "    weight = torch.randn(64, 3, 3, 3)\n",
        "    bias = torch.randn(64)\n",
        "    outputs = F.conv2d(inputs, weight, bias, padding=1)\n",
        "    ```\n"
      ],
      "metadata": {
        "id": "qLr_u08ZeRLo"
      }
    },
    {
      "cell_type": "code",
      "source": [
        "# 심층 신경망에서 필요한 파라미터 정의\n",
        "learning_rate = 0.001 ;\n",
        "model = FashionDNN();\n",
        "model.to(device)\n",
        "\n",
        "criterion = nn.CrossEntropyLoss()  # 분류 문제에서 사용하는 손실 함수\n",
        "optimizer = torch.optim.Adam(model.parameters(), lr=learning_rate);  # 1\n",
        "print(model)"
      ],
      "metadata": {
        "colab": {
          "base_uri": "https://localhost:8080/"
        },
        "id": "vlEuqpryX74w",
        "outputId": "f6afa4aa-6cfb-4440-f6ba-4254814de63b"
      },
      "execution_count": null,
      "outputs": [
        {
          "output_type": "stream",
          "name": "stdout",
          "text": [
            "FashionDNN(\n",
            "  (fc1): Linear(in_features=784, out_features=256, bias=True)\n",
            "  (drop): Dropout(p=0.25, inplace=False)\n",
            "  (fc2): Linear(in_features=256, out_features=128, bias=True)\n",
            "  (fc3): Linear(in_features=128, out_features=10, bias=True)\n",
            ")\n"
          ]
        }
      ]
    },
    {
      "cell_type": "markdown",
      "source": [
        "1. 옵티마이저를 위한 경사 하강법은 Adam을 사용하며, 학습률을 의미하는 lr은 0.001을 사용한다는 의미."
      ],
      "metadata": {
        "id": "AFq6cdA8ffIB"
      }
    },
    {
      "cell_type": "code",
      "source": [
        "# 심층 신경망을 이용한 모델 학습\n",
        "num_epochs = 5\n",
        "count = 0\n",
        "loss_list = []   # 1\n",
        "iteration_list = []\n",
        "accuracy_list = []\n",
        "\n",
        "prediction_list = []\n",
        "labels_list = []\n",
        "\n",
        "for epoch in range(num_epochs):\n",
        "    for images, labels in train_loader:  # 2\n",
        "        images, labels = images.to(device), labels.to(device)   # 3\n",
        "\n",
        "        train = Variable(images.view(100, 1, 28, 28))  # 4\n",
        "        labels = Variable(labels)\n",
        "\n",
        "        outputs = model(train)  # 학습 데이터를 모델에 적용\n",
        "        loss = criterion(outputs, labels)\n",
        "        optimizer.zero_grad()\n",
        "        loss.backward()\n",
        "        optimizer.step()\n",
        "        count += 1\n",
        "\n",
        "        if not (count % 50):  # count를 50으로 나누었을 때 나머지가 0이 아니라면 실행\n",
        "            total = 0\n",
        "            correct = 0\n",
        "            for images, labels in test_loader:\n",
        "                images, labels = images.to(device), labels.to(device)\n",
        "                labels_list.append(labels)\n",
        "                test = Variable(images.view(100, 1, 28, 28))\n",
        "                outputs = model(test)\n",
        "                predictions = torch.max(outputs, 1)[1].to(device)\n",
        "                prediction_list.append(predictions)\n",
        "                correct += (predictions == labels).sum()\n",
        "                total += len(labels)\n",
        "\n",
        "            accuracy = correct * 100 / total  # 5\n",
        "            loss_list.append(loss.data)  # 1'\n",
        "            iteration_list.append(count)\n",
        "            accuracy_list.append(accuracy)\n",
        "\n",
        "        if not (count % 500):\n",
        "            print(\"Iteration: {}, Loss: {}, Accuracy: {}%\".format(count, loss.data,\n",
        "                                                                  accuracy))"
      ],
      "metadata": {
        "colab": {
          "base_uri": "https://localhost:8080/"
        },
        "id": "xLBQVn8XexMZ",
        "outputId": "76c51c03-0b45-41ae-bc9d-21f8bf845655"
      },
      "execution_count": null,
      "outputs": [
        {
          "output_type": "stream",
          "name": "stdout",
          "text": [
            "Iteration: 500, Loss: 0.5680888891220093, Accuracy: 83.5%\n",
            "Iteration: 1000, Loss: 0.4745977818965912, Accuracy: 84.4000015258789%\n",
            "Iteration: 1500, Loss: 0.36127376556396484, Accuracy: 84.4000015258789%\n",
            "Iteration: 2000, Loss: 0.37064266204833984, Accuracy: 85.58000183105469%\n",
            "Iteration: 2500, Loss: 0.23095816373825073, Accuracy: 85.86000061035156%\n",
            "Iteration: 3000, Loss: 0.27180230617523193, Accuracy: 86.62000274658203%\n"
          ]
        }
      ]
    },
    {
      "cell_type": "markdown",
      "source": [
        "1. 1’. 일반적으로 배열이나 행렬과 같은 리스트(list)를 사용하는 방법은 다음과 같다.\n",
        "    1. 1과 같이 비어 있는 배열이나 행렬을 만듦.\n",
        "    2. 1’처럼 `append` 메서드를 이용하여 데이터를 하나씩 추가함.\n",
        "2. for 구문을 이용하여 레코드(행, 가로줄)를 하나씩 가져옴. 이때 `for x, y in train:` 과 같이 in 앞에 변수 두 개 지정해 주면 레코드에서 요소 두 개를 꺼내 오겠다는 의미.\n",
        "3. 모델이 데이터를 처리하기 위해서는 모델과 데이터가 동일한 장치(CPU, GPU)에 있어야 함. model.to(device)가 GPU 사용했다면, images.to(device), labels.to(device)도 GPU에서 처리되어야 함. 참고로 CPU에서 처리된 데이터를 GPU 모델에 적용하거나 그 반대의 경우 런타임 오류 발생함.\n",
        "4. Autograd는 자동 미분을 수행하는 파이토치의 핵심 패키지로, 자동 미분에 대한 값을 저장하기 위해 테이프(tape)를 사용함. 순전파 단계에서 테이프는 수행하는 모든 연산을 저장함. 그리고 역전파 단계에서 저장된 값들을 꺼내서 사용함. 즉, Autograd는 Variable을 사용해서 역전파를 위한 미분 값을 자동으로 계산해 줌. 따라서 자동 미분을 계산하기 위해서는 `torch.autograd` 패키지 안에 있는 `Variable` 이용해야 동작함.\n",
        "5. 분류 문제에 대한 정확도는 전체 예측에 대한 정확한 예측의 비율로 표현할 수 있음.\n",
        "    \n",
        "    `classificationi accuracy = correct predictions / total predictions`\n",
        "    \n",
        "    이때 결과에 100을 곱하여 백분율로 표시하는 코드\n",
        "    \n",
        "    `classification accuracy = correct predictions / total predictions * 100`\n",
        "    \n",
        "    또한, 분류 문제에 대한 정확도는 다음과 같이 값을 반전시켜 오분류율 또는 오류율로 표현할 수 있음.\n",
        "    \n",
        "    `error rate = (1 - (correct predictions / total predictions)) * 100`\n",
        "    \n",
        "    분류 문제에서 클래스가 3개 이상일 때 다음과 같은 사항에 주의하자.\n",
        "    \n",
        "    - 정확도가 80% 이상이었다고 하자. 하지만 80%라는 값이 모든 클래스가 동등하게 고려된 것인지, 특정 클래스의 분류가 높았던 것인지에 대해 알 수 없음에 유의해야 함.\n",
        "    - 정확도가 90% 이상이었다고 하자. 하지만 100개의 데이터 중 90개가 하나의 클래스에 속할 경우 90%의 정확도는 높다고 할 수 없음. 즉, 모든 데이터를 특정 클래스에 속한다고 예측해도 90%의 예측 결과가 나오기 때문에 데이터 특성에 따라 정확도를 잘 관측해야 함."
      ],
      "metadata": {
        "id": "HqUeXhG-hBLT"
      }
    },
    {
      "cell_type": "code",
      "source": [
        "# 합성곱 네트워크 생성\n",
        "class FashionCNN(nn.Module):\n",
        "    def __init__(self):\n",
        "        super(FashionCNN, self).__init__()\n",
        "        self.layer1 = nn.Sequential(   # 1\n",
        "            nn.Conv2d(in_channels=1, out_channels=32, kernel_size=3, padding=1), # 2\n",
        "            nn.BatchNorm2d(32),  # 3\n",
        "            nn.ReLU(),\n",
        "            nn.MaxPool2d(kernel_size=2, stride=2)  # 4\n",
        "        )\n",
        "        self.layer2 = nn.Sequential(\n",
        "            nn.Conv2d(in_channels=32, out_channels=64, kernel_size=3),\n",
        "            nn.BatchNorm2d(64),\n",
        "            nn.ReLU(),\n",
        "            nn.MaxPool2d(2)\n",
        "        )\n",
        "        self.fc1 = nn.Linear(in_features=64*6*6, out_features=600)  # 5\n",
        "        self.drop = nn.Dropout2d(0.25)\n",
        "        self.fc2 = nn.Linear(in_features=600, out_features=120)\n",
        "        self.fc3 = nn.Linear(in_features=120, out_features=10)\n",
        "        # 마지막 계층의 out_features 클래스 개수 의미\n",
        "\n",
        "    def forward(self, x):\n",
        "        out = self.layer1(x)\n",
        "        out = self.layer2(out)\n",
        "        out = out.view(out.size(0), -1)  # 6\n",
        "        out = self.fc1(out)\n",
        "        out = self.drop(out)\n",
        "        out = self.fc2(out)\n",
        "        out = self.fc3(out)\n",
        "        return out"
      ],
      "metadata": {
        "id": "yf9D9chbg9WC"
      },
      "execution_count": null,
      "outputs": []
    },
    {
      "cell_type": "markdown",
      "source": [
        "1. `nn.Sequential`을 사용하면 `__init__()` 에서 사용할 네트워크 모델들을 정의해 줄 뿐만 아니라, forward() 함수에서 구현될 순전파를 계층(layer) 형태로 조금 더 가독성 뛰어난 코드로 작성할 수 있음. 즉, `nn.Sequential` 은 계층을 차례로 쌓을 수 있도록 $Wx+b$와 같은 수식과 활성화 함수를 연결해 주는 역할. 특히 데이터가 각 계층을 순차적으로 지나갈 때 사용하면 좋은 방법.\n",
        "2. 합성곱층(conv layer)은 합성곱 연산을 통해서 이미지의 특성을 추출함. 합성곱이란 커널(또는 필터)이라는 n x m 크기의 행렬이 높이 x 너비 크기의 이미지를 처음부터 끝까지 훑으면서 각 원소 값끼리 곱한 후 모두 더한 값을 출력함. 커널을 일반적으로 3x3이나 5x5를 사용하며 사용하는 파라미터는 다음과 같다.\n",
        "    \n",
        "    `nn.Conv2d(in_channels=1, out_channels=32, kernel_size=3, padding=1)`\n",
        "    \n",
        "    1. `in_channels` : 입력 채널 수. 흑백 이미지는 1, RGB 값을 가진 이미지는 3을 가진 경우가 많음. (채널이란? 2차원은 행렬, 3차원으로 생각하면 채널은 결국 깊이(depth)를 의미함.)\n",
        "    2. `out_channels` : 출력 채널의 수.\n",
        "    3. `kernel_size` : 커널 크기를 의미. 논문에 따라 필터라고도 함. 이미지 특징을 찾아내기 위한 공용 파라미터, CNN에서 학습 대상은 필터 파라미터가 됨. 입력 데이터를 스트라이드 간격으로 순회하면서 합성곱을 계산함.\n",
        "    4. `padding` : 패딩 크기를 의미. 출력 크기를 조정하기 위해 입력 데이터 주위에 0을 채움. 패딩 값이 클수록 출력 크기도 커짐.\n",
        "3. `BatchNorm2d`는 학습 과정에서 각 배치 단위별로 데이터가 다양한 분포를 가지더라도 평균과 분산을 이용하여 정규화하는 것. 배치 단위나 계층에 따라 입력 값의 분포가 모두 다르지만 정규화를 통해 분포를 가우시안 형태로 만듦. 그러면 평균은 0, 표준편차는 1로 데이터의 분포가 조정됨.\n",
        "    \n",
        "4. MaxPool2d는 이미지 크기를 축소시키는 용도로 사용함. 풀링 계층은 합성곱층의 출력 데이터를 입력으로 받아서 출력 데이터(activation map)의 크기를 줄이거나 특정 데이터를 강조하는 용도. 풀링 계층을 처리하는 방법으로는 최대 풀링과 평균 풀링, 최소 풀링이 있으며, 이때 사용하는 파라미터는 다음과 같다.\n",
        "    \n",
        "    `nn.MaxPool2d(kernel_size=2, stride=2)`\n",
        "    \n",
        "    1. `kernel_size` : m x n 행렬로 구성된 가중치\n",
        "    2. `stride` : 입력 데이터에 커널(필터) 적용할 때 이동할 간격. 스트라이드 값이 커지면 출력 크기는 작아짐.\n",
        "5. 클래스를 분류하기 위해서는 이미지 형태의 데이터를 배열 형태로 변환하여 작업해야 함. 이때 Conv2d에서 사용하는 하이퍼파라미터 값들에 따라 출력 크기(output size)가 달라짐. 즉, 패딩과 스트라이드 값에 따라 출력 크기가 달라짐. 이렇게 줄어든 출력 크기는 최종적으로 분류를 담당하는 완전연결층으로 전달됨.\n",
        "    \n",
        "    `nn.Linear(in_features=64*6*6, out_features=600)`\n",
        "    \n",
        "    1. `in_features` : 입력 데이터의 크기. 중요한 것은 이전까지 수행했던 Conv2d, MaxPool2d는 이미지 데이터를 입력으로 받아 처리. 하지만 그 출력 결과를 완전연결층으로 보내기 위해서는 1차원으로 변경해주어야 함.\n",
        "    2. `out_features` : 출력 데이터의 크기.\n",
        "\n",
        "6. 합성곱층에서 완전연결층으로 변경되기 때문에 데이터 형태를 1차원으로 바꾸어 줌.\n",
        "    \n",
        "    이때 `out.size(0)`은 결국 100을 의미. 따라서 (100, ?) 크기의 텐서로 변경하겠다는 의미."
      ],
      "metadata": {
        "id": "TKxzhu0phx7I"
      }
    },
    {
      "cell_type": "code",
      "source": [
        "# 합성곱 네트워크를 위한 파라미터 정의\n",
        "learning_rate = 0.001;\n",
        "model = FashionCNN();\n",
        "model.to(device)\n",
        "\n",
        "criterion = nn.CrossEntropyLoss();\n",
        "optimizer = torch.optim.Adam(model.parameters(), lr=learning_rate);\n",
        "print(model)"
      ],
      "metadata": {
        "colab": {
          "base_uri": "https://localhost:8080/"
        },
        "id": "gvSG625FhHCG",
        "outputId": "dc4685a4-9478-4ed3-d9ee-1437719099dc"
      },
      "execution_count": null,
      "outputs": [
        {
          "output_type": "stream",
          "name": "stdout",
          "text": [
            "FashionCNN(\n",
            "  (layer1): Sequential(\n",
            "    (0): Conv2d(1, 32, kernel_size=(3, 3), stride=(1, 1), padding=(1, 1))\n",
            "    (1): BatchNorm2d(32, eps=1e-05, momentum=0.1, affine=True, track_running_stats=True)\n",
            "    (2): ReLU()\n",
            "    (3): MaxPool2d(kernel_size=2, stride=2, padding=0, dilation=1, ceil_mode=False)\n",
            "  )\n",
            "  (layer2): Sequential(\n",
            "    (0): Conv2d(32, 64, kernel_size=(3, 3), stride=(1, 1))\n",
            "    (1): BatchNorm2d(64, eps=1e-05, momentum=0.1, affine=True, track_running_stats=True)\n",
            "    (2): ReLU()\n",
            "    (3): MaxPool2d(kernel_size=2, stride=2, padding=0, dilation=1, ceil_mode=False)\n",
            "  )\n",
            "  (fc1): Linear(in_features=2304, out_features=600, bias=True)\n",
            "  (drop): Dropout2d(p=0.25, inplace=False)\n",
            "  (fc2): Linear(in_features=600, out_features=120, bias=True)\n",
            "  (fc3): Linear(in_features=120, out_features=10, bias=True)\n",
            ")\n"
          ]
        }
      ]
    },
    {
      "cell_type": "code",
      "source": [
        "# 모델 학습 및 성능 평가\n",
        "num_epochs = 5\n",
        "count = 0\n",
        "loss_list = []\n",
        "iteration_list = []\n",
        "accuracy_list = []\n",
        "\n",
        "predictions_list = []\n",
        "labels_list = []\n",
        "\n",
        "for epoch in range(num_epochs):\n",
        "    for images, labels in train_loader:\n",
        "        images, labels = images.to(device), labels.to(device)\n",
        "\n",
        "        train = Variable(images.view(100, 1, 28, 28))\n",
        "        labels = Variable(labels)\n",
        "\n",
        "        outputs = model(train)\n",
        "        loss = criterion(outputs, labels)\n",
        "        optimizer.zero_grad()\n",
        "        loss.backward()\n",
        "        optimizer.step()\n",
        "        count += 1\n",
        "\n",
        "        if not (count % 50):\n",
        "            total = 0\n",
        "            correct = 0\n",
        "            for images, labels in test_loader:\n",
        "                images, labels = images.to(device), labels.to(device)\n",
        "                labels_list.append(labels)\n",
        "                test = Variable(images.view(100, 1, 28, 28))\n",
        "                outputs = model(test)\n",
        "                predictions = torch.max(outputs, 1)[1].to(device)\n",
        "                predictions_list.append(predictions)\n",
        "                correct += (predictions == labels).sum()\n",
        "                total += len(labels)\n",
        "\n",
        "            accuracy = correct * 100 / total\n",
        "            loss_list.append(loss.data)\n",
        "            iteration_list.append(count)\n",
        "            accuracy_list.append(accuracy)\n",
        "\n",
        "        if not (count % 500):\n",
        "            print(\"Iteration: {}, Loss: {}, Accuracy: {}%\".format(count, loss.data,\n",
        "                                                                  accuracy))"
      ],
      "metadata": {
        "colab": {
          "base_uri": "https://localhost:8080/"
        },
        "id": "iaFTB3Fmh-ji",
        "outputId": "c7d3c6b2-e64e-4ead-90a8-2a9c6cdeea05"
      },
      "execution_count": null,
      "outputs": [
        {
          "output_type": "stream",
          "name": "stderr",
          "text": [
            "/usr/local/lib/python3.10/dist-packages/torch/nn/functional.py:1374: UserWarning: dropout2d: Received a 2-D input to dropout2d, which is deprecated and will result in an error in a future release. To retain the behavior and silence this warning, please use dropout instead. Note that dropout2d exists to provide channel-wise dropout on inputs with 2 spatial dimensions, a channel dimension, and an optional batch dimension (i.e. 3D or 4D inputs).\n",
            "  warnings.warn(warn_msg)\n"
          ]
        },
        {
          "output_type": "stream",
          "name": "stdout",
          "text": [
            "Iteration: 500, Loss: 0.4088139235973358, Accuracy: 88.04000091552734%\n",
            "Iteration: 1000, Loss: 0.3328262269496918, Accuracy: 87.66999816894531%\n",
            "Iteration: 1500, Loss: 0.32969874143600464, Accuracy: 86.88999938964844%\n",
            "Iteration: 2000, Loss: 0.1952207386493683, Accuracy: 89.81999969482422%\n",
            "Iteration: 2500, Loss: 0.15382444858551025, Accuracy: 89.87999725341797%\n",
            "Iteration: 3000, Loss: 0.19113150238990784, Accuracy: 90.44999694824219%\n"
          ]
        }
      ]
    },
    {
      "cell_type": "markdown",
      "source": [
        "- 심층 신경망과 비교하여 정확도가 약간 높음.\n",
        "- 심층 신경망과 별 차이가 없기 때문에 좀 더 간편한 심층 신경망만 사용해도 무난할 것 같지만 실제로 이미지 데이터가 많아지면 단순 심층 신경망으로는 정확한 특성 추출 및 분류가 불가능. 합성곱 신경망 생성할 수 있도록 학습해야 함."
      ],
      "metadata": {
        "id": "m8OnzoVR2P6p"
      }
    }
  ]
}
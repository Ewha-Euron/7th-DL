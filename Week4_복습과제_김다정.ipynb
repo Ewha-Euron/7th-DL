{
  "cells": [
    {
      "cell_type": "markdown",
      "metadata": {
        "id": "JmbrNadxsBr7"
      },
      "source": [
        "## Convolution Layer Example"
      ]
    },
    {
      "cell_type": "code",
      "execution_count": 3,
      "metadata": {
        "colab": {
          "base_uri": "https://localhost:8080/"
        },
        "id": "MAyG6GGTU_mC",
        "outputId": "ec5133ea-0ca0-4a07-c872-51ea5bf5f81f"
      },
      "outputs": [
        {
          "output_type": "stream",
          "name": "stdout",
          "text": [
            "연산 전 torch.Size([10, 1, 20, 20])\n",
            "conv1 연산 후 torch.Size([10, 3, 16, 16])\n",
            "conv2 연산 후 torch.Size([10, 10, 12, 12])\n",
            "차원 감소 후 torch.Size([10, 1440])\n",
            "fc1 연산 후 torch.Size([10, 50])\n",
            "fc2 연산 후 torch.Size([10, 10])\n"
          ]
        }
      ],
      "source": [
        "import torch\n",
        "import torch.nn as nn\n",
        "import torch.nn.functional as F\n",
        "\n",
        "class CNN(nn.Module):\n",
        "  def __init__(self):\n",
        "    super(CNN, self).__init__()\n",
        "\n",
        "    ## 조건1: conv layer 2개 & fullyconnected(fc) layer 2개\n",
        "    ## 조건2: kernel size=5, stride=1로 통일\n",
        "    ## output을 참고하여 차원을 계산해주세요!\n",
        "    self.conv1=nn.Conv2d(in_channels=1, out_channels=3, kernel_size=5, stride=1)\n",
        "    self.conv2=nn.Conv2d(in_channels=3, out_channels=10, kernel_size=5, stride=1)\n",
        "\n",
        "    self.fc1=nn.Linear(10*12*12, 50)\n",
        "    self.fc2=nn.Linear(50, 10)\n",
        "\n",
        "\n",
        "  def forward(self, x):\n",
        "    print(\"연산 전\", x.size())\n",
        "    x = F.relu(self.conv1(x))\n",
        "    print(\"conv1 연산 후\", x.size())\n",
        "    x = F.relu(self.conv2(x))\n",
        "    print(\"conv2 연산 후\",x.size())\n",
        "    x = x.view(-1, 10 * 12 * 12)\n",
        "    print(\"차원 감소 후\", x.size())\n",
        "    x = F.relu(self.fc1(x))\n",
        "    print(\"fc1 연산 후\", x.size())\n",
        "    x = self.fc2(x)\n",
        "    print(\"fc2 연산 후\", x.size())\n",
        "    return x\n",
        "\n",
        "cnn = CNN()\n",
        "output = cnn(torch.randn(10, 1, 20, 20))  # Input Size: (10, 1, 20, 20)"
      ]
    },
    {
      "cell_type": "markdown",
      "metadata": {
        "id": "0It8H-mysBr-"
      },
      "source": [
        "## Max Pooling Layer Example"
      ]
    },
    {
      "cell_type": "code",
      "execution_count": 4,
      "metadata": {
        "colab": {
          "base_uri": "https://localhost:8080/"
        },
        "id": "LkOwXPFNchie",
        "outputId": "44b442b3-81f4-41e5-9185-e4e8eaa5f6ac"
      },
      "outputs": [
        {
          "output_type": "stream",
          "name": "stdout",
          "text": [
            "연산 전 torch.Size([10, 1, 20, 20])\n",
            "max_pool1 연산 후 torch.Size([10, 1, 10, 10])\n",
            "max_pool2 연산 후 torch.Size([10, 1, 5, 5])\n",
            "차원 감소 후 torch.Size([1, 250])\n",
            "fc1 연산 후 torch.Size([1, 50])\n",
            "fc2 연산 후 torch.Size([1, 10])\n"
          ]
        }
      ],
      "source": [
        "class CNN(nn.Module):\n",
        "  def __init__(self):\n",
        "    super(CNN, self).__init__()\n",
        "\n",
        "    ## 조건1: 최대풀링 layer 2개 & fc layer 2개\n",
        "    ## 조건2: kernel size=2로 통일, stride는 따로 지정할 필요 없음\n",
        "    ## output을 참고하여 차원을 계산해주세요!\n",
        "    self.max_pool1=nn.MaxPool2d(kernel_size=2)\n",
        "    self.max_pool2=nn.MaxPool2d(kernel_size=2)\n",
        "\n",
        "    self.fc1=nn.Linear(10*5*5, 50)\n",
        "    self.fc2=nn.Linear(50, 10)\n",
        "\n",
        "  def forward(self, x):\n",
        "    print(\"연산 전\", x.size())\n",
        "    x = F.relu(self.max_pool1(x))\n",
        "    print(\"max_pool1 연산 후\", x.size())\n",
        "    x = F.relu(self.max_pool2(x))\n",
        "    print(\"max_pool2 연산 후\",x.size())\n",
        "    x = x.view(-1, 10 * 5 * 5)\n",
        "    print(\"차원 감소 후\", x.size())\n",
        "    x = F.relu(self.fc1(x))\n",
        "    print(\"fc1 연산 후\", x.size())\n",
        "    x = self.fc2(x)\n",
        "    print(\"fc2 연산 후\", x.size())\n",
        "    return x\n",
        "\n",
        "cnn = CNN()\n",
        "output = cnn(torch.randn(10, 1, 20, 20))"
      ]
    },
    {
      "cell_type": "markdown",
      "metadata": {
        "id": "uDMn2y5_sBr-"
      },
      "source": [
        "## MNIST 데이터셋 train"
      ]
    },
    {
      "cell_type": "code",
      "execution_count": 5,
      "metadata": {
        "id": "YhfopkrQcp1P",
        "colab": {
          "base_uri": "https://localhost:8080/"
        },
        "outputId": "d49c1a4f-65f6-46a7-f68a-c10e16093571"
      },
      "outputs": [
        {
          "output_type": "stream",
          "name": "stdout",
          "text": [
            "Requirement already satisfied: torchvision in /usr/local/lib/python3.10/dist-packages (0.20.0+cu121)\n",
            "Requirement already satisfied: numpy in /usr/local/lib/python3.10/dist-packages (from torchvision) (1.26.4)\n",
            "Requirement already satisfied: torch==2.5.0 in /usr/local/lib/python3.10/dist-packages (from torchvision) (2.5.0+cu121)\n",
            "Requirement already satisfied: pillow!=8.3.*,>=5.3.0 in /usr/local/lib/python3.10/dist-packages (from torchvision) (10.4.0)\n",
            "Requirement already satisfied: filelock in /usr/local/lib/python3.10/dist-packages (from torch==2.5.0->torchvision) (3.16.1)\n",
            "Requirement already satisfied: typing-extensions>=4.8.0 in /usr/local/lib/python3.10/dist-packages (from torch==2.5.0->torchvision) (4.12.2)\n",
            "Requirement already satisfied: networkx in /usr/local/lib/python3.10/dist-packages (from torch==2.5.0->torchvision) (3.4.2)\n",
            "Requirement already satisfied: jinja2 in /usr/local/lib/python3.10/dist-packages (from torch==2.5.0->torchvision) (3.1.4)\n",
            "Requirement already satisfied: fsspec in /usr/local/lib/python3.10/dist-packages (from torch==2.5.0->torchvision) (2024.10.0)\n",
            "Requirement already satisfied: sympy==1.13.1 in /usr/local/lib/python3.10/dist-packages (from torch==2.5.0->torchvision) (1.13.1)\n",
            "Requirement already satisfied: mpmath<1.4,>=1.1.0 in /usr/local/lib/python3.10/dist-packages (from sympy==1.13.1->torch==2.5.0->torchvision) (1.3.0)\n",
            "Requirement already satisfied: MarkupSafe>=2.0 in /usr/local/lib/python3.10/dist-packages (from jinja2->torch==2.5.0->torchvision) (3.0.2)\n"
          ]
        }
      ],
      "source": [
        "!pip install torchvision"
      ]
    },
    {
      "cell_type": "code",
      "execution_count": 6,
      "metadata": {
        "id": "CqFN5YM5cqKe"
      },
      "outputs": [],
      "source": [
        "import torch.optim as optim\n",
        "from torchvision import datasets, transforms"
      ]
    },
    {
      "cell_type": "code",
      "execution_count": 7,
      "metadata": {
        "id": "IJb_C4ptcu6G",
        "colab": {
          "base_uri": "https://localhost:8080/"
        },
        "outputId": "bba9d9a9-3aff-4f51-c4a4-8f63a698a114"
      },
      "outputs": [
        {
          "output_type": "stream",
          "name": "stdout",
          "text": [
            "Downloading http://yann.lecun.com/exdb/mnist/train-images-idx3-ubyte.gz\n",
            "Failed to download (trying next):\n",
            "<urlopen error [SSL: CERTIFICATE_VERIFY_FAILED] certificate verify failed: certificate has expired (_ssl.c:1007)>\n",
            "\n",
            "Downloading https://ossci-datasets.s3.amazonaws.com/mnist/train-images-idx3-ubyte.gz\n",
            "Downloading https://ossci-datasets.s3.amazonaws.com/mnist/train-images-idx3-ubyte.gz to ./data/MNIST/raw/train-images-idx3-ubyte.gz\n"
          ]
        },
        {
          "output_type": "stream",
          "name": "stderr",
          "text": [
            "100%|██████████| 9.91M/9.91M [00:03<00:00, 2.94MB/s]\n"
          ]
        },
        {
          "output_type": "stream",
          "name": "stdout",
          "text": [
            "Extracting ./data/MNIST/raw/train-images-idx3-ubyte.gz to ./data/MNIST/raw\n",
            "\n",
            "Downloading http://yann.lecun.com/exdb/mnist/train-labels-idx1-ubyte.gz\n",
            "Failed to download (trying next):\n",
            "<urlopen error [SSL: CERTIFICATE_VERIFY_FAILED] certificate verify failed: certificate has expired (_ssl.c:1007)>\n",
            "\n",
            "Downloading https://ossci-datasets.s3.amazonaws.com/mnist/train-labels-idx1-ubyte.gz\n",
            "Downloading https://ossci-datasets.s3.amazonaws.com/mnist/train-labels-idx1-ubyte.gz to ./data/MNIST/raw/train-labels-idx1-ubyte.gz\n"
          ]
        },
        {
          "output_type": "stream",
          "name": "stderr",
          "text": [
            "100%|██████████| 28.9k/28.9k [00:00<00:00, 1.27MB/s]"
          ]
        },
        {
          "output_type": "stream",
          "name": "stdout",
          "text": [
            "Extracting ./data/MNIST/raw/train-labels-idx1-ubyte.gz to ./data/MNIST/raw\n",
            "\n",
            "Downloading http://yann.lecun.com/exdb/mnist/t10k-images-idx3-ubyte.gz\n"
          ]
        },
        {
          "output_type": "stream",
          "name": "stderr",
          "text": [
            "\n"
          ]
        },
        {
          "output_type": "stream",
          "name": "stdout",
          "text": [
            "Failed to download (trying next):\n",
            "<urlopen error [SSL: CERTIFICATE_VERIFY_FAILED] certificate verify failed: certificate has expired (_ssl.c:1007)>\n",
            "\n",
            "Downloading https://ossci-datasets.s3.amazonaws.com/mnist/t10k-images-idx3-ubyte.gz\n",
            "Downloading https://ossci-datasets.s3.amazonaws.com/mnist/t10k-images-idx3-ubyte.gz to ./data/MNIST/raw/t10k-images-idx3-ubyte.gz\n"
          ]
        },
        {
          "output_type": "stream",
          "name": "stderr",
          "text": [
            "100%|██████████| 1.65M/1.65M [00:00<00:00, 9.49MB/s]\n"
          ]
        },
        {
          "output_type": "stream",
          "name": "stdout",
          "text": [
            "Extracting ./data/MNIST/raw/t10k-images-idx3-ubyte.gz to ./data/MNIST/raw\n",
            "\n",
            "Downloading http://yann.lecun.com/exdb/mnist/t10k-labels-idx1-ubyte.gz\n",
            "Failed to download (trying next):\n",
            "<urlopen error [SSL: CERTIFICATE_VERIFY_FAILED] certificate verify failed: certificate has expired (_ssl.c:1007)>\n",
            "\n",
            "Downloading https://ossci-datasets.s3.amazonaws.com/mnist/t10k-labels-idx1-ubyte.gz\n",
            "Downloading https://ossci-datasets.s3.amazonaws.com/mnist/t10k-labels-idx1-ubyte.gz to ./data/MNIST/raw/t10k-labels-idx1-ubyte.gz\n"
          ]
        },
        {
          "output_type": "stream",
          "name": "stderr",
          "text": [
            "100%|██████████| 4.54k/4.54k [00:00<00:00, 6.64MB/s]"
          ]
        },
        {
          "output_type": "stream",
          "name": "stdout",
          "text": [
            "Extracting ./data/MNIST/raw/t10k-labels-idx1-ubyte.gz to ./data/MNIST/raw\n",
            "\n"
          ]
        },
        {
          "output_type": "stream",
          "name": "stderr",
          "text": [
            "\n"
          ]
        }
      ],
      "source": [
        "train_data = datasets.MNIST('./data/', train=True, download=True, transform=transforms.Compose([\n",
        "        transforms.ToTensor(),\n",
        "        transforms.Normalize((0.1307,), (0.3081,))\n",
        "    ])) # 학습 데이터\n",
        "train_loader = torch.utils.data.DataLoader(dataset=train_data, batch_size=50, shuffle=True)\n",
        "\n",
        "test_data = datasets.MNIST('./data/', train=False, transform=transforms.Compose([\n",
        "        transforms.ToTensor(),\n",
        "        transforms.Normalize((0.1307,), (0.3081,))\n",
        "    ])) # 테스트 데이터\n",
        "test_loader = torch.utils.data.DataLoader(dataset=test_data, batch_size=50, shuffle=True)"
      ]
    },
    {
      "cell_type": "code",
      "execution_count": 8,
      "metadata": {
        "id": "YP3tEuo6ct8A"
      },
      "outputs": [],
      "source": [
        "class CNN(nn.Module):\n",
        "    def __init__(self):\n",
        "        super(CNN, self).__init__()\n",
        "\n",
        "        ## 조건1: conv layer 2개 & fc layer 2개\n",
        "            ## 첫 번째 conv layer: 입력 채널 1, 출력 채널 20\n",
        "            ## 두 번째 fc layer: 출력 채널 10\n",
        "        ## 조건2: kernel_size=5, stride=1\n",
        "        self.conv1=nn.Conv2d(in_channels=1, out_channels=20, kernel_size=5, stride=1)\n",
        "        self.conv2=nn.Conv2d(in_channels=20, out_channels=50, kernel_size=5, stride=1)\n",
        "\n",
        "        self.fc1=nn.Linear(50*4*4, 50)\n",
        "        self.fc2=nn.Linear(50, 10)\n",
        "\n",
        "    def forward(self, x):\n",
        "\n",
        "        ## 조건1: relu -> max_pool2d -> relu -> max_pool2d 순서로 이루어짐\n",
        "        ## 조건2: kernel_size=2, stride=2\n",
        "        x=F.relu(self.conv1(x))\n",
        "        x=F.max_pool2d(x, kernel_size=2, stride=2)\n",
        "        x=F.relu(self.conv2(x))\n",
        "        x=F.max_pool2d(x, kernel_size=2, stride=2)\n",
        "\n",
        "        x = x.view(-1, 4 * 4 * 50) # [batch_size, 50, 4, 4]\n",
        "        x = F.relu(self.fc1(x))\n",
        "        x = self.fc2(x)\n",
        "\n",
        "        return x\n"
      ]
    },
    {
      "cell_type": "code",
      "execution_count": 9,
      "metadata": {
        "id": "EO2ULx3Sc2GM"
      },
      "outputs": [],
      "source": [
        "cnn = CNN()\n",
        "criterion = torch.nn.CrossEntropyLoss()\n",
        "optimizer = optim.SGD(cnn.parameters(), lr=0.01)"
      ]
    },
    {
      "cell_type": "code",
      "execution_count": 10,
      "metadata": {
        "id": "gAwckNWhc4Nr",
        "colab": {
          "base_uri": "https://localhost:8080/"
        },
        "outputId": "4ad2d2f3-eaf1-43b7-cbb3-a086a6410687"
      },
      "outputs": [
        {
          "output_type": "stream",
          "name": "stdout",
          "text": [
            "loss of 0 epoch, 0 index : 2.325611114501953\n",
            "loss of 0 epoch, 100 index : 1.6810628175735474\n",
            "loss of 0 epoch, 200 index : 0.8323900699615479\n",
            "loss of 0 epoch, 300 index : 0.33596280217170715\n",
            "loss of 0 epoch, 400 index : 0.3637448847293854\n",
            "loss of 0 epoch, 500 index : 0.22381877899169922\n",
            "loss of 0 epoch, 600 index : 0.32318583130836487\n",
            "loss of 0 epoch, 700 index : 0.3168391287326813\n",
            "loss of 0 epoch, 800 index : 0.1908433586359024\n",
            "loss of 0 epoch, 900 index : 0.1685984581708908\n",
            "loss of 0 epoch, 1000 index : 0.1511201411485672\n",
            "loss of 0 epoch, 1100 index : 0.17768651247024536\n",
            "loss of 1 epoch, 0 index : 0.0811678022146225\n",
            "loss of 1 epoch, 100 index : 0.07728628069162369\n",
            "loss of 1 epoch, 200 index : 0.2597740888595581\n",
            "loss of 1 epoch, 300 index : 0.2630781829357147\n",
            "loss of 1 epoch, 400 index : 0.16248813271522522\n",
            "loss of 1 epoch, 500 index : 0.14003467559814453\n",
            "loss of 1 epoch, 600 index : 0.1884421706199646\n",
            "loss of 1 epoch, 700 index : 0.15805038809776306\n",
            "loss of 1 epoch, 800 index : 0.022532232105731964\n",
            "loss of 1 epoch, 900 index : 0.1311240792274475\n",
            "loss of 1 epoch, 1000 index : 0.2326856404542923\n",
            "loss of 1 epoch, 1100 index : 0.20610879361629486\n",
            "loss of 2 epoch, 0 index : 0.11523312330245972\n",
            "loss of 2 epoch, 100 index : 0.19826637208461761\n",
            "loss of 2 epoch, 200 index : 0.07212305068969727\n",
            "loss of 2 epoch, 300 index : 0.10407304763793945\n",
            "loss of 2 epoch, 400 index : 0.07505957037210464\n",
            "loss of 2 epoch, 500 index : 0.07480791211128235\n",
            "loss of 2 epoch, 600 index : 0.14018353819847107\n",
            "loss of 2 epoch, 700 index : 0.12532082200050354\n",
            "loss of 2 epoch, 800 index : 0.04042690619826317\n",
            "loss of 2 epoch, 900 index : 0.12934905290603638\n",
            "loss of 2 epoch, 1000 index : 0.10265710949897766\n",
            "loss of 2 epoch, 1100 index : 0.06049361079931259\n",
            "loss of 3 epoch, 0 index : 0.016275975853204727\n",
            "loss of 3 epoch, 100 index : 0.09288938343524933\n",
            "loss of 3 epoch, 200 index : 0.03768293559551239\n",
            "loss of 3 epoch, 300 index : 0.03936829790472984\n",
            "loss of 3 epoch, 400 index : 0.0562572106719017\n",
            "loss of 3 epoch, 500 index : 0.00744747556746006\n",
            "loss of 3 epoch, 600 index : 0.14966948330402374\n",
            "loss of 3 epoch, 700 index : 0.15155071020126343\n",
            "loss of 3 epoch, 800 index : 0.16961097717285156\n",
            "loss of 3 epoch, 900 index : 0.012358338572084904\n",
            "loss of 3 epoch, 1000 index : 0.058769091963768005\n",
            "loss of 3 epoch, 1100 index : 0.05786299332976341\n",
            "loss of 4 epoch, 0 index : 0.013808796182274818\n",
            "loss of 4 epoch, 100 index : 0.15846948325634003\n",
            "loss of 4 epoch, 200 index : 0.03721475228667259\n",
            "loss of 4 epoch, 300 index : 0.05404914915561676\n",
            "loss of 4 epoch, 400 index : 0.018957769498229027\n",
            "loss of 4 epoch, 500 index : 0.06594853103160858\n",
            "loss of 4 epoch, 600 index : 0.03988739848136902\n",
            "loss of 4 epoch, 700 index : 0.018783532083034515\n",
            "loss of 4 epoch, 800 index : 0.11690129339694977\n",
            "loss of 4 epoch, 900 index : 0.02176348678767681\n",
            "loss of 4 epoch, 1000 index : 0.07605145126581192\n",
            "loss of 4 epoch, 1100 index : 0.053742650896310806\n",
            "loss of 5 epoch, 0 index : 0.09240777790546417\n",
            "loss of 5 epoch, 100 index : 0.01581244170665741\n",
            "loss of 5 epoch, 200 index : 0.009472181089222431\n",
            "loss of 5 epoch, 300 index : 0.09527265280485153\n",
            "loss of 5 epoch, 400 index : 0.004914098884910345\n",
            "loss of 5 epoch, 500 index : 0.03247460350394249\n",
            "loss of 5 epoch, 600 index : 0.017260415479540825\n",
            "loss of 5 epoch, 700 index : 0.04574869945645332\n",
            "loss of 5 epoch, 800 index : 0.00461118808016181\n",
            "loss of 5 epoch, 900 index : 0.012542502023279667\n",
            "loss of 5 epoch, 1000 index : 0.007975730113685131\n",
            "loss of 5 epoch, 1100 index : 0.061516061425209045\n",
            "loss of 6 epoch, 0 index : 0.053689390420913696\n",
            "loss of 6 epoch, 100 index : 0.02428312785923481\n",
            "loss of 6 epoch, 200 index : 0.029255399480462074\n",
            "loss of 6 epoch, 300 index : 0.006756114773452282\n",
            "loss of 6 epoch, 400 index : 0.12608729302883148\n",
            "loss of 6 epoch, 500 index : 0.01560205314308405\n",
            "loss of 6 epoch, 600 index : 0.04391537979245186\n",
            "loss of 6 epoch, 700 index : 0.16760601103305817\n",
            "loss of 6 epoch, 800 index : 0.0011565390741452575\n",
            "loss of 6 epoch, 900 index : 0.024558493867516518\n",
            "loss of 6 epoch, 1000 index : 0.016467435285449028\n",
            "loss of 6 epoch, 1100 index : 0.04422478750348091\n",
            "loss of 7 epoch, 0 index : 0.007760428357869387\n",
            "loss of 7 epoch, 100 index : 0.009206811897456646\n",
            "loss of 7 epoch, 200 index : 0.04972745478153229\n",
            "loss of 7 epoch, 300 index : 0.00653032073751092\n",
            "loss of 7 epoch, 400 index : 0.10733293741941452\n",
            "loss of 7 epoch, 500 index : 0.024350499734282494\n",
            "loss of 7 epoch, 600 index : 0.00831544492393732\n",
            "loss of 7 epoch, 700 index : 0.005644084420055151\n",
            "loss of 7 epoch, 800 index : 0.0029844907112419605\n",
            "loss of 7 epoch, 900 index : 0.04786219075322151\n",
            "loss of 7 epoch, 1000 index : 0.2819051742553711\n",
            "loss of 7 epoch, 1100 index : 0.009119024500250816\n",
            "loss of 8 epoch, 0 index : 0.08063425868749619\n",
            "loss of 8 epoch, 100 index : 0.014359533786773682\n",
            "loss of 8 epoch, 200 index : 0.16612878441810608\n",
            "loss of 8 epoch, 300 index : 0.021531954407691956\n",
            "loss of 8 epoch, 400 index : 0.21321257948875427\n",
            "loss of 8 epoch, 500 index : 0.013947282917797565\n",
            "loss of 8 epoch, 600 index : 0.01661386713385582\n",
            "loss of 8 epoch, 700 index : 0.06431908905506134\n",
            "loss of 8 epoch, 800 index : 0.009801867417991161\n",
            "loss of 8 epoch, 900 index : 0.04310460388660431\n",
            "loss of 8 epoch, 1000 index : 0.003509251167997718\n",
            "loss of 8 epoch, 1100 index : 0.018571166321635246\n",
            "loss of 9 epoch, 0 index : 0.003199842059984803\n",
            "loss of 9 epoch, 100 index : 0.008139911107718945\n",
            "loss of 9 epoch, 200 index : 0.04622231796383858\n",
            "loss of 9 epoch, 300 index : 0.07388665527105331\n",
            "loss of 9 epoch, 400 index : 0.017573248594999313\n",
            "loss of 9 epoch, 500 index : 0.002302813809365034\n",
            "loss of 9 epoch, 600 index : 0.03824130445718765\n",
            "loss of 9 epoch, 700 index : 0.005604259204119444\n",
            "loss of 9 epoch, 800 index : 0.013670463114976883\n",
            "loss of 9 epoch, 900 index : 0.004405403509736061\n",
            "loss of 9 epoch, 1000 index : 0.0034209329169243574\n",
            "loss of 9 epoch, 1100 index : 0.027935385704040527\n"
          ]
        }
      ],
      "source": [
        "cnn.train()  # 학습을 위함\n",
        "for epoch in range(10):\n",
        "  for index, (data, target) in enumerate(train_loader):\n",
        "    optimizer.zero_grad()  # 기울기 초기화\n",
        "    output = cnn(data)\n",
        "    loss = criterion(output, target)\n",
        "    loss.backward()  # 역전파\n",
        "    optimizer.step()\n",
        "\n",
        "    if index % 100 == 0:\n",
        "      print(\"loss of {} epoch, {} index : {}\".format(epoch, index, loss.item()))"
      ]
    },
    {
      "cell_type": "code",
      "execution_count": 11,
      "metadata": {
        "id": "l2PnlaXIc6dm",
        "colab": {
          "base_uri": "https://localhost:8080/"
        },
        "outputId": "d9814a3b-e5a4-487e-eecf-411a153a3200"
      },
      "outputs": [
        {
          "output_type": "stream",
          "name": "stdout",
          "text": [
            "\n",
            "Test set: Average loss: 6.9870, Accuracy: 9879/10000 (99%)\n",
            "\n"
          ]
        }
      ],
      "source": [
        "cnn.eval()  # test case 학습 방지를 위함\n",
        "test_loss = 0\n",
        "correct = 0\n",
        "with torch.no_grad():\n",
        "  for data, target in test_loader:\n",
        "    output = cnn(data)\n",
        "    test_loss += criterion(output, target).item() # sum up batch loss\n",
        "    pred = output.argmax(dim=1, keepdim=True) # get the index of the max log-probability\n",
        "    correct += pred.eq(target.view_as(pred)).sum().item()\n",
        "print('\\nTest set: Average loss: {:.4f}, Accuracy: {}/{} ({:.0f}%)\\n'.format(\n",
        "        test_loss, correct, len(test_loader.dataset),\n",
        "        100. * correct / len(test_loader.dataset)))"
      ]
    }
  ],
  "metadata": {
    "colab": {
      "provenance": []
    },
    "kernelspec": {
      "display_name": "Python 3",
      "name": "python3"
    },
    "language_info": {
      "name": "python"
    }
  },
  "nbformat": 4,
  "nbformat_minor": 0
}
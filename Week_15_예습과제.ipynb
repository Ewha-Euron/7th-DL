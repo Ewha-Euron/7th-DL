{
  "cells": [
    {
      "cell_type": "code",
      "execution_count": null,
      "metadata": {
        "id": "mzM3_IHs94FM",
        "outputId": "e504cbac-bb77-455b-80d3-25f8de987cad"
      },
      "outputs": [
        {
          "data": {
            "text/plain": [
              "array([2, 2, 1, 0, 1, 0])"
            ]
          },
          "execution_count": 1,
          "metadata": {},
          "output_type": "execute_result"
        }
      ],
      "source": [
        "import pandas as pd\n",
        "class2 = pd.read_csv('./class2.csv')\n",
        "\n",
        "from sklearn import preprocessing\n",
        "label_encoder = preprocessing.LabelEncoder()\n",
        "onehot_encoder = preprocessing.OneHotEncoder()\n",
        "\n",
        "train_x = label_encoder.fit_transform(class2['class2'])\n",
        "train_x"
      ]
    },
    {
      "cell_type": "code",
      "execution_count": null,
      "metadata": {
        "id": "eTqcxS2u94FN",
        "outputId": "38ed5489-94c5-4f37-f9c3-4c8e0756a1dc"
      },
      "outputs": [
        {
          "data": {
            "text/plain": [
              "{'this': 13,\n",
              " 'is': 7,\n",
              " 'last': 8,\n",
              " 'chance': 2,\n",
              " 'and': 0,\n",
              " 'if': 6,\n",
              " 'you': 15,\n",
              " 'do': 3,\n",
              " 'not': 10,\n",
              " 'have': 5,\n",
              " 'will': 14,\n",
              " 'never': 9,\n",
              " 'get': 4,\n",
              " 'any': 1,\n",
              " 'one': 11,\n",
              " 'please': 12}"
            ]
          },
          "execution_count": 2,
          "metadata": {},
          "output_type": "execute_result"
        }
      ],
      "source": [
        "from sklearn.feature_extraction.text import CountVectorizer\n",
        "corpus = [\n",
        "    'This is last chance.',\n",
        "    'and if you do not have this chance.',\n",
        "    'you will never get any chance.',\n",
        "    'will you do get this one?',\n",
        "    'please, get this chance'\n",
        "]\n",
        "vect = CountVectorizer()\n",
        "vect.fit(corpus)\n",
        "vect.vocabulary_"
      ]
    },
    {
      "cell_type": "code",
      "execution_count": null,
      "metadata": {
        "id": "dcozFDti94FO",
        "outputId": "c7dd31f9-73d6-4900-964d-52657b9260b3"
      },
      "outputs": [
        {
          "data": {
            "text/plain": [
              "array([[0, 1, 1, 0, 1, 0, 0, 0, 0, 1, 0, 0, 0, 0, 1, 1]])"
            ]
          },
          "execution_count": 3,
          "metadata": {},
          "output_type": "execute_result"
        }
      ],
      "source": [
        "vect.transform(['you will never get any chance.']).toarray()"
      ]
    },
    {
      "cell_type": "code",
      "execution_count": null,
      "metadata": {
        "id": "Ee-UTy8u94FO",
        "outputId": "1c3e38ad-67a5-4c12-9b0a-c43f6eb0a900"
      },
      "outputs": [
        {
          "data": {
            "text/plain": [
              "{'last': 6,\n",
              " 'chance': 1,\n",
              " 'if': 5,\n",
              " 'you': 11,\n",
              " 'do': 2,\n",
              " 'not': 8,\n",
              " 'have': 4,\n",
              " 'will': 10,\n",
              " 'never': 7,\n",
              " 'get': 3,\n",
              " 'any': 0,\n",
              " 'one': 9}"
            ]
          },
          "execution_count": 4,
          "metadata": {},
          "output_type": "execute_result"
        }
      ],
      "source": [
        "vect = CountVectorizer(stop_words=['and', 'is', 'please', 'this']).fit(corpus)\n",
        "vect.vocabulary_"
      ]
    },
    {
      "cell_type": "code",
      "execution_count": null,
      "metadata": {
        "id": "OozkQTWs94FO",
        "outputId": "b33cb78e-8518-40bd-ebc9-d0b669c648c1"
      },
      "outputs": [
        {
          "name": "stdout",
          "output_type": "stream",
          "text": [
            "유사도를 위한 3 x 3 행렬을 만들었습니다.\n",
            "[[1.       0.224325 0.      ]\n",
            " [0.224325 1.       0.      ]\n",
            " [0.       0.       1.      ]]\n"
          ]
        }
      ],
      "source": [
        "from sklearn.feature_extraction.text import TfidfVectorizer\n",
        "doc = ['I like machine learning', 'I love deep learning', 'I run everyday']\n",
        "tfidf_vectorizer = TfidfVectorizer(min_df=1)\n",
        "tfidf_matrix = tfidf_vectorizer.fit_transform(doc)\n",
        "doc_distance = (tfidf_matrix * tfidf_matrix.T)\n",
        "print('유사도를 위한', str(doc_distance.get_shape()[0]), 'x', str(doc_distance.get_shape()[1]), '행렬을 만들었습니다.')\n",
        "print(doc_distance.toarray())"
      ]
    },
    {
      "cell_type": "code",
      "execution_count": null,
      "metadata": {
        "id": "jlAwRkCz94FO",
        "outputId": "5f4e31be-8ba9-474c-eb8b-6afcc9e98025"
      },
      "outputs": [
        {
          "data": {
            "text/plain": [
              "[['once',\n",
              "  'upon',\n",
              "  'a',\n",
              "  'time',\n",
              "  'in',\n",
              "  'london',\n",
              "  ',',\n",
              "  'the',\n",
              "  'darlings',\n",
              "  'went',\n",
              "  'out',\n",
              "  'to',\n",
              "  'a',\n",
              "  'dinner',\n",
              "  'party',\n",
              "  'leaving',\n",
              "  'their',\n",
              "  'three',\n",
              "  'children',\n",
              "  'wendy',\n",
              "  ',',\n",
              "  'jhon',\n",
              "  ',',\n",
              "  'and',\n",
              "  'michael',\n",
              "  'at',\n",
              "  'home',\n",
              "  '.'],\n",
              " ['after',\n",
              "  'wendy',\n",
              "  'had',\n",
              "  'tucked',\n",
              "  'her',\n",
              "  'younger',\n",
              "  'brothers',\n",
              "  'jhon',\n",
              "  'and',\n",
              "  'michael',\n",
              "  'to',\n",
              "  'bed',\n",
              "  ',',\n",
              "  'she',\n",
              "  'went',\n",
              "  'to',\n",
              "  'read',\n",
              "  'a',\n",
              "  'book',\n",
              "  '.'],\n",
              " ['she', 'heard', 'a', 'boy', 'sobbing', 'outside', 'her', 'window', '.'],\n",
              " ['he', 'was', 'flying', '.'],\n",
              " ['there', 'was', 'little', 'fairy', 'fluttering', 'around', 'him', '.'],\n",
              " ['wendy', 'opened', 'the', 'window', 'to', 'talk', 'to', 'him', '.'],\n",
              " ['“', 'hello', '!'],\n",
              " ['who', 'are', 'you', '?'],\n",
              " ['why', 'are', 'you', 'crying', '”', ',', 'wendy', 'asked', 'him', '.'],\n",
              " ['“', 'my', 'name', 'is', 'peter', 'pan', '.'],\n",
              " ['my',\n",
              "  'shadow',\n",
              "  'wouldn',\n",
              "  '’',\n",
              "  't',\n",
              "  'stock',\n",
              "  'to',\n",
              "  'me.',\n",
              "  '”',\n",
              "  ',',\n",
              "  'he',\n",
              "  'replied',\n",
              "  '.'],\n",
              " ['she', 'asked', 'him', 'to', 'come', 'in', '.'],\n",
              " ['peter', 'agreed', 'and', 'came', 'inside', 'the', 'room', '.'],\n",
              " ['wendy',\n",
              "  'took',\n",
              "  'his',\n",
              "  'shadow',\n",
              "  'and',\n",
              "  'sewed',\n",
              "  'it',\n",
              "  'to',\n",
              "  'his',\n",
              "  'shoe',\n",
              "  'tips',\n",
              "  '.'],\n",
              " ['now',\n",
              "  'his',\n",
              "  'shadow',\n",
              "  'followed',\n",
              "  'him',\n",
              "  'wherever',\n",
              "  'peter',\n",
              "  'pan',\n",
              "  'went',\n",
              "  '!'],\n",
              " ['he',\n",
              "  'was',\n",
              "  'delighted',\n",
              "  'and',\n",
              "  'asked',\n",
              "  'wendy',\n",
              "  '“',\n",
              "  'why',\n",
              "  'don',\n",
              "  '’',\n",
              "  't',\n",
              "  'you',\n",
              "  'come',\n",
              "  'with',\n",
              "  'me',\n",
              "  'to',\n",
              "  'my',\n",
              "  'home',\n",
              "  '.'],\n",
              " ['the', 'neverland', '.'],\n",
              " ['i',\n",
              "  'lived',\n",
              "  'there',\n",
              "  'with',\n",
              "  'my',\n",
              "  'fairy',\n",
              "  'tinker',\n",
              "  'bell.',\n",
              "  '”',\n",
              "  'wendy',\n",
              "  '?'],\n",
              " ['“', 'oh', '!'],\n",
              " ['what', 'a', 'wonderful', 'idea', '!'],\n",
              " ['let', 'me', 'wake', 'up', 'john', 'and', 'micheal', 'too', '.'],\n",
              " ['could', 'you', 'teach', 'us', 'how', 'to', 'fly', '?', '”', '.'],\n",
              " ['“', 'yes', '!'],\n",
              " ['of', 'course', '!'],\n",
              " ['get',\n",
              "  'them',\n",
              "  'we',\n",
              "  'will',\n",
              "  'all',\n",
              "  'fly',\n",
              "  'together.',\n",
              "  '”',\n",
              "  'peter',\n",
              "  'pan',\n",
              "  'replied',\n",
              "  'and',\n",
              "  'so',\n",
              "  'it',\n",
              "  'was',\n",
              "  '.'],\n",
              " ['five',\n",
              "  'little',\n",
              "  'figures',\n",
              "  'flew',\n",
              "  'out',\n",
              "  'of',\n",
              "  'the',\n",
              "  'window',\n",
              "  'of',\n",
              "  'the',\n",
              "  'darlings',\n",
              "  'and',\n",
              "  'headed',\n",
              "  'towards',\n",
              "  'neverland',\n",
              "  '.'],\n",
              " ['as',\n",
              "  'they',\n",
              "  'flew',\n",
              "  'over',\n",
              "  'the',\n",
              "  'island',\n",
              "  ',',\n",
              "  'peter',\n",
              "  'pan',\n",
              "  'told',\n",
              "  'the',\n",
              "  'children',\n",
              "  'more',\n",
              "  'about',\n",
              "  'his',\n",
              "  'homeland',\n",
              "  '.'],\n",
              " ['“',\n",
              "  'all',\n",
              "  'the',\n",
              "  'children',\n",
              "  'who',\n",
              "  'get',\n",
              "  'lost',\n",
              "  'come',\n",
              "  'and',\n",
              "  'stay',\n",
              "  'with',\n",
              "  'tinker',\n",
              "  'bell',\n",
              "  'and',\n",
              "  'me',\n",
              "  ',',\n",
              "  '”',\n",
              "  'peter',\n",
              "  'told',\n",
              "  'them',\n",
              "  '.'],\n",
              " ['the', 'indians', 'also', 'live', 'in', 'neverland', '.'],\n",
              " ['the',\n",
              "  'mermaids',\n",
              "  'live',\n",
              "  'in',\n",
              "  'the',\n",
              "  'lagoon',\n",
              "  'around',\n",
              "  'the',\n",
              "  'island',\n",
              "  '.'],\n",
              " ['and',\n",
              "  'a',\n",
              "  'very',\n",
              "  'mean',\n",
              "  'pirate',\n",
              "  'called',\n",
              "  'captain',\n",
              "  'hook',\n",
              "  'keeps',\n",
              "  'troubling',\n",
              "  'everyone',\n",
              "  '.'],\n",
              " ['“', 'crocodile', 'bit', 'his', 'one', 'arm', '.'],\n",
              " ['so',\n",
              "  'the',\n",
              "  'captain',\n",
              "  'had',\n",
              "  'to',\n",
              "  'put',\n",
              "  'a',\n",
              "  'hook',\n",
              "  'in',\n",
              "  'its',\n",
              "  'place',\n",
              "  '.'],\n",
              " ['since', 'then', 'he', 'is', 'afraid', 'of', 'crocodiles', '.'],\n",
              " ['and', 'rightly', 'so', '!'],\n",
              " ['if',\n",
              "  'the',\n",
              "  'crocodile',\n",
              "  'ever',\n",
              "  'found',\n",
              "  'captain',\n",
              "  'hook',\n",
              "  'it',\n",
              "  'will',\n",
              "  'eat',\n",
              "  'up',\n",
              "  'the',\n",
              "  'rest',\n",
              "  'of',\n",
              "  'it',\n",
              "  'couldn',\n",
              "  '’',\n",
              "  't',\n",
              "  'eat',\n",
              "  'last',\n",
              "  'time.',\n",
              "  '”',\n",
              "  'peter',\n",
              "  'told',\n",
              "  'them',\n",
              "  '.'],\n",
              " ['soon', 'they', 'landed', 'on', 'the', 'island', '.'],\n",
              " ['and',\n",
              "  'to',\n",
              "  'the',\n",
              "  'surprise',\n",
              "  'of',\n",
              "  'wendy',\n",
              "  ',',\n",
              "  'jhon',\n",
              "  'and',\n",
              "  'michael',\n",
              "  ',',\n",
              "  'peter',\n",
              "  'pan',\n",
              "  'let',\n",
              "  'them',\n",
              "  'in',\n",
              "  'through',\n",
              "  'a',\n",
              "  'small',\n",
              "  'opening',\n",
              "  'in',\n",
              "  'a',\n",
              "  'tree',\n",
              "  '.'],\n",
              " ['inside',\n",
              "  'the',\n",
              "  'tree',\n",
              "  'was',\n",
              "  'a',\n",
              "  'large',\n",
              "  'room',\n",
              "  'with',\n",
              "  'children',\n",
              "  'inside',\n",
              "  'it',\n",
              "  '.'],\n",
              " ['somewhere',\n",
              "  'huddled',\n",
              "  'by',\n",
              "  'the',\n",
              "  'fire',\n",
              "  'in',\n",
              "  'the',\n",
              "  'corner',\n",
              "  'and',\n",
              "  'somewhere',\n",
              "  'playing',\n",
              "  'amongst',\n",
              "  'themselves',\n",
              "  '.'],\n",
              " ['their',\n",
              "  'faces',\n",
              "  'lit',\n",
              "  'up',\n",
              "  'when',\n",
              "  'they',\n",
              "  'saw',\n",
              "  'peter',\n",
              "  'pan',\n",
              "  ',',\n",
              "  'tinker',\n",
              "  'bell',\n",
              "  ',',\n",
              "  'and',\n",
              "  'their',\n",
              "  'guests',\n",
              "  '.'],\n",
              " ['“', 'hello', 'everyone', '.'],\n",
              " ['this', 'is', 'wendy', ',', 'jhon', ',', 'and', 'michael', '.'],\n",
              " ['they',\n",
              "  'will',\n",
              "  'be',\n",
              "  'staying',\n",
              "  'with',\n",
              "  'us',\n",
              "  'from',\n",
              "  'now',\n",
              "  'on.',\n",
              "  '”',\n",
              "  'peter',\n",
              "  'pan',\n",
              "  'introduced',\n",
              "  'them',\n",
              "  'to',\n",
              "  'all',\n",
              "  'children',\n",
              "  '.'],\n",
              " ['children', 'welcomed', 'wendy', ',', 'jhon', ',', 'and', 'michael', '.'],\n",
              " ['a', 'few', 'days', 'passed', '.'],\n",
              " ['and', 'they', 'settled', 'into', 'a', 'routine', '.'],\n",
              " ['wendy',\n",
              "  'would',\n",
              "  'take',\n",
              "  'care',\n",
              "  'of',\n",
              "  'all',\n",
              "  'the',\n",
              "  'children',\n",
              "  'in',\n",
              "  'the',\n",
              "  'day',\n",
              "  'and',\n",
              "  'would',\n",
              "  'go',\n",
              "  'out',\n",
              "  'with',\n",
              "  'peter',\n",
              "  'pan',\n",
              "  'and',\n",
              "  'her',\n",
              "  'brothers',\n",
              "  'in',\n",
              "  'the',\n",
              "  'evening',\n",
              "  'to',\n",
              "  'learn',\n",
              "  'about',\n",
              "  'the',\n",
              "  'island',\n",
              "  '.'],\n",
              " ['she',\n",
              "  'would',\n",
              "  'cook',\n",
              "  'for',\n",
              "  'them',\n",
              "  'and',\n",
              "  'stitch',\n",
              "  'new',\n",
              "  'clothes',\n",
              "  'for',\n",
              "  'them',\n",
              "  '.'],\n",
              " ['he',\n",
              "  'even',\n",
              "  'made',\n",
              "  'a',\n",
              "  'lovely',\n",
              "  'new',\n",
              "  'dress',\n",
              "  'for',\n",
              "  'tinker',\n",
              "  'bell',\n",
              "  '.'],\n",
              " ['one',\n",
              "  'evening',\n",
              "  ',',\n",
              "  'as',\n",
              "  'they',\n",
              "  'were',\n",
              "  'out',\n",
              "  'exploring',\n",
              "  'the',\n",
              "  'island',\n",
              "  'peter',\n",
              "  'pan',\n",
              "  'warned',\n",
              "  'everyone',\n",
              "  'and',\n",
              "  'said',\n",
              "  ',',\n",
              "  '“',\n",
              "  'hide',\n",
              "  '!'],\n",
              " ['hide', '!'],\n",
              " ['pirates', '!'],\n",
              " ['and',\n",
              "  'they',\n",
              "  'have',\n",
              "  'kidnapped',\n",
              "  'the',\n",
              "  'indian',\n",
              "  'princess',\n",
              "  'tiger',\n",
              "  'lily',\n",
              "  '.'],\n",
              " ['they',\n",
              "  'have',\n",
              "  'kept',\n",
              "  'her',\n",
              "  'there',\n",
              "  ',',\n",
              "  'tied',\n",
              "  'up',\n",
              "  'by',\n",
              "  'the',\n",
              "  'rocks',\n",
              "  ',',\n",
              "  'near',\n",
              "  'the',\n",
              "  'water.',\n",
              "  '”',\n",
              "  'peter',\n",
              "  'was',\n",
              "  'afraid',\n",
              "  'and',\n",
              "  'the',\n",
              "  'princess',\n",
              "  'would',\n",
              "  'drown',\n",
              "  ',',\n",
              "  'is',\n",
              "  'she',\n",
              "  'fell',\n",
              "  'into',\n",
              "  'the',\n",
              "  'water',\n",
              "  '.'],\n",
              " ['so',\n",
              "  ',',\n",
              "  'in',\n",
              "  'a',\n",
              "  'voice',\n",
              "  'that',\n",
              "  'sounded',\n",
              "  'like',\n",
              "  'captain',\n",
              "  'hook',\n",
              "  ',',\n",
              "  'he',\n",
              "  'shouted',\n",
              "  'instructions',\n",
              "  'to',\n",
              "  'the',\n",
              "  'pirates',\n",
              "  'who',\n",
              "  'guarded',\n",
              "  'her',\n",
              "  ',',\n",
              "  '“',\n",
              "  'you',\n",
              "  'fools',\n",
              "  '!'],\n",
              " ['let', 'her', 'go', 'at', 'once', '!'],\n",
              " ['do',\n",
              "  'it',\n",
              "  'before',\n",
              "  'i',\n",
              "  'come',\n",
              "  'there',\n",
              "  'or',\n",
              "  'else',\n",
              "  'i',\n",
              "  'will',\n",
              "  'throw',\n",
              "  'each',\n",
              "  'one',\n",
              "  'of',\n",
              "  'you',\n",
              "  'into',\n",
              "  'the',\n",
              "  'water.',\n",
              "  '”',\n",
              "  'the',\n",
              "  'pirates',\n",
              "  'got',\n",
              "  'scared',\n",
              "  'and',\n",
              "  'immediately',\n",
              "  'released',\n",
              "  'the',\n",
              "  'princes',\n",
              "  '.'],\n",
              " ['she',\n",
              "  'quickly',\n",
              "  'dived',\n",
              "  'into',\n",
              "  'the',\n",
              "  'water',\n",
              "  'and',\n",
              "  'swam',\n",
              "  'to',\n",
              "  'the',\n",
              "  'safety',\n",
              "  'of',\n",
              "  'her',\n",
              "  'home',\n",
              "  '.'],\n",
              " ['soon',\n",
              "  'everyone',\n",
              "  'found',\n",
              "  'out',\n",
              "  'how',\n",
              "  'peter',\n",
              "  'pan',\n",
              "  'had',\n",
              "  'rescued',\n",
              "  'the',\n",
              "  'princess',\n",
              "  '.'],\n",
              " ['when',\n",
              "  'captain',\n",
              "  'hook',\n",
              "  'found',\n",
              "  'out',\n",
              "  'how',\n",
              "  'peter',\n",
              "  'had',\n",
              "  'tricked',\n",
              "  'his',\n",
              "  'men',\n",
              "  'he',\n",
              "  'was',\n",
              "  'furious',\n",
              "  '.'],\n",
              " ['and', 'swore', 'to', 'have', 'his', 'revenge', '.'],\n",
              " ['that',\n",
              "  'night',\n",
              "  'wendy',\n",
              "  'told',\n",
              "  'peter',\n",
              "  'pan',\n",
              "  ',',\n",
              "  'that',\n",
              "  'she',\n",
              "  'and',\n",
              "  'her',\n",
              "  'brother',\n",
              "  'wanted',\n",
              "  'to',\n",
              "  'go',\n",
              "  'back',\n",
              "  'home',\n",
              "  'since',\n",
              "  'they',\n",
              "  'missed',\n",
              "  'their',\n",
              "  'parents',\n",
              "  '.'],\n",
              " ['she',\n",
              "  'said',\n",
              "  'if',\n",
              "  'the',\n",
              "  'lost',\n",
              "  'children',\n",
              "  'could',\n",
              "  'also',\n",
              "  'return',\n",
              "  'to',\n",
              "  'her',\n",
              "  'world',\n",
              "  'they',\n",
              "  'could',\n",
              "  'find',\n",
              "  'a',\n",
              "  'nice',\n",
              "  'home',\n",
              "  'for',\n",
              "  'them',\n",
              "  '.'],\n",
              " ['peter', 'pan', 'didn', '’', 't', 'want', 'to', 'leave', 'neverland', '.'],\n",
              " ['but',\n",
              "  'the',\n",
              "  'sake',\n",
              "  'of',\n",
              "  'the',\n",
              "  'lost',\n",
              "  'children',\n",
              "  'he',\n",
              "  'agreed',\n",
              "  ',',\n",
              "  'although',\n",
              "  'a',\n",
              "  'bit',\n",
              "  'sadly',\n",
              "  '.'],\n",
              " ['he', 'would', 'miss', 'his', 'friends', 'dearly', '.'],\n",
              " ['the',\n",
              "  'next',\n",
              "  'morning',\n",
              "  'all',\n",
              "  'the',\n",
              "  'lost',\n",
              "  'children',\n",
              "  'left',\n",
              "  'with',\n",
              "  'wendy',\n",
              "  ',',\n",
              "  'jhon',\n",
              "  ',',\n",
              "  'and',\n",
              "  'michael',\n",
              "  '.'],\n",
              " ['but',\n",
              "  'on',\n",
              "  'the',\n",
              "  'way',\n",
              "  ',',\n",
              "  'captain',\n",
              "  'hook',\n",
              "  'and',\n",
              "  'his',\n",
              "  'men',\n",
              "  'kidnapped',\n",
              "  'all',\n",
              "  'of',\n",
              "  'them',\n",
              "  '.'],\n",
              " ['he',\n",
              "  'tied',\n",
              "  'them',\n",
              "  'and',\n",
              "  'kept',\n",
              "  'them',\n",
              "  'on',\n",
              "  'once',\n",
              "  'of',\n",
              "  'his',\n",
              "  'ships',\n",
              "  '.'],\n",
              " ['as',\n",
              "  'soon',\n",
              "  'as',\n",
              "  'peter',\n",
              "  'found',\n",
              "  'out',\n",
              "  'about',\n",
              "  'it',\n",
              "  'he',\n",
              "  'rushed',\n",
              "  'to',\n",
              "  'the',\n",
              "  'ship',\n",
              "  '.'],\n",
              " ['he',\n",
              "  'swung',\n",
              "  'himself',\n",
              "  'from',\n",
              "  'a',\n",
              "  'tress',\n",
              "  'branch',\n",
              "  'and',\n",
              "  'on',\n",
              "  'to',\n",
              "  'the',\n",
              "  'deck',\n",
              "  'of',\n",
              "  'the',\n",
              "  'ship',\n",
              "  'where',\n",
              "  'all',\n",
              "  'the',\n",
              "  'children',\n",
              "  'were',\n",
              "  'tied',\n",
              "  'up',\n",
              "  '.'],\n",
              " ['he',\n",
              "  'swung',\n",
              "  'his',\n",
              "  'sword',\n",
              "  'bravely',\n",
              "  'and',\n",
              "  'threw',\n",
              "  'over',\n",
              "  'the',\n",
              "  'pirates',\n",
              "  'who',\n",
              "  'tried',\n",
              "  'to',\n",
              "  'stop',\n",
              "  'him',\n",
              "  '.'],\n",
              " ['quickly',\n",
              "  'he',\n",
              "  'released',\n",
              "  'everyone',\n",
              "  'from',\n",
              "  'their',\n",
              "  'captor',\n",
              "  '’',\n",
              "  's',\n",
              "  'ties',\n",
              "  '.'],\n",
              " ['wendy',\n",
              "  ',',\n",
              "  'jhon',\n",
              "  ',',\n",
              "  'michael',\n",
              "  'and',\n",
              "  'tinker',\n",
              "  'bell',\n",
              "  'helped',\n",
              "  'all',\n",
              "  'the',\n",
              "  'children',\n",
              "  'into',\n",
              "  'the',\n",
              "  'water',\n",
              "  ',',\n",
              "  'where',\n",
              "  'their',\n",
              "  'friends',\n",
              "  'from',\n",
              "  'the',\n",
              "  'indian',\n",
              "  'camp',\n",
              "  'were',\n",
              "  'ready',\n",
              "  'with',\n",
              "  'smaller',\n",
              "  'boats',\n",
              "  'to',\n",
              "  'take',\n",
              "  'them',\n",
              "  'to',\n",
              "  'safety',\n",
              "  'peter',\n",
              "  'pan',\n",
              "  'now',\n",
              "  'went',\n",
              "  'looking',\n",
              "  'for',\n",
              "  'captain',\n",
              "  'hook',\n",
              "  '.'],\n",
              " ['“',\n",
              "  'let',\n",
              "  'us',\n",
              "  'finished',\n",
              "  'this',\n",
              "  'forever',\n",
              "  'mr.',\n",
              "  'hook',\n",
              "  '”',\n",
              "  ',',\n",
              "  'peter',\n",
              "  'challenged',\n",
              "  'captain',\n",
              "  'hook',\n",
              "  '.'],\n",
              " ['“', 'yes', '!'],\n",
              " ['peter',\n",
              "  'pan',\n",
              "  ',',\n",
              "  'you',\n",
              "  'have',\n",
              "  'caused',\n",
              "  'me',\n",
              "  'enough',\n",
              "  'trouble',\n",
              "  '.'],\n",
              " ['it',\n",
              "  'is',\n",
              "  'time',\n",
              "  'that',\n",
              "  'we',\n",
              "  'finished',\n",
              "  'this.',\n",
              "  '”',\n",
              "  'hook',\n",
              "  'replied',\n",
              "  '.'],\n",
              " ['with',\n",
              "  'his',\n",
              "  'sword',\n",
              "  'drawn',\n",
              "  ',',\n",
              "  'he',\n",
              "  'raced',\n",
              "  'towards',\n",
              "  'peter',\n",
              "  'pan',\n",
              "  '.'],\n",
              " ['quick',\n",
              "  'on',\n",
              "  'his',\n",
              "  'feet',\n",
              "  ',',\n",
              "  'peter',\n",
              "  'pan',\n",
              "  'stepped',\n",
              "  'aside',\n",
              "  'and',\n",
              "  'pushed',\n",
              "  'hook',\n",
              "  'inside',\n",
              "  'the',\n",
              "  'sea',\n",
              "  'where',\n",
              "  'the',\n",
              "  'crocodile',\n",
              "  'was',\n",
              "  'waiting',\n",
              "  'to',\n",
              "  'eat',\n",
              "  'the',\n",
              "  'rest',\n",
              "  'of',\n",
              "  'hook',\n",
              "  '.'],\n",
              " ['everyone',\n",
              "  'rejoiced',\n",
              "  'as',\n",
              "  'captain',\n",
              "  'hook',\n",
              "  'was',\n",
              "  'out',\n",
              "  'of',\n",
              "  'their',\n",
              "  'lives',\n",
              "  'forever',\n",
              "  '.'],\n",
              " ['everybody', 'headed', 'back', 'to', 'london', '.'],\n",
              " ['mr.', 'and', 'mrs', '.'],\n",
              " ['darling',\n",
              "  'was',\n",
              "  'so',\n",
              "  'happy',\n",
              "  'to',\n",
              "  'see',\n",
              "  'their',\n",
              "  'children',\n",
              "  'and',\n",
              "  'they',\n",
              "  'agreed',\n",
              "  'to',\n",
              "  'adopt',\n",
              "  'the',\n",
              "  'lost',\n",
              "  'children',\n",
              "  '.'],\n",
              " ['they',\n",
              "  'even',\n",
              "  'asked',\n",
              "  'peter',\n",
              "  'pan',\n",
              "  'to',\n",
              "  'come',\n",
              "  'and',\n",
              "  'live',\n",
              "  'with',\n",
              "  'them',\n",
              "  '.'],\n",
              " ['but',\n",
              "  'peter',\n",
              "  'pan',\n",
              "  'said',\n",
              "  ',',\n",
              "  'he',\n",
              "  'never',\n",
              "  'wanted',\n",
              "  'to',\n",
              "  'grow',\n",
              "  'up',\n",
              "  ',',\n",
              "  'so',\n",
              "  'he',\n",
              "  'and',\n",
              "  'tinker',\n",
              "  'bell',\n",
              "  'will',\n",
              "  'go',\n",
              "  'back',\n",
              "  'to',\n",
              "  'neverland',\n",
              "  '.'],\n",
              " ['peter',\n",
              "  'pan',\n",
              "  'promised',\n",
              "  'everyone',\n",
              "  'that',\n",
              "  'he',\n",
              "  'will',\n",
              "  'visit',\n",
              "  'again',\n",
              "  'sometime',\n",
              "  '!'],\n",
              " ['and',\n",
              "  'he',\n",
              "  'flew',\n",
              "  'out',\n",
              "  'of',\n",
              "  'the',\n",
              "  'window',\n",
              "  'with',\n",
              "  'tinker',\n",
              "  'bell',\n",
              "  'by',\n",
              "  'his',\n",
              "  'side',\n",
              "  '.']]"
            ]
          },
          "execution_count": 6,
          "metadata": {},
          "output_type": "execute_result"
        }
      ],
      "source": [
        "from nltk.tokenize import sent_tokenize, word_tokenize\n",
        "import warnings\n",
        "warnings.filterwarnings(action='ignore')\n",
        "import gensim\n",
        "from gensim.models import Word2Vec\n",
        "\n",
        "sample = open('./peter.txt', 'r', encoding='UTF8')\n",
        "s = sample.read()\n",
        "\n",
        "f = s.replace('\\n', ' ')\n",
        "data = []\n",
        "\n",
        "for i in sent_tokenize(f):\n",
        "    temp = []\n",
        "    for j in word_tokenize(i):\n",
        "        temp.append(j.lower())\n",
        "    data.append(temp)\n",
        "\n",
        "data"
      ]
    },
    {
      "cell_type": "code",
      "execution_count": null,
      "metadata": {
        "id": "aTxp_cCP94FP",
        "outputId": "3f3b511b-8f34-4de9-b236-92f1c81b7377"
      },
      "outputs": [
        {
          "name": "stdout",
          "output_type": "stream",
          "text": [
            "Cosine similarity between \"peter\" 'wendy' - CBOW :  0.10282581\n"
          ]
        }
      ],
      "source": [
        "model1 = gensim.models.Word2Vec(data, min_count=1,\n",
        "                                max_vocab_size=100, window=5, sg=0)\n",
        "print('Cosine similarity between \"peter\" ' +\n",
        "      \"'wendy' - CBOW : \",\n",
        "      model1.wv.similarity('peter', 'wendy'))"
      ]
    },
    {
      "cell_type": "code",
      "execution_count": null,
      "metadata": {
        "id": "pLohQ3ET94FP",
        "outputId": "82d67e00-30e1-48da-e25b-0034d46d6e0e"
      },
      "outputs": [
        {
          "name": "stdout",
          "output_type": "stream",
          "text": [
            "cosine similarity between 'peter' 'hook' - CBOW :  0.22283737\n"
          ]
        }
      ],
      "source": [
        "print(\"cosine similarity between 'peter' \" +\n",
        "      \"'hook' - CBOW : \",\n",
        "      model1.wv.similarity('peter', 'hook'))"
      ]
    },
    {
      "cell_type": "code",
      "execution_count": null,
      "metadata": {
        "id": "89zVFk5194FP",
        "outputId": "5e7a156c-917b-45c6-ebf5-5dab3cdd7f4b"
      },
      "outputs": [
        {
          "name": "stdout",
          "output_type": "stream",
          "text": [
            "Cosine similarity between \"peter\" 'wendy' - Skip gram :  0.41241685\n"
          ]
        }
      ],
      "source": [
        "model2 = gensim.models.Word2Vec(data, min_count=1,\n",
        "                                window=5, sg=1)\n",
        "print('Cosine similarity between \"peter\" ' +\n",
        "      \"'wendy' - Skip gram : \",\n",
        "      model2.wv.similarity('peter', 'wendy'))"
      ]
    },
    {
      "cell_type": "code",
      "execution_count": null,
      "metadata": {
        "id": "v22GXecE94FP",
        "outputId": "527f5b9a-e917-4664-db4d-a1c121efacd6"
      },
      "outputs": [
        {
          "name": "stdout",
          "output_type": "stream",
          "text": [
            "Cosine similarity between \"peter\" 'hook' - Skip gram :  0.49479905\n"
          ]
        }
      ],
      "source": [
        "print('Cosine similarity between \"peter\" ' +\n",
        "      \"'hook' - Skip gram : \",\n",
        "      model2.wv.similarity('peter', 'hook'))"
      ]
    },
    {
      "cell_type": "code",
      "execution_count": null,
      "metadata": {
        "id": "iQMgqahF94FP"
      },
      "outputs": [],
      "source": [
        "from gensim.test.utils import common_texts\n",
        "from gensim.models import FastText\n",
        "\n",
        "model = FastText('./peter.txt', window=3, min_count=1, iter=10)"
      ]
    },
    {
      "cell_type": "code",
      "execution_count": null,
      "metadata": {
        "id": "oGg2xuUB94FP",
        "outputId": "31896a85-6b4f-4427-fc9f-3a9dc1265c34"
      },
      "outputs": [
        {
          "name": "stdout",
          "output_type": "stream",
          "text": [
            "0.073549405\n"
          ]
        }
      ],
      "source": [
        "sim_score = model.wv.similarity('peter', 'wendy')\n",
        "print(sim_score)"
      ]
    },
    {
      "cell_type": "code",
      "execution_count": null,
      "metadata": {
        "id": "FF8SHy3W94FP",
        "outputId": "6ff28915-14ed-47e8-c54f-7963e4029570"
      },
      "outputs": [
        {
          "name": "stdout",
          "output_type": "stream",
          "text": [
            "-0.08767462\n"
          ]
        }
      ],
      "source": [
        "sim_score = model.wv.similarity('peter', 'hook')\n",
        "print(sim_score)"
      ]
    },
    {
      "cell_type": "code",
      "execution_count": null,
      "metadata": {
        "id": "XrwxQlej94FP"
      },
      "outputs": [],
      "source": [
        "from __future__ import print_function\n",
        "from gensim.models import KeyedVectors\n",
        "\n",
        "model_kr = KeyedVectors.load_word2vec_format('./wiki.ko.vec')"
      ]
    },
    {
      "cell_type": "code",
      "execution_count": null,
      "metadata": {
        "id": "AJEjXa2C94FP",
        "outputId": "9f539c27-b273-4dda-97a3-9ee848a8133e"
      },
      "outputs": [
        {
          "name": "stdout",
          "output_type": "stream",
          "text": [
            "Word: 노력함, Similarity: 0.80\n",
            "Word: 노력중, Similarity: 0.75\n",
            "Word: 노력만, Similarity: 0.72\n",
            "Word: 노력과, Similarity: 0.71\n",
            "Word: 노력의, Similarity: 0.69\n",
            "Word: 노력가, Similarity: 0.69\n",
            "Word: 노력이나, Similarity: 0.69\n",
            "Word: 노력없이, Similarity: 0.68\n",
            "Word: 노력맨, Similarity: 0.68\n",
            "Word: 노력보다는, Similarity: 0.68\n"
          ]
        }
      ],
      "source": [
        "find_similar_to = '노력'\n",
        "\n",
        "for similar_word in model_kr.similar_by_word(find_similar_to):\n",
        "    print('Word: {0}, Similarity: {1:.2f}'.format(\n",
        "        similar_word[0], similar_word[1]\n",
        "    ))"
      ]
    },
    {
      "cell_type": "code",
      "execution_count": null,
      "metadata": {
        "id": "qESCJheH94FQ",
        "outputId": "5e505c45-fb1c-446e-8db7-9768eff91786"
      },
      "outputs": [
        {
          "name": "stdout",
          "output_type": "stream",
          "text": [
            "[('초식동물', 0.7804122567176819), ('거대동물', 0.7547270059585571), ('육식동물의', 0.7547166347503662), ('유두동물', 0.7535113096237183), ('반추동물', 0.7470757961273193), ('독동물', 0.7466291785240173), ('육상동물', 0.746031641960144), ('유즐동물', 0.7450904250144958), ('극피동물', 0.7449344396591187), ('복모동물', 0.7424346208572388)]\n"
          ]
        }
      ],
      "source": [
        "similarities = model_kr.most_similar(positive=['동물', '육식동물'], negative=['사람'])\n",
        "print(similarities)"
      ]
    },
    {
      "cell_type": "code",
      "execution_count": null,
      "metadata": {
        "id": "OqOWH02894FQ",
        "outputId": "b62f830d-2e90-434d-efc7-72410fede855"
      },
      "outputs": [
        {
          "data": {
            "text/plain": [
              "(400000, 100)"
            ]
          },
          "execution_count": 23,
          "metadata": {},
          "output_type": "execute_result"
        }
      ],
      "source": [
        "import numpy as np\n",
        "%matplotlib notebook\n",
        "import matplotlib.pyplot as plt\n",
        "plt.style.use('ggplot')\n",
        "from sklearn.decomposition import PCA\n",
        "from gensim.test.utils import datapath, get_tmpfile\n",
        "from gensim.models import KeyedVectors\n",
        "from gensim.scripts.glove2word2vec import glove2word2vec\n",
        "\n",
        "glove_file = datapath('/Users/cakenpeace/2024_EWHA/EURON/EURON/Week 15/glove.6B.100d.txt')\n",
        "word2vec_glove_file = get_tmpfile('glove.6B.100d.word2vec.txt')\n",
        "glove2word2vec(glove_file, word2vec_glove_file)"
      ]
    },
    {
      "cell_type": "code",
      "execution_count": null,
      "metadata": {
        "id": "eVPjEoGO94FQ",
        "outputId": "471833ae-e4af-49de-a2a0-b558402e1f66"
      },
      "outputs": [
        {
          "data": {
            "text/plain": [
              "[('legislation', 0.8072139620780945),\n",
              " ('proposal', 0.7306863069534302),\n",
              " ('senate', 0.7142541408538818),\n",
              " ('bills', 0.7044401168823242),\n",
              " ('measure', 0.6958035230636597),\n",
              " ('passed', 0.690624475479126),\n",
              " ('amendment', 0.6846879720687866),\n",
              " ('provision', 0.6845567226409912),\n",
              " ('plan', 0.6816462874412537),\n",
              " ('clinton', 0.6663140058517456)]"
            ]
          },
          "execution_count": 24,
          "metadata": {},
          "output_type": "execute_result"
        }
      ],
      "source": [
        "model = KeyedVectors.load_word2vec_format(word2vec_glove_file)\n",
        "model.most_similar('bill')"
      ]
    },
    {
      "cell_type": "code",
      "execution_count": null,
      "metadata": {
        "id": "g_gW2K_i94FQ",
        "outputId": "3df32a92-165a-494e-88ad-12fb3e04a7e8"
      },
      "outputs": [
        {
          "data": {
            "text/plain": [
              "[('peach', 0.688809871673584),\n",
              " ('mango', 0.6838189959526062),\n",
              " ('plum', 0.6684104800224304),\n",
              " ('berry', 0.6590359210968018),\n",
              " ('grove', 0.658155083656311),\n",
              " ('blossom', 0.6503506898880005),\n",
              " ('raspberry', 0.6477391719818115),\n",
              " ('strawberry', 0.6442098617553711),\n",
              " ('pine', 0.6390928626060486),\n",
              " ('almond', 0.6379212737083435)]"
            ]
          },
          "execution_count": 25,
          "metadata": {},
          "output_type": "execute_result"
        }
      ],
      "source": [
        "model.most_similar('cherry')"
      ]
    },
    {
      "cell_type": "code",
      "execution_count": null,
      "metadata": {
        "id": "ywvLXWUw94FQ",
        "outputId": "33fb61d2-1091-4f08-f741-50060ffe8383"
      },
      "outputs": [
        {
          "data": {
            "text/plain": [
              "[('kazushige', 0.4834350645542145),\n",
              " ('askerov', 0.4778186082839966),\n",
              " ('lakpa', 0.46915262937545776),\n",
              " ('ex-gay', 0.45713329315185547),\n",
              " ('tadayoshi', 0.4522106647491455),\n",
              " ('turani', 0.4481006860733032),\n",
              " ('saglam', 0.4469599425792694),\n",
              " ('aijun', 0.4435270130634308),\n",
              " ('adjustors', 0.44235295057296753),\n",
              " ('nyum', 0.4423117935657501)]"
            ]
          },
          "execution_count": 26,
          "metadata": {},
          "output_type": "execute_result"
        }
      ],
      "source": [
        "model.most_similar(negative=['cherry'])"
      ]
    },
    {
      "cell_type": "code",
      "execution_count": null,
      "metadata": {
        "id": "HW1KVJsc94FQ",
        "outputId": "0bf6c280-7206-4d05-e900-6c8337218b4f"
      },
      "outputs": [
        {
          "name": "stdout",
          "output_type": "stream",
          "text": [
            "queen: 0.7699\n"
          ]
        }
      ],
      "source": [
        "result = model.most_similar(positive=['woman', 'king'], negative=['man'])\n",
        "print(\"{}: {:.4f}\".format(*result[0]))"
      ]
    },
    {
      "cell_type": "code",
      "execution_count": null,
      "metadata": {
        "id": "iGM09DJO94FQ",
        "outputId": "86b54bb3-4dd2-4f74-9d79-6ec6180ed78a"
      },
      "outputs": [
        {
          "data": {
            "text/plain": [
              "'champagne'"
            ]
          },
          "execution_count": 29,
          "metadata": {},
          "output_type": "execute_result"
        }
      ],
      "source": [
        "def analogy(x1, x2, y1):\n",
        "    result = model.most_similar(positive=[y1, x2], negative=[x1])\n",
        "    return result[0][0]\n",
        "analogy('australia', 'beer', 'france')"
      ]
    },
    {
      "cell_type": "code",
      "execution_count": null,
      "metadata": {
        "id": "r_FDpPEA94FQ",
        "outputId": "16bcc468-c56c-4b1a-8821-8edcfd07c71d"
      },
      "outputs": [
        {
          "data": {
            "text/plain": [
              "'longest'"
            ]
          },
          "execution_count": 30,
          "metadata": {},
          "output_type": "execute_result"
        }
      ],
      "source": [
        "analogy('tall', 'tallest', 'long')"
      ]
    },
    {
      "cell_type": "code",
      "execution_count": null,
      "metadata": {
        "id": "u7418QTL94FQ",
        "outputId": "d51b9bb2-56a8-46fd-8b5d-611f0a225de3"
      },
      "outputs": [
        {
          "ename": "TypeError",
          "evalue": "arrays to stack must be passed as a \"sequence\" type such as list or tuple.",
          "output_type": "error",
          "traceback": [
            "\u001b[0;31m---------------------------------------------------------------------------\u001b[0m",
            "\u001b[0;31mTypeError\u001b[0m                                 Traceback (most recent call last)",
            "Cell \u001b[0;32mIn[32], line 1\u001b[0m\n\u001b[0;32m----> 1\u001b[0m \u001b[38;5;28mprint\u001b[39m(\u001b[43mmodel\u001b[49m\u001b[38;5;241;43m.\u001b[39;49m\u001b[43mdoesnt_match\u001b[49m\u001b[43m(\u001b[49m\u001b[43m[\u001b[49m\u001b[38;5;124;43m'\u001b[39;49m\u001b[38;5;124;43mbreakfast\u001b[39;49m\u001b[38;5;124;43m'\u001b[39;49m\u001b[43m,\u001b[49m\u001b[43m \u001b[49m\u001b[38;5;124;43m'\u001b[39;49m\u001b[38;5;124;43mcereal\u001b[39;49m\u001b[38;5;124;43m'\u001b[39;49m\u001b[43m,\u001b[49m\u001b[43m \u001b[49m\u001b[38;5;124;43m'\u001b[39;49m\u001b[38;5;124;43mdinner\u001b[39;49m\u001b[38;5;124;43m'\u001b[39;49m\u001b[43m,\u001b[49m\u001b[43m \u001b[49m\u001b[38;5;124;43m'\u001b[39;49m\u001b[38;5;124;43mlunch\u001b[39;49m\u001b[38;5;124;43m'\u001b[39;49m\u001b[43m]\u001b[49m\u001b[43m)\u001b[49m)\n",
            "File \u001b[0;32m/opt/anaconda3/lib/python3.9/site-packages/gensim/models/keyedvectors.py:877\u001b[0m, in \u001b[0;36mWordEmbeddingsKeyedVectors.doesnt_match\u001b[0;34m(self, words)\u001b[0m\n\u001b[1;32m    875\u001b[0m \u001b[38;5;28;01mif\u001b[39;00m \u001b[38;5;129;01mnot\u001b[39;00m used_words:\n\u001b[1;32m    876\u001b[0m     \u001b[38;5;28;01mraise\u001b[39;00m \u001b[38;5;167;01mValueError\u001b[39;00m(\u001b[38;5;124m\"\u001b[39m\u001b[38;5;124mcannot select a word from an empty list\u001b[39m\u001b[38;5;124m\"\u001b[39m)\n\u001b[0;32m--> 877\u001b[0m vectors \u001b[38;5;241m=\u001b[39m \u001b[43mvstack\u001b[49m\u001b[43m(\u001b[49m\u001b[38;5;28;43mself\u001b[39;49m\u001b[38;5;241;43m.\u001b[39;49m\u001b[43mword_vec\u001b[49m\u001b[43m(\u001b[49m\u001b[43mword\u001b[49m\u001b[43m,\u001b[49m\u001b[43m \u001b[49m\u001b[43muse_norm\u001b[49m\u001b[38;5;241;43m=\u001b[39;49m\u001b[38;5;28;43;01mTrue\u001b[39;49;00m\u001b[43m)\u001b[49m\u001b[43m \u001b[49m\u001b[38;5;28;43;01mfor\u001b[39;49;00m\u001b[43m \u001b[49m\u001b[43mword\u001b[49m\u001b[43m \u001b[49m\u001b[38;5;129;43;01min\u001b[39;49;00m\u001b[43m \u001b[49m\u001b[43mused_words\u001b[49m\u001b[43m)\u001b[49m\u001b[38;5;241m.\u001b[39mastype(REAL)\n\u001b[1;32m    878\u001b[0m mean \u001b[38;5;241m=\u001b[39m matutils\u001b[38;5;241m.\u001b[39munitvec(vectors\u001b[38;5;241m.\u001b[39mmean(axis\u001b[38;5;241m=\u001b[39m\u001b[38;5;241m0\u001b[39m))\u001b[38;5;241m.\u001b[39mastype(REAL)\n\u001b[1;32m    879\u001b[0m dists \u001b[38;5;241m=\u001b[39m dot(vectors, mean)\n",
            "File \u001b[0;32m/opt/anaconda3/lib/python3.9/site-packages/numpy/core/shape_base.py:216\u001b[0m, in \u001b[0;36m_vhstack_dispatcher\u001b[0;34m(tup, dtype, casting)\u001b[0m\n\u001b[1;32m    215\u001b[0m \u001b[38;5;28;01mdef\u001b[39;00m \u001b[38;5;21m_vhstack_dispatcher\u001b[39m(tup, \u001b[38;5;241m*\u001b[39m, dtype\u001b[38;5;241m=\u001b[39m\u001b[38;5;28;01mNone\u001b[39;00m, casting\u001b[38;5;241m=\u001b[39m\u001b[38;5;28;01mNone\u001b[39;00m):\n\u001b[0;32m--> 216\u001b[0m     \u001b[38;5;28;01mreturn\u001b[39;00m \u001b[43m_arrays_for_stack_dispatcher\u001b[49m\u001b[43m(\u001b[49m\u001b[43mtup\u001b[49m\u001b[43m)\u001b[49m\n",
            "File \u001b[0;32m/opt/anaconda3/lib/python3.9/site-packages/numpy/core/shape_base.py:209\u001b[0m, in \u001b[0;36m_arrays_for_stack_dispatcher\u001b[0;34m(arrays)\u001b[0m\n\u001b[1;32m    207\u001b[0m \u001b[38;5;28;01mdef\u001b[39;00m \u001b[38;5;21m_arrays_for_stack_dispatcher\u001b[39m(arrays):\n\u001b[1;32m    208\u001b[0m     \u001b[38;5;28;01mif\u001b[39;00m \u001b[38;5;129;01mnot\u001b[39;00m \u001b[38;5;28mhasattr\u001b[39m(arrays, \u001b[38;5;124m\"\u001b[39m\u001b[38;5;124m__getitem__\u001b[39m\u001b[38;5;124m\"\u001b[39m):\n\u001b[0;32m--> 209\u001b[0m         \u001b[38;5;28;01mraise\u001b[39;00m \u001b[38;5;167;01mTypeError\u001b[39;00m(\u001b[38;5;124m'\u001b[39m\u001b[38;5;124marrays to stack must be passed as a \u001b[39m\u001b[38;5;124m\"\u001b[39m\u001b[38;5;124msequence\u001b[39m\u001b[38;5;124m\"\u001b[39m\u001b[38;5;124m type \u001b[39m\u001b[38;5;124m'\u001b[39m\n\u001b[1;32m    210\u001b[0m                         \u001b[38;5;124m'\u001b[39m\u001b[38;5;124msuch as list or tuple.\u001b[39m\u001b[38;5;124m'\u001b[39m)\n\u001b[1;32m    212\u001b[0m     \u001b[38;5;28;01mreturn\u001b[39;00m \u001b[38;5;28mtuple\u001b[39m(arrays)\n",
            "\u001b[0;31mTypeError\u001b[0m: arrays to stack must be passed as a \"sequence\" type such as list or tuple."
          ]
        }
      ],
      "source": [
        "print(model.doesnt_match(['breakfast', 'cereal', 'dinner', 'lunch']))"
      ]
    },
    {
      "cell_type": "code",
      "execution_count": null,
      "metadata": {
        "id": "A_rcCvcD94FQ"
      },
      "outputs": [],
      "source": [
        "from __future__ import unicode_literals, print_function, division\n",
        "import torch\n",
        "import torch.nn as nn\n",
        "import torch.optim as optim\n",
        "import torch.nn.functional as F\n",
        "\n",
        "import numpy as np\n",
        "import pandas as pd\n",
        "\n",
        "import os\n",
        "import re\n",
        "import random"
      ]
    },
    {
      "cell_type": "code",
      "execution_count": null,
      "metadata": {
        "id": "jy_khQaH94FQ"
      },
      "outputs": [],
      "source": [
        "\n",
        "SOS_token = 0\n",
        "EOS_token = 1\n",
        "MAX_LENGTH = 20\n",
        "\n",
        "class Lang:\n",
        "    def __init__(self):\n",
        "        self.word2index = {}\n",
        "        self.word2count = {}\n",
        "        self.index2word = {0: \"SOS\", 1: \"EOS\"}\n",
        "        self.n_words = 2\n",
        "\n",
        "    def addSentence(self, sentence):\n",
        "        for word in sentence.split(' '):\n",
        "            self.addWord(word)\n",
        "\n",
        "    def addWord(self, word):\n",
        "        if word not in self.word2index:\n",
        "            self.word2index[word] = self.n_words\n",
        "            self.word2count[word] = 1\n",
        "            self.index2word[self.n_words] = word\n",
        "            self.n_words += 1\n",
        "        else:\n",
        "            self.word2count[word] += 1"
      ]
    },
    {
      "cell_type": "code",
      "execution_count": null,
      "metadata": {
        "id": "IkIPuzUL94FQ"
      },
      "outputs": [],
      "source": [
        "def normalizeString(df, lang):\n",
        "    sentence = df[lang].str.lower()\n",
        "    sentence = sentence.str.replace('[^A-Za-z\\s]+', '')\n",
        "    sentence = sentence.str.normalize('NFD')\n",
        "    sentence = sentence.str.encode('ascii', errors='ignore').str.decode('utf-8')\n",
        "    return sentence\n",
        "\n",
        "def read_sentence(df, lang1, lang2):\n",
        "    sentence1 = normalizeString(df, lang1)\n",
        "    sentence2 = normalizeString(df, lang2)\n",
        "    return sentence1, sentence2\n",
        "\n",
        "def read_file(loc, lang1, lang2):\n",
        "    df = pd.read_csv(loc, delimiter='\\t', header=None, names=[lang1, lang2])\n",
        "    return df\n",
        "\n",
        "def process_data(lang1,lang2):\n",
        "    df = read_file('/content/%s-%s.txt' % (lang1, lang2), lang1, lang2)\n",
        "    sentence1, sentence2 = read_sentence(df, lang1, lang2)\n",
        "\n",
        "    input_lang = Lang()\n",
        "    output_lang = Lang()\n",
        "    pairs = []\n",
        "    for i in range(len(df)):\n",
        "        if len(sentence1[i].split(' ')) < MAX_LENGTH and len(sentence2[i].split(' ')) < MAX_LENGTH:\n",
        "            full = [sentence1[i], sentence2[i]]\n",
        "            input_lang.addSentence(sentence1[i])\n",
        "            output_lang.addSentence(sentence2[i])\n",
        "            pairs.append(full)\n",
        "\n",
        "    return input_lang, output_lang, pairs"
      ]
    },
    {
      "cell_type": "code",
      "execution_count": null,
      "metadata": {
        "id": "ggwXMcAV94FR"
      },
      "outputs": [],
      "source": [
        "def indexesFromSentence(lang, sentence):\n",
        "    return [lang.word2index[word] for word in sentence.split(' ')]\n",
        "\n",
        "def tensorFromSentence(lang, sentence):\n",
        "    indexes = indexesFromSentence(lang, sentence)\n",
        "    indexes.append(EOS_token)\n",
        "    return torch.tensor(indexes, dtype=torch.long, device=device).view(-1, 1)\n",
        "\n",
        "def tensorsFromPair(input_lang, output_lang, pair):\n",
        "    input_tensor = tensorFromSentence(input_lang, pair[0])\n",
        "    target_tensor = tensorFromSentence(output_lang, pair[1])\n",
        "    return (input_tensor, target_tensor)"
      ]
    },
    {
      "cell_type": "code",
      "execution_count": null,
      "metadata": {
        "id": "nLByVf4R94FR"
      },
      "outputs": [],
      "source": [
        "class Encoder(nn.Module):\n",
        "    def __init__(self, input_dim, hidden_dim, embbed_dim, num_layers):\n",
        "        super(Encoder, self).__init__()\n",
        "        self.input_dim = input_dim\n",
        "        self.embbed_dim = embbed_dim\n",
        "        self.hidden_dim = hidden_dim\n",
        "        self.num_layers = num_layers\n",
        "        self.embedding = nn.Embedding(input_dim, self.embbed_dim)\n",
        "        self.gru = nn.GRU(self.embbed_dim, self.hidden_dim, num_layers=self.num_layers)\n",
        "\n",
        "    def forward(self, src):\n",
        "        embedded = self.embedding(src).view(1, 1, -1)\n",
        "        outputs, hidden = self.gru(embedded)\n",
        "        return outputs, hidden"
      ]
    },
    {
      "cell_type": "code",
      "execution_count": null,
      "metadata": {
        "id": "BgLF9pwV94FR"
      },
      "outputs": [],
      "source": [
        "class Decoder(nn.Module):\n",
        "    def __init__(self, output_dim, hidden_dim, embbed_dim, num_layers):\n",
        "        super(Decoder, self).__init__()\n",
        "\n",
        "        self.embbed_dim = embbed_dim\n",
        "        self.hidden_dim = hidden_dim\n",
        "        self.output_dim = output_dim\n",
        "        self.num_layers = num_layers\n",
        "\n",
        "        self.embedding = nn.Embedding(output_dim, self.embbed_dim)\n",
        "        self.gru = nn.GRU(self.embbed_dim, self.hidden_dim, num_layers=self.num_layers)\n",
        "        self.out = nn.Linear(self.hidden_dim, output_dim)\n",
        "        self.softmax = nn.LogSoftmax(dim=1)\n",
        "\n",
        "    def forward(self, input, hidden):\n",
        "        input = input.view(1, -1)\n",
        "        embedded = F.relu(self.embedding(input))\n",
        "        output, hidden = self.gru(embedded, hidden)\n",
        "        prediction = self.softmax(self.out(output[0]))\n",
        "        return prediction, hidden"
      ]
    },
    {
      "cell_type": "code",
      "execution_count": null,
      "metadata": {
        "id": "pMDZt6Tz94FR"
      },
      "outputs": [],
      "source": [
        "class Seq2Seq(nn.Module):\n",
        "    def __init__(self, encoder, decoder, device, MAX_LENGTH=MAX_LENGTH):\n",
        "        super().__init__()\n",
        "\n",
        "        self.encoder = encoder\n",
        "        self.decoder = decoder\n",
        "        self.device = device\n",
        "\n",
        "    def forward(self, input_lang, output_lang, teacher_forcing_ratio=0.5):\n",
        "\n",
        "        input_length = input_lang.size(0)\n",
        "        batch_size = output_lang.shape[1]\n",
        "        target_length = output_lang.shape[0]\n",
        "        vocab_size = self.decoder.output_dim\n",
        "        outputs = torch.zeros(target_length, batch_size, vocab_size).to(self.device)\n",
        "\n",
        "        for i in range(input_length):\n",
        "            encoder_output, encoder_hidden = self.encoder(input_lang[i])\n",
        "\n",
        "        decoder_hidden = encoder_hidden.to(device)\n",
        "        decoder_input = torch.tensor([SOS_token], device=device)\n",
        "\n",
        "        for t in range(target_length):\n",
        "            decoder_output, decoder_hidden = self.decoder(decoder_input, decoder_hidden)\n",
        "            outputs[t] = decoder_output\n",
        "            teacher_force = random.random() < teacher_forcing_ratio\n",
        "            topv, topi = decoder_output.topk(1)\n",
        "            input = (output_lang[t] if teacher_force else topi)\n",
        "            if(teacher_force == False and input.item() == EOS_token):\n",
        "                break\n",
        "        return outputs"
      ]
    },
    {
      "cell_type": "code",
      "execution_count": null,
      "metadata": {
        "id": "qdT9DS_r94FR"
      },
      "outputs": [],
      "source": [
        "teacher_forcing_ratio = 0.5\n",
        "\n",
        "def Model(model, input_tensor, target_tensor, model_optimizer, criterion):\n",
        "    model_optimizer.zero_grad()\n",
        "    input_length = input_tensor.size(0)\n",
        "    loss = 0\n",
        "    epoch_loss = 0\n",
        "    output = model(input_tensor, target_tensor)\n",
        "    num_iter = output.size(0)\n",
        "\n",
        "    for ot in range(num_iter):\n",
        "        loss += criterion(output[ot], target_tensor[ot])\n",
        "\n",
        "    loss.backward()\n",
        "    model_optimizer.step()\n",
        "    epoch_loss = loss.item() / num_iter\n",
        "    return epoch_loss"
      ]
    },
    {
      "cell_type": "code",
      "execution_count": null,
      "metadata": {
        "id": "uxqcbVUZ94FR"
      },
      "outputs": [],
      "source": [
        "\n",
        "def trainModel(model, input_lang, output_lang, pairs, num_iteration=20000):\n",
        "    model.train()\n",
        "    optimizer = optim.SGD(model.parameters(), lr=0.01)\n",
        "    criterion = nn.NLLLoss()\n",
        "    total_loss_iterations = 0\n",
        "\n",
        "    training_pairs = [tensorsFromPair(input_lang, output_lang, random.choice(pairs))\n",
        "                      for i in range(num_iteration)]\n",
        "\n",
        "    for iter in range(1, num_iteration+1):\n",
        "        training_pair = training_pairs[iter - 1]\n",
        "        input_tensor = training_pair[0]\n",
        "        target_tensor = training_pair[1]\n",
        "        loss = Model(model, input_tensor, target_tensor, optimizer, criterion)\n",
        "        total_loss_iterations += loss\n",
        "\n",
        "        if iter % 5000 == 0:\n",
        "            average_loss= total_loss_iterations / 5000\n",
        "            total_loss_iterations = 0\n",
        "            print('%d %.4f' % (iter, average_loss))\n",
        "\n",
        "    torch.save(model.state_dict(), './mytraining.pt')\n",
        "    return model"
      ]
    },
    {
      "cell_type": "code",
      "execution_count": null,
      "metadata": {
        "id": "JdxnGNC-94FR"
      },
      "outputs": [],
      "source": [
        "def evaluate(model, input_lang, output_lang, sentences, max_length=MAX_LENGTH):\n",
        "    with torch.no_grad():\n",
        "        input_tensor = tensorFromSentence(input_lang, sentences[0])\n",
        "        output_tensor = tensorFromSentence(output_lang, sentences[1])\n",
        "        decoded_words = []\n",
        "        output = model(input_tensor, output_tensor)\n",
        "\n",
        "        for ot in range(output.size(0)):\n",
        "            topv, topi = output[ot].topk(1)\n",
        "\n",
        "            if topi[0].item() == EOS_token:\n",
        "                decoded_words.append('<EOS>')\n",
        "                break\n",
        "            else:\n",
        "                decoded_words.append(output_lang.index2word[topi[0].item()])\n",
        "    return decoded_words\n",
        "\n",
        "def evaluateRandomly(model, input_lang, output_lang, pairs, n=10):\n",
        "    for i in range(n):\n",
        "        pair = random.choice(pairs)\n",
        "        print('input {}'.format(pair[0]))\n",
        "        print('output {}'.format(pair[1]))\n",
        "        output_words = evaluate(model, input_lang, output_lang, pair)\n",
        "        output_sentence = ' '.join(output_words)\n",
        "        print('predicted {}'.format(output_sentence))"
      ]
    },
    {
      "cell_type": "code",
      "execution_count": null,
      "metadata": {
        "colab": {
          "base_uri": "https://localhost:8080/"
        },
        "id": "t8YmnlO_94FR",
        "outputId": "4679412e-65fd-4d0d-8e29-f907cce024ea"
      },
      "outputs": [
        {
          "output_type": "stream",
          "name": "stderr",
          "text": [
            "<ipython-input-17-f2b97267f8a3>:25: FutureWarning: Series.__getitem__ treating keys as positions is deprecated. In a future version, integer keys will always be treated as labels (consistent with DataFrame behavior). To access a value by position, use `ser.iloc[pos]`\n",
            "  if len(sentence1[i].split(' ')) < MAX_LENGTH and len(sentence2[i].split(' ')) < MAX_LENGTH:\n",
            "<ipython-input-17-f2b97267f8a3>:26: FutureWarning: Series.__getitem__ treating keys as positions is deprecated. In a future version, integer keys will always be treated as labels (consistent with DataFrame behavior). To access a value by position, use `ser.iloc[pos]`\n",
            "  full = [sentence1[i], sentence2[i]]\n",
            "<ipython-input-17-f2b97267f8a3>:27: FutureWarning: Series.__getitem__ treating keys as positions is deprecated. In a future version, integer keys will always be treated as labels (consistent with DataFrame behavior). To access a value by position, use `ser.iloc[pos]`\n",
            "  input_lang.addSentence(sentence1[i])\n",
            "<ipython-input-17-f2b97267f8a3>:28: FutureWarning: Series.__getitem__ treating keys as positions is deprecated. In a future version, integer keys will always be treated as labels (consistent with DataFrame behavior). To access a value by position, use `ser.iloc[pos]`\n",
            "  output_lang.addSentence(sentence2[i])\n"
          ]
        },
        {
          "output_type": "stream",
          "name": "stdout",
          "text": [
            "random sentence [\"ce n'est pas serieux.\", 'cc-by 2.0 (france) attribution: tatoeba.org #2249131 (ck) & #15404 (aiji)']\n",
            "Input : 49951 Output : 374182\n",
            "Encoder(\n",
            "  (embedding): Embedding(49951, 256)\n",
            "  (gru): GRU(256, 512)\n",
            ")\n",
            "Decoder(\n",
            "  (embedding): Embedding(374182, 256)\n",
            "  (gru): GRU(256, 512)\n",
            "  (out): Linear(in_features=512, out_features=374182, bias=True)\n",
            "  (softmax): LogSoftmax(dim=1)\n",
            ")\n"
          ]
        }
      ],
      "source": [
        "lang1 = 'eng'\n",
        "lang2 = 'fra'\n",
        "input_lang, output_lang, pairs = process_data(lang1, lang2)\n",
        "\n",
        "randomize = random.choice(pairs)\n",
        "print('random sentence {}'.format(randomize))\n",
        "\n",
        "input_size = input_lang.n_words\n",
        "output_size = output_lang.n_words\n",
        "print('Input : {} Output : {}'.format(input_size, output_size))\n",
        "\n",
        "embed_size = 256\n",
        "hidden_size = 512\n",
        "num_layers = 1\n",
        "num_iteration = 100\n",
        "\n",
        "encoder = Encoder(input_size, hidden_size, embed_size, num_layers)\n",
        "decoder = Decoder(output_size, hidden_size, embed_size, num_layers)\n",
        "\n",
        "model = Seq2Seq(encoder, decoder, device).to(device)\n",
        "\n",
        "print(encoder)\n",
        "print(decoder)\n",
        "\n",
        "model = trainModel(model, input_lang, output_lang, pairs, num_iteration)"
      ]
    },
    {
      "cell_type": "code",
      "source": [
        "print(torch.cuda.is_available())"
      ],
      "metadata": {
        "colab": {
          "base_uri": "https://localhost:8080/"
        },
        "id": "La2SC5IK-j2U",
        "outputId": "bf4fb0b0-f039-41f5-965a-3bf2296b627f"
      },
      "execution_count": null,
      "outputs": [
        {
          "output_type": "stream",
          "name": "stdout",
          "text": [
            "True\n"
          ]
        }
      ]
    },
    {
      "cell_type": "code",
      "execution_count": null,
      "metadata": {
        "id": "ckLSx-lI94FR"
      },
      "outputs": [],
      "source": [
        "device = torch.device(\"cuda\")"
      ]
    },
    {
      "cell_type": "code",
      "execution_count": null,
      "metadata": {
        "id": "0Wmn9T9K94FR"
      },
      "outputs": [],
      "source": [
        "class AttnDecoderRNN(nn.Module):\n",
        "    def __init__(self, hidden_size, output_size, dropout_p=0.1, max_length=MAX_LENGTH):\n",
        "        super(AttnDecoderRNN, self).__init__()\n",
        "        self.hidden_size = hidden_size\n",
        "        self.output_size = output_size\n",
        "        self.dropout_p = dropout_p\n",
        "        self.max_length = max_length\n",
        "\n",
        "        self.embedding = nn.Embedding(self.output_size, self.hidden_size)\n",
        "        self.attn = nn.Linear(self.hidden_size * 2, self.max_length)\n",
        "        self.attn_combine = nn.Linear(self.hidden_size * 2, self.hidden_size)\n",
        "        self.dropout = nn.Dropout(self.dropout_p)\n",
        "        self.gru = nn.GRU(self.hidden_size, self.hidden_size)\n",
        "        self.out = nn.Linear(self.hidden_size, self.output_size)\n",
        "\n",
        "    def forward(self, input, hidden, encoder_outputs):\n",
        "        embedded = self.embedding(input).view(1, 1, -1)\n",
        "        embedded = self.dropout(embedded)\n",
        "\n",
        "        attn_weights = F.softmax(\n",
        "            self.attn(torch.cat((embedded[0], hidden[0]), 1)), dim=1)\n",
        "        attn_applied = torch.bmm(attn_weights.unsqueeze(0),\n",
        "                                 encoder_outputs.unsqueeze(0))\n",
        "\n",
        "        output = torch.cat((embedded[0], attn_applied[0]), 1)\n",
        "        output = self.attn_combine(output).unsqueeze(0)\n",
        "\n",
        "        output = F.relu(output)\n",
        "        output, hidden = self.gru(output, hidden)\n",
        "\n",
        "        output = F.log_softmax(self.out(output[0]), dim=1)\n",
        "        return output, hidden, attn_weights"
      ]
    },
    {
      "cell_type": "code",
      "source": [
        "import time"
      ],
      "metadata": {
        "id": "lRnaVedSAO-F"
      },
      "execution_count": null,
      "outputs": []
    },
    {
      "cell_type": "code",
      "execution_count": null,
      "metadata": {
        "id": "Bv2VVOkZ94FR"
      },
      "outputs": [],
      "source": [
        "def trainIters(encoder, decoder, n_iters, print_every=1000, plot_every=100, learning_rate=0.01):\n",
        "    start = time.time()\n",
        "    plot_losses = []\n",
        "    print_loss_total = 0\n",
        "    plot_loss_total = 0\n",
        "\n",
        "    encoder_optimizer = optim.SGD(encoder.parameters(), lr=learning_rate)\n",
        "    decoder_optimizer = optim.SGD(decoder.parameters(), lr=learning_rate)\n",
        "    training_pairs = [tensorsFromPair(input_lang, output_lang, random.choice(pairs))\n",
        "                      for i in range(n_iters)]\n",
        "    criterion = nn.NLLLoss()\n",
        "\n",
        "    for iter in range(1, n_iters + 1):\n",
        "        training_pair = training_pairs[iter - 1]\n",
        "        input_tensor = training_pair[0]\n",
        "        target_tensor = training_pair[1]\n",
        "        loss = Model(model, input_tensor, target_tensor, decoder_optimizer, criterion)\n",
        "        print_loss_total += loss\n",
        "        plot_loss_total += loss\n",
        "\n",
        "        if iter % 5000 == 0:\n",
        "            print_loss_avg = print_loss_total / 5000\n",
        "            print_loss_total = 0\n",
        "            print('%d,  %.4f' % (iter, print_loss_avg))"
      ]
    },
    {
      "cell_type": "code",
      "execution_count": null,
      "metadata": {
        "colab": {
          "base_uri": "https://localhost:8080/"
        },
        "id": "Qos1dRje94FS",
        "outputId": "43938700-4bfd-480b-e494-7937b64580d0"
      },
      "outputs": [
        {
          "output_type": "stream",
          "name": "stdout",
          "text": [
            "Encoder(\n",
            "  (embedding): Embedding(49951, 256)\n",
            "  (gru): GRU(256, 512)\n",
            ")\n",
            "AttnDecoderRNN(\n",
            "  (embedding): Embedding(374182, 512)\n",
            "  (attn): Linear(in_features=1024, out_features=20, bias=True)\n",
            "  (attn_combine): Linear(in_features=1024, out_features=512, bias=True)\n",
            "  (dropout): Dropout(p=0.1, inplace=False)\n",
            "  (gru): GRU(512, 512)\n",
            "  (out): Linear(in_features=512, out_features=374182, bias=True)\n",
            ")\n"
          ]
        }
      ],
      "source": [
        "embed_size = 256\n",
        "hidden_size = 512\n",
        "num_layers = 1\n",
        "input_size = input_lang.n_words\n",
        "output_size = output_lang.n_words\n",
        "\n",
        "encoder1 = Encoder(input_size, hidden_size, embed_size, num_layers)\n",
        "attn_decoder1 = AttnDecoderRNN(hidden_size, output_size, dropout_p=0.1).to(device)\n",
        "\n",
        "print(encoder1)\n",
        "print(attn_decoder1)\n",
        "\n",
        "attn_model = trainIters(encoder1, attn_decoder1, 100, print_every=5000, plot_every=100, learning_rate=0.01)"
      ]
    },
    {
      "cell_type": "code",
      "source": [
        "!pip install pytorch_transformers"
      ],
      "metadata": {
        "colab": {
          "base_uri": "https://localhost:8080/"
        },
        "id": "uBr4ijdgAhmm",
        "outputId": "4ed80f7a-7598-4c74-d3f1-213adc305980"
      },
      "execution_count": null,
      "outputs": [
        {
          "output_type": "stream",
          "name": "stdout",
          "text": [
            "Collecting pytorch_transformers\n",
            "  Downloading pytorch_transformers-1.2.0-py3-none-any.whl.metadata (21 kB)\n",
            "Requirement already satisfied: torch>=1.0.0 in /usr/local/lib/python3.10/dist-packages (from pytorch_transformers) (2.5.1+cu121)\n",
            "Requirement already satisfied: numpy in /usr/local/lib/python3.10/dist-packages (from pytorch_transformers) (1.26.4)\n",
            "Collecting boto3 (from pytorch_transformers)\n",
            "  Downloading boto3-1.35.90-py3-none-any.whl.metadata (6.7 kB)\n",
            "Requirement already satisfied: requests in /usr/local/lib/python3.10/dist-packages (from pytorch_transformers) (2.32.3)\n",
            "Requirement already satisfied: tqdm in /usr/local/lib/python3.10/dist-packages (from pytorch_transformers) (4.67.1)\n",
            "Requirement already satisfied: regex in /usr/local/lib/python3.10/dist-packages (from pytorch_transformers) (2024.11.6)\n",
            "Requirement already satisfied: sentencepiece in /usr/local/lib/python3.10/dist-packages (from pytorch_transformers) (0.2.0)\n",
            "Collecting sacremoses (from pytorch_transformers)\n",
            "  Downloading sacremoses-0.1.1-py3-none-any.whl.metadata (8.3 kB)\n",
            "Requirement already satisfied: filelock in /usr/local/lib/python3.10/dist-packages (from torch>=1.0.0->pytorch_transformers) (3.16.1)\n",
            "Requirement already satisfied: typing-extensions>=4.8.0 in /usr/local/lib/python3.10/dist-packages (from torch>=1.0.0->pytorch_transformers) (4.12.2)\n",
            "Requirement already satisfied: networkx in /usr/local/lib/python3.10/dist-packages (from torch>=1.0.0->pytorch_transformers) (3.4.2)\n",
            "Requirement already satisfied: jinja2 in /usr/local/lib/python3.10/dist-packages (from torch>=1.0.0->pytorch_transformers) (3.1.4)\n",
            "Requirement already satisfied: fsspec in /usr/local/lib/python3.10/dist-packages (from torch>=1.0.0->pytorch_transformers) (2024.10.0)\n",
            "Requirement already satisfied: sympy==1.13.1 in /usr/local/lib/python3.10/dist-packages (from torch>=1.0.0->pytorch_transformers) (1.13.1)\n",
            "Requirement already satisfied: mpmath<1.4,>=1.1.0 in /usr/local/lib/python3.10/dist-packages (from sympy==1.13.1->torch>=1.0.0->pytorch_transformers) (1.3.0)\n",
            "Collecting botocore<1.36.0,>=1.35.90 (from boto3->pytorch_transformers)\n",
            "  Downloading botocore-1.35.90-py3-none-any.whl.metadata (5.7 kB)\n",
            "Collecting jmespath<2.0.0,>=0.7.1 (from boto3->pytorch_transformers)\n",
            "  Downloading jmespath-1.0.1-py3-none-any.whl.metadata (7.6 kB)\n",
            "Collecting s3transfer<0.11.0,>=0.10.0 (from boto3->pytorch_transformers)\n",
            "  Downloading s3transfer-0.10.4-py3-none-any.whl.metadata (1.7 kB)\n",
            "Requirement already satisfied: charset-normalizer<4,>=2 in /usr/local/lib/python3.10/dist-packages (from requests->pytorch_transformers) (3.4.0)\n",
            "Requirement already satisfied: idna<4,>=2.5 in /usr/local/lib/python3.10/dist-packages (from requests->pytorch_transformers) (3.10)\n",
            "Requirement already satisfied: urllib3<3,>=1.21.1 in /usr/local/lib/python3.10/dist-packages (from requests->pytorch_transformers) (2.2.3)\n",
            "Requirement already satisfied: certifi>=2017.4.17 in /usr/local/lib/python3.10/dist-packages (from requests->pytorch_transformers) (2024.12.14)\n",
            "Requirement already satisfied: click in /usr/local/lib/python3.10/dist-packages (from sacremoses->pytorch_transformers) (8.1.7)\n",
            "Requirement already satisfied: joblib in /usr/local/lib/python3.10/dist-packages (from sacremoses->pytorch_transformers) (1.4.2)\n",
            "Requirement already satisfied: python-dateutil<3.0.0,>=2.1 in /usr/local/lib/python3.10/dist-packages (from botocore<1.36.0,>=1.35.90->boto3->pytorch_transformers) (2.8.2)\n",
            "Requirement already satisfied: MarkupSafe>=2.0 in /usr/local/lib/python3.10/dist-packages (from jinja2->torch>=1.0.0->pytorch_transformers) (3.0.2)\n",
            "Requirement already satisfied: six>=1.5 in /usr/local/lib/python3.10/dist-packages (from python-dateutil<3.0.0,>=2.1->botocore<1.36.0,>=1.35.90->boto3->pytorch_transformers) (1.17.0)\n",
            "Downloading pytorch_transformers-1.2.0-py3-none-any.whl (176 kB)\n",
            "\u001b[2K   \u001b[90m━━━━━━━━━━━━━━━━━━━━━━━━━━━━━━━━━━━━━━━━\u001b[0m \u001b[32m176.4/176.4 kB\u001b[0m \u001b[31m13.5 MB/s\u001b[0m eta \u001b[36m0:00:00\u001b[0m\n",
            "\u001b[?25hDownloading boto3-1.35.90-py3-none-any.whl (139 kB)\n",
            "\u001b[2K   \u001b[90m━━━━━━━━━━━━━━━━━━━━━━━━━━━━━━━━━━━━━━━━\u001b[0m \u001b[32m139.2/139.2 kB\u001b[0m \u001b[31m14.7 MB/s\u001b[0m eta \u001b[36m0:00:00\u001b[0m\n",
            "\u001b[?25hDownloading sacremoses-0.1.1-py3-none-any.whl (897 kB)\n",
            "\u001b[2K   \u001b[90m━━━━━━━━━━━━━━━━━━━━━━━━━━━━━━━━━━━━━━━━\u001b[0m \u001b[32m897.5/897.5 kB\u001b[0m \u001b[31m47.8 MB/s\u001b[0m eta \u001b[36m0:00:00\u001b[0m\n",
            "\u001b[?25hDownloading botocore-1.35.90-py3-none-any.whl (13.3 MB)\n",
            "\u001b[2K   \u001b[90m━━━━━━━━━━━━━━━━━━━━━━━━━━━━━━━━━━━━━━━━\u001b[0m \u001b[32m13.3/13.3 MB\u001b[0m \u001b[31m115.6 MB/s\u001b[0m eta \u001b[36m0:00:00\u001b[0m\n",
            "\u001b[?25hDownloading jmespath-1.0.1-py3-none-any.whl (20 kB)\n",
            "Downloading s3transfer-0.10.4-py3-none-any.whl (83 kB)\n",
            "\u001b[2K   \u001b[90m━━━━━━━━━━━━━━━━━━━━━━━━━━━━━━━━━━━━━━━━\u001b[0m \u001b[32m83.2/83.2 kB\u001b[0m \u001b[31m6.6 MB/s\u001b[0m eta \u001b[36m0:00:00\u001b[0m\n",
            "\u001b[?25hInstalling collected packages: sacremoses, jmespath, botocore, s3transfer, boto3, pytorch_transformers\n",
            "Successfully installed boto3-1.35.90 botocore-1.35.90 jmespath-1.0.1 pytorch_transformers-1.2.0 s3transfer-0.10.4 sacremoses-0.1.1\n"
          ]
        }
      ]
    },
    {
      "cell_type": "code",
      "execution_count": null,
      "metadata": {
        "id": "qpEz0SWQ94FX"
      },
      "outputs": [],
      "source": [
        "import matplotlib.pyplot as plt\n",
        "import pandas as pd\n",
        "import torch\n",
        "from torch.utils.data import Dataset, DataLoader\n",
        "import torch.nn as nn\n",
        "from pytorch_transformers import BertTokenizer, BertForSequenceClassification\n",
        "import torch.nn.functional as F\n",
        "import torch.optim as optim\n",
        "from sklearn.metrics import accuracy_score, classification_report, confusion_matrix\n",
        "import seaborn as sns\n",
        "\n",
        "device = torch.device(\"cuda\" if torch.cuda.is_available() else \"cpu\")"
      ]
    },
    {
      "cell_type": "code",
      "execution_count": null,
      "metadata": {
        "id": "drca0aL794FX"
      },
      "outputs": [],
      "source": [
        "train_df = pd.read_csv('/content/testing.txt', sep='\\t')\n",
        "valid_df = pd.read_csv('/content/validing.txt', sep='\\t')\n",
        "test_df = pd.read_csv('/content/testing.txt', sep='\\t')"
      ]
    },
    {
      "cell_type": "code",
      "execution_count": null,
      "metadata": {
        "id": "j1df0SI294FX"
      },
      "outputs": [],
      "source": [
        "train_df = train_df.sample(frac=0.1, random_state=500)\n",
        "valid_df = valid_df.sample(frac=0.1, random_state=500)\n",
        "test_df = test_df.sample(frac=0.1, random_state=500)"
      ]
    },
    {
      "cell_type": "code",
      "execution_count": null,
      "metadata": {
        "id": "PA9qogEt94FX"
      },
      "outputs": [],
      "source": [
        "class Datasets(Dataset):\n",
        "    def __init__(self, df):\n",
        "        self.df = df\n",
        "\n",
        "    def __len__(self):\n",
        "        return len(self.df)\n",
        "\n",
        "    def __getitem__(self, idx):\n",
        "        text = self.df.iloc[idx, 1]\n",
        "        label = self.df.iloc[idx, 2]\n",
        "        return text, label"
      ]
    },
    {
      "cell_type": "code",
      "execution_count": null,
      "metadata": {
        "id": "52rKJO_z94FX"
      },
      "outputs": [],
      "source": [
        "train_dataset = Datasets(train_df)\n",
        "train_loader = DataLoader(train_dataset, batch_size=2, shuffle=True, num_workers=0)\n",
        "\n",
        "valid_dataset = Datasets(valid_df)\n",
        "valid_loader = DataLoader(valid_dataset, batch_size=2, shuffle=True, num_workers=0)\n",
        "\n",
        "test_dataset = Datasets(test_df)\n",
        "test_loader = DataLoader(test_dataset, batch_size=2, shuffle=True, num_workers=0)"
      ]
    },
    {
      "cell_type": "code",
      "execution_count": null,
      "metadata": {
        "colab": {
          "base_uri": "https://localhost:8080/"
        },
        "id": "OIkhTXjV94FX",
        "outputId": "da6ea60d-d370-458e-a2cb-eaac33ef84c2"
      },
      "outputs": [
        {
          "output_type": "stream",
          "name": "stderr",
          "text": [
            "100%|██████████| 231508/231508 [00:00<00:00, 909439.51B/s]\n",
            "100%|██████████| 433/433 [00:00<00:00, 298558.87B/s]\n",
            "100%|██████████| 440473133/440473133 [00:16<00:00, 26555361.53B/s]\n",
            "/usr/local/lib/python3.10/dist-packages/pytorch_transformers/modeling_utils.py:539: FutureWarning: You are using `torch.load` with `weights_only=False` (the current default value), which uses the default pickle module implicitly. It is possible to construct malicious pickle data which will execute arbitrary code during unpickling (See https://github.com/pytorch/pytorch/blob/main/SECURITY.md#untrusted-models for more details). In a future release, the default value for `weights_only` will be flipped to `True`. This limits the functions that could be executed during unpickling. Arbitrary objects will no longer be allowed to be loaded via this mode unless they are explicitly allowlisted by the user via `torch.serialization.add_safe_globals`. We recommend you start setting `weights_only=True` for any use case where you don't have full control of the loaded file. Please open an issue on GitHub for any issues related to this experimental feature.\n",
            "  state_dict = torch.load(resolved_archive_file, map_location='cpu')\n"
          ]
        },
        {
          "output_type": "execute_result",
          "data": {
            "text/plain": [
              "BertForSequenceClassification(\n",
              "  (bert): BertModel(\n",
              "    (embeddings): BertEmbeddings(\n",
              "      (word_embeddings): Embedding(30522, 768, padding_idx=0)\n",
              "      (position_embeddings): Embedding(512, 768)\n",
              "      (token_type_embeddings): Embedding(2, 768)\n",
              "      (LayerNorm): LayerNorm((768,), eps=1e-12, elementwise_affine=True)\n",
              "      (dropout): Dropout(p=0.1, inplace=False)\n",
              "    )\n",
              "    (encoder): BertEncoder(\n",
              "      (layer): ModuleList(\n",
              "        (0-11): 12 x BertLayer(\n",
              "          (attention): BertAttention(\n",
              "            (self): BertSelfAttention(\n",
              "              (query): Linear(in_features=768, out_features=768, bias=True)\n",
              "              (key): Linear(in_features=768, out_features=768, bias=True)\n",
              "              (value): Linear(in_features=768, out_features=768, bias=True)\n",
              "              (dropout): Dropout(p=0.1, inplace=False)\n",
              "            )\n",
              "            (output): BertSelfOutput(\n",
              "              (dense): Linear(in_features=768, out_features=768, bias=True)\n",
              "              (LayerNorm): LayerNorm((768,), eps=1e-12, elementwise_affine=True)\n",
              "              (dropout): Dropout(p=0.1, inplace=False)\n",
              "            )\n",
              "          )\n",
              "          (intermediate): BertIntermediate(\n",
              "            (dense): Linear(in_features=768, out_features=3072, bias=True)\n",
              "          )\n",
              "          (output): BertOutput(\n",
              "            (dense): Linear(in_features=3072, out_features=768, bias=True)\n",
              "            (LayerNorm): LayerNorm((768,), eps=1e-12, elementwise_affine=True)\n",
              "            (dropout): Dropout(p=0.1, inplace=False)\n",
              "          )\n",
              "        )\n",
              "      )\n",
              "    )\n",
              "    (pooler): BertPooler(\n",
              "      (dense): Linear(in_features=768, out_features=768, bias=True)\n",
              "      (activation): Tanh()\n",
              "    )\n",
              "  )\n",
              "  (dropout): Dropout(p=0.1, inplace=False)\n",
              "  (classifier): Linear(in_features=768, out_features=2, bias=True)\n",
              ")"
            ]
          },
          "metadata": {},
          "execution_count": 31
        }
      ],
      "source": [
        "tokenizer = BertTokenizer.from_pretrained('bert-base-uncased')\n",
        "model = BertForSequenceClassification.from_pretrained('bert-base-uncased')\n",
        "model.to(device)"
      ]
    },
    {
      "cell_type": "code",
      "execution_count": null,
      "metadata": {
        "id": "3VQouaz594FY"
      },
      "outputs": [],
      "source": [
        "def save_checkpoint(save_path, model, valid_loss):\n",
        "    if save_path == None:\n",
        "        return\n",
        "    state_dict = {'model_state_dict': model.state_dict(),\n",
        "                  'valid_loss': valid_loss}\n",
        "\n",
        "    torch.save(state_dict, save_path)\n",
        "    print(f'Model saved to ==> {save_path}')\n",
        "\n",
        "def load_checkpoint(load_path, model):\n",
        "    if load_path==None:\n",
        "        return\n",
        "    state_dict = torch.load(load_path, map_location=device)\n",
        "    print(f'Model loaded from <== {load_path}')\n",
        "\n",
        "    model.load_state_dict(state_dict['model_state_dict'])\n",
        "    return state_dict['valid_loss']\n",
        "\n",
        "def save_metrics(save_path, train_loss_list, valid_loss_list, global_steps_list):\n",
        "    if save_path == None:\n",
        "        return\n",
        "    state_dict = {'train_loss_list': train_loss_list,\n",
        "                  'valid_loss_list': valid_loss_list,\n",
        "                  'global_steps_list': global_steps_list}\n",
        "    torch.save(state_dict, save_path)\n",
        "    print(f'Model saved to ==> {save_path}')\n",
        "\n",
        "def load_metrics(load_path):\n",
        "    if load_path==None:\n",
        "        return\n",
        "    state_dict = torch.load(load_path, map_location=device)\n",
        "    print(f'Model loaded from <== {load_path}')\n",
        "    return state_dict['train_loss_list'], state_dict['valid_loss_list'], state_dict['global_steps_list']"
      ]
    },
    {
      "cell_type": "code",
      "execution_count": null,
      "metadata": {
        "id": "cKkJU0Yg94FY"
      },
      "outputs": [],
      "source": [
        "def train(model,\n",
        "          optimizer,\n",
        "          criterion = nn.BCELoss(),\n",
        "          num_epochs = 1,\n",
        "          eval_every = len(train_loader) // 2,\n",
        "          best_valid_loss = float(\"Inf\")):\n",
        "\n",
        "    total_correct = 0.0\n",
        "    total_len = 0.0\n",
        "    running_loss = 0.0\n",
        "    valid_running_loss = 0.0\n",
        "    global_step = 0\n",
        "    train_loss_list = []\n",
        "    valid_loss_list = []\n",
        "    global_steps_list = []\n",
        "\n",
        "    model.train()\n",
        "    for epoch in range(num_epochs):\n",
        "        for text, label in train_loader:\n",
        "            optimizer.zero_grad()\n",
        "            encoded_list = [tokenizer.encode(t, add_special_tokens=True) for t in text]\n",
        "            padded_list =  [e + [0] * (512-len(e)) for e in encoded_list]\n",
        "\n",
        "            sample = torch.tensor(padded_list)\n",
        "            sample, label = sample.to(device), label.to(device)\n",
        "            labels = torch.tensor(label)\n",
        "            outputs = model(sample, labels=labels)\n",
        "            loss, logits = outputs\n",
        "\n",
        "            pred = torch.argmax(F.softmax(logits), dim=1)\n",
        "            correct = pred.eq(labels)\n",
        "            total_correct += correct.sum().item()\n",
        "            total_len += len(labels)\n",
        "            running_loss += loss.item()\n",
        "            loss.backward()\n",
        "            optimizer.step()\n",
        "            global_step += 1\n",
        "\n",
        "            if global_step % eval_every == 0:\n",
        "                model.eval()\n",
        "                with torch.no_grad():\n",
        "                    for text, label in valid_loader:\n",
        "                        encoded_list = [tokenizer.encode(t, add_special_tokens=True) for t in text]\n",
        "                        padded_list =  [e + [0] * (512-len(e)) for e in encoded_list]\n",
        "                        sample = torch.tensor(padded_list)\n",
        "                        sample, label = sample.to(device), label.to(device)\n",
        "                        labels = torch.tensor(label)\n",
        "                        outputs = model(sample, labels=labels)\n",
        "                        loss, logits = outputs\n",
        "                        valid_running_loss += loss.item()\n",
        "\n",
        "                average_train_loss = running_loss / eval_every\n",
        "                average_valid_loss = valid_running_loss / len(valid_loader)\n",
        "                train_loss_list.append(average_train_loss)\n",
        "                valid_loss_list.append(average_valid_loss)\n",
        "                global_steps_list.append(global_step)\n",
        "\n",
        "                running_loss = 0.0\n",
        "                valid_running_loss = 0.0\n",
        "                model.train()\n",
        "\n",
        "                print('Epoch [{}/{}], Step [{}/{}], Train Loss: {:.4f}, Valid Loss: {:.4f}'\n",
        "                      .format(epoch+1, num_epochs, global_step, num_epochs*len(train_loader),\n",
        "                              average_train_loss, average_valid_loss))\n",
        "\n",
        "                if best_valid_loss > average_valid_loss:\n",
        "                    best_valid_loss = average_valid_loss\n",
        "                    save_checkpoint('./model.pt', model, best_valid_loss)\n",
        "                    save_metrics('./metrics.pt', train_loss_list, valid_loss_list, global_steps_list)\n",
        "\n",
        "    save_metrics('./metrics.pt', train_loss_list, valid_loss_list, global_steps_list)\n",
        "    print('훈련 종료!')"
      ]
    },
    {
      "cell_type": "code",
      "execution_count": null,
      "metadata": {
        "colab": {
          "base_uri": "https://localhost:8080/"
        },
        "id": "eBU67bzh94FY",
        "outputId": "715f6525-b081-4a47-9120-3ff47ad7e5d0"
      },
      "outputs": [
        {
          "output_type": "stream",
          "name": "stderr",
          "text": [
            "<ipython-input-33-47144ba37d09>:26: UserWarning: To copy construct from a tensor, it is recommended to use sourceTensor.clone().detach() or sourceTensor.clone().detach().requires_grad_(True), rather than torch.tensor(sourceTensor).\n",
            "  labels = torch.tensor(label)\n",
            "<ipython-input-33-47144ba37d09>:30: UserWarning: Implicit dimension choice for softmax has been deprecated. Change the call to include dim=X as an argument.\n",
            "  pred = torch.argmax(F.softmax(logits), dim=1)\n",
            "<ipython-input-33-47144ba37d09>:47: UserWarning: To copy construct from a tensor, it is recommended to use sourceTensor.clone().detach() or sourceTensor.clone().detach().requires_grad_(True), rather than torch.tensor(sourceTensor).\n",
            "  labels = torch.tensor(label)\n"
          ]
        },
        {
          "output_type": "stream",
          "name": "stdout",
          "text": [
            "Epoch [1/1], Step [274/548], Train Loss: 0.7138, Valid Loss: 0.7021\n",
            "Model saved to ==> ./model.pt\n",
            "Model saved to ==> ./metrics.pt\n",
            "Epoch [1/1], Step [548/548], Train Loss: 0.6991, Valid Loss: 0.6999\n",
            "Model saved to ==> ./model.pt\n",
            "Model saved to ==> ./metrics.pt\n",
            "Model saved to ==> ./metrics.pt\n",
            "훈련 종료!\n"
          ]
        }
      ],
      "source": [
        "optimizer = optim.Adam(model.parameters(), lr=2e-5)\n",
        "train(model=model, optimizer=optimizer)"
      ]
    },
    {
      "cell_type": "code",
      "execution_count": null,
      "metadata": {
        "colab": {
          "base_uri": "https://localhost:8080/",
          "height": 523
        },
        "id": "bVrmEw_M94FY",
        "outputId": "d3e8b587-9a5e-427e-fed2-279e95abb62e"
      },
      "outputs": [
        {
          "output_type": "stream",
          "name": "stderr",
          "text": [
            "<ipython-input-32-6d90e8177b62>:31: FutureWarning: You are using `torch.load` with `weights_only=False` (the current default value), which uses the default pickle module implicitly. It is possible to construct malicious pickle data which will execute arbitrary code during unpickling (See https://github.com/pytorch/pytorch/blob/main/SECURITY.md#untrusted-models for more details). In a future release, the default value for `weights_only` will be flipped to `True`. This limits the functions that could be executed during unpickling. Arbitrary objects will no longer be allowed to be loaded via this mode unless they are explicitly allowlisted by the user via `torch.serialization.add_safe_globals`. We recommend you start setting `weights_only=True` for any use case where you don't have full control of the loaded file. Please open an issue on GitHub for any issues related to this experimental feature.\n",
            "  state_dict = torch.load(load_path, map_location=device)\n"
          ]
        },
        {
          "output_type": "stream",
          "name": "stdout",
          "text": [
            "Model loaded from <== ./metrics.pt\n"
          ]
        },
        {
          "output_type": "display_data",
          "data": {
            "text/plain": [
              "<Figure size 640x480 with 1 Axes>"
            ],
            "image/png": "[encoded data removed]"
          },
          "metadata": {}
        }
      ],
      "source": [
        "train_loss_list, valid_loss_list, global_steps_list = load_metrics('./metrics.pt')\n",
        "plt.plot(global_steps_list, train_loss_list, label='Train')\n",
        "plt.plot(global_steps_list, valid_loss_list, label='Valid')\n",
        "plt.xlabel('Global Steps')\n",
        "plt.ylabel('Loss')\n",
        "plt.legend()\n",
        "plt.show()"
      ]
    },
    {
      "cell_type": "code",
      "execution_count": null,
      "metadata": {
        "id": "ADDkiLkI94FY"
      },
      "outputs": [],
      "source": [
        "def evaluate(model, test_loader):\n",
        "    y_pred = []\n",
        "    y_true = []\n",
        "\n",
        "    model.eval()\n",
        "    with torch.no_grad():\n",
        "        for text, label in test_loader:\n",
        "            encoded_list = [tokenizer.encode(t, add_special_tokens=True) for t in text]\n",
        "            padded_list =  [e + [0] * (512-len(e)) for e in encoded_list]\n",
        "\n",
        "            sample = torch.tensor(padded_list)\n",
        "            sample, label = sample.to(device), label.to(device)\n",
        "            labels = torch.tensor(label)\n",
        "            output = model(sample, labels=labels)\n",
        "\n",
        "            _, output = output\n",
        "            y_pred.extend(torch.argmax(output, 1).tolist())\n",
        "            y_true.extend(labels.tolist())\n",
        "\n",
        "    print('Classification 결과:')\n",
        "    print(classification_report(y_true, y_pred, labels=[1,0], digits=4))\n",
        "\n",
        "    cm = confusion_matrix(y_true, y_pred, labels=[1,0])\n",
        "    ax= plt.subplot()\n",
        "    sns.heatmap(cm, annot=True, ax = ax, cmap='Blues', fmt=\"d\")\n",
        "\n",
        "    ax.set_title('Confusion Matrix')\n",
        "    ax.set_xlabel('Predicted Labels')\n",
        "    ax.set_ylabel('True Labels')\n",
        "    ax.xaxis.set_ticklabels(['0', '1'])\n",
        "    ax.yaxis.set_ticklabels(['0', '1'])"
      ]
    },
    {
      "cell_type": "code",
      "execution_count": null,
      "metadata": {
        "colab": {
          "base_uri": "https://localhost:8080/",
          "height": 867
        },
        "id": "ti0ZwzrK94FY",
        "outputId": "fc29903f-5e99-40c2-8517-86de7cc844dd"
      },
      "outputs": [
        {
          "output_type": "stream",
          "name": "stderr",
          "text": [
            "<ipython-input-32-6d90e8177b62>:13: FutureWarning: You are using `torch.load` with `weights_only=False` (the current default value), which uses the default pickle module implicitly. It is possible to construct malicious pickle data which will execute arbitrary code during unpickling (See https://github.com/pytorch/pytorch/blob/main/SECURITY.md#untrusted-models for more details). In a future release, the default value for `weights_only` will be flipped to `True`. This limits the functions that could be executed during unpickling. Arbitrary objects will no longer be allowed to be loaded via this mode unless they are explicitly allowlisted by the user via `torch.serialization.add_safe_globals`. We recommend you start setting `weights_only=True` for any use case where you don't have full control of the loaded file. Please open an issue on GitHub for any issues related to this experimental feature.\n",
            "  state_dict = torch.load(load_path, map_location=device)\n"
          ]
        },
        {
          "output_type": "stream",
          "name": "stdout",
          "text": [
            "Model loaded from <== ./model.pt\n"
          ]
        },
        {
          "output_type": "stream",
          "name": "stderr",
          "text": [
            "<ipython-input-36-241e10d74e14>:13: UserWarning: To copy construct from a tensor, it is recommended to use sourceTensor.clone().detach() or sourceTensor.clone().detach().requires_grad_(True), rather than torch.tensor(sourceTensor).\n",
            "  labels = torch.tensor(label)\n"
          ]
        },
        {
          "output_type": "stream",
          "name": "stdout",
          "text": [
            "Classification 결과:\n",
            "              precision    recall  f1-score   support\n",
            "\n",
            "           1     0.0000    0.0000    0.0000       558\n",
            "           0     0.4909    1.0000    0.6585       538\n",
            "\n",
            "    accuracy                         0.4909      1096\n",
            "   macro avg     0.2454    0.5000    0.3293      1096\n",
            "weighted avg     0.2410    0.4909    0.3232      1096\n",
            "\n"
          ]
        },
        {
          "output_type": "stream",
          "name": "stderr",
          "text": [
            "/usr/local/lib/python3.10/dist-packages/sklearn/metrics/_classification.py:1565: UndefinedMetricWarning: Precision is ill-defined and being set to 0.0 in labels with no predicted samples. Use `zero_division` parameter to control this behavior.\n",
            "  _warn_prf(average, modifier, f\"{metric.capitalize()} is\", len(result))\n",
            "/usr/local/lib/python3.10/dist-packages/sklearn/metrics/_classification.py:1565: UndefinedMetricWarning: Precision is ill-defined and being set to 0.0 in labels with no predicted samples. Use `zero_division` parameter to control this behavior.\n",
            "  _warn_prf(average, modifier, f\"{metric.capitalize()} is\", len(result))\n",
            "/usr/local/lib/python3.10/dist-packages/sklearn/metrics/_classification.py:1565: UndefinedMetricWarning: Precision is ill-defined and being set to 0.0 in labels with no predicted samples. Use `zero_division` parameter to control this behavior.\n",
            "  _warn_prf(average, modifier, f\"{metric.capitalize()} is\", len(result))\n"
          ]
        },
        {
          "output_type": "display_data",
          "data": {
            "text/plain": [
              "<Figure size 640x480 with 2 Axes>"
            ],
            "image/png": "[encoded data removed]"
          },
          "metadata": {}
        }
      ],
      "source": [
        "best_model = model.to(device)\n",
        "load_checkpoint('./model.pt', best_model)\n",
        "evaluate(best_model, test_loader)"
      ]
    },
    {
      "cell_type": "code",
      "source": [],
      "metadata": {
        "id": "AS3XBu2GB83E"
      },
      "execution_count": null,
      "outputs": []
    }
  ],
  "metadata": {
    "kernelspec": {
      "display_name": "Python 3",
      "name": "python3"
    },
    "language_info": {
      "codemirror_mode": {
        "name": "ipython",
        "version": 3
      },
      "file_extension": ".py",
      "mimetype": "text/x-python",
      "name": "python",
      "nbconvert_exporter": "python",
      "pygments_lexer": "ipython3",
      "version": "3.9.20"
    },
    "colab": {
      "provenance": [],
      "machine_shape": "hm",
      "gpuType": "T4"
    },
    "accelerator": "GPU"
  },
  "nbformat": 4,
  "nbformat_minor": 0
}
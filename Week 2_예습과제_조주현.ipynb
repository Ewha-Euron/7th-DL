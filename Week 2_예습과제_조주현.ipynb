{
 "cells": [
  {
   "cell_type": "markdown",
   "id": "7a7e6bb5-61c9-4f2d-be4a-946a3102cd48",
   "metadata": {},
   "source": [
    "# 소프트맥스함수"
   ]
  },
  {
   "cell_type": "markdown",
   "id": "4d6164ae-a90a-4263-bdc0-97403d1781b4",
   "metadata": {},
   "source": [
    "class Net(torch.nn.Module):\n",
    "    def __init__(self, n_feature, n_hidden, n_output):\n",
    "        super(Net, self).__init__()\n",
    "        self.hidden = torch.nn.Linear(n_feature, n_hidden)\n",
    "        self.relu = torch.nn.RElu(inplace=True)\n",
    "        self.out = torch.nn.Linear(n_hidden, n_output)\n",
    "        self.softmax = torch.nn.Softmax(dim=n_output)\n",
    "    def forward(self, x):\n",
    "        x = self.hidden(x)\n",
    "        x = self.relu(x)\n",
    "        x = self.out(x)\n",
    "        x = self.softmax(x)\n",
    "        return x"
   ]
  },
  {
   "cell_type": "markdown",
   "id": "cc7039a4-2dc9-4b9e-9bc2-0bdce725112b",
   "metadata": {},
   "source": [
    "# 평균 제곱 오차"
   ]
  },
  {
   "cell_type": "markdown",
   "id": "7e4ce5b7-c4ab-4771-a86b-2370abd03765",
   "metadata": {},
   "source": [
    "import torch\n",
    "\n",
    "loss_fn = torch.nn.MSELoss(reduction='sum')\n",
    "y_pred = model(x)\n",
    "loss = loss_fn(y_pred, y)"
   ]
  },
  {
   "cell_type": "markdown",
   "id": "2bc8bd8d-83f3-4ada-a85d-fe0a05536b03",
   "metadata": {},
   "source": [
    "# 크로스 엔트로피 오차"
   ]
  },
  {
   "cell_type": "markdown",
   "id": "40ec5651-beb1-46c4-96a8-591e19551040",
   "metadata": {},
   "source": [
    "loss = nn.CrossEntropyLoss()\n",
    "input = torch.randn(5, 6, requires_grad=True)\n",
    "target = torch.empty(3, dtype=torch.long).random_(5)\n",
    "output = loss(input, target)\n",
    "output.backward()"
   ]
  },
  {
   "cell_type": "markdown",
   "id": "0b56595a-724f-488d-9715-5ea1585240bf",
   "metadata": {},
   "source": [
    "# 드롭아웃"
   ]
  },
  {
   "cell_type": "markdown",
   "id": "5ec66df2-5271-4058-bf63-95da93e70596",
   "metadata": {},
   "source": [
    "class DropoutModel(torch.nn.Module):\n",
    "    def__init__(self):\n",
    "    super(DropoutModel, self).__init__()\n",
    "    self.layer1 = torch.nn.linear(784, 1200)\n",
    "    self.dropout1 = torch.nn.Dropout(0. 5)\n",
    "    self.layer2 = torch.nn.Linear(1200, 1200)\n",
    "    self.dropout2 = torch.nn.Dropout(0. 5)\n",
    "    self.layer3 = torch.nn.Linear(1200, 10)\n"
   ]
  },
  {
   "cell_type": "markdown",
   "id": "6a02b933-1cd3-4b50-8223-bc24e0823f8c",
   "metadata": {},
   "source": [
    "# 미니 배치 경사 하강법"
   ]
  },
  {
   "cell_type": "code",
   "execution_count": null,
   "id": "0ae69cb6-bf57-4cd8-98fc-4f1c85e9edbd",
   "metadata": {},
   "outputs": [],
   "source": [
    "class CustomDataset(Dataset):\n",
    "    def__init__(self):\n",
    "    self.x_data = [[1, 2, 3], [4, 5, 6], [7, 8, 9]]\n",
    "    self.y_data = [[12], [18], [11]]\n",
    "    def__len__(self.x_data)\n",
    "        return len(self, idx):\n",
    "    def __getitem__(self, idx):\n",
    "        x = torch.Floaattensor(self.x_data[idx])\n",
    "        y = torch.Floaattensor(self.y_data[idx])\n",
    "        return x, y\n",
    "        dataset = CustomDataset()\n",
    "        dataloader = DataLoader(\n",
    "        dataset,\n",
    "        batch_size = 2,\n",
    "        shuffle = True,\n",
    "        )"
   ]
  }
 ],
 "metadata": {
  "kernelspec": {
   "display_name": "Python 3 (ipykernel)",
   "language": "python",
   "name": "python3"
  },
  "language_info": {
   "codemirror_mode": {
    "name": "ipython",
    "version": 3
   },
   "file_extension": ".py",
   "mimetype": "text/x-python",
   "name": "python",
   "nbconvert_exporter": "python",
   "pygments_lexer": "ipython3",
   "version": "3.11.5"
  }
 },
 "nbformat": 4,
 "nbformat_minor": 5
}

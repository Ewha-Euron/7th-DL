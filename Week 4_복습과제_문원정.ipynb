{
 "cells": [
  {
   "cell_type": "markdown",
   "metadata": {
    "id": "JmbrNadxsBr7"
   },
   "source": [
    "## Convolution Layer Example"
   ]
  },
  {
   "cell_type": "code",
   "execution_count": 1,
   "metadata": {
    "colab": {
     "base_uri": "https://localhost:8080/"
    },
    "id": "MAyG6GGTU_mC",
    "outputId": "118b0f42-fde5-4900-8cea-f4c8709818d5"
   },
   "outputs": [
    {
     "name": "stdout",
     "output_type": "stream",
     "text": [
      "연산 전 torch.Size([10, 1, 20, 20])\n",
      "conv1 연산 후 torch.Size([10, 3, 16, 16])\n",
      "conv2 연산 후 torch.Size([10, 10, 12, 12])\n",
      "차원 감소 후 torch.Size([10, 1440])\n",
      "fc1 연산 후 torch.Size([10, 50])\n",
      "fc2 연산 후 torch.Size([10, 10])\n"
     ]
    }
   ],
   "source": [
    "import torch\n",
    "import torch.nn as nn\n",
    "import torch.nn.functional as F\n",
    "\n",
    "class CNN(nn.Module):\n",
    "  def __init__(self):\n",
    "    super(CNN, self).__init__()\n",
    "\n",
    "    self.conv1 = nn.Conv2d(in_channels=1, out_channels=3, kernel_size=5, stride=1)\n",
    "    self.conv2 = nn.Conv2d(in_channels=3, out_channels=10, kernel_size=5, stride=1)\n",
    "    self.fc1 = nn.Linear(10 * 12 * 12, 50) \n",
    "    self.fc2 = nn.Linear(50, 10)\n",
    "\n",
    "\n",
    "  def forward(self, x):\n",
    "    print(\"연산 전\", x.size())\n",
    "    x = F.relu(self.conv1(x))\n",
    "    print(\"conv1 연산 후\", x.size())\n",
    "    x = F.relu(self.conv2(x))\n",
    "    print(\"conv2 연산 후\",x.size())\n",
    "    x = x.view(-1, 10 * 12 * 12)\n",
    "    print(\"차원 감소 후\", x.size())\n",
    "    x = F.relu(self.fc1(x))\n",
    "    print(\"fc1 연산 후\", x.size())\n",
    "    x = self.fc2(x)\n",
    "    print(\"fc2 연산 후\", x.size())\n",
    "    return x\n",
    "\n",
    "cnn = CNN()\n",
    "output = cnn(torch.randn(10, 1, 20, 20))  # Input Size: (10, 1, 20, 20)"
   ]
  },
  {
   "cell_type": "markdown",
   "metadata": {
    "id": "0It8H-mysBr-"
   },
   "source": [
    "## Max Pooling Layer Example"
   ]
  },
  {
   "cell_type": "code",
   "execution_count": 13,
   "metadata": {
    "colab": {
     "base_uri": "https://localhost:8080/"
    },
    "id": "LkOwXPFNchie",
    "outputId": "a3f022de-8d54-4cf8-9456-f9bbc15ed9cc"
   },
   "outputs": [
    {
     "name": "stdout",
     "output_type": "stream",
     "text": [
      "연산 전 torch.Size([10, 1, 20, 20])\n",
      "max_pool1 연산 후 torch.Size([10, 1, 10, 10])\n",
      "max_pool2 연산 후 torch.Size([10, 1, 5, 5])\n",
      "차원 감소 후 torch.Size([1, 250])\n",
      "fc1 연산 후 torch.Size([1, 50])\n",
      "fc2 연산 후 torch.Size([1, 10])\n"
     ]
    }
   ],
   "source": [
    "class CNN(nn.Module):\n",
    "  def __init__(self):\n",
    "    super(CNN, self).__init__()\n",
    "\n",
    "    self.max_pool1 = nn.MaxPool2d(kernel_size=2, stride=2)\n",
    "    self.max_pool2 = nn.MaxPool2d(kernel_size=2, stride=2)\n",
    "    self.fc1 = nn.Linear(10 * 5 * 5, 50)\n",
    "    self.fc2 = nn.Linear(50, 10)\n",
    "\n",
    "  def forward(self, x):\n",
    "    print(\"연산 전\", x.size())\n",
    "    x = F.relu(self.max_pool1(x))\n",
    "    print(\"max_pool1 연산 후\", x.size())\n",
    "    x = F.relu(self.max_pool2(x))\n",
    "    print(\"max_pool2 연산 후\",x.size())\n",
    "    x = x.view(-1, 10 * 5 * 5)\n",
    "    print(\"차원 감소 후\", x.size())\n",
    "    x = F.relu(self.fc1(x))\n",
    "    print(\"fc1 연산 후\", x.size())\n",
    "    x = self.fc2(x)\n",
    "    print(\"fc2 연산 후\", x.size())\n",
    "    return x\n",
    "\n",
    "cnn = CNN()\n",
    "output = cnn(torch.randn(10, 1, 20, 20))"
   ]
  },
  {
   "cell_type": "markdown",
   "metadata": {
    "id": "uDMn2y5_sBr-"
   },
   "source": [
    "## MNIST 데이터셋 train"
   ]
  },
  {
   "cell_type": "code",
   "execution_count": 1,
   "metadata": {
    "id": "YhfopkrQcp1P"
   },
   "outputs": [
    {
     "name": "stdout",
     "output_type": "stream",
     "text": [
      "Requirement already satisfied: torchvision in c:\\users\\jenny\\anaconda3\\lib\\site-packages (0.19.1)\n",
      "Requirement already satisfied: numpy in c:\\users\\jenny\\anaconda3\\lib\\site-packages (from torchvision) (1.26.4)\n",
      "Requirement already satisfied: torch==2.4.1 in c:\\users\\jenny\\anaconda3\\lib\\site-packages (from torchvision) (2.4.1)\n",
      "Requirement already satisfied: pillow!=8.3.*,>=5.3.0 in c:\\users\\jenny\\anaconda3\\lib\\site-packages (from torchvision) (10.4.0)\n",
      "Requirement already satisfied: filelock in c:\\users\\jenny\\anaconda3\\lib\\site-packages (from torch==2.4.1->torchvision) (3.13.1)\n",
      "Requirement already satisfied: typing-extensions>=4.8.0 in c:\\users\\jenny\\anaconda3\\lib\\site-packages (from torch==2.4.1->torchvision) (4.12.2)\n",
      "Requirement already satisfied: sympy in c:\\users\\jenny\\anaconda3\\lib\\site-packages (from torch==2.4.1->torchvision) (1.12)\n",
      "Requirement already satisfied: networkx in c:\\users\\jenny\\anaconda3\\lib\\site-packages (from torch==2.4.1->torchvision) (3.1)\n",
      "Requirement already satisfied: jinja2 in c:\\users\\jenny\\anaconda3\\lib\\site-packages (from torch==2.4.1->torchvision) (3.1.3)\n",
      "Requirement already satisfied: fsspec in c:\\users\\jenny\\anaconda3\\lib\\site-packages (from torch==2.4.1->torchvision) (2023.10.0)\n",
      "Requirement already satisfied: MarkupSafe>=2.0 in c:\\users\\jenny\\anaconda3\\lib\\site-packages (from jinja2->torch==2.4.1->torchvision) (2.1.5)\n",
      "Requirement already satisfied: mpmath>=0.19 in c:\\users\\jenny\\anaconda3\\lib\\site-packages (from sympy->torch==2.4.1->torchvision) (1.3.0)\n"
     ]
    }
   ],
   "source": [
    "!pip install torchvision"
   ]
  },
  {
   "cell_type": "code",
   "execution_count": 7,
   "metadata": {
    "id": "CqFN5YM5cqKe"
   },
   "outputs": [],
   "source": [
    "import torch\n",
    "import torch.nn as nn\n",
    "import torch.nn.functional as F\n",
    "import torch.optim as optim\n",
    "from torchvision import datasets, transforms"
   ]
  },
  {
   "cell_type": "code",
   "execution_count": 8,
   "metadata": {
    "id": "IJb_C4ptcu6G"
   },
   "outputs": [],
   "source": [
    "train_data = datasets.MNIST('./data/', train=True, download=True, transform=transforms.Compose([\n",
    "        transforms.ToTensor(),\n",
    "        transforms.Normalize((0.1307,), (0.3081,))\n",
    "    ])) # 학습 데이터\n",
    "train_loader = torch.utils.data.DataLoader(dataset=train_data, batch_size=50, shuffle=True)\n",
    "\n",
    "test_data = datasets.MNIST('./data/', train=False, transform=transforms.Compose([\n",
    "        transforms.ToTensor(),\n",
    "        transforms.Normalize((0.1307,), (0.3081,))\n",
    "    ])) # 테스트 데이터\n",
    "test_loader = torch.utils.data.DataLoader(dataset=test_data, batch_size=50, shuffle=True)"
   ]
  },
  {
   "cell_type": "code",
   "execution_count": 9,
   "metadata": {
    "id": "YP3tEuo6ct8A"
   },
   "outputs": [],
   "source": [
    "class CNN(nn.Module):\n",
    "    def __init__(self):\n",
    "        super(CNN, self).__init__()\n",
    "\n",
    "        self.conv1 = nn.Conv2d(in_channels=1, out_channels=20, kernel_size=5, stride=1)\n",
    "        self.conv2 = nn.Conv2d(in_channels=20, out_channels=50, kernel_size=5, stride=1)\n",
    "        self.fc1 = nn.Linear(4 * 4 * 50, 50)  # conv2 이후의 평탄화된 크기 4 * 4 * 50을 입력\n",
    "        self.fc2 = nn.Linear(50, 10)\n",
    "\n",
    "    def forward(self, x):\n",
    "\n",
    "        x = F.relu(self.conv1(x))\n",
    "        x = F.max_pool2d(x, kernel_size=2, stride=2)\n",
    "        \n",
    "        x = F.relu(self.conv2(x))\n",
    "        x = F.max_pool2d(x, kernel_size=2, stride=2)\n",
    "        \n",
    "        x = x.view(-1, 4 * 4 * 50) # [batch_size, 50, 4, 4]\n",
    "        x = F.relu(self.fc1(x))\n",
    "        x = self.fc2(x)\n",
    "\n",
    "        return x\n"
   ]
  },
  {
   "cell_type": "code",
   "execution_count": 10,
   "metadata": {
    "id": "EO2ULx3Sc2GM"
   },
   "outputs": [],
   "source": [
    "cnn = CNN()\n",
    "criterion = torch.nn.CrossEntropyLoss()\n",
    "optimizer = optim.SGD(cnn.parameters(), lr=0.01)"
   ]
  },
  {
   "cell_type": "code",
   "execution_count": 11,
   "metadata": {
    "id": "gAwckNWhc4Nr"
   },
   "outputs": [
    {
     "name": "stdout",
     "output_type": "stream",
     "text": [
      "loss of 0 epoch, 0 index : 2.302497625350952\n",
      "loss of 0 epoch, 100 index : 2.014925956726074\n",
      "loss of 0 epoch, 200 index : 0.9185867309570312\n",
      "loss of 0 epoch, 300 index : 0.34080585837364197\n",
      "loss of 0 epoch, 400 index : 0.38380950689315796\n",
      "loss of 0 epoch, 500 index : 0.44074976444244385\n",
      "loss of 0 epoch, 600 index : 0.19541537761688232\n",
      "loss of 0 epoch, 700 index : 0.3198162615299225\n",
      "loss of 0 epoch, 800 index : 0.13441462814807892\n",
      "loss of 0 epoch, 900 index : 0.19454249739646912\n",
      "loss of 0 epoch, 1000 index : 0.16010011732578278\n",
      "loss of 0 epoch, 1100 index : 0.09806204587221146\n",
      "loss of 1 epoch, 0 index : 0.13240981101989746\n",
      "loss of 1 epoch, 100 index : 0.16674967110157013\n",
      "loss of 1 epoch, 200 index : 0.21851027011871338\n",
      "loss of 1 epoch, 300 index : 0.13315995037555695\n",
      "loss of 1 epoch, 400 index : 0.09342872351408005\n",
      "loss of 1 epoch, 500 index : 0.08617253601551056\n",
      "loss of 1 epoch, 600 index : 0.07192876935005188\n",
      "loss of 1 epoch, 700 index : 0.09378461539745331\n",
      "loss of 1 epoch, 800 index : 0.3688197731971741\n",
      "loss of 1 epoch, 900 index : 0.05675191804766655\n",
      "loss of 1 epoch, 1000 index : 0.10828853398561478\n",
      "loss of 1 epoch, 1100 index : 0.10862814635038376\n",
      "loss of 2 epoch, 0 index : 0.17836467921733856\n",
      "loss of 2 epoch, 100 index : 0.02806014008820057\n",
      "loss of 2 epoch, 200 index : 0.20468451082706451\n",
      "loss of 2 epoch, 300 index : 0.08959750086069107\n",
      "loss of 2 epoch, 400 index : 0.06873816251754761\n",
      "loss of 2 epoch, 500 index : 0.0967659056186676\n",
      "loss of 2 epoch, 600 index : 0.07419803738594055\n",
      "loss of 2 epoch, 700 index : 0.07915134727954865\n",
      "loss of 2 epoch, 800 index : 0.07808884233236313\n",
      "loss of 2 epoch, 900 index : 0.02588821016252041\n",
      "loss of 2 epoch, 1000 index : 0.08342793583869934\n",
      "loss of 2 epoch, 1100 index : 0.028298258781433105\n",
      "loss of 3 epoch, 0 index : 0.07359248399734497\n",
      "loss of 3 epoch, 100 index : 0.02109958417713642\n",
      "loss of 3 epoch, 200 index : 0.015401320531964302\n",
      "loss of 3 epoch, 300 index : 0.09905063360929489\n",
      "loss of 3 epoch, 400 index : 0.06729770451784134\n",
      "loss of 3 epoch, 500 index : 0.08557884395122528\n",
      "loss of 3 epoch, 600 index : 0.011020051315426826\n",
      "loss of 3 epoch, 700 index : 0.03735162317752838\n",
      "loss of 3 epoch, 800 index : 0.06534732133150101\n",
      "loss of 3 epoch, 900 index : 0.12942098081111908\n",
      "loss of 3 epoch, 1000 index : 0.08879688382148743\n",
      "loss of 3 epoch, 1100 index : 0.03224970027804375\n",
      "loss of 4 epoch, 0 index : 0.07779774814844131\n",
      "loss of 4 epoch, 100 index : 0.03546976298093796\n",
      "loss of 4 epoch, 200 index : 0.12088584154844284\n",
      "loss of 4 epoch, 300 index : 0.1309233158826828\n",
      "loss of 4 epoch, 400 index : 0.06986679881811142\n",
      "loss of 4 epoch, 500 index : 0.0279029980301857\n",
      "loss of 4 epoch, 600 index : 0.12165048718452454\n",
      "loss of 4 epoch, 700 index : 0.06644163280725479\n",
      "loss of 4 epoch, 800 index : 0.039015647023916245\n",
      "loss of 4 epoch, 900 index : 0.07316599041223526\n",
      "loss of 4 epoch, 1000 index : 0.10521188378334045\n",
      "loss of 4 epoch, 1100 index : 0.037259336560964584\n",
      "loss of 5 epoch, 0 index : 0.021464817225933075\n",
      "loss of 5 epoch, 100 index : 0.033127542585134506\n",
      "loss of 5 epoch, 200 index : 0.033168233931064606\n",
      "loss of 5 epoch, 300 index : 0.015530386939644814\n",
      "loss of 5 epoch, 400 index : 0.038403354585170746\n",
      "loss of 5 epoch, 500 index : 0.02790057845413685\n",
      "loss of 5 epoch, 600 index : 0.012990551069378853\n",
      "loss of 5 epoch, 700 index : 0.009905547834932804\n",
      "loss of 5 epoch, 800 index : 0.07723936438560486\n",
      "loss of 5 epoch, 900 index : 0.033604368567466736\n",
      "loss of 5 epoch, 1000 index : 0.017198538407683372\n",
      "loss of 5 epoch, 1100 index : 0.07772047817707062\n",
      "loss of 6 epoch, 0 index : 0.005267096683382988\n",
      "loss of 6 epoch, 100 index : 0.005821112543344498\n",
      "loss of 6 epoch, 200 index : 0.016121359542012215\n",
      "loss of 6 epoch, 300 index : 0.024870211258530617\n",
      "loss of 6 epoch, 400 index : 0.02099567838013172\n",
      "loss of 6 epoch, 500 index : 0.03388592600822449\n",
      "loss of 6 epoch, 600 index : 0.06718617677688599\n",
      "loss of 6 epoch, 700 index : 0.05484927073121071\n",
      "loss of 6 epoch, 800 index : 0.015048937872052193\n",
      "loss of 6 epoch, 900 index : 0.0076176077127456665\n",
      "loss of 6 epoch, 1000 index : 0.046793971210718155\n",
      "loss of 6 epoch, 1100 index : 0.017075616866350174\n",
      "loss of 7 epoch, 0 index : 0.05939139425754547\n",
      "loss of 7 epoch, 100 index : 0.023897625505924225\n",
      "loss of 7 epoch, 200 index : 0.005105382297188044\n",
      "loss of 7 epoch, 300 index : 0.02958064340054989\n",
      "loss of 7 epoch, 400 index : 0.017730647698044777\n",
      "loss of 7 epoch, 500 index : 0.009039121679961681\n",
      "loss of 7 epoch, 600 index : 0.030739929527044296\n",
      "loss of 7 epoch, 700 index : 0.03339492529630661\n",
      "loss of 7 epoch, 800 index : 0.07944557815790176\n",
      "loss of 7 epoch, 900 index : 0.00634564645588398\n",
      "loss of 7 epoch, 1000 index : 0.04307185485959053\n",
      "loss of 7 epoch, 1100 index : 0.08875144273042679\n",
      "loss of 8 epoch, 0 index : 0.16833730041980743\n",
      "loss of 8 epoch, 100 index : 0.0013303804444149137\n",
      "loss of 8 epoch, 200 index : 0.005574950482696295\n",
      "loss of 8 epoch, 300 index : 0.021451624110341072\n",
      "loss of 8 epoch, 400 index : 0.029087917879223824\n",
      "loss of 8 epoch, 500 index : 0.0046095349825918674\n",
      "loss of 8 epoch, 600 index : 0.08503590524196625\n",
      "loss of 8 epoch, 700 index : 0.018453888595104218\n",
      "loss of 8 epoch, 800 index : 0.015825368463993073\n",
      "loss of 8 epoch, 900 index : 0.021458473056554794\n",
      "loss of 8 epoch, 1000 index : 0.04857468605041504\n",
      "loss of 8 epoch, 1100 index : 0.15554188191890717\n",
      "loss of 9 epoch, 0 index : 0.004961810540407896\n",
      "loss of 9 epoch, 100 index : 0.004098327364772558\n",
      "loss of 9 epoch, 200 index : 0.020942583680152893\n",
      "loss of 9 epoch, 300 index : 0.027434449642896652\n",
      "loss of 9 epoch, 400 index : 0.044391173869371414\n",
      "loss of 9 epoch, 500 index : 0.0063422066159546375\n",
      "loss of 9 epoch, 600 index : 0.026175616309046745\n",
      "loss of 9 epoch, 700 index : 0.01079870667308569\n",
      "loss of 9 epoch, 800 index : 0.007619892247021198\n",
      "loss of 9 epoch, 900 index : 0.029407018795609474\n",
      "loss of 9 epoch, 1000 index : 0.008971723727881908\n",
      "loss of 9 epoch, 1100 index : 0.003429040079936385\n"
     ]
    }
   ],
   "source": [
    "cnn.train()  # 학습을 위함\n",
    "for epoch in range(10):\n",
    "  for index, (data, target) in enumerate(train_loader):\n",
    "    optimizer.zero_grad()  # 기울기 초기화\n",
    "    output = cnn(data)\n",
    "    loss = criterion(output, target)\n",
    "    loss.backward()  # 역전파\n",
    "    optimizer.step()\n",
    "\n",
    "    if index % 100 == 0:\n",
    "      print(\"loss of {} epoch, {} index : {}\".format(epoch, index, loss.item()))"
   ]
  },
  {
   "cell_type": "code",
   "execution_count": 12,
   "metadata": {
    "id": "l2PnlaXIc6dm"
   },
   "outputs": [
    {
     "name": "stdout",
     "output_type": "stream",
     "text": [
      "\n",
      "Test set: Average loss: 6.6902, Accuracy: 9888/10000 (99%)\n",
      "\n"
     ]
    }
   ],
   "source": [
    "cnn.eval()  # test case 학습 방지를 위함\n",
    "test_loss = 0\n",
    "correct = 0\n",
    "with torch.no_grad():\n",
    "  for data, target in test_loader:\n",
    "    output = cnn(data)\n",
    "    test_loss += criterion(output, target).item() # sum up batch loss\n",
    "    pred = output.argmax(dim=1, keepdim=True) # get the index of the max log-probability\n",
    "    correct += pred.eq(target.view_as(pred)).sum().item()\n",
    "print('\\nTest set: Average loss: {:.4f}, Accuracy: {}/{} ({:.0f}%)\\n'.format(\n",
    "        test_loss, correct, len(test_loader.dataset),\n",
    "        100. * correct / len(test_loader.dataset)))"
   ]
  },
  {
   "cell_type": "code",
   "execution_count": null,
   "metadata": {},
   "outputs": [],
   "source": []
  }
 ],
 "metadata": {
  "colab": {
   "provenance": []
  },
  "kernelspec": {
   "display_name": "Python 3 (ipykernel)",
   "language": "python",
   "name": "python3"
  },
  "language_info": {
   "codemirror_mode": {
    "name": "ipython",
    "version": 3
   },
   "file_extension": ".py",
   "mimetype": "text/x-python",
   "name": "python",
   "nbconvert_exporter": "python",
   "pygments_lexer": "ipython3",
   "version": "3.11.7"
  }
 },
 "nbformat": 4,
 "nbformat_minor": 4
}
